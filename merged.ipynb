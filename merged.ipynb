{
 "cells": [
  {
   "cell_type": "markdown",
   "metadata": {},
   "source": [
    "![](https://www.lifestorage.com/blog/wp-content/uploads/2013/08/video-games-in-a-nutshell1.jpg)"
   ]
  },
  {
   "cell_type": "markdown",
   "metadata": {},
   "source": [
    "# <p style='text-align: center;'> Video Game Sales with Ratings Protégés </p>\n",
    "## <p style='text-align: center;'> -Stats 131 Group Project </p>\n",
    "\n",
    "### <p style='text-align: center;'> Team Smiles Protégés </p>\n",
    "<p style='text-align: center;'> Yunliang Chen, Lejun Huang, Zheqin Li, Xuening Wang </p>\n"
   ]
  },
  {
   "cell_type": "markdown",
   "metadata": {},
   "source": [
    "# I. Introduction\n",
    "\n",
    "Today, video games make up a multi-billion global industry, and nearly two-thirds of American homes have household members who play video games regularly. And it’s really no wonder: Video games have been around for decades and span the gamut of platforms, from arcade systems, to home consoles, to handheld consoles and mobile devices. They’re also often at the forefront of computer technology.\n",
    "\n",
    "In this project, we will use data to gain insights into the gaming industry, including the top publishers, genre, and platforms.\n",
    "\n",
    "##  1.1 Background of the Gaming Industry\n",
    "### 1.1.1 Types of Gaming\n",
    "Over the years, video gaming has evolved to include a number of different mediums. Evolution has led from consoles becoming more sophisticated over the decades, PC games become multi player and more complex and an entire ecosystem of mobile games.\n",
    "\n",
    "#### PC Gaming\n",
    "PC games or personal computer games are played on a computer through keyboards, mouse, a joystick or a gamepad. These games are characterized by a lack of a central controlling authority and a greater capacity for input, processing and output. PC games lost the market to consoles briefly in the mid-90s but resurfaced in the mid-2000s thanks to digital distribution. Games can be played locally or online.\n",
    "\n",
    "#### Console Gaming\n",
    "A device that is used to play games is called a video game console. The console outputs a video image that displays the game. Consoles include those used to play games at home, handheld consoles, microconsoles and dedicated consoles. The console has evolved to now be one device that can be used as a set-top box, a web browser and a CD and DVD player.\n",
    "\n",
    "#### Mobile Gaming\n",
    "A video game that is played using a mobile device such as a smartphone, a tablet or even a calculator or a smartwatch is known as a mobile game. The very first mobile game was Tetris on the Hagenuk MT-2000 device in 1994, and was followed by Nokia’s Snake in 1997. At present, mobile games are downloaded onto smartphone or tablets using an app store or are embedded in the device when purchased. Games can be played on the device or over the cloud.\n",
    "\n",
    "### 1.1.2 Value Chain\n",
    "\t\n",
    "Video game development has its own value chain. The chain consists of the following vital parts:\n",
    "\n",
    "#### Investors: \n",
    "Investors are involved in paying for development of new titles and seeking returns through licensing of the titles. The major challenge at this stage is to prevent copyright infringement and piracy. \n",
    "\n",
    "#### Publishers: \n",
    "The game publisher will also work on marketing tool and catalogues to get the game into the market and ensure a return on investment.\n",
    "\n",
    "#### Product Developers: \n",
    "This is where the game is developed creatively by artists, designers and developers. The game is taken from a basic concept to a project plan. Documents and guidelines are created at this point to support game development. These include treatment documents to clarify the purpose of the game, game play, story, character descriptions and concept art. This is then translated into more detail in the design document.\n",
    "\n",
    "#### End-users: \n",
    "A key part of the value chain is the end user or the gamer. Most of these are men of all ages but women also make up a significant part of the market especially with the advent of mobile and online gaming.\n",
    "\n",
    "\n",
    "### 1.1.3 Brief History of the Gaming Industry\n",
    "\n",
    "Though video games are found today in homes worldwide, they actually got their start in the research labs of scientists. Since the 1970s, there has been a significant development in the commercial aspect of the video game industry, and many advances in computing would set the stage for the birth of the industry.\n",
    "\n",
    "The first generation of video game consoles began in 1972 with the Magnavox Odyssey which began development in 1968 by Ralph Baer under the code name \"The Brown Box\". However, both the arcade and home markets would be dominated by Pong clones, which flooded the market and led to the video game crash of 1977. \n",
    "\n",
    "The early part of the decade saw the rise of 8-bit home computing, and home-made games, as well as the development of the second, third, and fourth generations of video game consoles.The 1990s saw advancements in game related technology and the fifth and sixth generation of game consoles were developed. In particular, the fifth generation of video games ushered in the three-dimensional era of gaming.\n",
    "\n",
    "In 2005 and 2006, Microsoft’s Xbox 360, Sony’s Playstation 3, and Nintendo’s Wii kicked off the modern age of high-definition gaming. Though the Playstation 3—the only system at the time to play Blu-rays—was successful in its own right, Sony, for the first time, faced stiff competition from its rivals.And despite being technologically inferior to the other two systems, the Wii trounced its competition in sales. The 8th and current generation of video games began with the release of Nintendo’s Wii U in 2012, followed by the Playstation 4 and Xbox One in 2013. \n",
    "\n",
    "Nowadays, video games have spread to social media platforms like Facebook and mobile devices like the iPhone, reaching a more casual gaming audience.\n",
    "\n",
    "### 1.1.4 Trend\n",
    "Smartphones, tablets and other devices that can connect to the internet have radically altered the types of video games that people play. In fact, mobile gaming is one of the fastest-growing segments of the video game industry.\n",
    "\n",
    "The video game industry will continue to evolve as companies develop new technologies and titles that keep players interested. Although it’s nearly impossible to predict specific numbers, the industry looks like it will keep growing for many years to come.\n",
    "\n",
    "\n",
    "##  1.2  Data\n",
    "### 1.2.1 Data Background\n",
    "\n",
    "Our data came from the Kaggle website: <https://www.kaggle.com/rush4ratio/video-game-sales-with-ratings>.It is actually the result of two webscrapes. It combines the dataset of Video Games Sales from the VGChartz Network <http://www.vgchartz.com/> and the scoring variables from the Metacritic website <https://www.metacritic.com/browse/games/release-date/available>.\n",
    "\n",
    "The VGChartz Network is a network of five video game websites - VGChartz, gamrFeed, gamrReview, gamrTV and gamrConnect. VGChartz itself sits at the centre of the VGChartz Network and is a video game sales tracking website that provides weekly sales figures of console software and hardware by region. VGChartz provides tools for data analysis and charting and regular written analysis of the data referencing major news in the video gaming industry. Sales figures on VGChartz are based on estimates extrapolated from small retail samples. While offering some information about their methodology through their website, VGChartz does not publish any sources on how they get their data.\n",
    "\n",
    "Metacritic is a website that aggregates reviews of media products: films, TV shows, music albums, video games, and formerly, books. For each product, the scores from each review are averaged (a weighted average). Metacritic's scoring converts each review into a percentage, either mathematically from the mark given, or which the site decides subjectively from a qualitative review. Before being averaged, the scores are weighted according to the critic's fame, stature, and volume of reviews.\n",
    "\n",
    "### 1.2.2 Observations\n",
    "\n",
    "Every row in this dataset represents a unique video game tracked by VGChartz. Since the data set was later extended by another web scrape from Metacritic, there are missing observations as Metacritic only covers a subset of the platforms. "
   ]
  },
  {
   "cell_type": "markdown",
   "metadata": {},
   "source": [
    "### Basic Data Loading and Cleaning"
   ]
  },
  {
   "cell_type": "code",
   "execution_count": 4,
   "metadata": {},
   "outputs": [
    {
     "ename": "ModuleNotFoundError",
     "evalue": "No module named 'plotly'",
     "output_type": "error",
     "traceback": [
      "\u001b[0;31m---------------------------------------------------------------------------\u001b[0m",
      "\u001b[0;31mModuleNotFoundError\u001b[0m                       Traceback (most recent call last)",
      "\u001b[0;32m<ipython-input-4-86fdf194d519>\u001b[0m in \u001b[0;36m<module>\u001b[0;34m()\u001b[0m\n\u001b[1;32m      1\u001b[0m \u001b[0;32mimport\u001b[0m \u001b[0mpandas\u001b[0m \u001b[0;32mas\u001b[0m \u001b[0mpd\u001b[0m\u001b[0;34m\u001b[0m\u001b[0m\n\u001b[1;32m      2\u001b[0m \u001b[0;32mimport\u001b[0m \u001b[0mnumpy\u001b[0m \u001b[0;32mas\u001b[0m \u001b[0mnp\u001b[0m\u001b[0;34m\u001b[0m\u001b[0m\n\u001b[0;32m----> 3\u001b[0;31m \u001b[0;32mimport\u001b[0m \u001b[0mplotly\u001b[0m\u001b[0;34m\u001b[0m\u001b[0m\n\u001b[0m\u001b[1;32m      4\u001b[0m \u001b[0mplotly\u001b[0m\u001b[0;34m.\u001b[0m\u001b[0mtools\u001b[0m\u001b[0;34m.\u001b[0m\u001b[0mset_credentials_file\u001b[0m\u001b[0;34m(\u001b[0m\u001b[0musername\u001b[0m\u001b[0;34m=\u001b[0m\u001b[0;34m'sherry9788'\u001b[0m\u001b[0;34m,\u001b[0m \u001b[0mapi_key\u001b[0m\u001b[0;34m=\u001b[0m\u001b[0;34m'Cw40WD6lRwalI8wtPd72'\u001b[0m\u001b[0;34m)\u001b[0m\u001b[0;34m\u001b[0m\u001b[0m\n\u001b[1;32m      5\u001b[0m \u001b[0;32mimport\u001b[0m \u001b[0mplotly\u001b[0m\u001b[0;34m.\u001b[0m\u001b[0mplotly\u001b[0m \u001b[0;32mas\u001b[0m \u001b[0mpy\u001b[0m\u001b[0;34m\u001b[0m\u001b[0m\n",
      "\u001b[0;31mModuleNotFoundError\u001b[0m: No module named 'plotly'"
     ]
    }
   ],
   "source": [
    "import pandas as pd\n",
    "import numpy as np\n",
    "import plotly\n",
    "plotly.tools.set_credentials_file(username='sherry9788', api_key='Cw40WD6lRwalI8wtPd72')\n",
    "import plotly.plotly as py\n",
    "import plotly.graph_objs as go\n",
    "import seaborn as sns\n",
    "import matplotlib.pyplot as plt"
   ]
  },
  {
   "cell_type": "code",
   "execution_count": null,
   "metadata": {},
   "outputs": [],
   "source": [
    "df = pd.read_csv('Video_Games_Sales_as_at_22_Dec_2016.csv')\n",
    "df.shape"
   ]
  },
  {
   "cell_type": "markdown",
   "metadata": {},
   "source": [
    "There are a total of 16719 observations (video games)."
   ]
  },
  {
   "cell_type": "code",
   "execution_count": null,
   "metadata": {},
   "outputs": [],
   "source": [
    "df.head()"
   ]
  },
  {
   "cell_type": "code",
   "execution_count": null,
   "metadata": {},
   "outputs": [],
   "source": [
    "df.info()"
   ]
  },
  {
   "cell_type": "markdown",
   "metadata": {},
   "source": [
    "By calling the dataframe method \"info()\", we also discover that the \"User_Score\" column which should be best represented numerically, contains strings. Let's take a look."
   ]
  },
  {
   "cell_type": "code",
   "execution_count": null,
   "metadata": {},
   "outputs": [],
   "source": [
    "df.User_Score.unique() #There is 'tbd'"
   ]
  },
  {
   "cell_type": "code",
   "execution_count": null,
   "metadata": {},
   "outputs": [],
   "source": [
    "#convert to numeric, turn 'tbd' to nan\n",
    "df.User_Score = pd.to_numeric(df.User_Score, errors='coerce')"
   ]
  },
  {
   "cell_type": "markdown",
   "metadata": {},
   "source": [
    "### Check missing data"
   ]
  },
  {
   "cell_type": "code",
   "execution_count": null,
   "metadata": {},
   "outputs": [],
   "source": [
    "df.isnull().sum()"
   ]
  },
  {
   "cell_type": "markdown",
   "metadata": {},
   "source": [
    "There are quite a few missing data for information about scores, developer, and rating information about the game. \n",
    "\n",
    "Since the original data set is not complete either (it is just a representative of the gaming industry), we will not be stating the exact number (eg., concludint that the total sale of the gaming industry is 1 billion), but using the data to find trends and characteristic of the industry, so missing a few cases will not seriously affect our conclusion. We will further assume that the data is roughly missing at random.\n",
    "\n",
    "Thus, after careful thought, we will drop the observations that contain missing values as we deem these information about user  and critic scores are quite essential to our analysis."
   ]
  },
  {
   "cell_type": "code",
   "execution_count": null,
   "metadata": {},
   "outputs": [],
   "source": [
    "df2 = df.dropna(axis=0)\n",
    "df2.shape"
   ]
  },
  {
   "cell_type": "markdown",
   "metadata": {},
   "source": [
    "There are around 6800 cases left, and we will use that as the focus of our study."
   ]
  },
  {
   "cell_type": "code",
   "execution_count": null,
   "metadata": {},
   "outputs": [],
   "source": [
    "#Change some other data types\n",
    "df2.loc[:, 'Year_of_Release'] = df2['Year_of_Release'].astype('int64')\n",
    "df2.loc[:,'User_Count'] = df2['User_Count'].astype('int64')\n",
    "df2.loc[:,'Critic_Count'] = df2['Critic_Count'].astype('int64')"
   ]
  },
  {
   "cell_type": "code",
   "execution_count": null,
   "metadata": {},
   "outputs": [],
   "source": [
    "df2.info() # the data looks good"
   ]
  },
  {
   "cell_type": "code",
   "execution_count": null,
   "metadata": {},
   "outputs": [],
   "source": [
    "df2.describe()"
   ]
  },
  {
   "cell_type": "markdown",
   "metadata": {},
   "source": [
    "### 1.2.3 Features of the Data Set\n",
    "\n",
    "This data set include the following 16 variables:"
   ]
  },
  {
   "cell_type": "code",
   "execution_count": null,
   "metadata": {},
   "outputs": [],
   "source": [
    "df2.columns"
   ]
  },
  {
   "cell_type": "markdown",
   "metadata": {},
   "source": [
    "### Categorical variables:\n",
    "\n",
    "## 1. Name: Name of the game"
   ]
  },
  {
   "cell_type": "code",
   "execution_count": null,
   "metadata": {},
   "outputs": [],
   "source": [
    "df2.Name.nunique()"
   ]
  },
  {
   "cell_type": "markdown",
   "metadata": {},
   "source": [
    "Not every one is unique, check to see what the duplicates look like:"
   ]
  },
  {
   "cell_type": "code",
   "execution_count": null,
   "metadata": {},
   "outputs": [],
   "source": [
    "df2[df2.Name==df2[df2.Name.duplicated()].Name.values[0]]"
   ]
  },
  {
   "cell_type": "markdown",
   "metadata": {},
   "source": [
    "These are the games that have versions across multiple platforms."
   ]
  },
  {
   "cell_type": "markdown",
   "metadata": {},
   "source": [
    "## 2. Platform: Console on which the game is running\n",
    "Platform refers to video game consoles, computer devices where video games display and people play on. \n",
    "\n",
    "Video game consoles in this data set include:\n",
    "\n",
    "Wii, NES, GB, DS, X360, PS3, PS2, SNES, GBA, PS4, 3DS, N64, PS, XB, PC, 2600, PSP, XOne,WiiU, GC, GEN, DC, PSV, SAT, SCD, WS, NG, TG16, 3DO, GG, PCFX. \n",
    "\n",
    "The evolution of video game consoles has experienced several generations. The most popular consoles in recent generations are:\n",
    "\n",
    "- 6th Generation: PlayStation 2(PS2) vs Xbox(XB) vs Nintendo GameCube(GC) (Home Console); PlayStation Portable(PSP) vs Nintendo DS(DS) (Handheld game consoles);\n",
    "- 7th Generation: PlayStation 3(PS3) vs Xbox 360(X360) vs Nintendo Wii (Wii);\n",
    "- 8th Generation: PlayStation 4(PS4) vs Xbox One(XOne) vs Nintendo Wii U(WiiU)."
   ]
  },
  {
   "cell_type": "code",
   "execution_count": null,
   "metadata": {},
   "outputs": [],
   "source": [
    "df2.Platform.value_counts()"
   ]
  },
  {
   "cell_type": "code",
   "execution_count": null,
   "metadata": {},
   "outputs": [],
   "source": [
    "plt.figure(figsize=(13, 4))\n",
    "sns.countplot(df2.Platform, order = df2.Platform.value_counts().index);"
   ]
  },
  {
   "cell_type": "markdown",
   "metadata": {},
   "source": [
    "## 3. Year_of_Release: Year of the game released\n",
    "The data available range from 1985 to 2016."
   ]
  },
  {
   "cell_type": "code",
   "execution_count": null,
   "metadata": {},
   "outputs": [],
   "source": [
    "np.sort(df2.Year_of_Release.unique())"
   ]
  },
  {
   "cell_type": "code",
   "execution_count": null,
   "metadata": {},
   "outputs": [],
   "source": [
    "plt.figure(figsize=(10, 6))\n",
    "sns.distplot(df2.Year_of_Release, kde = False, bins=df2.Year_of_Release.nunique())"
   ]
  },
  {
   "cell_type": "markdown",
   "metadata": {},
   "source": [
    "## 4. Genre: Game's category\n",
    "Genre refers to game categories, in this data set the genre is divided into:\n",
    "Sports, Platform, Racing, Role-Playing, Puzzle, Misc, Shooter, Simulation, Action, Fighting, Adventure, Strategy."
   ]
  },
  {
   "cell_type": "code",
   "execution_count": null,
   "metadata": {},
   "outputs": [],
   "source": [
    "df2.Genre.value_counts()"
   ]
  },
  {
   "cell_type": "code",
   "execution_count": null,
   "metadata": {},
   "outputs": [],
   "source": [
    "plt.figure(figsize=(13, 4))\n",
    "sns.countplot(df2.Genre, order = df2.Genre.value_counts().index)"
   ]
  },
  {
   "cell_type": "markdown",
   "metadata": {},
   "source": [
    "Action games account for the majority of our data, followed by Sports and Shooter. Puzzle is the least."
   ]
  },
  {
   "cell_type": "markdown",
   "metadata": {},
   "source": [
    "## 5. Publisher: Owner of the video game\n",
    "Publisher has 582 unique values in this data set. Publishers are usually the companies that release the game to public. \n",
    "\n",
    "The following are some of the biggest gaming companies in the world:\n",
    "\n",
    "#### Sony Interactive Entertainment\n",
    "Sony Interactive Entertainment is the video game subsidiary of Sony Corporation. They were previously known as Sony Computer Entertainment (SCE). Sony Interactivement Entertainment is best known as the developer of the PlayStation line of consoles, which was first released in 1994. \n",
    "\n",
    "#### Microsoft Studios\n",
    "Microsoft made their foray into gaming back in 2001 when they released the Xbox console. The name Xbox has since evolved into its own brand and encompasses not only various consoles but also games, streaming services, and online platforms.\n",
    "\n",
    "#### Activision Blizzard\n",
    "The company was formed in 2008 through the merger of Activision and Vivendi, which was then the parent company of Blizzard. They helped pioneer online gaming through the Battle.net, which was the first online gaming service to be directly integrated into the games that used it. \n",
    "\n",
    "#### Electronic Arts\n",
    "EA is a video game based in Redwood City, California. The company publishes and develops some of the world's largest video game titles including The Sims, SimCity, FIFA, Madden NFL, and Battlefield. \n",
    "\n",
    "#### Nintendo\n",
    "Nintendo, based out of Kyoto, Japan, is one of the oldest gaming companies in the world. Nintendo was founded in 1889 as a producer of handmade hanafuda playing cards. The company is most well known for producing the Nintendo series of consoles and for inventing iconic characters like Mario, Link, Donkey Kong, Pikachu, and more.\n",
    "\n",
    "#### Bandai Namco Entertainment\n",
    "Bandai Namco was formed in 2006 from the merger betweeen two Japanese video game companies: Bandai and Namco. The company is perhaps most well known for introducing Pac-Man to the world in the 1980s. \n",
    "\n",
    "#### Ubisoft\n",
    "Ubisoft is a video game publisher based out of Montreuil, France but they also maintain a large studio presence in Montreal, Canada. Notable games include Assassin's Creed, Tom Clancy's, Far Cry, Prince of Persia, and Rayman.\n"
   ]
  },
  {
   "cell_type": "code",
   "execution_count": null,
   "metadata": {},
   "outputs": [],
   "source": [
    "df2.Publisher.nunique()"
   ]
  },
  {
   "cell_type": "markdown",
   "metadata": {},
   "source": [
    "There are 262 unique publishers in the data set.\n",
    "\n",
    "Top publishers:"
   ]
  },
  {
   "cell_type": "code",
   "execution_count": null,
   "metadata": {},
   "outputs": [],
   "source": [
    "df2.Publisher.value_counts().iloc[:20]"
   ]
  },
  {
   "cell_type": "code",
   "execution_count": null,
   "metadata": {},
   "outputs": [],
   "source": [
    "plt.figure(figsize=(15, 4))\n",
    "sns.countplot(df2.Publisher, order=df2.Publisher.value_counts().iloc[:15].index)\n",
    "plt.xticks(rotation=20)"
   ]
  },
  {
   "cell_type": "markdown",
   "metadata": {},
   "source": [
    "## 6. Developer: Party responsible for creating the game.\n",
    "‘Developer’ is a subtype of Publisher. One publisher may have many developers. Developers could be studios subsidiary to the company or related to the company. For example, Sony has 11 studios in this data set. Therefore ‘Developer’ has many more unique values than ‘Publisher’, with 1697 unique values in the data set. Both publishers and developers are ‘owner’ or ‘creator’ of the video game. "
   ]
  },
  {
   "cell_type": "code",
   "execution_count": null,
   "metadata": {},
   "outputs": [],
   "source": [
    "df2.Developer.nunique()"
   ]
  },
  {
   "cell_type": "markdown",
   "metadata": {},
   "source": [
    "There are a lot of different developers.\n",
    "\n",
    "Top developers:"
   ]
  },
  {
   "cell_type": "code",
   "execution_count": null,
   "metadata": {},
   "outputs": [],
   "source": [
    "plt.figure(figsize=(15, 4))\n",
    "sns.countplot(df2.Developer, order=df2.Developer.value_counts().iloc[:15].index)\n",
    "plt.xticks(rotation=15)"
   ]
  },
  {
   "cell_type": "markdown",
   "metadata": {},
   "source": [
    "## 7. Rating: The ESRB ratings (E.g. Everyone, Teen, Adults Only..etc)\n",
    "'Rating' is assigned by the Entertainment Software Rating Board (ESRB) to provide guidance about video games and apps so that consumers, especially parents, can make informed choices about the ones they deem suitable for their family. Here are the meanings to the shorthands:\n",
    "- 'RP': Rating Pending\n",
    "- 'E': Everyone\n",
    "- 'K-A': Kids to Adults, renamed to E since 1998.\n",
    "- 'E10+': Everyone 10+\n",
    "- 'T': Teen\n",
    "- 'M': Mature\n",
    "- 'AO': Adults Only\n"
   ]
  },
  {
   "cell_type": "code",
   "execution_count": null,
   "metadata": {},
   "outputs": [],
   "source": [
    "df2.Rating.value_counts()"
   ]
  },
  {
   "cell_type": "code",
   "execution_count": null,
   "metadata": {},
   "outputs": [],
   "source": [
    "plt.figure(figsize=(10, 4))\n",
    "sns.countplot(df2.Rating, order=df2.Rating.value_counts().iloc[:15].index)"
   ]
  },
  {
   "cell_type": "markdown",
   "metadata": {},
   "source": [
    "Since the 'K-A' are the same as 'E', we will combine the categories:"
   ]
  },
  {
   "cell_type": "code",
   "execution_count": null,
   "metadata": {},
   "outputs": [],
   "source": [
    "df2.loc[df2.Rating=='K-A', 'Rating'] = 'E'"
   ]
  },
  {
   "cell_type": "markdown",
   "metadata": {},
   "source": [
    "For the rating, the majority of the ratings are Teen, Mature, Everyone, and Everyone 10+."
   ]
  },
  {
   "cell_type": "markdown",
   "metadata": {},
   "source": [
    "### Numerical Variables:\n",
    "## 8~12. NA_Sales, EU_Sales, JP_Sales, Other_Sales, Global_Sales\n",
    "- NA_Sales: Game sales in North America (in millions of units)\n",
    "- EU_Sales: Game sales in the European Union (in millions of units)\n",
    "- JP_Sales: Game sales in Japan (in millions of units)\n",
    "- Other_Sales: Game sales in the rest of the world, i.e. Africa, Asia excluding Japan, Australia, Europe excluding the E.U. and South America (in millions of units)\n",
    "- Global_Sales: Total sales in the world (in millions of units)\n",
    "\n",
    "The global sales are the sum of sales in North America, European, Union, Japan, and other locations."
   ]
  },
  {
   "cell_type": "code",
   "execution_count": null,
   "metadata": {},
   "outputs": [],
   "source": [
    "((df2.Global_Sales>=df2.loc[:,['NA_Sales', 'EU_Sales', 'JP_Sales', 'Other_Sales']].sum(axis=1)*0.99) \n",
    "& (df2.Global_Sales<=df2.loc[:,['NA_Sales', 'EU_Sales', 'JP_Sales', 'Other_Sales']].sum(axis=1)*1.01)).head()"
   ]
  },
  {
   "cell_type": "markdown",
   "metadata": {},
   "source": [
    "They are consistent with each other, subject to some rounding errors.`"
   ]
  },
  {
   "cell_type": "code",
   "execution_count": null,
   "metadata": {},
   "outputs": [],
   "source": [
    "sns.pairplot(df2.loc[:,['NA_Sales', 'EU_Sales', 'JP_Sales', 'Other_Sales', 'Global_Sales']])"
   ]
  },
  {
   "cell_type": "code",
   "execution_count": null,
   "metadata": {},
   "outputs": [],
   "source": [
    "plt.figure(figsize=(15, 12))\n",
    "plt.subplot(3,2,1)\n",
    "sns.distplot(df2.Global_Sales, kde=False)\n",
    "plt.yscale('log')\n",
    "\n",
    "plt.subplot(3,2,2)\n",
    "sns.distplot(df2.NA_Sales, kde=False)\n",
    "plt.yscale('log')\n",
    "\n",
    "plt.subplot(3,2,3)\n",
    "sns.distplot(df2.EU_Sales, kde=False)\n",
    "plt.yscale('log')\n",
    "\n",
    "plt.subplot(3,2,4)\n",
    "sns.distplot(df2.JP_Sales, kde=False)\n",
    "plt.yscale('log')\n",
    "\n",
    "plt.subplot(3,2,5)\n",
    "sns.distplot(df2.Other_Sales, kde=False)\n",
    "plt.yscale('log')\n",
    "plt.tight_layout()"
   ]
  },
  {
   "cell_type": "markdown",
   "metadata": {},
   "source": [
    "The sales are quite right skewed for all locations."
   ]
  },
  {
   "cell_type": "markdown",
   "metadata": {},
   "source": [
    "## 13~16. Critic_Score, Critic_Count, User_Score, User_Count\n",
    "- Critic_Score: Aggregate score compiled by Metacritic staff, range from 0 to 100.\n",
    "- Critic_Count: The number of critics used in coming up with the Critic_score\n",
    "- User_Score: Score by Metacritic's subscribers, range from 0 to 10.\n",
    "- User_Count: Number of users who gave the user_score"
   ]
  },
  {
   "cell_type": "code",
   "execution_count": null,
   "metadata": {},
   "outputs": [],
   "source": [
    "plt.figure(figsize=(15, 8))\n",
    "plt.subplot(2,2,1)\n",
    "sns.distplot(df2.Critic_Score)\n",
    "\n",
    "plt.subplot(2,2,2)\n",
    "sns.distplot(df2.User_Score)\n",
    "\n",
    "plt.subplot(2,2,3)\n",
    "sns.distplot(df2.Critic_Count)\n",
    "\n",
    "plt.subplot(2,2,4)\n",
    "sns.distplot(df2.User_Count)"
   ]
  },
  {
   "cell_type": "markdown",
   "metadata": {},
   "source": [
    "All distributions are skewed, with the User_Count being the most extreme. We will analyze them in depth later."
   ]
  },
  {
   "cell_type": "markdown",
   "metadata": {},
   "source": [
    "## 1.3 Related Studies\n",
    "\n",
    "Not many studies have been conducted regarding the gaming industry. Here are some of the interesting findings regarding the top performers in the industry:\n",
    "\n",
    "The systematic interrelations of hardware and software markets, make it interesting to note that the three leading hardware manufacturers (i.e., Microsoft as the producer of the Xbox, Sony and the PlayStation, and Nintendo and the Wii) are also the top three software producers.\n",
    "\n",
    "Several academic studies stress that the game market is two sided, and that indirect network effects connect game platform (hardware) sales to game content (software) sales. In the case of games, hardware producers such as Sony earn money from selling consoles to consumers (market 1) and from selling game licenses to game producers (market 2) ; a game platform with more consumers is more attractive for game producers, and vice versa. Indirect network effects work in the same way; here, an increased variety of one product (software titles in the context of games) increases the value of another product (a console such as PlayStation 3) for customers, which in turn can have an effect on the first product (through an increased attractiveness for game producers. \n",
    "\n",
    "___Citation:___\n",
    "\n",
    "André Marchand, Thorsten Hennig-Thurau, “Value Creation in the Video Game Industry: Industry Economics, Consumer Benefits, and Research Opportunities”, Journal of Interactive Marketing 27 (2013) 141–157\n",
    "\n",
    "\n"
   ]
  },
  {
   "cell_type": "code",
   "execution_count": null,
   "metadata": {},
   "outputs": [],
   "source": []
  },
  {
   "cell_type": "code",
   "execution_count": null,
   "metadata": {},
   "outputs": [],
   "source": [
    "import pandas as pd\n",
    "import numpy as np\n",
    "import plotly\n",
    "plotly.tools.set_credentials_file(username='sherry9788', api_key='Cw40WD6lRwalI8wtPd72')\n",
    "import plotly.plotly as py\n",
    "import plotly.graph_objs as go\n",
    "import seaborn as sns\n",
    "import matplotlib.pyplot as plt"
   ]
  },
  {
   "cell_type": "code",
   "execution_count": null,
   "metadata": {},
   "outputs": [],
   "source": [
    "df = pd.read_csv('Video_Games_Sales_as_at_22_Dec_2016.csv')\n",
    "df.shape"
   ]
  },
  {
   "cell_type": "code",
   "execution_count": null,
   "metadata": {
    "scrolled": true
   },
   "outputs": [],
   "source": [
    "df.head()"
   ]
  },
  {
   "cell_type": "code",
   "execution_count": null,
   "metadata": {},
   "outputs": [],
   "source": [
    "df.info()"
   ]
  },
  {
   "cell_type": "markdown",
   "metadata": {},
   "source": [
    "## Variables"
   ]
  },
  {
   "cell_type": "code",
   "execution_count": null,
   "metadata": {},
   "outputs": [],
   "source": [
    "df.isnull().sum()"
   ]
  },
  {
   "cell_type": "code",
   "execution_count": null,
   "metadata": {},
   "outputs": [],
   "source": [
    "df.columns"
   ]
  },
  {
   "cell_type": "code",
   "execution_count": null,
   "metadata": {},
   "outputs": [],
   "source": [
    "df2 = df.copy().dropna()\n",
    "df2.shape\n",
    "df2.info()"
   ]
  },
  {
   "cell_type": "code",
   "execution_count": null,
   "metadata": {},
   "outputs": [],
   "source": [
    "df2.describe()"
   ]
  },
  {
   "cell_type": "markdown",
   "metadata": {},
   "source": [
    "## Name"
   ]
  },
  {
   "cell_type": "code",
   "execution_count": null,
   "metadata": {},
   "outputs": [],
   "source": [
    "df.Name.nunique()"
   ]
  },
  {
   "cell_type": "markdown",
   "metadata": {},
   "source": [
    "Not every one is unique, check to see what the duplicates look like"
   ]
  },
  {
   "cell_type": "code",
   "execution_count": null,
   "metadata": {},
   "outputs": [],
   "source": [
    "df[df.Name==df[df.Name.duplicated()].Name.values[0]]"
   ]
  },
  {
   "cell_type": "code",
   "execution_count": null,
   "metadata": {},
   "outputs": [],
   "source": [
    "df2.Platform.unique()"
   ]
  },
  {
   "cell_type": "markdown",
   "metadata": {},
   "source": [
    "These are the games that have versions across multiple platforms."
   ]
  },
  {
   "cell_type": "markdown",
   "metadata": {},
   "source": [
    "## Platform"
   ]
  },
  {
   "cell_type": "code",
   "execution_count": null,
   "metadata": {
    "scrolled": true
   },
   "outputs": [],
   "source": [
    "data = [go.Histogram(x=df2.Platform)]\n",
    "py.iplot(data, filename='Platform Frequency')"
   ]
  },
  {
   "cell_type": "code",
   "execution_count": null,
   "metadata": {},
   "outputs": [],
   "source": [
    "platform = df2.Platform.value_counts()\n",
    "print(platform)"
   ]
  },
  {
   "cell_type": "code",
   "execution_count": null,
   "metadata": {},
   "outputs": [],
   "source": [
    "plt.figure(figsize=(15,5))\n",
    "sns.barplot(platform.index, platform.values, alpha=0.8)\n",
    "plt.title('Platform freq')\n",
    "plt.ylabel('Number of Occurrences')\n",
    "plt.xlabel('Platform')\n",
    "plt.show()"
   ]
  },
  {
   "cell_type": "markdown",
   "metadata": {},
   "source": [
    "## Genre"
   ]
  },
  {
   "cell_type": "code",
   "execution_count": null,
   "metadata": {},
   "outputs": [],
   "source": [
    "df2.Genre.unique()"
   ]
  },
  {
   "cell_type": "code",
   "execution_count": null,
   "metadata": {},
   "outputs": [],
   "source": [
    "genre = df2.Genre.value_counts()\n",
    "print(genre)"
   ]
  },
  {
   "cell_type": "code",
   "execution_count": null,
   "metadata": {
    "scrolled": true
   },
   "outputs": [],
   "source": [
    "plt.figure(figsize=(15,5))\n",
    "sns.barplot(genre.index, genre.values, alpha=0.8)\n",
    "plt.title('Genre freq')\n",
    "plt.ylabel('Number of Occurrences')\n",
    "plt.xlabel('Genre')\n",
    "plt.show()"
   ]
  },
  {
   "cell_type": "markdown",
   "metadata": {},
   "source": [
    "## Publisher"
   ]
  },
  {
   "cell_type": "code",
   "execution_count": null,
   "metadata": {},
   "outputs": [],
   "source": [
    "df2.Publisher.unique()"
   ]
  },
  {
   "cell_type": "code",
   "execution_count": null,
   "metadata": {},
   "outputs": [],
   "source": [
    "len(df2.Publisher.unique())"
   ]
  },
  {
   "cell_type": "code",
   "execution_count": null,
   "metadata": {},
   "outputs": [],
   "source": [
    "df2.Publisher.value_counts().iloc[:40]"
   ]
  },
  {
   "cell_type": "code",
   "execution_count": null,
   "metadata": {},
   "outputs": [],
   "source": [
    "plt.figure(figsize=(15, 4))\n",
    "sns.countplot(df2.Publisher, order=df2.Publisher.value_counts().iloc[:15].index)\n",
    "plt.xticks(rotation=20)"
   ]
  },
  {
   "cell_type": "markdown",
   "metadata": {},
   "source": [
    "## Year of Release"
   ]
  },
  {
   "cell_type": "code",
   "execution_count": null,
   "metadata": {},
   "outputs": [],
   "source": [
    "np.sort(df2.Year_of_Release.unique())"
   ]
  },
  {
   "cell_type": "code",
   "execution_count": null,
   "metadata": {},
   "outputs": [],
   "source": [
    "df2.Year_of_Release = df2.Year_of_Release.astype(int)"
   ]
  },
  {
   "cell_type": "code",
   "execution_count": null,
   "metadata": {},
   "outputs": [],
   "source": [
    "plt.figure(figsize=(15, 6))\n",
    "sns.distplot(df2.Year_of_Release, bins=df2.Year_of_Release.nunique())"
   ]
  },
  {
   "cell_type": "markdown",
   "metadata": {},
   "source": [
    "## Critic_Score, Critic_Count, User_Score, User_Count"
   ]
  },
  {
   "cell_type": "code",
   "execution_count": null,
   "metadata": {},
   "outputs": [],
   "source": [
    "plt.figure(figsize=(15, 8))\n",
    "plt.subplot(2,2,1)\n",
    "sns.distplot(df2.Critic_Score)\n",
    "\n",
    "plt.subplot(2,2,2)\n",
    "sns.distplot(df2.User_Score)\n",
    "\n",
    "plt.subplot(2,2,3)\n",
    "sns.distplot(df2.Critic_Count)\n",
    "\n",
    "plt.subplot(2,2,4)\n",
    "sns.distplot(df2.User_Count)"
   ]
  },
  {
   "cell_type": "markdown",
   "metadata": {},
   "source": [
    "## Developer"
   ]
  },
  {
   "cell_type": "code",
   "execution_count": null,
   "metadata": {},
   "outputs": [],
   "source": [
    "df2.Developer.unique()"
   ]
  },
  {
   "cell_type": "code",
   "execution_count": null,
   "metadata": {},
   "outputs": [],
   "source": [
    "len(df2.Developer.unique())"
   ]
  },
  {
   "cell_type": "code",
   "execution_count": null,
   "metadata": {},
   "outputs": [],
   "source": [
    "plt.figure(figsize=(15, 4))\n",
    "sns.countplot(df.Developer, order=df.Developer.value_counts().iloc[:15].index)\n",
    "plt.xticks(rotation=15)"
   ]
  },
  {
   "cell_type": "code",
   "execution_count": null,
   "metadata": {},
   "outputs": [],
   "source": [
    "sony_studio = df2.loc[(df2.Publisher.isnull()==False) & (df2.Publisher.str.contains('Sony')), 'Developer'].value_counts()\n",
    "print(sony_studio[np.arange(10)])"
   ]
  },
  {
   "cell_type": "code",
   "execution_count": null,
   "metadata": {},
   "outputs": [],
   "source": [
    "len(sony_studio)"
   ]
  },
  {
   "cell_type": "markdown",
   "metadata": {},
   "source": [
    "## Rating"
   ]
  },
  {
   "cell_type": "code",
   "execution_count": null,
   "metadata": {},
   "outputs": [],
   "source": [
    "np.sort(df2.Rating.unique())"
   ]
  },
  {
   "cell_type": "code",
   "execution_count": null,
   "metadata": {},
   "outputs": [],
   "source": [
    "rating = df2.Rating.value_counts()\n",
    "print(rating)"
   ]
  },
  {
   "cell_type": "code",
   "execution_count": null,
   "metadata": {},
   "outputs": [],
   "source": [
    "df2.loc[df2.Rating=='K-A', 'Rating'] = 'E' "
   ]
  },
  {
   "cell_type": "code",
   "execution_count": null,
   "metadata": {},
   "outputs": [],
   "source": [
    "rating = df2.Rating.value_counts()\n",
    "print(rating)"
   ]
  },
  {
   "cell_type": "code",
   "execution_count": null,
   "metadata": {
    "scrolled": true
   },
   "outputs": [],
   "source": [
    "plt.figure(figsize=(10,5))\n",
    "sns.barplot(rating.index, rating.values, alpha=0.8)\n",
    "plt.title('Rating freq')\n",
    "plt.ylabel('Number of Occurrences')\n",
    "plt.xlabel('Rating')\n",
    "plt.show()"
   ]
  },
  {
   "cell_type": "markdown",
   "metadata": {},
   "source": [
    "# NA_Sales, EU_Sales, JP_Sales, Other_Sales, Global_Sales\n",
    "\n",
    "Game sales in North America (in millions of units)"
   ]
  },
  {
   "cell_type": "code",
   "execution_count": null,
   "metadata": {},
   "outputs": [],
   "source": [
    "((df.Global_Sales>=df.loc[:,['NA_Sales', 'EU_Sales', 'JP_Sales', 'Other_Sales']].sum(axis=1)*0.99) \n",
    "& (df.Global_Sales<=df.loc[:,['NA_Sales', 'EU_Sales', 'JP_Sales', 'Other_Sales']].sum(axis=1)*1.01)).head()"
   ]
  },
  {
   "cell_type": "code",
   "execution_count": null,
   "metadata": {},
   "outputs": [],
   "source": [
    "sns.pairplot(df.loc[:,['NA_Sales', 'EU_Sales', 'JP_Sales', 'Other_Sales', 'Global_Sales']])"
   ]
  },
  {
   "cell_type": "markdown",
   "metadata": {},
   "source": [
    "## Exploratory Analysis of the Data"
   ]
  },
  {
   "cell_type": "markdown",
   "metadata": {},
   "source": [
    "## I. General "
   ]
  },
  {
   "cell_type": "markdown",
   "metadata": {},
   "source": [
    "### (1) What is general trend of number of games released and their regional sales by year?"
   ]
  },
  {
   "cell_type": "code",
   "execution_count": null,
   "metadata": {},
   "outputs": [],
   "source": [
    "df3=df2.copy()"
   ]
  },
  {
   "cell_type": "code",
   "execution_count": null,
   "metadata": {},
   "outputs": [],
   "source": [
    "df3.columns"
   ]
  },
  {
   "cell_type": "code",
   "execution_count": null,
   "metadata": {},
   "outputs": [],
   "source": [
    "year=df3.groupby('Year_of_Release')[['NA_Sales','EU_Sales','JP_Sales','Other_Sales']].agg('sum')\n",
    "plt.figure(figsize=[20,10])\n",
    "year.plot(kind='bar',stacked=True)\n",
    "plt.title(\"Each year's sales by region\")\n",
    "plt.ylabel('Sales')"
   ]
  },
  {
   "cell_type": "code",
   "execution_count": null,
   "metadata": {},
   "outputs": [],
   "source": [
    "year2=df3.groupby('Year_of_Release')[['Global_Sales']].agg('count')\n",
    "plt.figure(figsize=[20,10])\n",
    "year2.plot()\n",
    "plt.title('Number of releases by year')\n",
    "plt.ylabel('number of releases')"
   ]
  },
  {
   "cell_type": "markdown",
   "metadata": {},
   "source": [
    "### Comments:\n",
    "From these two plots we can conclude that before 2001, the video games industry is not successful and between 2001 and 2010, the gaming industry is quickly developing, while after 2010, the sales slowly decreases. And throughout these years, NA_sales is always the largest among all global sales and EU_Sales is the second largest."
   ]
  },
  {
   "cell_type": "markdown",
   "metadata": {},
   "source": [
    "\n",
    "### (2) Is there a linear relationship between critic’s score and user’s score?"
   ]
  },
  {
   "cell_type": "code",
   "execution_count": null,
   "metadata": {},
   "outputs": [],
   "source": [
    "df3.User_Score=df3.User_Score.astype('float')"
   ]
  },
  {
   "cell_type": "code",
   "execution_count": null,
   "metadata": {},
   "outputs": [],
   "source": [
    "\n",
    "plt.figure(figsize=[20,10])\n",
    "sns.lmplot(x='Critic_Score',y='User_Score',data=df3,x_jitter=.01,scatter_kws={\"s\": 0.5})\n",
    "np.corrcoef(df3.Critic_Score,df3.User_Score)"
   ]
  },
  {
   "cell_type": "markdown",
   "metadata": {},
   "source": [
    "### Comment:\n",
    "There is a weak linear relationship between the Critic's Score and User's Score."
   ]
  },
  {
   "cell_type": "markdown",
   "metadata": {},
   "source": [
    "### (3) What is the most profitable games of all times in each region?"
   ]
  },
  {
   "cell_type": "code",
   "execution_count": null,
   "metadata": {},
   "outputs": [],
   "source": [
    "profit=pd.DataFrame(df3.loc[df3['Global_Sales'].idxmax()]).transpose()\n",
    "profit=profit.append(pd.DataFrame(df3.loc[df3['NA_Sales'].idxmax()]).transpose())\n",
    "profit=profit.append(pd.DataFrame(df3.loc[df3['EU_Sales'].idxmax()]).transpose())\n",
    "profit=profit.append(pd.DataFrame(df3.loc[df3['JP_Sales'].idxmax()]).transpose())\n",
    "profit=profit.append(pd.DataFrame(df3.loc[df3['Other_Sales'].idxmax()]).transpose())\n",
    "profit=profit.drop_duplicates()\n",
    "profit=profit[['Name','NA_Sales','EU_Sales','JP_Sales','Other_Sales','Global_Sales']]\n",
    "plt.figure(figsize=[20,10])\n",
    "profit.plot(x='Name',kind='bar')\n",
    "plt.title('most profitable games in each region')\n",
    "plt.ylabel('Sales')"
   ]
  },
  {
   "cell_type": "markdown",
   "metadata": {},
   "source": [
    "### Comment:\n",
    "From this plot, we can see that Wii Sports has the most global sales, North American sales, and European sales, New Super Mario Bros has the highest Japanese sales, and Grand Theft Auto: San Andreas has the highest sales in other regions."
   ]
  },
  {
   "cell_type": "markdown",
   "metadata": {},
   "source": [
    "## II. Publisher"
   ]
  },
  {
   "cell_type": "markdown",
   "metadata": {},
   "source": [
    "### (1) What are the top publishers according to sales by region?\n",
    " \n"
   ]
  },
  {
   "cell_type": "code",
   "execution_count": null,
   "metadata": {},
   "outputs": [],
   "source": [
    "NA_Table=pd.DataFrame(pd.pivot_table(df3,index='Publisher',values='NA_Sales',\n",
    "                                     aggfunc=np.sum).sort_values('NA_Sales',ascending=False))\n",
    "NA_Table.loc[:,'NA_Sales_prop'] = NA_Table.loc[:,'NA_Sales']/sum(NA_Table.loc[:,'NA_Sales'])\n",
    "NA_Table.iloc[10,:]=NA_Table.iloc[10:,].sum(axis=0)\n",
    "num1=NA_Table.iloc[10,0]\n",
    "num2=NA_Table.iloc[10,1]\n",
    "NA_Table2=NA_Table.copy()\n",
    "NA_Table2=NA_Table.iloc[:11,]\n",
    "NA_Table2=pd.DataFrame(NA_Table,index=['Electronic Arts','Nintendo','Activision','Take-Two Interactive',\n",
    "                                        'Sony Computer Entertainment','Ubisoft','Microsoft Game Studios',\n",
    "                                         'THQ','Sega','Warner Bros. Interactive Entertainment','Others'])                      \n",
    "NA_Table2.iloc[10,0]=num1\n",
    "NA_Table2.iloc[10,1]=num2\n",
    "NA_Table.iloc[10,:]=NA_Table.iloc[10,:]-NA_Table.iloc[11:,].sum(axis=0)"
   ]
  },
  {
   "cell_type": "code",
   "execution_count": null,
   "metadata": {},
   "outputs": [],
   "source": [
    "EU_Table=pd.pivot_table(df3,index='Publisher',values='EU_Sales',\n",
    "               aggfunc=np.sum).sort_values('EU_Sales',ascending=False)\n",
    "EU_Table.loc[:,'EU_Sales_prop'] = EU_Table.loc[:,'EU_Sales']/sum(EU_Table.loc[:,'EU_Sales'])\n",
    "EU_Table.iloc[10,:]=EU_Table.iloc[10:,].sum(axis=0)\n",
    "num1=EU_Table.iloc[10,0]\n",
    "num2=EU_Table.iloc[10,1]\n",
    "EU_Table2=EU_Table.copy()\n",
    "EU_Table2=EU_Table.iloc[:11,]\n",
    "EU_Table2=pd.DataFrame(EU_Table,index=['Electronic Arts','Nintendo','Activision','Ubisoft','Sony Computer Entertainment',\n",
    "                                       'Take-Two Interactive','Microsoft Game Studios', 'Sega','THQ',\n",
    "                                        'Konami Digital Entertainment','Others'])                      \n",
    "EU_Table2.iloc[10,0]=num1\n",
    "EU_Table2.iloc[10,1]=num2\n",
    "EU_Table.iloc[10,:]=EU_Table.iloc[10,:]-EU_Table.iloc[11:,].sum(axis=0)"
   ]
  },
  {
   "cell_type": "code",
   "execution_count": null,
   "metadata": {},
   "outputs": [],
   "source": [
    "JP_Table=pd.pivot_table(df3,index='Publisher',values='JP_Sales',\n",
    "                        aggfunc=np.sum).sort_values('JP_Sales',ascending=False)\n",
    "JP_Table.loc[:,'JP_Sales_prop'] = JP_Table.loc[:,'JP_Sales']/sum(JP_Table.loc[:,'JP_Sales'])\n",
    "JP_Table.iloc[10,:]=JP_Table.iloc[10:,].sum(axis=0)\n",
    "num1=JP_Table.iloc[10,0]\n",
    "num2=JP_Table.iloc[10,1]\n",
    "JP_Table2=JP_Table.copy()\n",
    "JP_Table2=JP_Table.iloc[:11,]\n",
    "JP_Table2=pd.DataFrame(JP_Table,index=['Nintendo','Sony Computer Entertainment','Square Enix','Capcom',\n",
    "                                      'Namco Bandai Games','Konami Digital Entertainment','Tecmo Koei','Sega',\n",
    "                                        'SquareSoft','Electronic Arts','Others'])                      \n",
    "JP_Table2.iloc[10,0]=num1\n",
    "JP_Table2.iloc[10,1]=num2\n",
    "JP_Table.iloc[10,:]=JP_Table.iloc[10,:]-JP_Table.iloc[11:,].sum(axis=0)"
   ]
  },
  {
   "cell_type": "code",
   "execution_count": null,
   "metadata": {},
   "outputs": [],
   "source": [
    "Other_Table=pd.pivot_table(df3,index='Publisher',values='Other_Sales',\n",
    "                           aggfunc=np.sum).sort_values('Other_Sales',ascending=False)\n",
    "Other_Table.loc[:,'Other_Sales_prop'] = Other_Table.loc[:,'Other_Sales']/sum(Other_Table.loc[:,'Other_Sales'])\n",
    "Other_Table.iloc[10,:]=Other_Table.iloc[10:,].sum(axis=0)\n",
    "num1=Other_Table.iloc[10,0]\n",
    "num2=Other_Table.iloc[10,1]\n",
    "Other_Table2=Other_Table.copy()\n",
    "Other_Table2=Other_Table.iloc[:11,]\n",
    "Other_Table2=pd.DataFrame(Other_Table,index=['Electronic Arts','Nintendo','Activision','Sony Computer Entertainment',\n",
    "                                             'Take-Two Interactive','Ubisoft','Konami Digital Entertainment','THQ',\n",
    "                                             'Microsoft Game Studios','Sega','Others'])                      \n",
    "Other_Table2.iloc[10,0]=num1\n",
    "Other_Table2.iloc[10,1]=num2\n",
    "Other_Table2\n",
    "Other_Table.iloc[10,:]=Other_Table.iloc[10,:]-Other_Table.iloc[11:,].sum(axis=0)"
   ]
  },
  {
   "cell_type": "code",
   "execution_count": null,
   "metadata": {},
   "outputs": [],
   "source": [
    "Global_Table=pd.pivot_table(df3,index='Publisher',values='Global_Sales',\n",
    "                            aggfunc=np.sum).sort_values('Global_Sales',ascending=False)\n",
    "Global_Table.loc[:,'Global_Sales_prop'] = Global_Table.loc[:,'Global_Sales']/sum(Global_Table.loc[:,'Global_Sales'])\n",
    "Global_Table.iloc[10,:]=Global_Table.iloc[10:,].sum(axis=0)\n",
    "num1=Global_Table.iloc[10,0]\n",
    "num2=Global_Table.iloc[10,1]\n",
    "Global_Table2=Global_Table.copy()\n",
    "Global_Table2=Global_Table.iloc[:11,]\n",
    "Global_Table2=pd.DataFrame(Global_Table,index=['Electronic Arts','Nintendo','Activision','Sony Computer Entertainment',\n",
    "                                             'Take-Two Interactive','Ubisoft','Microsoft Game Studios','THQ','Sega',\n",
    "                                                'Konami Digital Entertainment','Others'])                      \n",
    "Global_Table2.iloc[10,0]=num1\n",
    "Global_Table2.iloc[10,1]=num2\n",
    "Global_Table.iloc[10,:]=Global_Table.iloc[10,:]-Global_Table.iloc[11:,].sum(axis=0)"
   ]
  },
  {
   "cell_type": "code",
   "execution_count": null,
   "metadata": {},
   "outputs": [],
   "source": [
    "# Plotting our pie charts\n",
    "# Create a list of colors \n",
    "plt.style.use('seaborn-white')\n",
    "colors = ['#800000','#A52A2A','#A0522D','#8B4513','#D2691E',\n",
    "         '#DAA520','#F4A460','#BC8F8F','#6495ED','#00BFFF','powderblue']\n",
    "plt.figure(figsize=(22,20))\n",
    "plt.subplot(3,2,1)\n",
    "plt.pie(\n",
    "    NA_Table2.NA_Sales_prop,\n",
    "    labels=NA_Table2.index,\n",
    "    shadow=True,\n",
    "    # stating our colors\n",
    "    colors=colors,\n",
    "    startangle=90,\n",
    "    textprops={'fontsize': 14},\n",
    "    # with the percent listed as a fraction\n",
    "    autopct='%1.1f%%'\n",
    "    )\n",
    "plt.axis('equal')\n",
    "plt.title('Pie Chart of NA_Sales by top Publisher',size=20)\n",
    "plt.subplot(3,2,2)\n",
    "plt.pie(\n",
    "    EU_Table2.EU_Sales_prop,\n",
    "    labels=EU_Table2.index,\n",
    "    shadow=True,\n",
    "    # stating our colors\n",
    "    colors=colors,\n",
    "    startangle=90,\n",
    "    textprops={'fontsize': 14},\n",
    "    # with the percent listed as a fraction\n",
    "    autopct='%1.1f%%'\n",
    "    )\n",
    "plt.axis('equal')\n",
    "plt.title('Pie Chart of EU_Sales by top Publisher',size=20)\n",
    "plt.subplot(3,2,3)\n",
    "plt.pie(\n",
    "    JP_Table2.JP_Sales_prop,\n",
    "    labels=JP_Table2.index,\n",
    "    shadow=True,\n",
    "    # stating our colors\n",
    "    colors=colors,\n",
    "    startangle=90,\n",
    "    textprops={'fontsize': 14},\n",
    "    # with the percent listed as a fraction\n",
    "    autopct='%1.1f%%'\n",
    "    )\n",
    "plt.axis('equal')\n",
    "plt.title('Pie Chart of JP_Sales by top Publisher',size=20)\n",
    "plt.subplot(3,2,4)\n",
    "plt.pie(\n",
    "    Other_Table2.Other_Sales_prop,\n",
    "    labels=Other_Table2.index,\n",
    "    shadow=True,\n",
    "    # stating our colors\n",
    "    colors=colors,\n",
    "    startangle=90,\n",
    "    textprops={'fontsize': 14},\n",
    "    # with the percent listed as a fraction\n",
    "    autopct='%1.1f%%'\n",
    "    )\n",
    "plt.axis('equal')\n",
    "plt.title('Pie Chart of Other_Sales by top Publisher',size=20)\n",
    "plt.subplot(3,2,5)\n",
    "plt.pie(\n",
    "    Global_Table2.Global_Sales_prop,\n",
    "    labels=Global_Table2.index,\n",
    "    shadow=True,\n",
    "    # stating our colors\n",
    "    colors=colors,\n",
    "    startangle=90,\n",
    "    textprops={'fontsize': 14},\n",
    "    # with the percent listed as a fraction\n",
    "    autopct='%1.1f%%'\n",
    "    )\n",
    "plt.axis('equal')\n",
    "plt.title('Pie Chart of Global_Sales by top Publisher',size=20)\n",
    "plt.tight_layout()\n",
    "plt.show()"
   ]
  },
  {
   "cell_type": "markdown",
   "metadata": {},
   "source": [
    "### Comment:\n",
    "In general, the Electronic Arts, Nintendo, and Activision are respectively the publishers that have largest, second largest, and third largest market share in global sales, north american sales, european sales, and sales in other regions. And the other publishers which are often among the top 10 publishers according to sales in regions other than Japan are Sony Computer Entertainment, Take-Two Interactive, Ubisoft, Microsoft Game Studios, THQ, Sega, Konami Digital Entertainment. And for north american market, Warner Bros. Interactive Entertainment also has a lot of market share. \n",
    "Japanese market is quite different, in which Nintendo has around 40% market share and many of the top 10 publishers in this market does not have a significant share in other markets. "
   ]
  },
  {
   "cell_type": "markdown",
   "metadata": {},
   "source": [
    "### (2) What is the Top 5 Global sales Publishers' sales breakdown by region?"
   ]
  },
  {
   "cell_type": "code",
   "execution_count": null,
   "metadata": {},
   "outputs": [],
   "source": [
    "top5=Global_Table2.index[0:5]\n",
    "top5"
   ]
  },
  {
   "cell_type": "code",
   "execution_count": null,
   "metadata": {},
   "outputs": [],
   "source": [
    "region=df3.loc[df3.Publisher.isin(top5)][['Publisher','NA_Sales',\n",
    "                                           'EU_Sales','JP_Sales','Other_Sales']].groupby('Publisher').sum()"
   ]
  },
  {
   "cell_type": "code",
   "execution_count": null,
   "metadata": {},
   "outputs": [],
   "source": [
    "plt.figure(figsize=[20,15])\n",
    "region.plot.barh(stacked=True)\n",
    "plt.title(\"5 Top publishers'sales breakdown by region\",size=20)\n",
    "plt.legend(prop={'size':15})\n",
    "plt.yticks(size=15)\n",
    "plt.ylabel('Sales',size=15)"
   ]
  },
  {
   "cell_type": "markdown",
   "metadata": {},
   "source": [
    "### Comment:\n",
    "From this plot, we can see that amoung the top 5 global sales publishers only Nintendo and Sony Computer Entertainment's JP sales account for a somewhat large proportion of the total sales. In general, NA_sales is the largest part of these publishers's sales and EU_sales is also large."
   ]
  },
  {
   "cell_type": "markdown",
   "metadata": {},
   "source": [
    "### (3) What is the Top 5 Global sales Publishers' Number of Releases by year?"
   ]
  },
  {
   "cell_type": "code",
   "execution_count": null,
   "metadata": {},
   "outputs": [],
   "source": [
    "top10=Global_Table2.index.tolist()[:10]\n",
    "release=pd.pivot_table(df3.loc[df3.Publisher.isin(top5)][['Year_of_Release','Publisher','Critic_Score']],index=['Year_of_Release'],columns='Publisher',values='Critic_Score',aggfunc='count')\n",
    "release.fillna(0)\n",
    "plt.figure(figsize=[15,10])\n",
    "plt.plot(release.loc[:,'Electronic Arts'])\n",
    "plt.plot(release.loc[:,'Nintendo'])\n",
    "plt.plot(release.loc[:,'Activision'])\n",
    "plt.plot(release.loc[:,'Sony Computer Entertainment'])\n",
    "plt.plot(release.loc[:,'Take-Two Interactive'])\n",
    "plt.legend(prop={'size':15})\n",
    "plt.xlabel('Year',size=20)\n",
    "plt.ylabel('Releases',size=25)\n",
    "plt.xlim(1990, )\n",
    "plt.title(\"Top 5 Publishers in global sales'yearly releases\",size=25)\n",
    "plt.show()\n"
   ]
  },
  {
   "cell_type": "markdown",
   "metadata": {},
   "source": [
    "### Comment:\n",
    "From the plot we can see that Electronic Arts have largest release by year in overall. And the year between 2000 and 2010 is the best time for the top 10 video game publishers when they publish the most number of releases. The decrease of number of releases after 2010 is probably because the developers focus more on updating the exisitng successful video games. "
   ]
  },
  {
   "cell_type": "markdown",
   "metadata": {},
   "source": [
    "### (4)How is the distribution of critic's score of the top 3 publisher different from that of all publishers?"
   ]
  },
  {
   "cell_type": "code",
   "execution_count": null,
   "metadata": {},
   "outputs": [],
   "source": [
    "top5"
   ]
  },
  {
   "cell_type": "code",
   "execution_count": null,
   "metadata": {},
   "outputs": [],
   "source": [
    "critic=df3[['Critic_Score']].sort_values('Critic_Score',ascending=False)\n",
    "critic1=df3.loc[df3.Publisher==top5[0]].sort_values('Critic_Score',ascending=False)[['Critic_Score']]\n",
    "critic2=df3.loc[df3.Publisher==top5[1]].sort_values('Critic_Score',ascending=False)[['Critic_Score']]\n",
    "critic3=df3.loc[df3.Publisher==top5[2]].sort_values('Critic_Score',ascending=False)[['Critic_Score']]\n",
    "plt.figure(figsize=[20,10])\n",
    "sns.distplot(critic.Critic_Score,label='All publishers',hist=False)\n",
    "sns.distplot(critic1.Critic_Score, label='Electronic Arts',hist=False,color='red')\n",
    "sns.distplot(critic2.Critic_Score, label='Nintendo',hist=False,color='green')\n",
    "sns.distplot(critic3.Critic_Score, label='Activision',hist=False,color='purple')\n",
    "plt.title(\"Distribution of top 3 publisher's critic's score and that of all publishers\",size=20)\n",
    "plt.xlabel('Critic_Scores',size=15)\n",
    "plt.ylim(0,0.04)\n",
    "plt.legend(prop={'size':15})"
   ]
  },
  {
   "cell_type": "markdown",
   "metadata": {},
   "source": [
    "### Comment:\n",
    "From this plot we can see that among the top 3 publishers, the Electronic Arts and Nintendo typically have a high distribution of critic score than that of all publishers, while Activision has an approximatley same critic's score's distribution than that of all publishers."
   ]
  },
  {
   "cell_type": "markdown",
   "metadata": {},
   "source": [
    "### (5)How is the distribution of user's score of the top 3 publisher different from that of all publishers?"
   ]
  },
  {
   "cell_type": "code",
   "execution_count": null,
   "metadata": {},
   "outputs": [],
   "source": [
    "df3.User_Score=df3.User_Score.astype('float')"
   ]
  },
  {
   "cell_type": "code",
   "execution_count": null,
   "metadata": {},
   "outputs": [],
   "source": [
    "user=df3[['User_Score']].sort_values('User_Score',ascending=False)\n",
    "user1=df3.loc[df3.Publisher==top5[0]].sort_values('User_Score',ascending=False)[['User_Score']]\n",
    "user2=df3.loc[df3.Publisher==top5[1]].sort_values('User_Score',ascending=False)[['User_Score']]\n",
    "user3=df3.loc[df3.Publisher==top5[2]].sort_values('User_Score',ascending=False)[['User_Score']]\n",
    "plt.figure(figsize=[20,10])\n",
    "sns.distplot(user.User_Score,label='All publishers',hist=False)\n",
    "sns.distplot(user1.User_Score, label='Electronic Arts',hist=False,color='red')\n",
    "sns.distplot(user2.User_Score, label='Nintendo',hist=False,color='green')\n",
    "sns.distplot(user3.User_Score, label='Activision',hist=False,color='purple')\n",
    "plt.title(\"Distribution of top 3 publisher's user's score and that of all publishers\",size=20)\n",
    "plt.xlabel('User_Scores',size=15)\n",
    "plt.ylim(0,0.50)\n",
    "plt.legend(prop={'size':15})\n"
   ]
  },
  {
   "cell_type": "markdown",
   "metadata": {},
   "source": [
    "### Comment:\n",
    "From this plot we can see that among the top 3 publishers,  Nintendo typically have a high distribution of user's score than that of all publishers, while Electronic Arts and Activision have an approximatley same user's score's distribution than that of all publishers."
   ]
  },
  {
   "cell_type": "code",
   "execution_count": null,
   "metadata": {},
   "outputs": [],
   "source": [
    "user10top=df3.groupby('Publisher')[['User_Score','User_Count']].mean().sort_values('User_Score',ascending=False).head(10)\n",
    "print(user10top)\n",
    "plt.figure(figsize=[20,10])\n",
    "sns.distplot(user.User_Count)\n",
    "plt.title(\"Distribution of average user count of each publisher\",size=20)\n",
    "plt.xlabel('User_Count',size=15)"
   ]
  },
  {
   "cell_type": "markdown",
   "metadata": {},
   "source": [
    "### Comment: \n",
    "From the table, we can see that there are some publishers that do not have a very large market share but have a high users score. When we compare this table with the previous table that shows the publishers that have high average critic's scores, we can see that Blue Byte, Square, and Havas Interactive have both high critic score and user score, with not too small a user count or a critic count.\n"
   ]
  },
  {
   "cell_type": "code",
   "execution_count": null,
   "metadata": {},
   "outputs": [],
   "source": []
  },
  {
   "cell_type": "code",
   "execution_count": null,
   "metadata": {},
   "outputs": [],
   "source": [
    "import pandas as pd\n",
    "import numpy as np\n",
    "import plotly\n",
    "plotly.tools.set_credentials_file(username='sherry9788', api_key='Cw40WD6lRwalI8wtPd72')\n",
    "import plotly.plotly as py\n",
    "import plotly.graph_objs as go\n",
    "import seaborn as sns\n",
    "import matplotlib.pyplot as plt"
   ]
  },
  {
   "cell_type": "code",
   "execution_count": null,
   "metadata": {},
   "outputs": [],
   "source": [
    "df = pd.read_csv('Video_Games_Sales_as_at_22_Dec_2016.csv')\n",
    "df.shape"
   ]
  },
  {
   "cell_type": "code",
   "execution_count": null,
   "metadata": {},
   "outputs": [],
   "source": [
    "df.head()"
   ]
  },
  {
   "cell_type": "code",
   "execution_count": null,
   "metadata": {},
   "outputs": [],
   "source": [
    "df.info()"
   ]
  },
  {
   "cell_type": "markdown",
   "metadata": {},
   "source": [
    "## Variables"
   ]
  },
  {
   "cell_type": "code",
   "execution_count": null,
   "metadata": {},
   "outputs": [],
   "source": [
    "df.isna().sum()"
   ]
  },
  {
   "cell_type": "code",
   "execution_count": null,
   "metadata": {},
   "outputs": [],
   "source": [
    "df.columns"
   ]
  },
  {
   "cell_type": "code",
   "execution_count": null,
   "metadata": {},
   "outputs": [],
   "source": [
    "df2 = df.copy().dropna()\n",
    "df2.shape\n",
    "df2.info()"
   ]
  },
  {
   "cell_type": "code",
   "execution_count": null,
   "metadata": {},
   "outputs": [],
   "source": [
    "df2.describe()"
   ]
  },
  {
   "cell_type": "markdown",
   "metadata": {},
   "source": [
    "## Name"
   ]
  },
  {
   "cell_type": "code",
   "execution_count": null,
   "metadata": {},
   "outputs": [],
   "source": [
    "df.Name.nunique()"
   ]
  },
  {
   "cell_type": "markdown",
   "metadata": {},
   "source": [
    "Not every one is unique, check to see what the duplicates look like"
   ]
  },
  {
   "cell_type": "code",
   "execution_count": null,
   "metadata": {},
   "outputs": [],
   "source": [
    "df[df.Name==df[df.Name.duplicated()].Name.values[0]]"
   ]
  },
  {
   "cell_type": "code",
   "execution_count": null,
   "metadata": {},
   "outputs": [],
   "source": [
    "df2.Platform.unique()"
   ]
  },
  {
   "cell_type": "markdown",
   "metadata": {},
   "source": [
    "These are the games that have versions across multiple platforms."
   ]
  },
  {
   "cell_type": "markdown",
   "metadata": {},
   "source": [
    "## Platform"
   ]
  },
  {
   "cell_type": "code",
   "execution_count": null,
   "metadata": {
    "scrolled": true
   },
   "outputs": [],
   "source": [
    "data = [go.Histogram(x=df2.Platform)]\n",
    "py.iplot(data, filename='Platform Frequency')"
   ]
  },
  {
   "cell_type": "code",
   "execution_count": null,
   "metadata": {},
   "outputs": [],
   "source": [
    "platform = df2.Platform.value_counts()\n",
    "print(platform)"
   ]
  },
  {
   "cell_type": "code",
   "execution_count": null,
   "metadata": {},
   "outputs": [],
   "source": [
    "plt.figure(figsize=(15,5))\n",
    "sns.barplot(platform.index, platform.values, alpha=0.8)\n",
    "plt.title('Platform freq')\n",
    "plt.ylabel('Number of Occurrences')\n",
    "plt.xlabel('Platform')\n",
    "plt.show()"
   ]
  },
  {
   "cell_type": "markdown",
   "metadata": {},
   "source": [
    "## Genre"
   ]
  },
  {
   "cell_type": "code",
   "execution_count": null,
   "metadata": {},
   "outputs": [],
   "source": [
    "df2.Genre.unique()"
   ]
  },
  {
   "cell_type": "code",
   "execution_count": null,
   "metadata": {},
   "outputs": [],
   "source": [
    "genre = df2.Genre.value_counts()\n",
    "print(genre)"
   ]
  },
  {
   "cell_type": "code",
   "execution_count": null,
   "metadata": {
    "scrolled": true
   },
   "outputs": [],
   "source": [
    "plt.figure(figsize=(15,5))\n",
    "sns.barplot(genre.index, genre.values, alpha=0.8)\n",
    "plt.title('Genre freq')\n",
    "plt.ylabel('Number of Occurrences')\n",
    "plt.xlabel('Genre')\n",
    "plt.show()"
   ]
  },
  {
   "cell_type": "markdown",
   "metadata": {},
   "source": [
    "## Publisher"
   ]
  },
  {
   "cell_type": "code",
   "execution_count": null,
   "metadata": {},
   "outputs": [],
   "source": [
    "df2.Publisher.unique()"
   ]
  },
  {
   "cell_type": "code",
   "execution_count": null,
   "metadata": {},
   "outputs": [],
   "source": [
    "len(df2.Publisher.unique())"
   ]
  },
  {
   "cell_type": "code",
   "execution_count": null,
   "metadata": {},
   "outputs": [],
   "source": [
    "df2.Publisher.value_counts().iloc[:40]"
   ]
  },
  {
   "cell_type": "code",
   "execution_count": null,
   "metadata": {},
   "outputs": [],
   "source": [
    "plt.figure(figsize=(15, 4))\n",
    "sns.countplot(df2.Publisher, order=df2.Publisher.value_counts().iloc[:15].index)\n",
    "plt.xticks(rotation=20)"
   ]
  },
  {
   "cell_type": "markdown",
   "metadata": {},
   "source": [
    "## Year of Release"
   ]
  },
  {
   "cell_type": "code",
   "execution_count": null,
   "metadata": {},
   "outputs": [],
   "source": [
    "np.sort(df2.Year_of_Release.unique())"
   ]
  },
  {
   "cell_type": "code",
   "execution_count": null,
   "metadata": {},
   "outputs": [],
   "source": [
    "df2.Year_of_Release = df2.Year_of_Release.astype(int)"
   ]
  },
  {
   "cell_type": "code",
   "execution_count": null,
   "metadata": {},
   "outputs": [],
   "source": [
    "plt.figure(figsize=(15, 6))\n",
    "sns.distplot(df2.Year_of_Release, kde = False, bins=df2.Year_of_Release.nunique())"
   ]
  },
  {
   "cell_type": "markdown",
   "metadata": {},
   "source": [
    "## Critic_Score, Critic_Count, User_Score, User_Count"
   ]
  },
  {
   "cell_type": "code",
   "execution_count": null,
   "metadata": {
    "scrolled": true
   },
   "outputs": [],
   "source": [
    "df2.User_Score.unique()"
   ]
  },
  {
   "cell_type": "code",
   "execution_count": null,
   "metadata": {},
   "outputs": [],
   "source": [
    "df2.User_Score = df2.User_Score.astype(float)\n",
    "print(df2.User_Score.max())\n",
    "print(df2.User_Score.min())"
   ]
  },
  {
   "cell_type": "code",
   "execution_count": null,
   "metadata": {},
   "outputs": [],
   "source": [
    "df2.User_Count = df2.User_Count.astype(int)\n",
    "print(df2.User_Count.max())\n",
    "print(df2.User_Count.min())"
   ]
  },
  {
   "cell_type": "code",
   "execution_count": null,
   "metadata": {},
   "outputs": [],
   "source": [
    "df2.Critic_Score = df2.Critic_Score.astype(float)\n",
    "print(df2.Critic_Score.max())\n",
    "print(df2.Critic_Score.min())"
   ]
  },
  {
   "cell_type": "code",
   "execution_count": null,
   "metadata": {
    "scrolled": false
   },
   "outputs": [],
   "source": [
    "df2.Critic_Count = df2.Critic_Count.astype(int)\n",
    "print(df2.Critic_Count.max())\n",
    "print(df2.Critic_Count.min())"
   ]
  },
  {
   "cell_type": "code",
   "execution_count": null,
   "metadata": {},
   "outputs": [],
   "source": [
    "plt.figure(figsize=(15, 8))\n",
    "plt.subplot(2,2,1)\n",
    "sns.distplot(df2.Critic_Score)\n",
    "\n",
    "plt.subplot(2,2,2)\n",
    "sns.distplot(df2.User_Score)\n",
    "\n",
    "plt.subplot(2,2,3)\n",
    "sns.distplot(df2.Critic_Count)\n",
    "\n",
    "plt.subplot(2,2,4)\n",
    "sns.distplot(df2.User_Count)"
   ]
  },
  {
   "cell_type": "markdown",
   "metadata": {},
   "source": [
    "## Developer"
   ]
  },
  {
   "cell_type": "code",
   "execution_count": null,
   "metadata": {},
   "outputs": [],
   "source": [
    "df2.Developer.unique()"
   ]
  },
  {
   "cell_type": "code",
   "execution_count": null,
   "metadata": {},
   "outputs": [],
   "source": [
    "len(df2.Developer.unique())"
   ]
  },
  {
   "cell_type": "code",
   "execution_count": null,
   "metadata": {},
   "outputs": [],
   "source": [
    "plt.figure(figsize=(15, 4))\n",
    "sns.countplot(df.Developer, order=df.Developer.value_counts().iloc[:15].index)\n",
    "plt.xticks(rotation=15)"
   ]
  },
  {
   "cell_type": "code",
   "execution_count": null,
   "metadata": {},
   "outputs": [],
   "source": [
    "sony_studio = df2.loc[(df2.Publisher.isna()==False) & (df2.Publisher.str.contains('Sony')), 'Developer'].value_counts()\n",
    "print(sony_studio[np.arange(10)])"
   ]
  },
  {
   "cell_type": "code",
   "execution_count": null,
   "metadata": {},
   "outputs": [],
   "source": [
    "len(sony_studio)"
   ]
  },
  {
   "cell_type": "markdown",
   "metadata": {},
   "source": [
    "## Rating"
   ]
  },
  {
   "cell_type": "code",
   "execution_count": null,
   "metadata": {},
   "outputs": [],
   "source": [
    "np.sort(df2.Rating.unique())"
   ]
  },
  {
   "cell_type": "code",
   "execution_count": null,
   "metadata": {},
   "outputs": [],
   "source": [
    "rating = df2.Rating.value_counts()\n",
    "print(rating)"
   ]
  },
  {
   "cell_type": "code",
   "execution_count": null,
   "metadata": {},
   "outputs": [],
   "source": [
    "df2.loc[df2.Rating=='K-A', 'Rating'] = 'E' "
   ]
  },
  {
   "cell_type": "code",
   "execution_count": null,
   "metadata": {},
   "outputs": [],
   "source": [
    "rating = df2.Rating.value_counts()\n",
    "print(rating)"
   ]
  },
  {
   "cell_type": "code",
   "execution_count": null,
   "metadata": {
    "scrolled": true
   },
   "outputs": [],
   "source": [
    "plt.figure(figsize=(10,5))\n",
    "sns.barplot(rating.index, rating.values, alpha=0.8)\n",
    "plt.title('Rating freq')\n",
    "plt.ylabel('Number of Occurrences')\n",
    "plt.xlabel('Rating')\n",
    "plt.show()"
   ]
  },
  {
   "cell_type": "markdown",
   "metadata": {},
   "source": [
    "## NA_Sales, EU_Sales, JP_Sales, Other_Sales, Global_Sales\n",
    "\n",
    "Game sales in North America (in millions of units)"
   ]
  },
  {
   "cell_type": "code",
   "execution_count": null,
   "metadata": {},
   "outputs": [],
   "source": [
    "((df.Global_Sales>=df.loc[:,['NA_Sales', 'EU_Sales', 'JP_Sales', 'Other_Sales']].sum(axis=1)*0.99) \n",
    "& (df.Global_Sales<=df.loc[:,['NA_Sales', 'EU_Sales', 'JP_Sales', 'Other_Sales']].sum(axis=1)*1.01)).head()"
   ]
  },
  {
   "cell_type": "code",
   "execution_count": null,
   "metadata": {},
   "outputs": [],
   "source": [
    "sns.pairplot(df.loc[:,['NA_Sales', 'EU_Sales', 'JP_Sales', 'Other_Sales', 'Global_Sales']])"
   ]
  },
  {
   "cell_type": "code",
   "execution_count": null,
   "metadata": {},
   "outputs": [],
   "source": []
  },
  {
   "cell_type": "markdown",
   "metadata": {},
   "source": [
    "## Platform"
   ]
  },
  {
   "cell_type": "markdown",
   "metadata": {},
   "source": [
    "This table counts the number of games released on each platform by year."
   ]
  },
  {
   "cell_type": "code",
   "execution_count": null,
   "metadata": {
    "scrolled": true
   },
   "outputs": [],
   "source": [
    "plat_freq = pd.crosstab(index=df2.Year_of_Release, columns=df2.Platform)\n",
    "plat_freq"
   ]
  },
  {
   "cell_type": "markdown",
   "metadata": {},
   "source": [
    "Continuous zeros in each column indicate that either the platform was not invented or was already dated. From this table we can see the evolution of platforms.\n",
    "\n",
    "The following plot intuitively visualizes the data in the table. "
   ]
  },
  {
   "cell_type": "code",
   "execution_count": null,
   "metadata": {
    "scrolled": true
   },
   "outputs": [],
   "source": [
    "plat_freq.plot(kind='bar', stacked=True, colormap='rainbow', figsize=(10, 4))\n",
    "plt.title('Number of Video Games on Platforms by Year')\n",
    "plt.ylabel('Number of Occurrences')\n",
    "plt.xlabel('Year')\n",
    "plt.legend(bbox_to_anchor=(1, 1))\n",
    "plt.show()"
   ]
  },
  {
   "cell_type": "markdown",
   "metadata": {},
   "source": [
    "#### Market Share"
   ]
  },
  {
   "cell_type": "markdown",
   "metadata": {},
   "source": [
    "This table aggregates the total global sales for each platform by year. "
   ]
  },
  {
   "cell_type": "code",
   "execution_count": null,
   "metadata": {
    "scrolled": true
   },
   "outputs": [],
   "source": [
    "plat_pivot = pd.pivot_table(df2, index='Year_of_Release', columns='Platform', values='Global_Sales', aggfunc=np.sum)\n",
    "plat_pivot"
   ]
  },
  {
   "cell_type": "markdown",
   "metadata": {},
   "source": [
    "Continuous NaN's in each column indicate that either the platform was not invented or was already dated. From this table we can see the evolution of market share for platforms.\n",
    "\n",
    "The following plot intuitively visualizes the data in the table. "
   ]
  },
  {
   "cell_type": "code",
   "execution_count": null,
   "metadata": {},
   "outputs": [],
   "source": [
    "plat_pivot.plot(kind='area', stacked=True, colormap='rainbow', figsize=(8,6))\n",
    "plt.title('Global Sales of Video Games on Platforms by Year')\n",
    "plt.ylabel('Total Global Sales')\n",
    "plt.xlabel('Year')\n",
    "plt.legend(bbox_to_anchor=(1, 1))"
   ]
  },
  {
   "cell_type": "markdown",
   "metadata": {},
   "source": [
    "This plot shows that the evolution in video game platform market is significant. New generations come out, occupy the market and are eventually replaced by the next generations."
   ]
  },
  {
   "cell_type": "markdown",
   "metadata": {},
   "source": [
    "#### Most Selling Platform Each Year"
   ]
  },
  {
   "cell_type": "code",
   "execution_count": null,
   "metadata": {},
   "outputs": [],
   "source": [
    "plat_max = pd.DataFrame({'Platform':plat_pivot.idxmax(axis=1), 'Global_Sales':plat_pivot.max(axis=1)})\n",
    "plat_max"
   ]
  },
  {
   "cell_type": "code",
   "execution_count": null,
   "metadata": {
    "scrolled": true
   },
   "outputs": [],
   "source": [
    "plat_max['Year_of_Release'] = plat_max.index\n",
    "plt.figure(figsize=(13, 5))\n",
    "sns.barplot(data=plat_max, x='Year_of_Release', y='Global_Sales', hue='Platform', dodge=False)\n",
    "plt.title('Most Selling Platforms by Year')\n",
    "plt.xlabel('Year')\n",
    "plt.show()"
   ]
  },
  {
   "cell_type": "markdown",
   "metadata": {},
   "source": [
    "The plot above shows the most selling platforms each year.\n",
    "Before 2000, Sony's PlayStation(PS) led in global sales. From 2001 to 2005, its new generation PS2 occupied the market. Nintendo Wii was leading for the next 4 year. Xbox 360 and PS3 from the 7th generation were the most competitive over 2010 to 2013. From 2014, PS4 from the 8th generation had the most sellings."
   ]
  },
  {
   "cell_type": "markdown",
   "metadata": {},
   "source": [
    "#### User Score Max"
   ]
  },
  {
   "cell_type": "code",
   "execution_count": null,
   "metadata": {},
   "outputs": [],
   "source": [
    "plat_score = pd.pivot_table(df2, index='Year_of_Release', columns='Platform', values='User_Score', aggfunc=np.mean)\n",
    "plat_score_max = pd.DataFrame({'Platform':plat_score.idxmax(axis=1), 'User_Score':plat_score.max(axis=1)})\n",
    "plat_score_max"
   ]
  },
  {
   "cell_type": "code",
   "execution_count": null,
   "metadata": {
    "scrolled": true
   },
   "outputs": [],
   "source": [
    "plat_score_max['Year_of_Release'] = plat_score_max.index\n",
    "plt.figure(figsize=(15, 5))\n",
    "sns.barplot(data=plat_score_max, x='Year_of_Release', y='User_Score', hue='Platform', dodge=False)\n",
    "plt.title('latforms with highest average user scores on video games each year')\n",
    "plt.xlabel('Year')\n",
    "plt.show()"
   ]
  },
  {
   "cell_type": "markdown",
   "metadata": {},
   "source": [
    "The plot above shows the platforms with highest average user scores on video games each year. PC used to be users' favorite platform before 2010. Nintendo DS(DS), PlayStation Portable(PSP) and PlayStation Vita(PSV) become popular recently."
   ]
  },
  {
   "cell_type": "markdown",
   "metadata": {},
   "source": [
    "### 8th GENERATION CONSOLE WAR: PS4 vs XBOXONE vs WiiU"
   ]
  },
  {
   "cell_type": "markdown",
   "metadata": {},
   "source": [
    "Sony PS4, Xbox One and Nintendo WiiU are the representatives in the 8th Generation of video game consoles. The section aims to compare their performances. "
   ]
  },
  {
   "cell_type": "code",
   "execution_count": null,
   "metadata": {},
   "outputs": [],
   "source": [
    "gen8 = df2[(df2.Platform == 'PS4') | (df2.Platform == 'XOne') | (df2.Platform == 'WiiU')]\n",
    "gen8.shape"
   ]
  },
  {
   "cell_type": "code",
   "execution_count": null,
   "metadata": {
    "scrolled": true
   },
   "outputs": [],
   "source": [
    "gen8_freq = pd.crosstab(index=gen8.Year_of_Release, columns=gen8.Platform)\n",
    "gen8_freq"
   ]
  },
  {
   "cell_type": "markdown",
   "metadata": {},
   "source": [
    "This table counts the number of games released on each platform in the 8th generation by year."
   ]
  },
  {
   "cell_type": "code",
   "execution_count": null,
   "metadata": {},
   "outputs": [],
   "source": [
    "gen8_freq.plot()\n",
    "plt.title('Frequency of Gaming Platforms')\n",
    "plt.xticks(gen8.Year_of_Release)\n",
    "plt.ylabel('Number of Occurrences')\n",
    "plt.show()"
   ]
  },
  {
   "cell_type": "markdown",
   "metadata": {},
   "source": [
    "The number of games increases for both PS4 and Xbox One. Nintendo WiiU was released 1 year early than the other two competitiors, but did not maintain a strong performance. "
   ]
  },
  {
   "cell_type": "code",
   "execution_count": null,
   "metadata": {},
   "outputs": [],
   "source": [
    "gen8_pivot = pd.pivot_table(gen8, index='Year_of_Release', columns='Platform', values='Global_Sales', aggfunc=np.sum)\n",
    "gen8_pivot"
   ]
  },
  {
   "cell_type": "code",
   "execution_count": null,
   "metadata": {
    "scrolled": true
   },
   "outputs": [],
   "source": [
    "gen8_pivot.plot()\n",
    "plt.title('Global Sales of Gaming Platforms')\n",
    "plt.xticks(gen8.Year_of_Release)\n",
    "plt.ylabel('Global_Sales')"
   ]
  },
  {
   "cell_type": "markdown",
   "metadata": {},
   "source": [
    "This plot shows the global sales of the three platforms. Compared with last plot, we notice that although the number of games increases, the total sales decreases in 2016. This is an indication of the end of the 8th generation."
   ]
  },
  {
   "cell_type": "code",
   "execution_count": null,
   "metadata": {},
   "outputs": [],
   "source": [
    "gen8_genre = pd.pivot_table(gen8, index='Platform', columns='Genre', values='Global_Sales', aggfunc=np.sum)\n",
    "gen8_genre"
   ]
  },
  {
   "cell_type": "code",
   "execution_count": null,
   "metadata": {},
   "outputs": [],
   "source": [
    "plt.figure(figsize=(15,8))\n",
    "gen8_genre.plot(kind='bar', stacked=True, colormap='rainbow')\n",
    "plt.title('Platform Sales by Genre')\n",
    "plt.ylabel('Global Sales')\n",
    "plt.xticks(rotation='horizontal')\n",
    "plt.legend(bbox_to_anchor=(1, 1))\n",
    "plt.show()"
   ]
  },
  {
   "cell_type": "markdown",
   "metadata": {},
   "source": [
    "The sales by genre is not proportional to their total sales. It seems that each platform has its own focuses. \n",
    "\n",
    "To better understand the focuses of each platform, we want to compare the ratio of sales to their total in the genre."
   ]
  },
  {
   "cell_type": "code",
   "execution_count": null,
   "metadata": {},
   "outputs": [],
   "source": [
    "gen8_genre_percentage = gen8_genre.T/gen8_genre.sum(axis=1)\n",
    "gen8_genre_percentage.T"
   ]
  },
  {
   "cell_type": "code",
   "execution_count": null,
   "metadata": {
    "scrolled": false
   },
   "outputs": [],
   "source": [
    "plt.figure(figsize=(15,8))\n",
    "gen8_genre_percentage.T.plot(kind='bar', stacked=True, colormap='rainbow')\n",
    "plt.title('Platform Sales Percentage by Genre')\n",
    "plt.ylabel('Global Sales')\n",
    "plt.xticks(rotation='horizontal')\n",
    "plt.legend(bbox_to_anchor=(1, 1))\n",
    "plt.show()"
   ]
  },
  {
   "cell_type": "markdown",
   "metadata": {},
   "source": [
    "From this plot, we can tell that Nintendo WiiU has top proportions in Misc, Platform, Puzzle and Strategy. Action, Adventure, Fighting, Role-playing, Shooting, Sports game developers usually choose PS4 and Xbox One as their platforms."
   ]
  },
  {
   "cell_type": "code",
   "execution_count": null,
   "metadata": {},
   "outputs": [],
   "source": [
    "gen8_user = pd.pivot_table(gen8, index='Year_of_Release', columns='Platform', values='User_Count', aggfunc=np.sum)\n",
    "gen8_user"
   ]
  },
  {
   "cell_type": "code",
   "execution_count": null,
   "metadata": {
    "scrolled": false
   },
   "outputs": [],
   "source": [
    "gen8_user.plot()\n",
    "plt.xticks(gen8.Year_of_Release)\n",
    "plt.title('Global Sales of Gaming Platforms')\n",
    "plt.ylabel('Global_Sales')"
   ]
  },
  {
   "cell_type": "markdown",
   "metadata": {},
   "source": [
    "This is the global sales plot by year for the three platforms. Most of this plot follows the trend of number of games. One exception is when PS4 games gained more popularity in from 2014 to 2015. Its global sales increased by a large percentage, while the number of games didn't change too much."
   ]
  },
  {
   "cell_type": "code",
   "execution_count": null,
   "metadata": {
    "scrolled": true
   },
   "outputs": [],
   "source": [
    "gen8_rating = pd.pivot_table(gen8, index='Platform', columns='Rating', values='Global_Sales', aggfunc=np.sum)\n",
    "gen8_rating"
   ]
  },
  {
   "cell_type": "code",
   "execution_count": null,
   "metadata": {},
   "outputs": [],
   "source": [
    "plt.figure(figsize=(15,8))\n",
    "gen8_rating.plot(kind='bar', stacked=True, colormap='rainbow')\n",
    "plt.title('Platform Sales by Rating')\n",
    "plt.ylabel('Global Sales')\n",
    "plt.xticks(rotation='horizontal')\n",
    "plt.show()"
   ]
  },
  {
   "cell_type": "code",
   "execution_count": null,
   "metadata": {
    "scrolled": true
   },
   "outputs": [],
   "source": [
    "gen8_rating_percentage = gen8_rating.T/gen8_rating.sum(axis=1)\n",
    "gen8_rating_percentage.T"
   ]
  },
  {
   "cell_type": "code",
   "execution_count": null,
   "metadata": {},
   "outputs": [],
   "source": [
    "plt.figure(figsize=(15,8))\n",
    "gen8_rating_percentage.T.plot(kind='bar', stacked=True, colormap='rainbow')\n",
    "plt.title('Platform Sales Percentage by Rating')\n",
    "plt.ylabel('Global Sales')\n",
    "plt.xticks(rotation='horizontal')\n",
    "plt.legend(bbox_to_anchor=(1, 1))\n",
    "plt.show()"
   ]
  },
  {
   "cell_type": "markdown",
   "metadata": {},
   "source": [
    "Each platform has its preference on different age groups. WiiU provides a platform more for everyone, whereas PS4 and XOne prefer the mature group."
   ]
  },
  {
   "cell_type": "code",
   "execution_count": null,
   "metadata": {},
   "outputs": [],
   "source": [
    "gen8_user_score = pd.pivot_table(gen8, index='Year_of_Release', columns='Platform', values='User_Score', aggfunc=np.mean)\n",
    "gen8_user_score"
   ]
  },
  {
   "cell_type": "code",
   "execution_count": null,
   "metadata": {
    "scrolled": true
   },
   "outputs": [],
   "source": [
    "plt.figure()\n",
    "gen8_user_score.plot()\n",
    "plt.title('Platform User Score by Year')\n",
    "plt.ylabel('User Score')\n",
    "plt.xticks(gen8.Year_of_Release)\n",
    "plt.show()"
   ]
  },
  {
   "cell_type": "markdown",
   "metadata": {},
   "source": [
    "Although the sales of WiiU didn't beat PS4 or XOne, the games on WiiU remained the highest average user score over the entire generation. We also notice that the user score increases rapidly in the first year after release. Probably this increase is credited to the development on bug fixing and user experience in the first year, which heavely relies on users' feedback."
   ]
  },
  {
   "cell_type": "code",
   "execution_count": null,
   "metadata": {
    "scrolled": true
   },
   "outputs": [],
   "source": [
    "gen8_critic_score = pd.pivot_table(gen8, index='Year_of_Release', columns='Platform', values='Critic_Score', aggfunc=np.mean)\n",
    "gen8_critic_score"
   ]
  },
  {
   "cell_type": "code",
   "execution_count": null,
   "metadata": {
    "scrolled": false
   },
   "outputs": [],
   "source": [
    "plt.figure(figsize=(15,8))\n",
    "gen8_critic_score.plot()\n",
    "plt.title('Platform Critic Score by Year')\n",
    "plt.ylabel('Critic Score')\n",
    "plt.xticks(gen8.Year_of_Release)\n",
    "plt.show()"
   ]
  },
  {
   "cell_type": "markdown",
   "metadata": {},
   "source": [
    "Similarly, the rapid increase exists for each platform in their first year. Different from the user score, the critics ranked XOne as the best and WiiU as the worst."
   ]
  },
  {
   "cell_type": "markdown",
   "metadata": {},
   "source": [
    "### Generations of PlayStation: PS2 vs PS3 vs PS4"
   ]
  },
  {
   "cell_type": "markdown",
   "metadata": {},
   "source": [
    "We also want to know how the generations of video game consoles in the same brand compare with each other. We choose PS2 vs PS3 vs PS4 as an example. They are all successors of each other in Sony's PlayStation series, from 6th, 7th and 8th generation in the history of consoles respectively."
   ]
  },
  {
   "cell_type": "code",
   "execution_count": null,
   "metadata": {},
   "outputs": [],
   "source": [
    "ps = df2[(df2.Platform == 'PS2') | (df2.Platform == 'PS3') | (df2.Platform == 'PS4')]\n",
    "ps.shape"
   ]
  },
  {
   "cell_type": "code",
   "execution_count": null,
   "metadata": {},
   "outputs": [],
   "source": [
    "ps_freq = pd.crosstab(index=ps.Year_of_Release, columns=ps.Platform)\n",
    "ps_freq"
   ]
  },
  {
   "cell_type": "code",
   "execution_count": null,
   "metadata": {
    "scrolled": true
   },
   "outputs": [],
   "source": [
    "ps_freq.plot()\n",
    "plt.title('Frequency of Gaming Platforms')\n",
    "plt.ylabel('Number of Occurrences')\n",
    "plt.show()"
   ]
  },
  {
   "cell_type": "markdown",
   "metadata": {},
   "source": [
    "Each platform in the series has its own activate time on stage, which is the generation they belong to.\n",
    "\n",
    "PS2(5th generation): 2000-2007  \n",
    "PS3(6th generation): 2006-2014  \n",
    "PS4(7th generation): 2013-"
   ]
  },
  {
   "cell_type": "code",
   "execution_count": null,
   "metadata": {
    "scrolled": true
   },
   "outputs": [],
   "source": [
    "ps_pivot = pd.pivot_table(ps, index='Year_of_Release', columns='Platform', values='Global_Sales', aggfunc=np.sum)\n",
    "ps_pivot"
   ]
  },
  {
   "cell_type": "code",
   "execution_count": null,
   "metadata": {
    "scrolled": false
   },
   "outputs": [],
   "source": [
    "ps_pivot.plot()\n",
    "plt.title('Global Sales of Gaming Platforms')\n",
    "plt.ylabel('Global_Sales')"
   ]
  },
  {
   "cell_type": "markdown",
   "metadata": {},
   "source": [
    "The sales graph is similar to the number of games, also showing the generation's range over time."
   ]
  },
  {
   "cell_type": "code",
   "execution_count": null,
   "metadata": {},
   "outputs": [],
   "source": [
    "ps_genre = pd.pivot_table(ps, index='Platform', columns='Genre', values='Global_Sales', aggfunc=np.sum)\n",
    "ps_genre"
   ]
  },
  {
   "cell_type": "code",
   "execution_count": null,
   "metadata": {
    "scrolled": true
   },
   "outputs": [],
   "source": [
    "plt.figure(figsize=(15,8))\n",
    "ps_genre.plot(kind='bar', stacked=True, colormap='rainbow')\n",
    "plt.title('Platform Sales by Genre')\n",
    "plt.legend(bbox_to_anchor=(1, 1))\n",
    "plt.ylabel('Global Sales')\n",
    "plt.xticks(rotation='horizontal')\n",
    "plt.show()"
   ]
  },
  {
   "cell_type": "markdown",
   "metadata": {},
   "source": [
    "Each platform has its preference in genres. We will use ratio of each genre's share over the total global sale of the platform to compare their preferences."
   ]
  },
  {
   "cell_type": "code",
   "execution_count": null,
   "metadata": {},
   "outputs": [],
   "source": [
    "ps_genre_percentage = ps_genre.T/ps_genre.sum(axis=1)\n",
    "ps_genre_percentage.T"
   ]
  },
  {
   "cell_type": "code",
   "execution_count": null,
   "metadata": {
    "scrolled": true
   },
   "outputs": [],
   "source": [
    "plt.figure(figsize=(15,8))\n",
    "ps_genre_percentage.T.plot(kind='bar', stacked=True, colormap='rainbow')\n",
    "plt.title('Platform Sales Percentage by Genre')\n",
    "plt.legend(bbox_to_anchor=(1, 1))\n",
    "plt.ylabel('Global Sales')\n",
    "plt.xticks(rotation='horizontal')\n",
    "plt.show()"
   ]
  },
  {
   "cell_type": "markdown",
   "metadata": {},
   "source": [
    "As generations evolve, Shooter and Action games gradually increase their proportions, whereas Fighting, Puzzle, Racing, Simulation's proportions decrease. This trend reflects the change in players' taste in terms of genre."
   ]
  },
  {
   "cell_type": "code",
   "execution_count": null,
   "metadata": {},
   "outputs": [],
   "source": [
    "ps_user = pd.pivot_table(ps, index='Year_of_Release', columns='Platform', values='User_Count', aggfunc=np.sum)\n",
    "ps_user"
   ]
  },
  {
   "cell_type": "code",
   "execution_count": null,
   "metadata": {
    "scrolled": false
   },
   "outputs": [],
   "source": [
    "ps_user.plot()\n",
    "plt.title('Global Sales of Gaming Platforms')\n",
    "plt.ylabel('Global_Sales')"
   ]
  },
  {
   "cell_type": "markdown",
   "metadata": {},
   "source": [
    "The user count plot also follows the timeline of generation, platform from each generation peaks at a different time. However, we notice that there are dramatic increases in the user number over generations."
   ]
  },
  {
   "cell_type": "code",
   "execution_count": null,
   "metadata": {
    "scrolled": true
   },
   "outputs": [],
   "source": [
    "ps_rating = pd.pivot_table(ps, index='Platform', columns='Rating', values='Global_Sales', aggfunc=np.sum)\n",
    "ps_rating"
   ]
  },
  {
   "cell_type": "code",
   "execution_count": null,
   "metadata": {
    "scrolled": true
   },
   "outputs": [],
   "source": [
    "plt.figure(figsize=(15,8))\n",
    "ps_rating.plot(kind='bar', stacked=True, colormap='rainbow')\n",
    "plt.title('Platform Sales by Rating')\n",
    "plt.ylabel('Global Sales')\n",
    "plt.xticks(rotation='horizontal')\n",
    "plt.show()"
   ]
  },
  {
   "cell_type": "markdown",
   "metadata": {},
   "source": [
    "Each platform has its preference in Rating group. We will use ratio of each genre's share over the total global sale of the platform to compare their preferences."
   ]
  },
  {
   "cell_type": "code",
   "execution_count": null,
   "metadata": {},
   "outputs": [],
   "source": [
    "ps_rating_percentage = ps_rating.T/ps_rating.sum(axis=1)\n",
    "ps_rating_percentage.T"
   ]
  },
  {
   "cell_type": "code",
   "execution_count": null,
   "metadata": {},
   "outputs": [],
   "source": [
    "plt.figure(figsize=(15,8))\n",
    "ps_rating_percentage.T.plot(kind='bar', stacked=True, colormap='rainbow')\n",
    "plt.title('Platform Sales Percentage by Rating')\n",
    "plt.ylabel('Global Sales')\n",
    "plt.legend(bbox_to_anchor=(1, 1))\n",
    "plt.xticks(rotation='horizontal')\n",
    "plt.show()"
   ]
  },
  {
   "cell_type": "markdown",
   "metadata": {},
   "source": [
    "It seems that Playstation has been shifting its targeting user group from teenagers to the mature."
   ]
  },
  {
   "cell_type": "code",
   "execution_count": null,
   "metadata": {},
   "outputs": [],
   "source": [
    "ps_user_score = pd.pivot_table(ps, index='Year_of_Release', columns='Platform', values='User_Score', aggfunc=np.mean)\n",
    "ps_user_score"
   ]
  },
  {
   "cell_type": "code",
   "execution_count": null,
   "metadata": {
    "scrolled": true
   },
   "outputs": [],
   "source": [
    "plt.figure()\n",
    "ps_user_score.plot()\n",
    "plt.title('Platform User Score by Year')\n",
    "plt.ylabel('User Score')\n",
    "plt.show()"
   ]
  },
  {
   "cell_type": "markdown",
   "metadata": {},
   "source": [
    "The average user scores for games has been decreases over years. Users are less satisfied with games on newer generations of platforms."
   ]
  },
  {
   "cell_type": "code",
   "execution_count": null,
   "metadata": {
    "scrolled": true
   },
   "outputs": [],
   "source": [
    "ps_critic_score = pd.pivot_table(ps, index='Year_of_Release', columns='Platform', values='Critic_Score', aggfunc=np.mean)\n",
    "ps_critic_score"
   ]
  },
  {
   "cell_type": "code",
   "execution_count": null,
   "metadata": {
    "scrolled": true
   },
   "outputs": [],
   "source": [
    "plt.figure()\n",
    "ps_critic_score.plot()\n",
    "plt.title('Platform Critic Score by Year')\n",
    "plt.ylabel('Critic Score')\n",
    "plt.show()"
   ]
  },
  {
   "cell_type": "markdown",
   "metadata": {},
   "source": [
    "The critics, on the other hand, has become more satisfied with games on newer generations of platforms."
   ]
  },
  {
   "cell_type": "code",
   "execution_count": null,
   "metadata": {},
   "outputs": [],
   "source": [
    "import pandas as pd\n",
    "import numpy as np\n",
    "import plotly\n",
    "plotly.tools.set_credentials_file(username='sherry9788', api_key='Cw40WD6lRwalI8wtPd72')\n",
    "import plotly.plotly as py\n",
    "import plotly.graph_objs as go\n",
    "import seaborn as sns\n",
    "import matplotlib.pyplot as plt"
   ]
  },
  {
   "cell_type": "code",
   "execution_count": null,
   "metadata": {
    "scrolled": true
   },
   "outputs": [],
   "source": [
    "df = pd.read_csv('Video_Games_Sales_as_at_22_Dec_2016.csv')\n",
    "df.shape"
   ]
  },
  {
   "cell_type": "code",
   "execution_count": null,
   "metadata": {},
   "outputs": [],
   "source": [
    "df.head()"
   ]
  },
  {
   "cell_type": "code",
   "execution_count": null,
   "metadata": {},
   "outputs": [],
   "source": [
    "df.info()"
   ]
  },
  {
   "cell_type": "markdown",
   "metadata": {},
   "source": [
    "## Variables"
   ]
  },
  {
   "cell_type": "code",
   "execution_count": null,
   "metadata": {
    "scrolled": true
   },
   "outputs": [],
   "source": [
    "df.isna().sum()"
   ]
  },
  {
   "cell_type": "code",
   "execution_count": null,
   "metadata": {},
   "outputs": [],
   "source": [
    "df.columns"
   ]
  },
  {
   "cell_type": "code",
   "execution_count": null,
   "metadata": {
    "scrolled": false
   },
   "outputs": [],
   "source": [
    "df2 = df.copy().dropna()\n",
    "df2.shape\n",
    "df2.info()"
   ]
  },
  {
   "cell_type": "code",
   "execution_count": null,
   "metadata": {
    "scrolled": true
   },
   "outputs": [],
   "source": [
    "df2.describe()"
   ]
  },
  {
   "cell_type": "markdown",
   "metadata": {},
   "source": [
    "## Name"
   ]
  },
  {
   "cell_type": "code",
   "execution_count": null,
   "metadata": {},
   "outputs": [],
   "source": [
    "df.Name.nunique()"
   ]
  },
  {
   "cell_type": "markdown",
   "metadata": {},
   "source": [
    "Not every one is unique, check to see what the duplicates look like"
   ]
  },
  {
   "cell_type": "code",
   "execution_count": null,
   "metadata": {
    "scrolled": true
   },
   "outputs": [],
   "source": [
    "df[df.Name==df[df.Name.duplicated()].Name.values[0]]"
   ]
  },
  {
   "cell_type": "code",
   "execution_count": null,
   "metadata": {},
   "outputs": [],
   "source": [
    "df2.Platform.unique()"
   ]
  },
  {
   "cell_type": "markdown",
   "metadata": {},
   "source": [
    "These are the games that have versions across multiple platforms."
   ]
  },
  {
   "cell_type": "markdown",
   "metadata": {},
   "source": [
    "## Platform"
   ]
  },
  {
   "cell_type": "code",
   "execution_count": null,
   "metadata": {
    "scrolled": true
   },
   "outputs": [],
   "source": [
    "data = [go.Histogram(x=df2.Platform)]\n",
    "py.iplot(data, filename='Platform Frequency')"
   ]
  },
  {
   "cell_type": "code",
   "execution_count": null,
   "metadata": {},
   "outputs": [],
   "source": [
    "platform = df2.Platform.value_counts()\n",
    "print(platform)"
   ]
  },
  {
   "cell_type": "code",
   "execution_count": null,
   "metadata": {},
   "outputs": [],
   "source": [
    "plt.figure(figsize=(15,5))\n",
    "sns.barplot(platform.index, platform.values, alpha=0.8)\n",
    "plt.title('Platform freq')\n",
    "plt.ylabel('Number of Occurrences')\n",
    "plt.xlabel('Platform')\n",
    "plt.show()"
   ]
  },
  {
   "cell_type": "markdown",
   "metadata": {},
   "source": [
    "## Genre"
   ]
  },
  {
   "cell_type": "code",
   "execution_count": null,
   "metadata": {
    "scrolled": false
   },
   "outputs": [],
   "source": [
    "df2.Genre.unique()"
   ]
  },
  {
   "cell_type": "code",
   "execution_count": null,
   "metadata": {
    "scrolled": false
   },
   "outputs": [],
   "source": [
    "genre = df2.Genre.value_counts()\n",
    "print(genre)"
   ]
  },
  {
   "cell_type": "code",
   "execution_count": null,
   "metadata": {
    "scrolled": true
   },
   "outputs": [],
   "source": [
    "plt.figure(figsize=(15,5))\n",
    "sns.barplot(genre.index, genre.values, alpha=0.8)\n",
    "plt.title('Genre freq')\n",
    "plt.ylabel('Number of Occurrences')\n",
    "plt.xlabel('Genre')\n",
    "plt.show()"
   ]
  },
  {
   "cell_type": "markdown",
   "metadata": {},
   "source": [
    "## Publisher"
   ]
  },
  {
   "cell_type": "code",
   "execution_count": null,
   "metadata": {},
   "outputs": [],
   "source": [
    "df2.Publisher.unique()"
   ]
  },
  {
   "cell_type": "code",
   "execution_count": null,
   "metadata": {},
   "outputs": [],
   "source": [
    "len(df2.Publisher.unique())"
   ]
  },
  {
   "cell_type": "code",
   "execution_count": null,
   "metadata": {},
   "outputs": [],
   "source": [
    "df2.Publisher.value_counts().iloc[:40]"
   ]
  },
  {
   "cell_type": "code",
   "execution_count": null,
   "metadata": {},
   "outputs": [],
   "source": [
    "plt.figure(figsize=(15, 4))\n",
    "sns.countplot(df2.Publisher, order=df2.Publisher.value_counts().iloc[:15].index)\n",
    "plt.xticks(rotation=20)"
   ]
  },
  {
   "cell_type": "markdown",
   "metadata": {},
   "source": [
    "## Year of Release"
   ]
  },
  {
   "cell_type": "code",
   "execution_count": null,
   "metadata": {},
   "outputs": [],
   "source": [
    "np.sort(df2.Year_of_Release.unique())"
   ]
  },
  {
   "cell_type": "code",
   "execution_count": null,
   "metadata": {},
   "outputs": [],
   "source": [
    "df2.Year_of_Release = df2.Year_of_Release.astype(int)"
   ]
  },
  {
   "cell_type": "code",
   "execution_count": null,
   "metadata": {},
   "outputs": [],
   "source": [
    "plt.figure(figsize=(15, 6))\n",
    "sns.distplot(df2.Year_of_Release, kde = False, bins=df2.Year_of_Release.nunique())"
   ]
  },
  {
   "cell_type": "markdown",
   "metadata": {},
   "source": [
    "## Critic_Score, Critic_Count, User_Score, User_Count"
   ]
  },
  {
   "cell_type": "code",
   "execution_count": null,
   "metadata": {
    "scrolled": true
   },
   "outputs": [],
   "source": [
    "df2.User_Score.unique()"
   ]
  },
  {
   "cell_type": "code",
   "execution_count": null,
   "metadata": {},
   "outputs": [],
   "source": [
    "df2.User_Score = df2.User_Score.astype(float)\n",
    "print(df2.User_Score.max())\n",
    "print(df2.User_Score.min())"
   ]
  },
  {
   "cell_type": "code",
   "execution_count": null,
   "metadata": {},
   "outputs": [],
   "source": [
    "df2.User_Count = df2.User_Count.astype(int)\n",
    "print(df2.User_Count.max())\n",
    "print(df2.User_Count.min())"
   ]
  },
  {
   "cell_type": "code",
   "execution_count": null,
   "metadata": {},
   "outputs": [],
   "source": [
    "df2.Critic_Score = df2.Critic_Score.astype(float)\n",
    "print(df2.Critic_Score.max())\n",
    "print(df2.Critic_Score.min())"
   ]
  },
  {
   "cell_type": "code",
   "execution_count": null,
   "metadata": {
    "scrolled": false
   },
   "outputs": [],
   "source": [
    "df2.Critic_Count = df2.Critic_Count.astype(int)\n",
    "print(df2.Critic_Count.max())\n",
    "print(df2.Critic_Count.min())"
   ]
  },
  {
   "cell_type": "code",
   "execution_count": null,
   "metadata": {},
   "outputs": [],
   "source": [
    "plt.figure(figsize=(15, 8))\n",
    "plt.subplot(2,2,1)\n",
    "sns.distplot(df2.Critic_Score)\n",
    "\n",
    "plt.subplot(2,2,2)\n",
    "sns.distplot(df2.User_Score)\n",
    "\n",
    "plt.subplot(2,2,3)\n",
    "sns.distplot(df2.Critic_Count)\n",
    "\n",
    "plt.subplot(2,2,4)\n",
    "sns.distplot(df2.User_Count)"
   ]
  },
  {
   "cell_type": "markdown",
   "metadata": {},
   "source": [
    "## Developer"
   ]
  },
  {
   "cell_type": "code",
   "execution_count": null,
   "metadata": {},
   "outputs": [],
   "source": [
    "df2.Developer.unique()"
   ]
  },
  {
   "cell_type": "code",
   "execution_count": null,
   "metadata": {},
   "outputs": [],
   "source": [
    "len(df2.Developer.unique())"
   ]
  },
  {
   "cell_type": "code",
   "execution_count": null,
   "metadata": {},
   "outputs": [],
   "source": [
    "plt.figure(figsize=(15, 4))\n",
    "sns.countplot(df.Developer, order=df.Developer.value_counts().iloc[:15].index)\n",
    "plt.xticks(rotation=15)"
   ]
  },
  {
   "cell_type": "code",
   "execution_count": null,
   "metadata": {},
   "outputs": [],
   "source": [
    "sony_studio = df2.loc[(df2.Publisher.isna()==False) & (df2.Publisher.str.contains('Sony')), 'Developer'].value_counts()\n",
    "print(sony_studio[np.arange(10)])"
   ]
  },
  {
   "cell_type": "code",
   "execution_count": null,
   "metadata": {},
   "outputs": [],
   "source": [
    "len(sony_studio)"
   ]
  },
  {
   "cell_type": "markdown",
   "metadata": {},
   "source": [
    "## Rating"
   ]
  },
  {
   "cell_type": "code",
   "execution_count": null,
   "metadata": {
    "scrolled": true
   },
   "outputs": [],
   "source": [
    "np.sort(df2.Rating.unique())"
   ]
  },
  {
   "cell_type": "code",
   "execution_count": null,
   "metadata": {},
   "outputs": [],
   "source": [
    "rating = df2.Rating.value_counts()\n",
    "print(rating)"
   ]
  },
  {
   "cell_type": "code",
   "execution_count": null,
   "metadata": {},
   "outputs": [],
   "source": [
    "df2.loc[df2.Rating=='K-A', 'Rating'] = 'E' "
   ]
  },
  {
   "cell_type": "code",
   "execution_count": null,
   "metadata": {},
   "outputs": [],
   "source": [
    "rating = df2.Rating.value_counts()\n",
    "print(rating)"
   ]
  },
  {
   "cell_type": "code",
   "execution_count": null,
   "metadata": {
    "scrolled": true
   },
   "outputs": [],
   "source": [
    "plt.figure(figsize=(10,5))\n",
    "sns.barplot(rating.index, rating.values, alpha=0.8)\n",
    "plt.title('Rating freq')\n",
    "plt.ylabel('Number of Occurrences')\n",
    "plt.xlabel('Rating')\n",
    "plt.show()"
   ]
  },
  {
   "cell_type": "code",
   "execution_count": null,
   "metadata": {},
   "outputs": [],
   "source": [
    "## NA_Sales, EU_Sales, JP_Sales, Other_Sales, Global_Sales\n",
    "\n",
    "Game sales in North America (in millions of units)"
   ]
  },
  {
   "cell_type": "code",
   "execution_count": null,
   "metadata": {},
   "outputs": [],
   "source": [
    "((df.Global_Sales>=df.loc[:,['NA_Sales', 'EU_Sales', 'JP_Sales', 'Other_Sales']].sum(axis=1)*0.99) \n",
    "& (df.Global_Sales<=df.loc[:,['NA_Sales', 'EU_Sales', 'JP_Sales', 'Other_Sales']].sum(axis=1)*1.01)).head()"
   ]
  },
  {
   "cell_type": "code",
   "execution_count": null,
   "metadata": {},
   "outputs": [],
   "source": [
    "sns.pairplot(df.loc[:,['NA_Sales', 'EU_Sales', 'JP_Sales', 'Other_Sales', 'Global_Sales']])"
   ]
  },
  {
   "cell_type": "code",
   "execution_count": null,
   "metadata": {},
   "outputs": [],
   "source": []
  },
  {
   "cell_type": "markdown",
   "metadata": {},
   "source": [
    "## Exploratory Analysis of the Data"
   ]
  },
  {
   "cell_type": "markdown",
   "metadata": {},
   "source": [
    "## Genres"
   ]
  },
  {
   "cell_type": "code",
   "execution_count": null,
   "metadata": {
    "scrolled": false
   },
   "outputs": [],
   "source": [
    "df2.Genre.nunique()"
   ]
  },
  {
   "cell_type": "markdown",
   "metadata": {},
   "source": [
    "### 1) What does the critic scores and user scores of each game genre tell us?"
   ]
  },
  {
   "cell_type": "markdown",
   "metadata": {},
   "source": [
    "#### Distribution of critic Scores for each game genre"
   ]
  },
  {
   "cell_type": "code",
   "execution_count": null,
   "metadata": {
    "scrolled": false
   },
   "outputs": [],
   "source": [
    "df2_critic=df2.groupby(['Genre']).Critic_Score.mean()\n",
    "df2_critic=df2_critic.nlargest(12) #descending order of critic scores\n",
    "\n",
    "plt.figure(figsize=(13,5))\n",
    "bar=sns.barplot(df2_critic.index, df2_critic.values,alpha=0.8)\n",
    "bar.set_ylim([60,77])\n",
    "plt.ylabel(\"Critic Score\")\n",
    "plt.title(\"Critic Scores of Different Game Genres\")\n",
    "plt.show()"
   ]
  },
  {
   "cell_type": "code",
   "execution_count": null,
   "metadata": {
    "scrolled": false
   },
   "outputs": [],
   "source": [
    "#df2.groupby(['Genre']).Critic_Count.sum()"
   ]
  },
  {
   "cell_type": "markdown",
   "metadata": {},
   "source": [
    "##### Comment"
   ]
  },
  {
   "cell_type": "markdown",
   "metadata": {},
   "source": [
    "From the plot, we can see that within all 12 genres of games, \"Sports\" games have the highest average critic score. The genres of \"Strategy\" and \"Role-Playing\" come after that. On the other side, the genre of \"Adventure\" has the lowest mean critic score. And the genres of \"Misc\" and \"Action\" have the second and third lowest mean critic scores."
   ]
  },
  {
   "cell_type": "markdown",
   "metadata": {},
   "source": [
    "#### Distribution of user scores for each game genre"
   ]
  },
  {
   "cell_type": "code",
   "execution_count": null,
   "metadata": {
    "scrolled": false
   },
   "outputs": [],
   "source": [
    "df2[\"User_Score_float\"]=df2.User_Score.astype(float)\n",
    "df2_user=df2.groupby(['Genre']).User_Score_float.mean()\n",
    "df2_user=df2_user.nlargest(12) #descending order\n",
    "\n",
    "plt.figure(figsize=(13,5))\n",
    "bar2=sns.barplot(df2_user.index, df2_user.values,alpha=0.8)\n",
    "bar2.set_ylim([6.5,8])\n",
    "plt.ylabel(\"User Score\")\n",
    "plt.title(\"User Scores of Different Game Genres\")\n"
   ]
  },
  {
   "cell_type": "code",
   "execution_count": null,
   "metadata": {
    "scrolled": false
   },
   "outputs": [],
   "source": [
    "#df2.groupby(['Genre']).User_Count.sum()"
   ]
  },
  {
   "cell_type": "markdown",
   "metadata": {},
   "source": [
    "##### Comment"
   ]
  },
  {
   "cell_type": "markdown",
   "metadata": {},
   "source": [
    "Among all 12 genres, the genre of \"Role-Playing\" has the highest mean user score. The genres of \"Platform\" and \"Strategy\" come as the second and the third highest. Yet, genres of \"Actions\", \"Shooter\" and \"Misc\" don't seem to perform well with this standard because they are on the other side of the scale, meaning they have lower average user scores."
   ]
  },
  {
   "cell_type": "markdown",
   "metadata": {},
   "source": [
    "#### Comparison between User Scores and Critic Scores"
   ]
  },
  {
   "cell_type": "code",
   "execution_count": null,
   "metadata": {
    "scrolled": false
   },
   "outputs": [],
   "source": [
    "df2_forscores=df2.copy()\n",
    "del(df2_forscores[\"User_Score\"])\n",
    "df2_forscores[\"User_Score\"]=df2.User_Score_float*10\n",
    "\n",
    "scores=df2_forscores.groupby('Genre')[['User_Score','Critic_Score']].agg('mean')\n",
    "scores[\"difference\"] = scores.User_Score-scores.Critic_Score\n",
    "print(scores)"
   ]
  },
  {
   "cell_type": "code",
   "execution_count": null,
   "metadata": {},
   "outputs": [],
   "source": [
    "df2_scoresdiff=scores.difference.nlargest(12) #descending order\n",
    "\n",
    "plt.figure(figsize=(13,5))\n",
    "sns.barplot(df2_scoresdiff.index, df2_scoresdiff.values,alpha=0.8)\n",
    "plt.ylabel(\"Difference between User Score and Critic Score\")\n",
    "plt.xlabel(\"Genre\")\n",
    "plt.title(\"User Score and Critic Score Differences over Game Genres\")"
   ]
  },
  {
   "cell_type": "markdown",
   "metadata": {},
   "source": [
    "##### Comment"
   ]
  },
  {
   "cell_type": "markdown",
   "metadata": {},
   "source": [
    "In order to compare the critic scores and user scores of different genres, we have to multiply the user scores by 10 since the they are originally in the scale of 10. We then made the plot by subtracting the critic scores from user scores.\n",
    "\n",
    "\n",
    "From the plot, we can see that user scores are generally higher than critic scores in most categories, with the exception of the genres \"Shooter\" and \"Sports.\"\n",
    "\n",
    "In terms of the difference between user scores and critic scores, we can see that “Adventure” games have higher user scores than critic scores and the difference there is quite large. On the other hand, “Sports” games have much higher critic scores than user scores."
   ]
  },
  {
   "cell_type": "markdown",
   "metadata": {},
   "source": [
    "#### Critic scores and users scores of genres over the years"
   ]
  },
  {
   "cell_type": "code",
   "execution_count": null,
   "metadata": {
    "scrolled": false
   },
   "outputs": [],
   "source": [
    "#plt.plot(scores.index,scores.User_Score, label='User Score')\n",
    "#plt.plot(scores.index,scores.Critic_Score, label='Critic Score')\n",
    "\n",
    "score_over_years=pd.pivot_table(df2_forscores[['Year_of_Release','Genre','Critic_Score']],index=['Year_of_Release'],columns='Genre',values='Critic_Score',aggfunc='mean')\n",
    "score_over_years.fillna(0)\n",
    "\n",
    "score_over_years2=pd.pivot_table(df2_forscores[['Year_of_Release','Genre','User_Score']],index=['Year_of_Release'],columns='Genre',values='User_Score',aggfunc='mean')\n",
    "score_over_years2.fillna(0)\n",
    "\n",
    "plt.figure(figsize=[13,8])\n",
    "plt.plot(score_over_years.loc[:,'Action'])\n",
    "plt.plot(score_over_years.loc[:,'Adventure'])\n",
    "plt.plot(score_over_years.loc[:,'Fighting'])\n",
    "plt.plot(score_over_years.loc[:,'Misc'])\n",
    "plt.plot(score_over_years.loc[:,'Platform'])\n",
    "plt.plot(score_over_years.loc[:,'Puzzle'])\n",
    "plt.plot(score_over_years.loc[:,'Racing'])\n",
    "plt.plot(score_over_years.loc[:,'Role-Playing'])\n",
    "plt.plot(score_over_years.loc[:,'Shooter'])\n",
    "plt.plot(score_over_years.loc[:,'Simulation'])\n",
    "plt.plot(score_over_years.loc[:,'Sports'])\n",
    "plt.plot(score_over_years.loc[:,'Strategy'])\n",
    "plt.legend(prop={'size':10})\n",
    "plt.xlim((1990, 2016)) \n",
    "plt.xlabel('Year',size=10)\n",
    "plt.ylabel('Critic Scores',size=10)\n",
    "plt.title(\"Critic Scores for each genre over the years\",size=20)\n",
    "\n",
    "plt.figure(figsize=[13,8])\n",
    "plt.plot(score_over_years2.loc[:,'Action'])\n",
    "plt.plot(score_over_years2.loc[:,'Adventure'])\n",
    "plt.plot(score_over_years2.loc[:,'Fighting'])\n",
    "plt.plot(score_over_years2.loc[:,'Misc'])\n",
    "plt.plot(score_over_years2.loc[:,'Platform'])\n",
    "plt.plot(score_over_years2.loc[:,'Puzzle'])\n",
    "plt.plot(score_over_years2.loc[:,'Racing'])\n",
    "plt.plot(score_over_years2.loc[:,'Role-Playing'])\n",
    "plt.plot(score_over_years2.loc[:,'Shooter'])\n",
    "plt.plot(score_over_years2.loc[:,'Simulation'])\n",
    "plt.plot(score_over_years2.loc[:,'Sports'])\n",
    "plt.plot(score_over_years2.loc[:,'Strategy'])\n",
    "plt.legend(loc='lower left')\n",
    "plt.xlim((1990, 2016)) \n",
    "plt.xlabel('Year',size=10)\n",
    "plt.ylabel('Critic Scores',size=10)\n",
    "plt.title(\"User scores for each genre over the years\",size=20)\n",
    "plt.show()"
   ]
  },
  {
   "cell_type": "markdown",
   "metadata": {},
   "source": [
    "##### Comment"
   ]
  },
  {
   "cell_type": "markdown",
   "metadata": {},
   "source": [
    "The distribution of critic scores and user scores for different game genres over the years seem to have a general shape.\n",
    "\n",
    "There is a big decline from around 90 to 70 in the critic scores for most genres over the years 1995-2007, followed by a small increase after that. As for the user scores, most genres also have a decline across the years starting generally."
   ]
  },
  {
   "cell_type": "markdown",
   "metadata": {},
   "source": [
    "### 2) What does the number of game releases for each genre tell us?"
   ]
  },
  {
   "cell_type": "code",
   "execution_count": null,
   "metadata": {
    "scrolled": true
   },
   "outputs": [],
   "source": [
    "genre = df2.Genre.value_counts()\n",
    "print(genre)"
   ]
  },
  {
   "cell_type": "code",
   "execution_count": null,
   "metadata": {
    "scrolled": false
   },
   "outputs": [],
   "source": [
    "plt.figure(figsize=(13,5))\n",
    "sns.barplot(genre.index, genre.values, alpha=0.8)\n",
    "plt.title('Number of Game Releases for each Genre')\n",
    "plt.ylabel('Number of Occurrences')\n",
    "plt.xlabel('Genre')\n",
    "plt.show()"
   ]
  },
  {
   "cell_type": "markdown",
   "metadata": {},
   "source": [
    "##### Comment"
   ]
  },
  {
   "cell_type": "markdown",
   "metadata": {},
   "source": [
    "Among all 12 genres, the genre of \"Action\" has largest number of releases. There are much more releases of \"Action\" genre games than the rest. In contrast, the genre of \"Puzzle\" has the smallest number of releases."
   ]
  },
  {
   "cell_type": "markdown",
   "metadata": {},
   "source": [
    "### 3) What does the game sales for game genres tell us?"
   ]
  },
  {
   "cell_type": "markdown",
   "metadata": {},
   "source": [
    "#### total sales over genres"
   ]
  },
  {
   "cell_type": "code",
   "execution_count": null,
   "metadata": {
    "scrolled": false
   },
   "outputs": [],
   "source": [
    "df2_sales=df2.groupby(['Genre']).Global_Sales.sum()\n",
    "df2_sales=df2_sales.nlargest(12) #descending order\n",
    "print(df2_sales)\n",
    "\n",
    "plt.figure(figsize=(13,5))\n",
    "sns.barplot(df2_sales.index, df2_sales.values, alpha=0.8)\n",
    "plt.title(\"Total Global Sales over Genre\")\n",
    "plt.ylabel(\"Global Scores\")\n",
    "plt.show()"
   ]
  },
  {
   "cell_type": "markdown",
   "metadata": {},
   "source": [
    "##### Comment"
   ]
  },
  {
   "cell_type": "markdown",
   "metadata": {},
   "source": [
    "The genre of Action has highest global sales and the genre of Strategy has the lowest global sales."
   ]
  },
  {
   "cell_type": "markdown",
   "metadata": {},
   "source": [
    "#### Sales of different regions over game genres"
   ]
  },
  {
   "cell_type": "code",
   "execution_count": null,
   "metadata": {
    "scrolled": false
   },
   "outputs": [],
   "source": [
    "genre_sales=df2.groupby('Genre')[['NA_Sales','EU_Sales','JP_Sales','Other_Sales']].agg('sum')\n",
    "print(genre_sales)\n",
    "plt.figure(figsize=[20,10])\n",
    "genre_sales.plot(kind='bar',stacked=True)\n",
    "plt.title(\"Each genre's sales by region\")\n",
    "plt.ylabel('Sales')"
   ]
  },
  {
   "cell_type": "code",
   "execution_count": null,
   "metadata": {
    "scrolled": true
   },
   "outputs": [],
   "source": [
    "df2_GenreSales = df2[['Genre','NA_Sales','EU_Sales','JP_Sales','Other_Sales']]\n",
    "df2_GenreSales = pd.melt(df2_GenreSales, id_vars=\"Genre\", var_name=\"Sales_Area\", value_name=\"Sales_Values\")"
   ]
  },
  {
   "cell_type": "code",
   "execution_count": null,
   "metadata": {
    "scrolled": true
   },
   "outputs": [],
   "source": [
    "df2_NA = df2_GenreSales.loc[df2_GenreSales.Sales_Area == \"NA_Sales\"]\n",
    "df2_EU = df2_GenreSales.loc[df2_GenreSales.Sales_Area == \"EU_Sales\"]\n",
    "df2_JP = df2_GenreSales.loc[df2_GenreSales.Sales_Area == \"JP_Sales\"]\n",
    "df2_Other = df2_GenreSales.loc[df2_GenreSales.Sales_Area == \"Other_Sales\"]\n",
    "df2_NA.head()\n",
    "\n",
    "genre_sales_NA = df2_NA.groupby('Genre').Sales_Values.sum()\n",
    "genre_sales_EU = df2_EU.groupby('Genre').Sales_Values.sum()\n",
    "genre_sales_JP = df2_JP.groupby('Genre').Sales_Values.sum()\n",
    "genre_sales_Other = df2_Other.groupby('Genre').Sales_Values.sum()"
   ]
  },
  {
   "cell_type": "code",
   "execution_count": null,
   "metadata": {},
   "outputs": [],
   "source": [
    "plt.figure(figsize=[13,8])\n",
    "plt.plot(genre_sales_NA.index,genre_sales_NA.values, label='NA_Sales')\n",
    "plt.plot(genre_sales_EU.index,genre_sales_EU.values, label='EU Sales')\n",
    "plt.plot(genre_sales_JP.index,genre_sales_JP.values, label='JP Sales')\n",
    "plt.plot(genre_sales_Other.index,genre_sales_Other.values, label='Other Sales')\n",
    "plt.legend(loc='upper center')\n",
    "plt.xlabel('Genre',size=12)\n",
    "plt.ylabel('Sales',size=12)\n",
    "plt.title(\"Sales of Different Regions Over Genre\",size=10)\n",
    "plt.show()"
   ]
  },
  {
   "cell_type": "code",
   "execution_count": null,
   "metadata": {
    "scrolled": false
   },
   "outputs": [],
   "source": [
    "plt.figure(figsize=(12,3))\n",
    "genre_sales_NA = df2_NA.groupby('Genre').Sales_Values.sum()\n",
    "genre_sales_NA=genre_sales_NA.nlargest(12)\n",
    "sns.barplot(genre_sales_NA.index, genre_sales_NA.values, alpha = 0.8, color = \"purple\")\n",
    "plt.title(\"NA Sales Over Genre\")\n",
    "plt.show()\n",
    "\n",
    "plt.figure(figsize=(12,3))\n",
    "genre_sales_EU = df2_EU.groupby('Genre').Sales_Values.sum()\n",
    "genre_sales_EU=genre_sales_EU.nlargest(12)\n",
    "sns.barplot(genre_sales_EU.index, genre_sales_EU.values, alpha = 0.8, color = \"blue\")\n",
    "plt.title(\"EU Sales Over Genre\")\n",
    "plt.show()\n",
    "\n",
    "plt.figure(figsize=(12,3))\n",
    "genre_sales_JP = df2_JP.groupby('Genre').Sales_Values.sum()\n",
    "genre_sales_JP=genre_sales_JP.nlargest(12)\n",
    "sns.barplot(genre_sales_JP.index, genre_sales_JP.values, alpha = 0.8, color = \"red\")\n",
    "plt.title(\"JP Sales Over Genre\")\n",
    "plt.show()\n",
    "\n",
    "plt.figure(figsize=(12,3))\n",
    "genre_sales_Other = df2_Other.groupby('Genre').Sales_Values.sum()\n",
    "genre_sales_Other=genre_sales_Other.nlargest(12)\n",
    "sns.barplot(genre_sales_Other.index, genre_sales_Other.values, alpha = 0.8, color = \"yellow\")\n",
    "plt.title(\"Other Sales Over Genre\")\n",
    "plt.show()"
   ]
  },
  {
   "cell_type": "markdown",
   "metadata": {},
   "source": [
    "##### Comment"
   ]
  },
  {
   "cell_type": "markdown",
   "metadata": {},
   "source": [
    "When it comes to the distribution of sales of different regions over genre, there are some similarities as well as differences. The sales of different genres come quite similar among NA, EU and other regions while the sales in Japan is quite different from the three.\n",
    "\n",
    "From the barplots, we can see that in all regions, it is either the genre \"Puzzle\" or \"Strategy\" that has the lowest sales. Moreover, the genres of \"Adventure,\" \"Strategy\" and \"Puzzle\" always come as the lowest three. \n",
    "\n",
    "However, the genres with higher sales have more differences across different regions. For example, while Action genre has the highest sales in most regions, it is the second highest in Japan, exceeded by the genre of \"Role-Playing.\" In the case of \"Role-Playing\" genre, while it is the highest in Japan, it is only the 6th highest in other regions. This might be related to their thriving industries of animations."
   ]
  },
  {
   "cell_type": "markdown",
   "metadata": {},
   "source": [
    "### 4) Number of game releases over the years for each genre"
   ]
  },
  {
   "cell_type": "code",
   "execution_count": null,
   "metadata": {
    "scrolled": true
   },
   "outputs": [],
   "source": [
    "df2_forrelease=df2.groupby([\"Year_of_Release\",\"Genre\"]).Name.count().unstack()\n",
    "df2_forrelease.head()\n",
    "\n",
    "plt.figure(figsize=(10,15))\n",
    "df2_forrelease.plot(kind='bar', stacked=True)\n",
    "plt.title(\"User score and Critic score of different genres\")\n",
    "plt.ylabel('Scores')"
   ]
  },
  {
   "cell_type": "markdown",
   "metadata": {},
   "source": [
    "##### Comment"
   ]
  },
  {
   "cell_type": "markdown",
   "metadata": {},
   "source": [
    "From the bar plot above, we can see that the number of released games went to a peak at the year 2008 and 2009, with the genres of \"Action,\" \"Sports\" and \"Shooter\" being the largest."
   ]
  },
  {
   "cell_type": "code",
   "execution_count": null,
   "metadata": {},
   "outputs": [],
   "source": [
    "import pandas as pd\n",
    "import numpy as np\n",
    "import plotly\n",
    "plotly.tools.set_credentials_file(username='sherry9788', api_key='Cw40WD6lRwalI8wtPd72')\n",
    "import plotly.plotly as py\n",
    "import plotly.graph_objs as go\n",
    "import seaborn as sns\n",
    "import matplotlib.pyplot as plt"
   ]
  },
  {
   "cell_type": "code",
   "execution_count": null,
   "metadata": {},
   "outputs": [],
   "source": [
    "df = pd.read_csv('Video_Games_Sales_as_at_22_Dec_2016.csv')\n",
    "df.shape"
   ]
  },
  {
   "cell_type": "code",
   "execution_count": null,
   "metadata": {},
   "outputs": [],
   "source": [
    "df.head()"
   ]
  },
  {
   "cell_type": "code",
   "execution_count": null,
   "metadata": {},
   "outputs": [],
   "source": [
    "df.info()"
   ]
  },
  {
   "cell_type": "markdown",
   "metadata": {},
   "source": [
    "## Variables"
   ]
  },
  {
   "cell_type": "code",
   "execution_count": null,
   "metadata": {},
   "outputs": [],
   "source": [
    "df.isna().sum()"
   ]
  },
  {
   "cell_type": "code",
   "execution_count": null,
   "metadata": {},
   "outputs": [],
   "source": [
    "df.columns"
   ]
  },
  {
   "cell_type": "code",
   "execution_count": null,
   "metadata": {},
   "outputs": [],
   "source": [
    "df2 = df.copy().dropna()\n",
    "df2.shape\n",
    "df2.info()"
   ]
  },
  {
   "cell_type": "code",
   "execution_count": null,
   "metadata": {},
   "outputs": [],
   "source": [
    "df2.describe()"
   ]
  },
  {
   "cell_type": "markdown",
   "metadata": {},
   "source": [
    "## Name"
   ]
  },
  {
   "cell_type": "code",
   "execution_count": null,
   "metadata": {},
   "outputs": [],
   "source": [
    "df.Name.nunique()"
   ]
  },
  {
   "cell_type": "markdown",
   "metadata": {},
   "source": [
    "Not every one is unique, check to see what the duplicates look like"
   ]
  },
  {
   "cell_type": "code",
   "execution_count": null,
   "metadata": {},
   "outputs": [],
   "source": [
    "df[df.Name==df[df.Name.duplicated()].Name.values[0]]"
   ]
  },
  {
   "cell_type": "code",
   "execution_count": null,
   "metadata": {},
   "outputs": [],
   "source": [
    "df2.Platform.unique()"
   ]
  },
  {
   "cell_type": "markdown",
   "metadata": {},
   "source": [
    "These are the games that have versions across multiple platforms."
   ]
  },
  {
   "cell_type": "markdown",
   "metadata": {},
   "source": [
    "## Platform"
   ]
  },
  {
   "cell_type": "code",
   "execution_count": null,
   "metadata": {
    "scrolled": true
   },
   "outputs": [],
   "source": [
    "data = [go.Histogram(x=df2.Platform)]\n",
    "py.iplot(data, filename='Platform Frequency')"
   ]
  },
  {
   "cell_type": "code",
   "execution_count": null,
   "metadata": {},
   "outputs": [],
   "source": [
    "platform = df2.Platform.value_counts()\n",
    "print(platform)"
   ]
  },
  {
   "cell_type": "code",
   "execution_count": null,
   "metadata": {},
   "outputs": [],
   "source": [
    "plt.figure(figsize=(15,5))\n",
    "sns.barplot(platform.index, platform.values, alpha=0.8)\n",
    "plt.title('Platform freq')\n",
    "plt.ylabel('Number of Occurrences')\n",
    "plt.xlabel('Platform')\n",
    "plt.show()"
   ]
  },
  {
   "cell_type": "markdown",
   "metadata": {},
   "source": [
    "## Genre"
   ]
  },
  {
   "cell_type": "code",
   "execution_count": null,
   "metadata": {},
   "outputs": [],
   "source": [
    "df2.Genre.unique()"
   ]
  },
  {
   "cell_type": "code",
   "execution_count": null,
   "metadata": {},
   "outputs": [],
   "source": [
    "genre = df2.Genre.value_counts()\n",
    "print(genre)"
   ]
  },
  {
   "cell_type": "code",
   "execution_count": null,
   "metadata": {
    "scrolled": true
   },
   "outputs": [],
   "source": [
    "plt.figure(figsize=(15,5))\n",
    "sns.barplot(genre.index, genre.values, alpha=0.8)\n",
    "plt.title('Genre freq')\n",
    "plt.ylabel('Number of Occurrences')\n",
    "plt.xlabel('Genre')\n",
    "plt.show()"
   ]
  },
  {
   "cell_type": "markdown",
   "metadata": {},
   "source": [
    "## Publisher"
   ]
  },
  {
   "cell_type": "code",
   "execution_count": null,
   "metadata": {},
   "outputs": [],
   "source": [
    "df2.Publisher.nunique()"
   ]
  },
  {
   "cell_type": "code",
   "execution_count": null,
   "metadata": {},
   "outputs": [],
   "source": [
    "df2.Publisher.value_counts().iloc[:30]"
   ]
  },
  {
   "cell_type": "code",
   "execution_count": null,
   "metadata": {},
   "outputs": [],
   "source": [
    "plt.figure(figsize=(15, 4))\n",
    "sns.countplot(df2.Publisher, order=df2.Publisher.value_counts().iloc[:15].index)\n",
    "plt.xticks(rotation=20)"
   ]
  },
  {
   "cell_type": "markdown",
   "metadata": {},
   "source": [
    "## Year of Release"
   ]
  },
  {
   "cell_type": "code",
   "execution_count": null,
   "metadata": {},
   "outputs": [],
   "source": [
    "np.sort(df2.Year_of_Release.unique())"
   ]
  },
  {
   "cell_type": "code",
   "execution_count": null,
   "metadata": {},
   "outputs": [],
   "source": [
    "df2.Year_of_Release = df2.Year_of_Release.astype(int)"
   ]
  },
  {
   "cell_type": "code",
   "execution_count": null,
   "metadata": {},
   "outputs": [],
   "source": [
    "plt.figure(figsize=(15, 6))\n",
    "sns.distplot(df2.Year_of_Release, kde = False, bins=df2.Year_of_Release.nunique())"
   ]
  },
  {
   "cell_type": "markdown",
   "metadata": {},
   "source": [
    "## Critic_Score, Critic_Count, User_Score, User_Count"
   ]
  },
  {
   "cell_type": "code",
   "execution_count": null,
   "metadata": {
    "scrolled": true
   },
   "outputs": [],
   "source": [
    "df2.User_Score.unique()"
   ]
  },
  {
   "cell_type": "code",
   "execution_count": null,
   "metadata": {},
   "outputs": [],
   "source": [
    "df2.User_Score = df2.User_Score.astype(float)\n",
    "print(df2.User_Score.max())\n",
    "print(df2.User_Score.min())"
   ]
  },
  {
   "cell_type": "code",
   "execution_count": null,
   "metadata": {},
   "outputs": [],
   "source": [
    "df2.User_Count = df2.User_Count.astype(int)\n",
    "print(df2.User_Count.max())\n",
    "print(df2.User_Count.min())"
   ]
  },
  {
   "cell_type": "code",
   "execution_count": null,
   "metadata": {},
   "outputs": [],
   "source": [
    "df2.Critic_Score = df2.Critic_Score.astype(float)\n",
    "print(df2.Critic_Score.max())\n",
    "print(df2.Critic_Score.min())"
   ]
  },
  {
   "cell_type": "code",
   "execution_count": null,
   "metadata": {
    "scrolled": false
   },
   "outputs": [],
   "source": [
    "df2.Critic_Count = df2.Critic_Count.astype(int)\n",
    "print(df2.Critic_Count.max())\n",
    "print(df2.Critic_Count.min())"
   ]
  },
  {
   "cell_type": "code",
   "execution_count": null,
   "metadata": {},
   "outputs": [],
   "source": [
    "plt.figure(figsize=(15, 8))\n",
    "plt.subplot(2,2,1)\n",
    "sns.distplot(df2.Critic_Score)\n",
    "\n",
    "plt.subplot(2,2,2)\n",
    "sns.distplot(df2.User_Score)\n",
    "\n",
    "plt.subplot(2,2,3)\n",
    "sns.distplot(df2.Critic_Count)\n",
    "\n",
    "plt.subplot(2,2,4)\n",
    "sns.distplot(df2.User_Count)"
   ]
  },
  {
   "cell_type": "markdown",
   "metadata": {},
   "source": [
    "## Developer"
   ]
  },
  {
   "cell_type": "code",
   "execution_count": null,
   "metadata": {},
   "outputs": [],
   "source": [
    "df2.Developer.unique()"
   ]
  },
  {
   "cell_type": "code",
   "execution_count": null,
   "metadata": {},
   "outputs": [],
   "source": [
    "df2.Developer.nunique()"
   ]
  },
  {
   "cell_type": "code",
   "execution_count": null,
   "metadata": {},
   "outputs": [],
   "source": [
    "plt.figure(figsize=(15, 4))\n",
    "sns.countplot(df.Developer, order=df.Developer.value_counts().iloc[:15].index)\n",
    "plt.xticks(rotation=15)"
   ]
  },
  {
   "cell_type": "code",
   "execution_count": null,
   "metadata": {},
   "outputs": [],
   "source": [
    "sony_studio = df2.loc[(df2.Publisher.isna()==False) & (df2.Publisher.str.contains('Sony')), 'Developer'].value_counts()\n",
    "print(sony_studio[np.arange(10)])"
   ]
  },
  {
   "cell_type": "code",
   "execution_count": null,
   "metadata": {},
   "outputs": [],
   "source": [
    "len(sony_studio)"
   ]
  },
  {
   "cell_type": "markdown",
   "metadata": {},
   "source": [
    "## Rating"
   ]
  },
  {
   "cell_type": "code",
   "execution_count": null,
   "metadata": {},
   "outputs": [],
   "source": [
    "np.sort(df2.Rating.unique())"
   ]
  },
  {
   "cell_type": "code",
   "execution_count": null,
   "metadata": {},
   "outputs": [],
   "source": [
    "rating = df2.Rating.value_counts()\n",
    "print(rating)"
   ]
  },
  {
   "cell_type": "code",
   "execution_count": null,
   "metadata": {},
   "outputs": [],
   "source": [
    "df2.loc[df2.Rating=='K-A', 'Rating'] = 'E' "
   ]
  },
  {
   "cell_type": "code",
   "execution_count": null,
   "metadata": {},
   "outputs": [],
   "source": [
    "rating = df2.Rating.value_counts()\n",
    "print(rating)"
   ]
  },
  {
   "cell_type": "code",
   "execution_count": null,
   "metadata": {
    "scrolled": true
   },
   "outputs": [],
   "source": [
    "plt.figure(figsize=(10,5))\n",
    "sns.barplot(rating.index, rating.values, alpha=0.8)\n",
    "plt.title('Rating freq')\n",
    "plt.ylabel('Number of Occurrences')\n",
    "plt.xlabel('Rating')\n",
    "plt.show()"
   ]
  },
  {
   "cell_type": "markdown",
   "metadata": {},
   "source": [
    "## NA_Sales, EU_Sales, JP_Sales, Other_Sales, Global_Sales\n",
    "\n",
    "Game sales in North America (in millions of units)"
   ]
  },
  {
   "cell_type": "code",
   "execution_count": null,
   "metadata": {},
   "outputs": [],
   "source": [
    "((df.Global_Sales>=df.loc[:,['NA_Sales', 'EU_Sales', 'JP_Sales', 'Other_Sales']].sum(axis=1)*0.99) \n",
    "& (df.Global_Sales<=df.loc[:,['NA_Sales', 'EU_Sales', 'JP_Sales', 'Other_Sales']].sum(axis=1)*1.01)).head()"
   ]
  },
  {
   "cell_type": "code",
   "execution_count": null,
   "metadata": {},
   "outputs": [],
   "source": [
    "sns.pairplot(df.loc[:,['NA_Sales', 'EU_Sales', 'JP_Sales', 'Other_Sales', 'Global_Sales']])"
   ]
  },
  {
   "cell_type": "code",
   "execution_count": null,
   "metadata": {},
   "outputs": [],
   "source": [
    "plt.figure(figsize=(15, 12))\n",
    "plt.subplot(3,2,1)\n",
    "sns.distplot(df2.Global_Sales, kde=False)\n",
    "plt.yscale('log')\n",
    "\n",
    "plt.subplot(3,2,2)\n",
    "sns.distplot(df.NA_Sales, kde=False)\n",
    "plt.yscale('log')\n",
    "\n",
    "plt.subplot(3,2,3)\n",
    "sns.distplot(df.EU_Sales, kde=False)\n",
    "plt.yscale('log')\n",
    "\n",
    "plt.subplot(3,2,4)\n",
    "sns.distplot(df.JP_Sales, kde=False)\n",
    "plt.yscale('log')\n",
    "\n",
    "plt.subplot(3,2,5)\n",
    "sns.distplot(df.Other_Sales, kde=False)\n",
    "plt.yscale('log')\n",
    "plt.tight_layout()"
   ]
  },
  {
   "cell_type": "markdown",
   "metadata": {},
   "source": [
    "# Modeling"
   ]
  },
  {
   "cell_type": "markdown",
   "metadata": {},
   "source": [
    "# Predicting video game global sales"
   ]
  },
  {
   "cell_type": "markdown",
   "metadata": {},
   "source": [
    "## Goal\n",
    "After analyzing the data, we find the sales really interesting. Also, sales is an important metric for the success of the game. In this section, we will try to build a statistical model that can predict video games global sales based on other features from this dataset. "
   ]
  },
  {
   "cell_type": "markdown",
   "metadata": {},
   "source": [
    "## Metric\n",
    "Since the sales among different games vary a lot and is right skewed, we will evaluate our model based on Root-Mean-Squared-Error (RMSE) between the logarithm of the predicted value and the logarithm of the observed sales. (Taking logs means that errors in predicting large sales and small sales will affect the result equally.)"
   ]
  },
  {
   "cell_type": "markdown",
   "metadata": {},
   "source": [
    "## Preparations"
   ]
  },
  {
   "cell_type": "markdown",
   "metadata": {},
   "source": [
    "### Importing packages"
   ]
  },
  {
   "cell_type": "code",
   "execution_count": null,
   "metadata": {},
   "outputs": [],
   "source": [
    "from sklearn.model_selection import cross_val_score, train_test_split, RandomizedSearchCV"
   ]
  },
  {
   "cell_type": "code",
   "execution_count": null,
   "metadata": {},
   "outputs": [],
   "source": [
    "df2.head()"
   ]
  },
  {
   "cell_type": "markdown",
   "metadata": {},
   "source": [
    "# Target Variable"
   ]
  },
  {
   "cell_type": "markdown",
   "metadata": {},
   "source": [
    "Global_Sales is the variable we need to predict. So let's do some analysis on this variable first.\n",
    "\n",
    "We check its distribution. It is extremely right skewed."
   ]
  },
  {
   "cell_type": "code",
   "execution_count": null,
   "metadata": {},
   "outputs": [],
   "source": [
    "from scipy import stats\n",
    "from scipy.stats import norm, skew\n",
    "import warnings\n",
    "warnings.filterwarnings('ignore')\n",
    "\n",
    "sns.distplot(df2['Global_Sales'] , fit=norm);\n",
    "\n",
    "# Get the fitted parameters used by the function\n",
    "(mu, sigma) = norm.fit(df2['Global_Sales'])\n",
    "print( '\\n mu = {:.2f} and sigma = {:.2f}\\n'.format(mu, sigma))\n",
    "\n",
    "#Now plot the distribution\n",
    "plt.legend(['Normal dist. ($\\mu=$ {:.2f} and $\\sigma=$ {:.2f} )'.format(mu, sigma)],\n",
    "            loc='best')\n",
    "plt.ylabel('Frequency')\n",
    "plt.title('Sales distribution')\n",
    "\n",
    "#Get also the QQ-plot\n",
    "fig = plt.figure()\n",
    "res = stats.probplot(df2['Global_Sales'], plot=plt)\n",
    "plt.show()"
   ]
  },
  {
   "cell_type": "markdown",
   "metadata": {},
   "source": [
    "Also from the second graph, we noticed that there is an outlier: there is one observation that has a sales of 80 million units -- Wii Sports by Nintendo. This observation really destroyed the distribution of the sales."
   ]
  },
  {
   "cell_type": "code",
   "execution_count": null,
   "metadata": {},
   "outputs": [],
   "source": [
    "df2.loc[df2.Global_Sales>80,:]"
   ]
  },
  {
   "cell_type": "markdown",
   "metadata": {},
   "source": [
    "Thus we decided to ignore that observation."
   ]
  },
  {
   "cell_type": "code",
   "execution_count": null,
   "metadata": {},
   "outputs": [],
   "source": [
    "df2=df2.drop(0)"
   ]
  },
  {
   "cell_type": "markdown",
   "metadata": {},
   "source": [
    "# Log-transformation of the target variable"
   ]
  },
  {
   "cell_type": "markdown",
   "metadata": {},
   "source": [
    "The target variable is right skewed. As (linear) models love normally distributed data , we need to transform this variable and make it more normally distributed.\n",
    "\n",
    "Also, since we have chosen to evaluate our model based on the RMSE of the logarithm of the sales, it is natural that we take the logarithm of the sales and fit our model on the transformed values."
   ]
  },
  {
   "cell_type": "code",
   "execution_count": null,
   "metadata": {},
   "outputs": [],
   "source": [
    "#We use the numpy fuction log1p which  applies log(1+x) to all elements of the column\n",
    "y = np.log1p(df2[\"Global_Sales\"])\n",
    "\n",
    "#Check the new distribution \n",
    "sns.distplot(y , fit=norm);\n",
    "\n",
    "# Get the fitted parameters used by the function\n",
    "(mu, sigma) = norm.fit(y)\n",
    "print( '\\n mu = {:.2f} and sigma = {:.2f}\\n'.format(mu, sigma))\n",
    "\n",
    "#Now plot the distribution\n",
    "plt.legend(['Normal dist. ($\\mu=$ {:.2f} and $\\sigma=$ {:.2f} )'.format(mu, sigma)],\n",
    "            loc='best')\n",
    "plt.ylabel('Frequency')\n",
    "plt.title('SalePrice distribution')\n",
    "\n",
    "#Get also the QQ-plot\n",
    "fig = plt.figure()\n",
    "res = stats.probplot(y, plot=plt)\n",
    "plt.show()"
   ]
  },
  {
   "cell_type": "markdown",
   "metadata": {},
   "source": [
    "Although there is still skewness present, it seems much better and we will go with it.\n",
    "\n",
    "The following is the summary statistic of the transformed y values:"
   ]
  },
  {
   "cell_type": "code",
   "execution_count": null,
   "metadata": {},
   "outputs": [],
   "source": [
    "y.describe()"
   ]
  },
  {
   "cell_type": "markdown",
   "metadata": {},
   "source": [
    "# Selecting Relevant Predictors"
   ]
  },
  {
   "cell_type": "markdown",
   "metadata": {},
   "source": [
    "After conducting the previous exploratory analsis, we think that most of the features are related to sales. However, some categorical variables contain too many levels to be a good predictor. For example, there are 1289 unique values in the variable 'Developer', and given that we only have around 6800 complete observations, 'Developer' will probably cause the model to overfit. Similarly, the predictor 'Publisher' has 262 levels, so we decided to not include it in our model.\n",
    "\n",
    "We will drop the 'Name' column as there are too many values as well, although it might be interesting to research on natural language processing and examine how the name might affect sales.\n",
    "\n",
    "We are going to predict global sales, which is a total of the regional sales, so we will pretend as if we do not know the regional sales as well. \n",
    "\n",
    "#### Therefore, We will use the following columns as our predictors:\n",
    "\n",
    "#### Platform, Year_of_release, Genre, Critic_score, Critic_Count, User_Score, User_Count, and Rating.\n",
    "\n",
    "From our exploratory data analysis, we do see significant relationships between these variables and sales. And also, from an intuitive perspective, we expect all of them to be significant as well. For example, some popular platforms and genre might have larger sales, and games with high critic and user scores may have larger sales as well."
   ]
  },
  {
   "cell_type": "code",
   "execution_count": null,
   "metadata": {},
   "outputs": [],
   "source": [
    "categorical_features = ['Platform', 'Genre', 'Rating']\n",
    "numeric_features = ['Year_of_Release', 'Critic_Score', 'Critic_Count', 'User_Score', 'User_Count']"
   ]
  },
  {
   "cell_type": "markdown",
   "metadata": {},
   "source": [
    "### Transforming Categorical Variables: OneHot Encoding"
   ]
  },
  {
   "cell_type": "code",
   "execution_count": null,
   "metadata": {},
   "outputs": [],
   "source": [
    "categorical_data = pd.get_dummies(df2.loc[:,categorical_features])\n",
    "categorical_data.shape"
   ]
  },
  {
   "cell_type": "markdown",
   "metadata": {},
   "source": [
    "From these 3 categorical variables 'Platform', 'Genre' and 'Rating', we get 35 dummy variables."
   ]
  },
  {
   "cell_type": "markdown",
   "metadata": {},
   "source": [
    "### Transforming Numeric Variables: Log Transformation\n",
    "\n",
    "Before fitting the model, we should check if the variables are highly skewed. Since most models (especially linear regression) works best if the data follows roughly a normal distribution, we should log transform/use box cox to transform the variables if they are highly skewed."
   ]
  },
  {
   "cell_type": "code",
   "execution_count": null,
   "metadata": {},
   "outputs": [],
   "source": [
    "# Check the skew of all numerical features\n",
    "skewed_feats = df2.loc[:,numeric_features].apply(lambda x: skew(x)).sort_values(ascending=False)\n",
    "print(\"\\nSkew in numerical features: \\n\")\n",
    "skewness = pd.DataFrame({'Skew' :skewed_feats})\n",
    "skewness.head(10)"
   ]
  },
  {
   "cell_type": "markdown",
   "metadata": {},
   "source": [
    "We use the scipy function boxcox1p which computes the Box-Cox transformation of 1+x .\n",
    "\n",
    "Note that setting λ=0 is equivalent to log1p used above for the target variable."
   ]
  },
  {
   "cell_type": "code",
   "execution_count": null,
   "metadata": {},
   "outputs": [],
   "source": [
    "from scipy.special import boxcox1p\n",
    "numeric_data = pd.DataFrame()\n",
    "numeric_data['User_Count'] = boxcox1p(df2['User_Count'], -0.3)\n",
    "numeric_data['Critic_Count'] = boxcox1p(df2['Critic_Count'], 0.3)\n",
    "numeric_data['Critic_Score'] = boxcox1p(df2['Critic_Score'], 2)\n",
    "numeric_data['User_Score'] = boxcox1p(df2['User_Score'], 3) \n",
    "numeric_data.head()"
   ]
  },
  {
   "cell_type": "code",
   "execution_count": null,
   "metadata": {},
   "outputs": [],
   "source": [
    "# Check the skew again\n",
    "from scipy.stats import skew\n",
    "skewed_feats = numeric_data.apply(lambda x: skew(x.astype('float64'))).sort_values(ascending=False)\n",
    "print(\"\\nSkew in numerical features: \\n\")\n",
    "skewness = pd.DataFrame({'Skew' :skewed_feats})\n",
    "skewness.head(10)"
   ]
  },
  {
   "cell_type": "markdown",
   "metadata": {},
   "source": [
    "From the above table, we see that the transformed values are no longer skewed (skewness is very close to 0), so we expect this to be better for our model."
   ]
  },
  {
   "cell_type": "markdown",
   "metadata": {},
   "source": [
    "# Train-Test Split\n",
    "\n",
    "Now we can put the categorical and numeric variables together and split the data into the training (75%) and test part (25%). We don't know which model will be best and if the relationship is linear or not, so we will try different model based on the training data using cross validation, and test its performance on the test set to see how well the model is able to predict on unseen data."
   ]
  },
  {
   "cell_type": "code",
   "execution_count": null,
   "metadata": {},
   "outputs": [],
   "source": [
    "#Combine the numeric variables and categorical variables\n",
    "data = pd.concat([numeric_data, categorical_data], axis = 1)\n",
    "data.shape"
   ]
  },
  {
   "cell_type": "code",
   "execution_count": null,
   "metadata": {},
   "outputs": [],
   "source": [
    "X_train, X_test, y_train, y_test = train_test_split(data, y, test_size=0.25, random_state = 42)\n",
    "print(X_train.shape)\n",
    "print(X_test.shape)\n",
    "print(y_train.shape)\n",
    "print(y_test.shape)"
   ]
  },
  {
   "cell_type": "markdown",
   "metadata": {},
   "source": [
    "It splits our data into 75% training (5118 observations) and 25% test (1706 observations)."
   ]
  },
  {
   "cell_type": "markdown",
   "metadata": {},
   "source": [
    "### Import packages"
   ]
  },
  {
   "cell_type": "code",
   "execution_count": null,
   "metadata": {},
   "outputs": [],
   "source": [
    "from sklearn.linear_model import LinearRegression, Ridge\n",
    "from sklearn.neighbors import KNeighborsRegressor\n",
    "from sklearn.tree import DecisionTreeRegressor\n",
    "from sklearn.svm import SVR\n",
    "from sklearn.ensemble import RandomForestRegressor"
   ]
  },
  {
   "cell_type": "markdown",
   "metadata": {},
   "source": [
    "## Define a cross validation strategy"
   ]
  },
  {
   "cell_type": "markdown",
   "metadata": {},
   "source": [
    "We use a 5-fold cross validation to evaluate our model. \n",
    "\n",
    "For each model, we will use cross validation to get a good estimate of our model's performance. In particular, we are going to use the Root-Mean-Squared-Error (RMSE) since we believe it is a good metric for regression models. However, we will also be using R-Squared as well since it's better for interpretation."
   ]
  },
  {
   "cell_type": "code",
   "execution_count": null,
   "metadata": {},
   "outputs": [],
   "source": [
    "#Use 5-fold CV\n",
    "def rmse_cv(model):\n",
    "    rmse= np.sqrt(-cross_val_score(model, X_train, y_train, scoring=\"neg_mean_squared_error\", cv = 5))\n",
    "    r2= cross_val_score(model, X_train, y_train, scoring=\"r2\", cv = 5)\n",
    "    return(rmse.mean(),r2.mean())"
   ]
  },
  {
   "cell_type": "markdown",
   "metadata": {},
   "source": [
    "We also evaluate our model based on the test set (25% of the original data)."
   ]
  },
  {
   "cell_type": "code",
   "execution_count": null,
   "metadata": {},
   "outputs": [],
   "source": [
    "def test_rmse(model):\n",
    "    prediction = model.fit(X_train, y_train).predict(X_test)\n",
    "    print(\"RMSE on the test set: {:.4f}\".format(np.sqrt(np.mean((prediction-y_test)**2))))\n",
    "    print(\"R-Squared on the test set: {:.4f}\".format(model.score(X_test, y_test)))"
   ]
  },
  {
   "cell_type": "markdown",
   "metadata": {},
   "source": [
    "## Base Model: Linear Regression"
   ]
  },
  {
   "cell_type": "markdown",
   "metadata": {},
   "source": [
    "For the base model, we will simply use a linear regression and see how well the model does. It will give us a basic idea of our expectation for how good our model is going to be.\n",
    "\n",
    "We will use 2 metrics: Root mean squared error and R-Squared."
   ]
  },
  {
   "cell_type": "code",
   "execution_count": null,
   "metadata": {},
   "outputs": [],
   "source": [
    "linear = LinearRegression()\n",
    "score1_linear, score2_linear=rmse_cv(linear)\n",
    "print(\"Linear Regression\\nRMSE_CV: {:.4f} \\nR-Squared_CV: {:.4f}\\n\".format(score1_linear, score2_linear))\n",
    "test_rmse(linear)"
   ]
  },
  {
   "cell_type": "markdown",
   "metadata": {},
   "source": [
    "The baseline linear regression gets a cross-validation RMSE of 0.3317 (we can roughly interpret it as that the average estimate of the log sales is off by 0.33).\n",
    "\n",
    "Its cross-validation R-Squared is 0.4501, meaning that on average, our model explains 45% of the variation in sales. It's actually not too bad, given that we don't have a lot of predictors.\n",
    "\n",
    "The RMSE on the test set is 0.3501 and the R-Squared on the test set is 0.4439, both of which are worse than but very close to the cross-validation estimate.\n",
    "\n",
    "Let's try some other models to see if they can improve upon that."
   ]
  },
  {
   "cell_type": "markdown",
   "metadata": {},
   "source": [
    "## Let's try some other models:"
   ]
  },
  {
   "cell_type": "markdown",
   "metadata": {},
   "source": [
    "### Ridge Regression"
   ]
  },
  {
   "cell_type": "code",
   "execution_count": null,
   "metadata": {
    "scrolled": true
   },
   "outputs": [],
   "source": [
    "ridge = Ridge()\n",
    "score1_ridge, score2_ridge = rmse_cv(ridge)\n",
    "print(\"Ridge Regression\\nRMSE_CV: {:.4f} \\nR-Squared_CV: {:.4f}\\n\".format(score1_ridge, score2_ridge))\n",
    "test_rmse(ridge)"
   ]
  },
  {
   "cell_type": "markdown",
   "metadata": {},
   "source": [
    "Ridge Regression turns out to be very similar to Linear Regression."
   ]
  },
  {
   "cell_type": "markdown",
   "metadata": {},
   "source": [
    "### KNN"
   ]
  },
  {
   "cell_type": "markdown",
   "metadata": {},
   "source": [
    "We manually pick some parameters just to get a feel of the potential of the model. If it turns out to be good, we will go ahead and tune the hyperparameters later."
   ]
  },
  {
   "cell_type": "code",
   "execution_count": null,
   "metadata": {},
   "outputs": [],
   "source": [
    "KNN = KNeighborsRegressor(n_neighbors=60)\n",
    "score1_KNN, score2_KNN = rmse_cv(KNN)\n",
    "print(\"KNN\\nRMSE_CV: {:.4f} \\nR-Squared_CV: {:.4f}\\n\".format(score1_KNN, score2_KNN))\n",
    "test_rmse(KNN)"
   ]
  },
  {
   "cell_type": "markdown",
   "metadata": {},
   "source": [
    "The KNN does not do as well as the linear regression. We also manually tried some other values for n_neighbors, but they are no better. So probably KNN is not a good model for our data."
   ]
  },
  {
   "cell_type": "markdown",
   "metadata": {},
   "source": [
    "### Decision Tree"
   ]
  },
  {
   "cell_type": "markdown",
   "metadata": {},
   "source": [
    "For decision tree, we also first manually pick some parameters just to get a feel of the potential of the model. If it turns out to be good, we will go ahead and tune the hyperparameters later."
   ]
  },
  {
   "cell_type": "code",
   "execution_count": null,
   "metadata": {},
   "outputs": [],
   "source": [
    "DecisionTree = DecisionTreeRegressor(min_samples_split=40, min_samples_leaf=10, random_state=1)\n",
    "score1_DT, score2_DT = rmse_cv(DecisionTree)\n",
    "print(\"Decision Tree\\nRMSE_CV: {:.4f} \\nR-Squared_CV: {:.4f}\\n\".format(score1_DT, score2_DT))\n",
    "test_rmse(DecisionTree)"
   ]
  },
  {
   "cell_type": "markdown",
   "metadata": {},
   "source": [
    "Decision Tree is slightly better than the previous linear models."
   ]
  },
  {
   "cell_type": "markdown",
   "metadata": {},
   "source": [
    "### Support Vector Machine"
   ]
  },
  {
   "cell_type": "code",
   "execution_count": null,
   "metadata": {},
   "outputs": [],
   "source": [
    "SVM = SVR(C = 0.1)\n",
    "score1_SVM, score2_SVM = rmse_cv(SVM)\n",
    "print(\"Support Vector Machine\\nRMSE_CV: {:.4f} \\nR-Squared_CV: {:.4f}\\n\".format(score1_SVM, score2_SVM))\n",
    "test_rmse(SVM)"
   ]
  },
  {
   "cell_type": "markdown",
   "metadata": {},
   "source": [
    "Support Vector Machine seems to do a terrible job here. The RMSE is large and R-squared is negative. So we will not go ahead with it."
   ]
  },
  {
   "cell_type": "markdown",
   "metadata": {},
   "source": [
    "### Random Forest"
   ]
  },
  {
   "cell_type": "markdown",
   "metadata": {},
   "source": [
    "Since Random Forest has a lot of parameters, we will just use the default for now."
   ]
  },
  {
   "cell_type": "code",
   "execution_count": null,
   "metadata": {
    "scrolled": true
   },
   "outputs": [],
   "source": [
    "RF = RandomForestRegressor(random_state=1)\n",
    "score1_RF, score2_RF=rmse_cv(RF)\n",
    "print(\"Random Forest\\nRMSE_CV: {:.4f} \\nR-Squared_CV: {:.4f}\\n\".format(score1_RF, score2_RF))\n",
    "test_rmse(RF)"
   ]
  },
  {
   "cell_type": "markdown",
   "metadata": {},
   "source": [
    "Random Forest seems to be the best."
   ]
  },
  {
   "cell_type": "markdown",
   "metadata": {},
   "source": [
    "## Summary of the models"
   ]
  },
  {
   "cell_type": "code",
   "execution_count": null,
   "metadata": {},
   "outputs": [],
   "source": [
    "model_comparison = pd.DataFrame({\"model\": [\"Linear Regression\", \"Ridge Regression\", \"KNN\",\n",
    "                                           \"Decision Tree\", \"Support Vector Machine\", \"Random Forest\"],\n",
    "                                 \"RMSE_CV\": [score1_linear, score1_ridge, score1_KNN, score1_DT, \n",
    "                                             score1_SVM, score1_RF]})\n",
    "\n",
    "model_comparison.sort_values(\"RMSE_CV\", ascending=True).plot(x=\"model\", y=\"RMSE_CV\", kind=\"barh\",\n",
    "                                                            color=\"lightgreen\", legend=False)\n",
    "plt.ylabel(\"\")\n",
    "plt.yticks(size=14)\n",
    "plt.xlabel(\"Root Mean Squared Error\")\n",
    "plt.xticks(size=14)\n",
    "plt.title(\"Model Comparison on Cross Validation Root Mean Squared Error\", size=20)\n",
    "plt.show()"
   ]
  },
  {
   "cell_type": "markdown",
   "metadata": {},
   "source": [
    "Here we see a comparison of the models based on the cross validation root mean squared error. We note that all of them can be further improved, but they show a potential of the appropriateness and predictive power of the models.\n",
    "\n",
    "Support Vector Machine is the worst, with the highest Root Mean Squared Error. Linear models' performances are similar to each other. The ensemble model -- random forest is the best.\n",
    "\n",
    "Therefore, we will go ahead and further improve upon Random Forest."
   ]
  },
  {
   "cell_type": "markdown",
   "metadata": {},
   "source": [
    "# Hyperparameter Tuning\n",
    "\n",
    "We will use randomized grid search for Random Forest model."
   ]
  },
  {
   "cell_type": "code",
   "execution_count": null,
   "metadata": {},
   "outputs": [],
   "source": [
    "# Number of trees in random forest\n",
    "n_estimators = [5,10,15,20]\n",
    "# Number of features to consider at every split\n",
    "max_features = ['auto', 'sqrt']\n",
    "# Maximum number of levels in tree\n",
    "max_depth = [100,150,250,None]\n",
    "\n",
    "# Create the random grid\n",
    "random_grid = {'n_estimators': n_estimators,\n",
    "               'max_features': max_features,\n",
    "               'max_depth': max_depth}"
   ]
  },
  {
   "cell_type": "code",
   "execution_count": null,
   "metadata": {},
   "outputs": [],
   "source": [
    "RF = RandomForestRegressor(random_state=2)\n",
    "\n",
    "random_cv = RandomizedSearchCV(estimator=RF,\n",
    "                               param_distributions=random_grid,\n",
    "                               cv=3, n_iter=15,\n",
    "                               scoring=\"neg_mean_squared_error\",\n",
    "                               n_jobs=-1, verbose=1, \n",
    "                               return_train_score=True,\n",
    "                               random_state=42)\n",
    "random_cv.fit(X_train, y_train)"
   ]
  },
  {
   "cell_type": "markdown",
   "metadata": {},
   "source": [
    "The best hyperparameter:"
   ]
  },
  {
   "cell_type": "code",
   "execution_count": null,
   "metadata": {
    "scrolled": true
   },
   "outputs": [],
   "source": [
    "random_cv.best_params_"
   ]
  },
  {
   "cell_type": "markdown",
   "metadata": {},
   "source": [
    "Printing out 5 best hyperparameters found by randomized search."
   ]
  },
  {
   "cell_type": "code",
   "execution_count": null,
   "metadata": {
    "scrolled": true
   },
   "outputs": [],
   "source": [
    "random_results = pd.DataFrame(random_cv.cv_results_).sort_values(\"mean_test_score\", ascending=False)\n",
    "random_results.mean_test_score = np.sqrt(-random_results.mean_test_score)\n",
    "random_results.head()[[\"mean_test_score\", \"param_n_estimators\",\n",
    "                         \"param_max_features\", \"param_max_depth\"]]"
   ]
  },
  {
   "cell_type": "markdown",
   "metadata": {},
   "source": [
    "Evaluate the Random Forest model with the tuned hyperparameters."
   ]
  },
  {
   "cell_type": "code",
   "execution_count": null,
   "metadata": {
    "scrolled": true
   },
   "outputs": [],
   "source": [
    "RF = RandomForestRegressor(**random_cv.best_params_,random_state=2)\n",
    "score1_RF, score2_RF = rmse_cv(RF)\n",
    "print(\"Tuned Random Forest:\\nRMSE_CV: {:.4f} \\nR-Squared_CV: {:.4f}\\n\".format(score1_RF, score2_RF))\n",
    "test_rmse(RF)"
   ]
  },
  {
   "cell_type": "markdown",
   "metadata": {},
   "source": [
    "This is indeed an improvement from the previous model. So we are satisfied with this model.\n",
    "\n",
    "The tuned Random Forest gets a cross-validation RMSE of 0.3007 and R-Squared of 54.67%. The performance on the test is similar, with a RMSE of 0.3165 and R-Squared of 54.57%.\n",
    "\n",
    "Therefore, we expect that on average, our model explains 55% of the variation in sales, and our estimate of the log sales is typically off by 0.31."
   ]
  },
  {
   "cell_type": "markdown",
   "metadata": {},
   "source": [
    "# Variable Importance"
   ]
  },
  {
   "cell_type": "markdown",
   "metadata": {},
   "source": [
    "It's important to get an idea of which of the predictors have the most predictive power. We will use the random forest to tell us."
   ]
  },
  {
   "cell_type": "code",
   "execution_count": null,
   "metadata": {
    "scrolled": false
   },
   "outputs": [],
   "source": [
    "#Get the importance from the Random Forest Model\n",
    "importance = RF.feature_importances_\n",
    "importance = pd.DataFrame(importance, index=data.columns, \n",
    "                          columns=[\"Importance\"])\n",
    "\n",
    "importance[\"Std\"] = np.std([tree.feature_importances_\n",
    "                            for tree in RF.estimators_], axis=0)\n",
    "\n",
    "importance.head(10)"
   ]
  },
  {
   "cell_type": "code",
   "execution_count": null,
   "metadata": {},
   "outputs": [],
   "source": [
    "#Get importance for each predictor\n",
    "User_Count = importance.iloc[0, 0]\n",
    "Critic_Count = importance.iloc[1, 0]\n",
    "Critic_Score = importance.iloc[2, 0]\n",
    "User_Score = importance.iloc[3, 0]\n",
    "Platform = np.sum(importance['Platform_3DS':'Platform_XOne'].Importance)\n",
    "Genre = np.sum(importance['Genre_Action':'Genre_Strategy'].Importance)\n",
    "Rating = np.sum(importance['Rating_AO':'Rating_T'].Importance)\n",
    "\n",
    "a = np.array(['User_Count', 'Critic_Count', 'Critic_Score', 'User_Score', 'Platform', 'Genre', 'Rating'])\n",
    "b = np.array([User_Count, Critic_Count, Critic_Score, User_Score, Platform, Genre, Rating])\n",
    "b = -np.sort(-b) # Sort in descending order\n",
    "a = a[np.argsort(-b)]\n",
    "\n",
    "plt.figure(figsize=(10,5))\n",
    "plt.bar(a, b, align=\"center\", color=[(0.9, x/10.0, x/20.0) for x in range(7)])\n",
    "plt.title('Variable Importance', size=24)\n",
    "plt.show()"
   ]
  },
  {
   "cell_type": "markdown",
   "metadata": {},
   "source": [
    "From this chat, we can see that User Count, Critic Count, Critic Score, and User Score are far more important than Platform, Genre, and Rating in derterming the sales of the games.\n",
    "\n",
    "User count and critic count are related to sales because in general, if a game is played by a large number of people, it will probably receive a lot of reviews and score ratings.\n",
    "\n",
    "Critic score and User score are also important. This is expected, since higher score usually indicates that the game is of high quality and caters to the public's interest, so it should be very popular.\n",
    "\n",
    "The relative low importance of Platform, Genre, and Rating is noteable. This shows that the brand of the company and the type of the game does not matter as much as the quality of the game. So in order to achieve large sales, it is better to focus on product development, and lesss popular platforms and genres still have a chance to achieve great sales."
   ]
  },
  {
   "cell_type": "markdown",
   "metadata": {},
   "source": [
    "# Fit Random Forest on the entire data set\n",
    "\n",
    "Since we have examined the model on our training set and concluded that it is a good model based on its performance from cross-validation and test set, we will now fit the model on the entire data set and draw a plot to visualize it."
   ]
  },
  {
   "cell_type": "code",
   "execution_count": null,
   "metadata": {},
   "outputs": [],
   "source": [
    "RF = RandomForestRegressor(**random_cv.best_params_,random_state=1)\n",
    "RF.fit(data, y)\n",
    "fitted_values = RF.predict(data)"
   ]
  },
  {
   "cell_type": "markdown",
   "metadata": {},
   "source": [
    "## Plot  $y$  vs $\\hat{y}$"
   ]
  },
  {
   "cell_type": "code",
   "execution_count": null,
   "metadata": {
    "scrolled": true
   },
   "outputs": [],
   "source": [
    "sns.lmplot(x='fitted', y='actual', data=pd.DataFrame({'fitted':fitted_values, 'actual':y}), aspect=1)\n",
    "plt.ylim(0, 4)\n",
    "plt.xlim(0, 4)\n",
    "plt.plot([0,4],[0,4], color='red', label='45 degree line')\n",
    "plt.legend(fontsize='large')\n",
    "plt.show()"
   ]
  },
  {
   "cell_type": "markdown",
   "metadata": {},
   "source": [
    "From the plot, it seems that the fitted values are consistent with the actual y values without a discernible pattern (they are very close to the 45 degree line). So we think the model is valid."
   ]
  },
  {
   "cell_type": "markdown",
   "metadata": {},
   "source": [
    "# Transform Sales to the Original scale"
   ]
  },
  {
   "cell_type": "markdown",
   "metadata": {},
   "source": [
    "Finally, since our model is based on the logarithmic scale of the sales, we need to turn the y variables back to the original scale.\n",
    "\n",
    "We used 'log1p' to calculate the logarithm, so we use 'expm1' to do exponentiation to go back."
   ]
  },
  {
   "cell_type": "code",
   "execution_count": null,
   "metadata": {
    "scrolled": true
   },
   "outputs": [],
   "source": [
    "predictions = np.expm1(fitted_values)\n",
    "sns.lmplot(x='Predicted Sales', y='Actual Sales', data=pd.DataFrame({'Predicted Sales':predictions, 'Actual Sales':df2[\"Global_Sales\"]}), aspect=1)\n",
    "plt.plot([0,25],[0,25], color='red', label='45 degree line')\n",
    "plt.legend(fontsize='large')\n",
    "plt.xlabel('Predicted Sales\\n(in millions of units)')\n",
    "plt.ylabel('Actual Sales\\n(in millions of units)')\n",
    "plt.show()"
   ]
  },
  {
   "cell_type": "markdown",
   "metadata": {},
   "source": [
    "Examining the actual sales rather than the log scale, we noticed some inconsistencies between the predicted values and the actual values. In particular, it seems that our model underestimated the actual sales when the sales is large. Further investigation may be necessary.\n",
    "\n",
    "Although there are defficiencies in our model, we are glad to be able to build a predictive model that explains around 55% of the sales number.\n"
   ]
  },
  {
   "cell_type": "markdown",
   "metadata": {},
   "source": [
    "# Epilogue\n",
    "\n",
    "![](http://www.gadgetmed.com/wp-content/uploads/game-console-repair-warner-robins.gif)\n",
    "\n",
    "This video game sales data set is very interesting. It contains a lot of interesting information about the popular video games, and provides a window for us to gain insights into the different publishers, game console platforms, genres, and regions. It is particularly interesting to look at how these consoles and games evolve over time, and how these publishers compete against each other. The gaming industry is indeed really competitive.\n",
    "\n",
    "Our predictive model on global sales also make an important point: quality is the most important factor. In order to achieve a great sale, there is no better method to make the users satisfied and get a good score. As the game industry is highly competitive, no specific genre or platform consistently gives an edge in terms of sales."
   ]
  }
 ],
 "metadata": {
  "kernelspec": {
   "display_name": "Python 3",
   "language": "python",
   "name": "python3"
  },
  "language_info": {
   "codemirror_mode": {
    "name": "ipython",
    "version": 3
   },
   "file_extension": ".py",
   "mimetype": "text/x-python",
   "name": "python",
   "nbconvert_exporter": "python",
   "pygments_lexer": "ipython3",
   "version": "3.6.5"
  }
 },
 "nbformat": 4,
 "nbformat_minor": 2
}
