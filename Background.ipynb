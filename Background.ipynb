{
 "cells": [
  {
   "cell_type": "markdown",
   "metadata": {},
   "source": [
    "![](https://www.lifestorage.com/blog/wp-content/uploads/2013/08/video-games-in-a-nutshell1.jpg)"
   ]
  },
  {
   "cell_type": "markdown",
   "metadata": {},
   "source": [
    "# <p style='text-align: center;'> Video Game Sales with Ratings Protégés </p>\n",
    "## <p style='text-align: center;'> -Stats 131 Group Project </p>\n",
    "\n",
    "### <p style='text-align: center;'> Team Smiles Protégés </p>\n",
    "<p style='text-align: center;'> Yunliang Chen, Lejun Huang, Zheqin Li, Xuening Wang </p>\n"
   ]
  },
  {
   "cell_type": "markdown",
   "metadata": {},
   "source": [
    "![](https://www.lifestorage.com/blog/wp-content/uploads/2013/08/video-games-in-a-nutshell1.jpg)"
   ]
  },
  {
   "cell_type": "markdown",
   "metadata": {},
   "source": [
    "# I. Introduction\n",
    "\n",
    "Today, video games make up a multi-billion global industry, and nearly two-thirds of American homes have household members who play video games regularly. And it’s really no wonder: Video games have been around for decades and span the gamut of platforms, from arcade systems, to home consoles, to handheld consoles and mobile devices. They’re also often at the forefront of computer technology.\n",
    "\n",
    "In this project, we will use data to gain insights into the gaming industry, including the top publishers, genre, and platforms.\n",
    "\n",
    "##  1.1 Background of the Gaming Industry\n",
    "### 1.1.1 Types of Gaming\n",
    "Over the years, video gaming has evolved to include a number of different mediums. Evolution has led from consoles becoming more sophisticated over the decades, PC games become multi player and more complex and an entire ecosystem of mobile games.\n",
    "\n",
    "#### PC Gaming\n",
    "PC games or personal computer games are played on a computer through keyboards, mouse, a joystick or a gamepad. These games are characterized by a lack of a central controlling authority and a greater capacity for input, processing and output. PC games lost the market to consoles briefly in the mid-90s but resurfaced in the mid-2000s thanks to digital distribution. Games can be played locally or online.\n",
    "\n",
    "#### Console Gaming\n",
    "A device that is used to play games is called a video game console. The console outputs a video image that displays the game. Consoles include those used to play games at home, handheld consoles, microconsoles and dedicated consoles. The console has evolved to now be one device that can be used as a set-top box, a web browser and a CD and DVD player.\n",
    "\n",
    "#### Mobile Gaming\n",
    "A video game that is played using a mobile device such as a smartphone, a tablet or even a calculator or a smartwatch is known as a mobile game. The very first mobile game was Tetris on the Hagenuk MT-2000 device in 1994, and was followed by Nokia’s Snake in 1997. At present, mobile games are downloaded onto smartphone or tablets using an app store or are embedded in the device when purchased. Games can be played on the device or over the cloud.\n",
    "\n",
    "### 1.1.2 Value Chain\n",
    "\t\n",
    "Video game development has its own value chain. The chain consists of the following vital parts:\n",
    "\n",
    "#### Investors: \n",
    "Investors are involved in paying for development of new titles and seeking returns through licensing of the titles. The major challenge at this stage is to prevent copyright infringement and piracy. \n",
    "\n",
    "#### Publishers: \n",
    "The game publisher will also work on marketing tool and catalogues to get the game into the market and ensure a return on investment.\n",
    "\n",
    "#### Product Developers: \n",
    "This is where the game is developed creatively by artists, designers and developers. The game is taken from a basic concept to a project plan. Documents and guidelines are created at this point to support game development. These include treatment documents to clarify the purpose of the game, game play, story, character descriptions and concept art. This is then translated into more detail in the design document.\n",
    "\n",
    "#### End-users: \n",
    "A key part of the value chain is the end user or the gamer. Most of these are men of all ages but women also make up a significant part of the market especially with the advent of mobile and online gaming.\n",
    "\n",
    "\n",
    "### 1.1.3 Brief History of the Gaming Industry\n",
    "\n",
    "Though video games are found today in homes worldwide, they actually got their start in the research labs of scientists. Since the 1970s, there has been a significant development in the commercial aspect of the video game industry, and many advances in computing would set the stage for the birth of the industry.\n",
    "\n",
    "The first generation of video game consoles began in 1972 with the Magnavox Odyssey which began development in 1968 by Ralph Baer under the code name \"The Brown Box\". However, both the arcade and home markets would be dominated by Pong clones, which flooded the market and led to the video game crash of 1977. \n",
    "\n",
    "The early part of the decade saw the rise of 8-bit home computing, and home-made games, as well as the development of the second, third, and fourth generations of video game consoles.The 1990s saw advancements in game related technology and the fifth and sixth generation of game consoles were developed. In particular, the fifth generation of video games ushered in the three-dimensional era of gaming.\n",
    "\n",
    "In 2005 and 2006, Microsoft’s Xbox 360, Sony’s Playstation 3, and Nintendo’s Wii kicked off the modern age of high-definition gaming. Though the Playstation 3—the only system at the time to play Blu-rays—was successful in its own right, Sony, for the first time, faced stiff competition from its rivals.And despite being technologically inferior to the other two systems, the Wii trounced its competition in sales. The 8th and current generation of video games began with the release of Nintendo’s Wii U in 2012, followed by the Playstation 4 and Xbox One in 2013. \n",
    "\n",
    "Nowadays, video games have spread to social media platforms like Facebook and mobile devices like the iPhone, reaching a more casual gaming audience.\n",
    "\n",
    "### 1.1.4 Trend\n",
    "Smartphones, tablets and other devices that can connect to the internet have radically altered the types of video games that people play. In fact, mobile gaming is one of the fastest-growing segments of the video game industry.\n",
    "\n",
    "The video game industry will continue to evolve as companies develop new technologies and titles that keep players interested. Although it’s nearly impossible to predict specific numbers, the industry looks like it will keep growing for many years to come.\n",
    "\n",
    "\n",
    "##  1.2  Data\n",
    "### 1.2.1 Data Background\n",
    "\n",
    "Our data came from the Kaggle website: <https://www.kaggle.com/rush4ratio/video-game-sales-with-ratings>.It is actually the result of two webscrapes. It combines the dataset of Video Games Sales from the VGChartz Network <http://www.vgchartz.com/> and the scoring variables from the Metacritic website <https://www.metacritic.com/browse/games/release-date/available>.\n",
    "\n",
    "The VGChartz Network is a network of five video game websites - VGChartz, gamrFeed, gamrReview, gamrTV and gamrConnect. VGChartz itself sits at the centre of the VGChartz Network and is a video game sales tracking website that provides weekly sales figures of console software and hardware by region. VGChartz provides tools for data analysis and charting and regular written analysis of the data referencing major news in the video gaming industry. Sales figures on VGChartz are based on estimates extrapolated from small retail samples. While offering some information about their methodology through their website, VGChartz does not publish any sources on how they get their data.\n",
    "\n",
    "Metacritic is a website that aggregates reviews of media products: films, TV shows, music albums, video games, and formerly, books. For each product, the scores from each review are averaged (a weighted average). Metacritic's scoring converts each review into a percentage, either mathematically from the mark given, or which the site decides subjectively from a qualitative review. Before being averaged, the scores are weighted according to the critic's fame, stature, and volume of reviews.\n",
    "\n",
    "### 1.2.2 Observations\n",
    "\n",
    "Every row in this dataset represents a unique video game tracked by VGChartz. Since the data set was later extended by another web scrape from Metacritic, there are missing observations as Metacritic only covers a subset of the platforms. "
   ]
  },
  {
   "cell_type": "markdown",
   "metadata": {},
   "source": [
    "### Basic Data Loading and Cleaning"
   ]
  },
  {
   "cell_type": "code",
   "execution_count": 1,
   "metadata": {},
   "outputs": [],
   "source": [
    "import pandas as pd\n",
    "import numpy as np\n",
    "import plotly\n",
    "plotly.tools.set_credentials_file(username='sherry9788', api_key='Cw40WD6lRwalI8wtPd72')\n",
    "import plotly.plotly as py\n",
    "import plotly.graph_objs as go\n",
    "import seaborn as sns\n",
    "import matplotlib.pyplot as plt"
   ]
  },
  {
   "cell_type": "code",
   "execution_count": 2,
   "metadata": {},
   "outputs": [
    {
     "data": {
      "text/plain": [
       "(16719, 16)"
      ]
     },
     "execution_count": 2,
     "metadata": {},
     "output_type": "execute_result"
    }
   ],
   "source": [
    "df = pd.read_csv('Video_Games_Sales_as_at_22_Dec_2016.csv')\n",
    "df.shape"
   ]
  },
  {
   "cell_type": "markdown",
   "metadata": {},
   "source": [
    "There are a total of 16719 observations (video games)."
   ]
  },
  {
   "cell_type": "code",
   "execution_count": 3,
   "metadata": {},
   "outputs": [
    {
     "data": {
      "text/html": [
       "<div>\n",
       "<style scoped>\n",
       "    .dataframe tbody tr th:only-of-type {\n",
       "        vertical-align: middle;\n",
       "    }\n",
       "\n",
       "    .dataframe tbody tr th {\n",
       "        vertical-align: top;\n",
       "    }\n",
       "\n",
       "    .dataframe thead th {\n",
       "        text-align: right;\n",
       "    }\n",
       "</style>\n",
       "<table border=\"1\" class=\"dataframe\">\n",
       "  <thead>\n",
       "    <tr style=\"text-align: right;\">\n",
       "      <th></th>\n",
       "      <th>Name</th>\n",
       "      <th>Platform</th>\n",
       "      <th>Year_of_Release</th>\n",
       "      <th>Genre</th>\n",
       "      <th>Publisher</th>\n",
       "      <th>NA_Sales</th>\n",
       "      <th>EU_Sales</th>\n",
       "      <th>JP_Sales</th>\n",
       "      <th>Other_Sales</th>\n",
       "      <th>Global_Sales</th>\n",
       "      <th>Critic_Score</th>\n",
       "      <th>Critic_Count</th>\n",
       "      <th>User_Score</th>\n",
       "      <th>User_Count</th>\n",
       "      <th>Developer</th>\n",
       "      <th>Rating</th>\n",
       "    </tr>\n",
       "  </thead>\n",
       "  <tbody>\n",
       "    <tr>\n",
       "      <th>0</th>\n",
       "      <td>Wii Sports</td>\n",
       "      <td>Wii</td>\n",
       "      <td>2006.0</td>\n",
       "      <td>Sports</td>\n",
       "      <td>Nintendo</td>\n",
       "      <td>41.36</td>\n",
       "      <td>28.96</td>\n",
       "      <td>3.77</td>\n",
       "      <td>8.45</td>\n",
       "      <td>82.53</td>\n",
       "      <td>76.0</td>\n",
       "      <td>51.0</td>\n",
       "      <td>8</td>\n",
       "      <td>322.0</td>\n",
       "      <td>Nintendo</td>\n",
       "      <td>E</td>\n",
       "    </tr>\n",
       "    <tr>\n",
       "      <th>1</th>\n",
       "      <td>Super Mario Bros.</td>\n",
       "      <td>NES</td>\n",
       "      <td>1985.0</td>\n",
       "      <td>Platform</td>\n",
       "      <td>Nintendo</td>\n",
       "      <td>29.08</td>\n",
       "      <td>3.58</td>\n",
       "      <td>6.81</td>\n",
       "      <td>0.77</td>\n",
       "      <td>40.24</td>\n",
       "      <td>NaN</td>\n",
       "      <td>NaN</td>\n",
       "      <td>NaN</td>\n",
       "      <td>NaN</td>\n",
       "      <td>NaN</td>\n",
       "      <td>NaN</td>\n",
       "    </tr>\n",
       "    <tr>\n",
       "      <th>2</th>\n",
       "      <td>Mario Kart Wii</td>\n",
       "      <td>Wii</td>\n",
       "      <td>2008.0</td>\n",
       "      <td>Racing</td>\n",
       "      <td>Nintendo</td>\n",
       "      <td>15.68</td>\n",
       "      <td>12.76</td>\n",
       "      <td>3.79</td>\n",
       "      <td>3.29</td>\n",
       "      <td>35.52</td>\n",
       "      <td>82.0</td>\n",
       "      <td>73.0</td>\n",
       "      <td>8.3</td>\n",
       "      <td>709.0</td>\n",
       "      <td>Nintendo</td>\n",
       "      <td>E</td>\n",
       "    </tr>\n",
       "    <tr>\n",
       "      <th>3</th>\n",
       "      <td>Wii Sports Resort</td>\n",
       "      <td>Wii</td>\n",
       "      <td>2009.0</td>\n",
       "      <td>Sports</td>\n",
       "      <td>Nintendo</td>\n",
       "      <td>15.61</td>\n",
       "      <td>10.93</td>\n",
       "      <td>3.28</td>\n",
       "      <td>2.95</td>\n",
       "      <td>32.77</td>\n",
       "      <td>80.0</td>\n",
       "      <td>73.0</td>\n",
       "      <td>8</td>\n",
       "      <td>192.0</td>\n",
       "      <td>Nintendo</td>\n",
       "      <td>E</td>\n",
       "    </tr>\n",
       "    <tr>\n",
       "      <th>4</th>\n",
       "      <td>Pokemon Red/Pokemon Blue</td>\n",
       "      <td>GB</td>\n",
       "      <td>1996.0</td>\n",
       "      <td>Role-Playing</td>\n",
       "      <td>Nintendo</td>\n",
       "      <td>11.27</td>\n",
       "      <td>8.89</td>\n",
       "      <td>10.22</td>\n",
       "      <td>1.00</td>\n",
       "      <td>31.37</td>\n",
       "      <td>NaN</td>\n",
       "      <td>NaN</td>\n",
       "      <td>NaN</td>\n",
       "      <td>NaN</td>\n",
       "      <td>NaN</td>\n",
       "      <td>NaN</td>\n",
       "    </tr>\n",
       "  </tbody>\n",
       "</table>\n",
       "</div>"
      ],
      "text/plain": [
       "                       Name Platform  Year_of_Release         Genre Publisher  \\\n",
       "0                Wii Sports      Wii           2006.0        Sports  Nintendo   \n",
       "1         Super Mario Bros.      NES           1985.0      Platform  Nintendo   \n",
       "2            Mario Kart Wii      Wii           2008.0        Racing  Nintendo   \n",
       "3         Wii Sports Resort      Wii           2009.0        Sports  Nintendo   \n",
       "4  Pokemon Red/Pokemon Blue       GB           1996.0  Role-Playing  Nintendo   \n",
       "\n",
       "   NA_Sales  EU_Sales  JP_Sales  Other_Sales  Global_Sales  Critic_Score  \\\n",
       "0     41.36     28.96      3.77         8.45         82.53          76.0   \n",
       "1     29.08      3.58      6.81         0.77         40.24           NaN   \n",
       "2     15.68     12.76      3.79         3.29         35.52          82.0   \n",
       "3     15.61     10.93      3.28         2.95         32.77          80.0   \n",
       "4     11.27      8.89     10.22         1.00         31.37           NaN   \n",
       "\n",
       "   Critic_Count User_Score  User_Count Developer Rating  \n",
       "0          51.0          8       322.0  Nintendo      E  \n",
       "1           NaN        NaN         NaN       NaN    NaN  \n",
       "2          73.0        8.3       709.0  Nintendo      E  \n",
       "3          73.0          8       192.0  Nintendo      E  \n",
       "4           NaN        NaN         NaN       NaN    NaN  "
      ]
     },
     "execution_count": 3,
     "metadata": {},
     "output_type": "execute_result"
    }
   ],
   "source": [
    "df.head()"
   ]
  },
  {
   "cell_type": "code",
   "execution_count": 4,
   "metadata": {},
   "outputs": [
    {
     "name": "stdout",
     "output_type": "stream",
     "text": [
      "<class 'pandas.core.frame.DataFrame'>\n",
      "RangeIndex: 16719 entries, 0 to 16718\n",
      "Data columns (total 16 columns):\n",
      "Name               16717 non-null object\n",
      "Platform           16719 non-null object\n",
      "Year_of_Release    16450 non-null float64\n",
      "Genre              16717 non-null object\n",
      "Publisher          16665 non-null object\n",
      "NA_Sales           16719 non-null float64\n",
      "EU_Sales           16719 non-null float64\n",
      "JP_Sales           16719 non-null float64\n",
      "Other_Sales        16719 non-null float64\n",
      "Global_Sales       16719 non-null float64\n",
      "Critic_Score       8137 non-null float64\n",
      "Critic_Count       8137 non-null float64\n",
      "User_Score         10015 non-null object\n",
      "User_Count         7590 non-null float64\n",
      "Developer          10096 non-null object\n",
      "Rating             9950 non-null object\n",
      "dtypes: float64(9), object(7)\n",
      "memory usage: 2.0+ MB\n"
     ]
    }
   ],
   "source": [
    "df.info()"
   ]
  },
  {
   "cell_type": "markdown",
   "metadata": {},
   "source": [
    "By calling the dataframe method \"info()\", we also discover that the \"User_Score\" column which should be best represented numerically, contains strings. Let's take a look."
   ]
  },
  {
   "cell_type": "code",
   "execution_count": 5,
   "metadata": {},
   "outputs": [
    {
     "data": {
      "text/plain": [
       "array(['8', nan, '8.3', '8.5', '6.6', '8.4', '8.6', '7.7', '6.3', '7.4',\n",
       "       '8.2', '9', '7.9', '8.1', '8.7', '7.1', '3.4', '5.3', '4.8', '3.2',\n",
       "       '8.9', '6.4', '7.8', '7.5', '2.6', '7.2', '9.2', '7', '7.3', '4.3',\n",
       "       '7.6', '5.7', '5', '9.1', '6.5', 'tbd', '8.8', '6.9', '9.4', '6.8',\n",
       "       '6.1', '6.7', '5.4', '4', '4.9', '4.5', '9.3', '6.2', '4.2', '6',\n",
       "       '3.7', '4.1', '5.8', '5.6', '5.5', '4.4', '4.6', '5.9', '3.9',\n",
       "       '3.1', '2.9', '5.2', '3.3', '4.7', '5.1', '3.5', '2.5', '1.9', '3',\n",
       "       '2.7', '2.2', '2', '9.5', '2.1', '3.6', '2.8', '1.8', '3.8', '0',\n",
       "       '1.6', '9.6', '2.4', '1.7', '1.1', '0.3', '1.5', '0.7', '1.2',\n",
       "       '2.3', '0.5', '1.3', '0.2', '0.6', '1.4', '0.9', '1', '9.7'],\n",
       "      dtype=object)"
      ]
     },
     "execution_count": 5,
     "metadata": {},
     "output_type": "execute_result"
    }
   ],
   "source": [
    "df.User_Score.unique() #There is 'tbd'"
   ]
  },
  {
   "cell_type": "code",
   "execution_count": 6,
   "metadata": {},
   "outputs": [],
   "source": [
    "#convert to numeric, turn 'tbd' to nan\n",
    "df.User_Score = pd.to_numeric(df.User_Score, errors='coerce')"
   ]
  },
  {
   "cell_type": "markdown",
   "metadata": {},
   "source": [
    "### Check missing data"
   ]
  },
  {
   "cell_type": "code",
   "execution_count": 7,
   "metadata": {},
   "outputs": [
    {
     "data": {
      "text/plain": [
       "Name                  2\n",
       "Platform              0\n",
       "Year_of_Release     269\n",
       "Genre                 2\n",
       "Publisher            54\n",
       "NA_Sales              0\n",
       "EU_Sales              0\n",
       "JP_Sales              0\n",
       "Other_Sales           0\n",
       "Global_Sales          0\n",
       "Critic_Score       8582\n",
       "Critic_Count       8582\n",
       "User_Score         9129\n",
       "User_Count         9129\n",
       "Developer          6623\n",
       "Rating             6769\n",
       "dtype: int64"
      ]
     },
     "execution_count": 7,
     "metadata": {},
     "output_type": "execute_result"
    }
   ],
   "source": [
    "df.isnull().sum()"
   ]
  },
  {
   "cell_type": "markdown",
   "metadata": {},
   "source": [
    "There are quite a few missing data for information about scores, developer, and rating information about the game. \n",
    "\n",
    "Since the original data set is not complete either (it is just a representative of the gaming industry), we will not be stating the exact number (eg., concludint that the total sale of the gaming industry is 1 billion), but using the data to find trends and characteristic of the industry, so missing a few cases will not seriously affect our conclusion. We will further assume that the data is roughly missing at random.\n",
    "\n",
    "Thus, after careful thought, we will drop the observations that contain missing values as we deem these information about user  and critic scores are quite essential to our analysis."
   ]
  },
  {
   "cell_type": "code",
   "execution_count": 8,
   "metadata": {},
   "outputs": [
    {
     "data": {
      "text/plain": [
       "(6825, 16)"
      ]
     },
     "execution_count": 8,
     "metadata": {},
     "output_type": "execute_result"
    }
   ],
   "source": [
    "df2 = df.dropna(axis=0)\n",
    "df2.shape"
   ]
  },
  {
   "cell_type": "markdown",
   "metadata": {},
   "source": [
    "There are around 6800 cases left, and we will use that as the focus of our study."
   ]
  },
  {
   "cell_type": "code",
   "execution_count": 9,
   "metadata": {},
   "outputs": [
    {
     "name": "stderr",
     "output_type": "stream",
     "text": [
      "C:\\Users\\winuser\\Anaconda2\\envs\\py37\\lib\\site-packages\\ipykernel_launcher.py:2: SettingWithCopyWarning:\n",
      "\n",
      "\n",
      "A value is trying to be set on a copy of a slice from a DataFrame.\n",
      "Try using .loc[row_indexer,col_indexer] = value instead\n",
      "\n",
      "See the caveats in the documentation: http://pandas.pydata.org/pandas-docs/stable/indexing.html#indexing-view-versus-copy\n",
      "\n",
      "C:\\Users\\winuser\\Anaconda2\\envs\\py37\\lib\\site-packages\\ipykernel_launcher.py:3: SettingWithCopyWarning:\n",
      "\n",
      "\n",
      "A value is trying to be set on a copy of a slice from a DataFrame.\n",
      "Try using .loc[row_indexer,col_indexer] = value instead\n",
      "\n",
      "See the caveats in the documentation: http://pandas.pydata.org/pandas-docs/stable/indexing.html#indexing-view-versus-copy\n",
      "\n",
      "C:\\Users\\winuser\\Anaconda2\\envs\\py37\\lib\\site-packages\\ipykernel_launcher.py:4: SettingWithCopyWarning:\n",
      "\n",
      "\n",
      "A value is trying to be set on a copy of a slice from a DataFrame.\n",
      "Try using .loc[row_indexer,col_indexer] = value instead\n",
      "\n",
      "See the caveats in the documentation: http://pandas.pydata.org/pandas-docs/stable/indexing.html#indexing-view-versus-copy\n",
      "\n"
     ]
    }
   ],
   "source": [
    "#Change some other data types\n",
    "df2['Year_of_Release'] = df2['Year_of_Release'].astype('int64')\n",
    "df2['User_Count'] = df2['User_Count'].astype('int64')\n",
    "df2['Critic_Count'] = df2['Critic_Count'].astype('int64')"
   ]
  },
  {
   "cell_type": "code",
   "execution_count": 10,
   "metadata": {},
   "outputs": [
    {
     "name": "stdout",
     "output_type": "stream",
     "text": [
      "<class 'pandas.core.frame.DataFrame'>\n",
      "Int64Index: 6825 entries, 0 to 16706\n",
      "Data columns (total 16 columns):\n",
      "Name               6825 non-null object\n",
      "Platform           6825 non-null object\n",
      "Year_of_Release    6825 non-null int64\n",
      "Genre              6825 non-null object\n",
      "Publisher          6825 non-null object\n",
      "NA_Sales           6825 non-null float64\n",
      "EU_Sales           6825 non-null float64\n",
      "JP_Sales           6825 non-null float64\n",
      "Other_Sales        6825 non-null float64\n",
      "Global_Sales       6825 non-null float64\n",
      "Critic_Score       6825 non-null float64\n",
      "Critic_Count       6825 non-null int64\n",
      "User_Score         6825 non-null float64\n",
      "User_Count         6825 non-null int64\n",
      "Developer          6825 non-null object\n",
      "Rating             6825 non-null object\n",
      "dtypes: float64(7), int64(3), object(6)\n",
      "memory usage: 906.4+ KB\n"
     ]
    }
   ],
   "source": [
    "df2.info() # the data looks good"
   ]
  },
  {
   "cell_type": "code",
   "execution_count": 11,
   "metadata": {},
   "outputs": [
    {
     "data": {
      "text/html": [
       "<div>\n",
       "<style scoped>\n",
       "    .dataframe tbody tr th:only-of-type {\n",
       "        vertical-align: middle;\n",
       "    }\n",
       "\n",
       "    .dataframe tbody tr th {\n",
       "        vertical-align: top;\n",
       "    }\n",
       "\n",
       "    .dataframe thead th {\n",
       "        text-align: right;\n",
       "    }\n",
       "</style>\n",
       "<table border=\"1\" class=\"dataframe\">\n",
       "  <thead>\n",
       "    <tr style=\"text-align: right;\">\n",
       "      <th></th>\n",
       "      <th>Year_of_Release</th>\n",
       "      <th>NA_Sales</th>\n",
       "      <th>EU_Sales</th>\n",
       "      <th>JP_Sales</th>\n",
       "      <th>Other_Sales</th>\n",
       "      <th>Global_Sales</th>\n",
       "      <th>Critic_Score</th>\n",
       "      <th>Critic_Count</th>\n",
       "      <th>User_Score</th>\n",
       "      <th>User_Count</th>\n",
       "    </tr>\n",
       "  </thead>\n",
       "  <tbody>\n",
       "    <tr>\n",
       "      <th>count</th>\n",
       "      <td>6825.000000</td>\n",
       "      <td>6825.000000</td>\n",
       "      <td>6825.000000</td>\n",
       "      <td>6825.000000</td>\n",
       "      <td>6825.000000</td>\n",
       "      <td>6825.000000</td>\n",
       "      <td>6825.000000</td>\n",
       "      <td>6825.000000</td>\n",
       "      <td>6825.000000</td>\n",
       "      <td>6825.000000</td>\n",
       "    </tr>\n",
       "    <tr>\n",
       "      <th>mean</th>\n",
       "      <td>2007.436777</td>\n",
       "      <td>0.394484</td>\n",
       "      <td>0.236089</td>\n",
       "      <td>0.064158</td>\n",
       "      <td>0.082677</td>\n",
       "      <td>0.777590</td>\n",
       "      <td>70.272088</td>\n",
       "      <td>28.931136</td>\n",
       "      <td>7.185626</td>\n",
       "      <td>174.722344</td>\n",
       "    </tr>\n",
       "    <tr>\n",
       "      <th>std</th>\n",
       "      <td>4.211248</td>\n",
       "      <td>0.967385</td>\n",
       "      <td>0.687330</td>\n",
       "      <td>0.287570</td>\n",
       "      <td>0.269871</td>\n",
       "      <td>1.963443</td>\n",
       "      <td>13.868572</td>\n",
       "      <td>19.224165</td>\n",
       "      <td>1.439942</td>\n",
       "      <td>587.428538</td>\n",
       "    </tr>\n",
       "    <tr>\n",
       "      <th>min</th>\n",
       "      <td>1985.000000</td>\n",
       "      <td>0.000000</td>\n",
       "      <td>0.000000</td>\n",
       "      <td>0.000000</td>\n",
       "      <td>0.000000</td>\n",
       "      <td>0.010000</td>\n",
       "      <td>13.000000</td>\n",
       "      <td>3.000000</td>\n",
       "      <td>0.500000</td>\n",
       "      <td>4.000000</td>\n",
       "    </tr>\n",
       "    <tr>\n",
       "      <th>25%</th>\n",
       "      <td>2004.000000</td>\n",
       "      <td>0.060000</td>\n",
       "      <td>0.020000</td>\n",
       "      <td>0.000000</td>\n",
       "      <td>0.010000</td>\n",
       "      <td>0.110000</td>\n",
       "      <td>62.000000</td>\n",
       "      <td>14.000000</td>\n",
       "      <td>6.500000</td>\n",
       "      <td>11.000000</td>\n",
       "    </tr>\n",
       "    <tr>\n",
       "      <th>50%</th>\n",
       "      <td>2007.000000</td>\n",
       "      <td>0.150000</td>\n",
       "      <td>0.060000</td>\n",
       "      <td>0.000000</td>\n",
       "      <td>0.020000</td>\n",
       "      <td>0.290000</td>\n",
       "      <td>72.000000</td>\n",
       "      <td>25.000000</td>\n",
       "      <td>7.500000</td>\n",
       "      <td>27.000000</td>\n",
       "    </tr>\n",
       "    <tr>\n",
       "      <th>75%</th>\n",
       "      <td>2011.000000</td>\n",
       "      <td>0.390000</td>\n",
       "      <td>0.210000</td>\n",
       "      <td>0.010000</td>\n",
       "      <td>0.070000</td>\n",
       "      <td>0.750000</td>\n",
       "      <td>80.000000</td>\n",
       "      <td>39.000000</td>\n",
       "      <td>8.200000</td>\n",
       "      <td>89.000000</td>\n",
       "    </tr>\n",
       "    <tr>\n",
       "      <th>max</th>\n",
       "      <td>2016.000000</td>\n",
       "      <td>41.360000</td>\n",
       "      <td>28.960000</td>\n",
       "      <td>6.500000</td>\n",
       "      <td>10.570000</td>\n",
       "      <td>82.530000</td>\n",
       "      <td>98.000000</td>\n",
       "      <td>113.000000</td>\n",
       "      <td>9.600000</td>\n",
       "      <td>10665.000000</td>\n",
       "    </tr>\n",
       "  </tbody>\n",
       "</table>\n",
       "</div>"
      ],
      "text/plain": [
       "       Year_of_Release     NA_Sales     EU_Sales     JP_Sales  Other_Sales  \\\n",
       "count      6825.000000  6825.000000  6825.000000  6825.000000  6825.000000   \n",
       "mean       2007.436777     0.394484     0.236089     0.064158     0.082677   \n",
       "std           4.211248     0.967385     0.687330     0.287570     0.269871   \n",
       "min        1985.000000     0.000000     0.000000     0.000000     0.000000   \n",
       "25%        2004.000000     0.060000     0.020000     0.000000     0.010000   \n",
       "50%        2007.000000     0.150000     0.060000     0.000000     0.020000   \n",
       "75%        2011.000000     0.390000     0.210000     0.010000     0.070000   \n",
       "max        2016.000000    41.360000    28.960000     6.500000    10.570000   \n",
       "\n",
       "       Global_Sales  Critic_Score  Critic_Count   User_Score    User_Count  \n",
       "count   6825.000000   6825.000000   6825.000000  6825.000000   6825.000000  \n",
       "mean       0.777590     70.272088     28.931136     7.185626    174.722344  \n",
       "std        1.963443     13.868572     19.224165     1.439942    587.428538  \n",
       "min        0.010000     13.000000      3.000000     0.500000      4.000000  \n",
       "25%        0.110000     62.000000     14.000000     6.500000     11.000000  \n",
       "50%        0.290000     72.000000     25.000000     7.500000     27.000000  \n",
       "75%        0.750000     80.000000     39.000000     8.200000     89.000000  \n",
       "max       82.530000     98.000000    113.000000     9.600000  10665.000000  "
      ]
     },
     "execution_count": 11,
     "metadata": {},
     "output_type": "execute_result"
    }
   ],
   "source": [
    "df2.describe()"
   ]
  },
  {
   "cell_type": "markdown",
   "metadata": {},
   "source": [
    "### 1.2.3 Features of the Data Set\n",
    "\n",
    "This data set include the following 16 variables:"
   ]
  },
  {
   "cell_type": "code",
   "execution_count": 12,
   "metadata": {},
   "outputs": [
    {
     "data": {
      "text/plain": [
       "Index(['Name', 'Platform', 'Year_of_Release', 'Genre', 'Publisher', 'NA_Sales',\n",
       "       'EU_Sales', 'JP_Sales', 'Other_Sales', 'Global_Sales', 'Critic_Score',\n",
       "       'Critic_Count', 'User_Score', 'User_Count', 'Developer', 'Rating'],\n",
       "      dtype='object')"
      ]
     },
     "execution_count": 12,
     "metadata": {},
     "output_type": "execute_result"
    }
   ],
   "source": [
    "df2.columns"
   ]
  },
  {
   "cell_type": "markdown",
   "metadata": {},
   "source": [
    "### Categorical variables:\n",
    "\n",
    "## 1. Name: Name of the game"
   ]
  },
  {
   "cell_type": "code",
   "execution_count": 13,
   "metadata": {},
   "outputs": [
    {
     "data": {
      "text/plain": [
       "4377"
      ]
     },
     "execution_count": 13,
     "metadata": {},
     "output_type": "execute_result"
    }
   ],
   "source": [
    "df2.Name.nunique()"
   ]
  },
  {
   "cell_type": "markdown",
   "metadata": {},
   "source": [
    "Not every one is unique, check to see what the duplicates look like:"
   ]
  },
  {
   "cell_type": "code",
   "execution_count": 14,
   "metadata": {},
   "outputs": [
    {
     "data": {
      "text/html": [
       "<div>\n",
       "<style scoped>\n",
       "    .dataframe tbody tr th:only-of-type {\n",
       "        vertical-align: middle;\n",
       "    }\n",
       "\n",
       "    .dataframe tbody tr th {\n",
       "        vertical-align: top;\n",
       "    }\n",
       "\n",
       "    .dataframe thead th {\n",
       "        text-align: right;\n",
       "    }\n",
       "</style>\n",
       "<table border=\"1\" class=\"dataframe\">\n",
       "  <thead>\n",
       "    <tr style=\"text-align: right;\">\n",
       "      <th></th>\n",
       "      <th>Name</th>\n",
       "      <th>Platform</th>\n",
       "      <th>Year_of_Release</th>\n",
       "      <th>Genre</th>\n",
       "      <th>Publisher</th>\n",
       "      <th>NA_Sales</th>\n",
       "      <th>EU_Sales</th>\n",
       "      <th>JP_Sales</th>\n",
       "      <th>Other_Sales</th>\n",
       "      <th>Global_Sales</th>\n",
       "      <th>Critic_Score</th>\n",
       "      <th>Critic_Count</th>\n",
       "      <th>User_Score</th>\n",
       "      <th>User_Count</th>\n",
       "      <th>Developer</th>\n",
       "      <th>Rating</th>\n",
       "    </tr>\n",
       "  </thead>\n",
       "  <tbody>\n",
       "    <tr>\n",
       "      <th>16</th>\n",
       "      <td>Grand Theft Auto V</td>\n",
       "      <td>PS3</td>\n",
       "      <td>2013</td>\n",
       "      <td>Action</td>\n",
       "      <td>Take-Two Interactive</td>\n",
       "      <td>7.02</td>\n",
       "      <td>9.09</td>\n",
       "      <td>0.98</td>\n",
       "      <td>3.96</td>\n",
       "      <td>21.04</td>\n",
       "      <td>97.0</td>\n",
       "      <td>50</td>\n",
       "      <td>8.2</td>\n",
       "      <td>3994</td>\n",
       "      <td>Rockstar North</td>\n",
       "      <td>M</td>\n",
       "    </tr>\n",
       "    <tr>\n",
       "      <th>23</th>\n",
       "      <td>Grand Theft Auto V</td>\n",
       "      <td>X360</td>\n",
       "      <td>2013</td>\n",
       "      <td>Action</td>\n",
       "      <td>Take-Two Interactive</td>\n",
       "      <td>9.66</td>\n",
       "      <td>5.14</td>\n",
       "      <td>0.06</td>\n",
       "      <td>1.41</td>\n",
       "      <td>16.27</td>\n",
       "      <td>97.0</td>\n",
       "      <td>58</td>\n",
       "      <td>8.1</td>\n",
       "      <td>3711</td>\n",
       "      <td>Rockstar North</td>\n",
       "      <td>M</td>\n",
       "    </tr>\n",
       "    <tr>\n",
       "      <th>42</th>\n",
       "      <td>Grand Theft Auto V</td>\n",
       "      <td>PS4</td>\n",
       "      <td>2014</td>\n",
       "      <td>Action</td>\n",
       "      <td>Take-Two Interactive</td>\n",
       "      <td>3.96</td>\n",
       "      <td>6.31</td>\n",
       "      <td>0.38</td>\n",
       "      <td>1.97</td>\n",
       "      <td>12.61</td>\n",
       "      <td>97.0</td>\n",
       "      <td>66</td>\n",
       "      <td>8.3</td>\n",
       "      <td>2899</td>\n",
       "      <td>Rockstar North</td>\n",
       "      <td>M</td>\n",
       "    </tr>\n",
       "    <tr>\n",
       "      <th>165</th>\n",
       "      <td>Grand Theft Auto V</td>\n",
       "      <td>XOne</td>\n",
       "      <td>2014</td>\n",
       "      <td>Action</td>\n",
       "      <td>Take-Two Interactive</td>\n",
       "      <td>2.81</td>\n",
       "      <td>2.19</td>\n",
       "      <td>0.00</td>\n",
       "      <td>0.47</td>\n",
       "      <td>5.48</td>\n",
       "      <td>97.0</td>\n",
       "      <td>14</td>\n",
       "      <td>7.9</td>\n",
       "      <td>764</td>\n",
       "      <td>Rockstar North</td>\n",
       "      <td>M</td>\n",
       "    </tr>\n",
       "    <tr>\n",
       "      <th>1730</th>\n",
       "      <td>Grand Theft Auto V</td>\n",
       "      <td>PC</td>\n",
       "      <td>2015</td>\n",
       "      <td>Action</td>\n",
       "      <td>Take-Two Interactive</td>\n",
       "      <td>0.39</td>\n",
       "      <td>0.69</td>\n",
       "      <td>0.00</td>\n",
       "      <td>0.09</td>\n",
       "      <td>1.17</td>\n",
       "      <td>96.0</td>\n",
       "      <td>57</td>\n",
       "      <td>7.9</td>\n",
       "      <td>3756</td>\n",
       "      <td>Rockstar North</td>\n",
       "      <td>M</td>\n",
       "    </tr>\n",
       "  </tbody>\n",
       "</table>\n",
       "</div>"
      ],
      "text/plain": [
       "                    Name Platform  Year_of_Release   Genre  \\\n",
       "16    Grand Theft Auto V      PS3             2013  Action   \n",
       "23    Grand Theft Auto V     X360             2013  Action   \n",
       "42    Grand Theft Auto V      PS4             2014  Action   \n",
       "165   Grand Theft Auto V     XOne             2014  Action   \n",
       "1730  Grand Theft Auto V       PC             2015  Action   \n",
       "\n",
       "                 Publisher  NA_Sales  EU_Sales  JP_Sales  Other_Sales  \\\n",
       "16    Take-Two Interactive      7.02      9.09      0.98         3.96   \n",
       "23    Take-Two Interactive      9.66      5.14      0.06         1.41   \n",
       "42    Take-Two Interactive      3.96      6.31      0.38         1.97   \n",
       "165   Take-Two Interactive      2.81      2.19      0.00         0.47   \n",
       "1730  Take-Two Interactive      0.39      0.69      0.00         0.09   \n",
       "\n",
       "      Global_Sales  Critic_Score  Critic_Count  User_Score  User_Count  \\\n",
       "16           21.04          97.0            50         8.2        3994   \n",
       "23           16.27          97.0            58         8.1        3711   \n",
       "42           12.61          97.0            66         8.3        2899   \n",
       "165           5.48          97.0            14         7.9         764   \n",
       "1730          1.17          96.0            57         7.9        3756   \n",
       "\n",
       "           Developer Rating  \n",
       "16    Rockstar North      M  \n",
       "23    Rockstar North      M  \n",
       "42    Rockstar North      M  \n",
       "165   Rockstar North      M  \n",
       "1730  Rockstar North      M  "
      ]
     },
     "execution_count": 14,
     "metadata": {},
     "output_type": "execute_result"
    }
   ],
   "source": [
    "df2[df2.Name==df2[df2.Name.duplicated()].Name.values[0]]"
   ]
  },
  {
   "cell_type": "markdown",
   "metadata": {},
   "source": [
    "These are the games that have versions across multiple platforms."
   ]
  },
  {
   "cell_type": "markdown",
   "metadata": {},
   "source": [
    "## 2. Platform: Console on which the game is running\n",
    "Platform refers to video game consoles, computer devices where video games display and people play on. \n",
    "\n",
    "Video game consoles in this data set include:\n",
    "\n",
    "Wii, NES, GB, DS, X360, PS3, PS2, SNES, GBA, PS4, 3DS, N64, PS, XB, PC, 2600, PSP, XOne,WiiU, GC, GEN, DC, PSV, SAT, SCD, WS, NG, TG16, 3DO, GG, PCFX. \n",
    "\n",
    "The evolution of video game consoles has experienced several generations. The most popular consoles in recent generations are:\n",
    "\n",
    "- 6th Generation: PlayStation 2(PS2) vs Xbox(XB) vs Nintendo GameCube(GC) (Home Console); PlayStation Portable(PSP) vs Nintendo DS(DS) (Handheld game consoles);\n",
    "- 7th Generation: PlayStation 3(PS3) vs Xbox 360(X360) vs Nintendo Wii (Wii);\n",
    "- 8th Generation: PlayStation 4(PS4) vs Xbox One(XOne) vs Nintendo Wii U(WiiU)."
   ]
  },
  {
   "cell_type": "code",
   "execution_count": 15,
   "metadata": {},
   "outputs": [
    {
     "data": {
      "text/plain": [
       "PS2     1140\n",
       "X360     858\n",
       "PS3      769\n",
       "PC       651\n",
       "XB       565\n",
       "Wii      479\n",
       "DS       464\n",
       "PSP      390\n",
       "GC       348\n",
       "PS4      239\n",
       "GBA      237\n",
       "XOne     159\n",
       "3DS      155\n",
       "PS       150\n",
       "PSV      118\n",
       "WiiU      89\n",
       "DC        14\n",
       "Name: Platform, dtype: int64"
      ]
     },
     "execution_count": 15,
     "metadata": {},
     "output_type": "execute_result"
    }
   ],
   "source": [
    "df2.Platform.value_counts()"
   ]
  },
  {
   "cell_type": "code",
   "execution_count": 16,
   "metadata": {},
   "outputs": [
    {
     "data": {
      "image/png": "[encoded data removed]",
      "text/plain": [
       "<Figure size 936x288 with 1 Axes>"
      ]
     },
     "metadata": {
      "needs_background": "light"
     },
     "output_type": "display_data"
    }
   ],
   "source": [
    "plt.figure(figsize=(13, 4))\n",
    "sns.countplot(df2.Platform, order = df2.Platform.value_counts().index);"
   ]
  },
  {
   "cell_type": "markdown",
   "metadata": {},
   "source": [
    "## 3. Year_of_Release: Year of the game released\n",
    "The data available range from 1985 to 2016."
   ]
  },
  {
   "cell_type": "code",
   "execution_count": 17,
   "metadata": {},
   "outputs": [
    {
     "data": {
      "text/plain": [
       "array([1985, 1988, 1992, 1994, 1996, 1997, 1998, 1999, 2000, 2001, 2002,\n",
       "       2003, 2004, 2005, 2006, 2007, 2008, 2009, 2010, 2011, 2012, 2013,\n",
       "       2014, 2015, 2016], dtype=int64)"
      ]
     },
     "execution_count": 17,
     "metadata": {},
     "output_type": "execute_result"
    }
   ],
   "source": [
    "np.sort(df2.Year_of_Release.unique())"
   ]
  },
  {
   "cell_type": "code",
   "execution_count": 18,
   "metadata": {},
   "outputs": [
    {
     "data": {
      "text/plain": [
       "<matplotlib.axes._subplots.AxesSubplot at 0x97062dbc18>"
      ]
     },
     "execution_count": 18,
     "metadata": {},
     "output_type": "execute_result"
    },
    {
     "data": {
      "image/png": "[encoded data removed]",
      "text/plain": [
       "<Figure size 720x432 with 1 Axes>"
      ]
     },
     "metadata": {
      "needs_background": "light"
     },
     "output_type": "display_data"
    }
   ],
   "source": [
    "plt.figure(figsize=(10, 6))\n",
    "sns.distplot(df2.Year_of_Release, kde = False, bins=df2.Year_of_Release.nunique())"
   ]
  },
  {
   "cell_type": "markdown",
   "metadata": {},
   "source": [
    "## 4. Genre: Game's category\n",
    "Genre refers to game categories, in this data set the genre is divided into:\n",
    "Sports, Platform, Racing, Role-Playing, Puzzle, Misc, Shooter, Simulation, Action, Fighting, Adventure, Strategy."
   ]
  },
  {
   "cell_type": "code",
   "execution_count": 19,
   "metadata": {},
   "outputs": [
    {
     "data": {
      "text/plain": [
       "Action          1630\n",
       "Sports           943\n",
       "Shooter          864\n",
       "Role-Playing     712\n",
       "Racing           581\n",
       "Platform         403\n",
       "Misc             384\n",
       "Fighting         378\n",
       "Simulation       297\n",
       "Strategy         267\n",
       "Adventure        248\n",
       "Puzzle           118\n",
       "Name: Genre, dtype: int64"
      ]
     },
     "execution_count": 19,
     "metadata": {},
     "output_type": "execute_result"
    }
   ],
   "source": [
    "df2.Genre.value_counts()"
   ]
  },
  {
   "cell_type": "code",
   "execution_count": 20,
   "metadata": {},
   "outputs": [
    {
     "data": {
      "text/plain": [
       "<matplotlib.axes._subplots.AxesSubplot at 0x9706316160>"
      ]
     },
     "execution_count": 20,
     "metadata": {},
     "output_type": "execute_result"
    },
    {
     "data": {
      "image/png": "[encoded data removed]",
      "text/plain": [
       "<Figure size 936x288 with 1 Axes>"
      ]
     },
     "metadata": {
      "needs_background": "light"
     },
     "output_type": "display_data"
    }
   ],
   "source": [
    "plt.figure(figsize=(13, 4))\n",
    "sns.countplot(df2.Genre, order = df2.Genre.value_counts().index)"
   ]
  },
  {
   "cell_type": "markdown",
   "metadata": {},
   "source": [
    "Action games account for the majority of our data, followed by Sports and Shooter. Puzzle is the least."
   ]
  },
  {
   "cell_type": "markdown",
   "metadata": {},
   "source": [
    "## 5. Publisher: Owner of the video game\n",
    "Publisher has 582 unique values in this data set. Publishers are usually the companies that release the game to public. \n",
    "\n",
    "The following are some of the biggest gaming companies in the world:\n",
    "\n",
    "#### Sony Interactive Entertainment\n",
    "Sony Interactive Entertainment is the video game subsidiary of Sony Corporation. They were previously known as Sony Computer Entertainment (SCE). Sony Interactivement Entertainment is best known as the developer of the PlayStation line of consoles, which was first released in 1994. \n",
    "\n",
    "#### Microsoft Studios\n",
    "Microsoft made their foray into gaming back in 2001 when they released the Xbox console. The name Xbox has since evolved into its own brand and encompasses not only various consoles but also games, streaming services, and online platforms.\n",
    "\n",
    "#### Activision Blizzard\n",
    "The company was formed in 2008 through the merger of Activision and Vivendi, which was then the parent company of Blizzard. They helped pioneer online gaming through the Battle.net, which was the first online gaming service to be directly integrated into the games that used it. \n",
    "\n",
    "#### Electronic Arts\n",
    "EA is a video game based in Redwood City, California. The company publishes and develops some of the world's largest video game titles including The Sims, SimCity, FIFA, Madden NFL, and Battlefield. \n",
    "\n",
    "#### Nintendo\n",
    "Nintendo, based out of Kyoto, Japan, is one of the oldest gaming companies in the world. Nintendo was founded in 1889 as a producer of handmade hanafuda playing cards. The company is most well known for producing the Nintendo series of consoles and for inventing iconic characters like Mario, Link, Donkey Kong, Pikachu, and more.\n",
    "\n",
    "#### Bandai Namco Entertainment\n",
    "Bandai Namco was formed in 2006 from the merger betweeen two Japanese video game companies: Bandai and Namco. The company is perhaps most well known for introducing Pac-Man to the world in the 1980s. \n",
    "\n",
    "#### Ubisoft\n",
    "Ubisoft is a video game publisher based out of Montreuil, France but they also maintain a large studio presence in Montreal, Canada. Notable games include Assassin's Creed, Tom Clancy's, Far Cry, Prince of Persia, and Rayman.\n"
   ]
  },
  {
   "cell_type": "code",
   "execution_count": 21,
   "metadata": {},
   "outputs": [
    {
     "data": {
      "text/plain": [
       "262"
      ]
     },
     "execution_count": 21,
     "metadata": {},
     "output_type": "execute_result"
    }
   ],
   "source": [
    "df2.Publisher.nunique()"
   ]
  },
  {
   "cell_type": "markdown",
   "metadata": {},
   "source": [
    "There are 262 unique publishers in the data set.\n",
    "\n",
    "Top publishers:"
   ]
  },
  {
   "cell_type": "code",
   "execution_count": 22,
   "metadata": {},
   "outputs": [
    {
     "data": {
      "text/plain": [
       "Electronic Arts                           944\n",
       "Ubisoft                                   496\n",
       "Activision                                492\n",
       "Sony Computer Entertainment               316\n",
       "THQ                                       307\n",
       "Nintendo                                  291\n",
       "Sega                                      284\n",
       "Take-Two Interactive                      273\n",
       "Konami Digital Entertainment              244\n",
       "Namco Bandai Games                        239\n",
       "Capcom                                    197\n",
       "Atari                                     176\n",
       "Microsoft Game Studios                    141\n",
       "Tecmo Koei                                137\n",
       "Square Enix                               134\n",
       "Warner Bros. Interactive Entertainment    130\n",
       "Eidos Interactive                         123\n",
       "Vivendi Games                             113\n",
       "Codemasters                               111\n",
       "Midway Games                              103\n",
       "Name: Publisher, dtype: int64"
      ]
     },
     "execution_count": 22,
     "metadata": {},
     "output_type": "execute_result"
    }
   ],
   "source": [
    "df2.Publisher.value_counts().iloc[:20]"
   ]
  },
  {
   "cell_type": "code",
   "execution_count": 23,
   "metadata": {},
   "outputs": [
    {
     "data": {
      "text/plain": [
       "(array([ 0,  1,  2,  3,  4,  5,  6,  7,  8,  9, 10, 11, 12, 13, 14]),\n",
       " <a list of 15 Text xticklabel objects>)"
      ]
     },
     "execution_count": 23,
     "metadata": {},
     "output_type": "execute_result"
    },
    {
     "data": {
      "image/png": "[encoded data removed]",
      "text/plain": [
       "<Figure size 1080x288 with 1 Axes>"
      ]
     },
     "metadata": {
      "needs_background": "light"
     },
     "output_type": "display_data"
    }
   ],
   "source": [
    "plt.figure(figsize=(15, 4))\n",
    "sns.countplot(df2.Publisher, order=df2.Publisher.value_counts().iloc[:15].index)\n",
    "plt.xticks(rotation=20)"
   ]
  },
  {
   "cell_type": "markdown",
   "metadata": {},
   "source": [
    "## 6. Developer: Party responsible for creating the game.\n",
    "‘Developer’ is a subtype of Publisher. One publisher may have many developers. Developers could be studios subsidiary to the company or related to the company. For example, Sony has 11 studios in this data set. Therefore ‘Developer’ has many more unique values than ‘Publisher’, with 1697 unique values in the data set. Both publishers and developers are ‘owner’ or ‘creator’ of the video game. "
   ]
  },
  {
   "cell_type": "code",
   "execution_count": 24,
   "metadata": {},
   "outputs": [
    {
     "data": {
      "text/plain": [
       "1289"
      ]
     },
     "execution_count": 24,
     "metadata": {},
     "output_type": "execute_result"
    }
   ],
   "source": [
    "df2.Developer.nunique()"
   ]
  },
  {
   "cell_type": "markdown",
   "metadata": {},
   "source": [
    "There are a lot of different developers.\n",
    "\n",
    "Top developers:"
   ]
  },
  {
   "cell_type": "code",
   "execution_count": 25,
   "metadata": {},
   "outputs": [
    {
     "data": {
      "text/plain": [
       "(array([ 0,  1,  2,  3,  4,  5,  6,  7,  8,  9, 10, 11, 12, 13, 14]),\n",
       " <a list of 15 Text xticklabel objects>)"
      ]
     },
     "execution_count": 25,
     "metadata": {},
     "output_type": "execute_result"
    },
    {
     "data": {
      "image/png": "[encoded data removed]",
      "text/plain": [
       "<Figure size 1080x288 with 1 Axes>"
      ]
     },
     "metadata": {
      "needs_background": "light"
     },
     "output_type": "display_data"
    }
   ],
   "source": [
    "plt.figure(figsize=(15, 4))\n",
    "sns.countplot(df2.Developer, order=df2.Developer.value_counts().iloc[:15].index)\n",
    "plt.xticks(rotation=15)"
   ]
  },
  {
   "cell_type": "markdown",
   "metadata": {},
   "source": [
    "## 7. Rating: The ESRB ratings (E.g. Everyone, Teen, Adults Only..etc)\n",
    "'Rating' is assigned by the Entertainment Software Rating Board (ESRB) to provide guidance about video games and apps so that consumers, especially parents, can make informed choices about the ones they deem suitable for their family. Here are the meanings to the shorthands:\n",
    "- 'RP': Rating Pending\n",
    "- 'E': Everyone\n",
    "- 'K-A': Kids to Adults, renamed to E since 1998.\n",
    "- 'E10+': Everyone 10+\n",
    "- 'T': Teen\n",
    "- 'M': Mature\n",
    "- 'AO': Adults Only\n"
   ]
  },
  {
   "cell_type": "code",
   "execution_count": 26,
   "metadata": {},
   "outputs": [
    {
     "data": {
      "text/plain": [
       "T       2377\n",
       "E       2082\n",
       "M       1433\n",
       "E10+     930\n",
       "RP         1\n",
       "K-A        1\n",
       "AO         1\n",
       "Name: Rating, dtype: int64"
      ]
     },
     "execution_count": 26,
     "metadata": {},
     "output_type": "execute_result"
    }
   ],
   "source": [
    "df2.Rating.value_counts()"
   ]
  },
  {
   "cell_type": "code",
   "execution_count": 27,
   "metadata": {},
   "outputs": [
    {
     "data": {
      "text/plain": [
       "<matplotlib.axes._subplots.AxesSubplot at 0x970697fdd8>"
      ]
     },
     "execution_count": 27,
     "metadata": {},
     "output_type": "execute_result"
    },
    {
     "data": {
      "image/png": "[encoded data removed]",
      "text/plain": [
       "<Figure size 720x288 with 1 Axes>"
      ]
     },
     "metadata": {
      "needs_background": "light"
     },
     "output_type": "display_data"
    }
   ],
   "source": [
    "plt.figure(figsize=(10, 4))\n",
    "sns.countplot(df2.Rating, order=df2.Rating.value_counts().iloc[:15].index)"
   ]
  },
  {
   "cell_type": "markdown",
   "metadata": {},
   "source": [
    "Since the 'K-A' are the same as 'E', we will combine the categories:"
   ]
  },
  {
   "cell_type": "code",
   "execution_count": 28,
   "metadata": {},
   "outputs": [
    {
     "name": "stderr",
     "output_type": "stream",
     "text": [
      "C:\\Users\\winuser\\Anaconda2\\envs\\py37\\lib\\site-packages\\pandas\\core\\indexing.py:543: SettingWithCopyWarning:\n",
      "\n",
      "\n",
      "A value is trying to be set on a copy of a slice from a DataFrame.\n",
      "Try using .loc[row_indexer,col_indexer] = value instead\n",
      "\n",
      "See the caveats in the documentation: http://pandas.pydata.org/pandas-docs/stable/indexing.html#indexing-view-versus-copy\n",
      "\n"
     ]
    }
   ],
   "source": [
    "df2.loc[df2.Rating=='K-A', 'Rating'] = 'E'"
   ]
  },
  {
   "cell_type": "markdown",
   "metadata": {},
   "source": [
    "For the rating, the majority of the ratings are Teen, Mature, Everyone, and Everyone 10+."
   ]
  },
  {
   "cell_type": "markdown",
   "metadata": {},
   "source": [
    "### Numerical Variables:\n",
    "## 8~12. NA_Sales, EU_Sales, JP_Sales, Other_Sales, Global_Sales\n",
    "- NA_Sales: Game sales in North America (in millions of units)\n",
    "- EU_Sales: Game sales in the European Union (in millions of units)\n",
    "- JP_Sales: Game sales in Japan (in millions of units)\n",
    "- Other_Sales: Game sales in the rest of the world, i.e. Africa, Asia excluding Japan, Australia, Europe excluding the E.U. and South America (in millions of units)\n",
    "- Global_Sales: Total sales in the world (in millions of units)\n",
    "\n",
    "The global sales are the sum of sales in North America, European, Union, Japan, and other locations."
   ]
  },
  {
   "cell_type": "code",
   "execution_count": 31,
   "metadata": {},
   "outputs": [
    {
     "data": {
      "text/plain": [
       "0    True\n",
       "2    True\n",
       "3    True\n",
       "6    True\n",
       "7    True\n",
       "dtype: bool"
      ]
     },
     "execution_count": 31,
     "metadata": {},
     "output_type": "execute_result"
    }
   ],
   "source": [
    "((df2.Global_Sales>=df2.loc[:,['NA_Sales', 'EU_Sales', 'JP_Sales', 'Other_Sales']].sum(axis=1)*0.99) \n",
    "& (df2.Global_Sales<=df2.loc[:,['NA_Sales', 'EU_Sales', 'JP_Sales', 'Other_Sales']].sum(axis=1)*1.01)).head()"
   ]
  },
  {
   "cell_type": "markdown",
   "metadata": {},
   "source": [
    "They are consistent with each other, subject to some rounding errors.`"
   ]
  },
  {
   "cell_type": "code",
   "execution_count": 32,
   "metadata": {},
   "outputs": [
    {
     "data": {
      "text/plain": [
       "<seaborn.axisgrid.PairGrid at 0x9706318be0>"
      ]
     },
     "execution_count": 32,
     "metadata": {},
     "output_type": "execute_result"
    },
    {
     "data": {
      "image/png": "[encoded data removed]",
      "text/plain": [
       "<Figure size 900x900 with 30 Axes>"
      ]
     },
     "metadata": {
      "needs_background": "light"
     },
     "output_type": "display_data"
    }
   ],
   "source": [
    "sns.pairplot(df2.loc[:,['NA_Sales', 'EU_Sales', 'JP_Sales', 'Other_Sales', 'Global_Sales']])"
   ]
  },
  {
   "cell_type": "code",
   "execution_count": 33,
   "metadata": {},
   "outputs": [
    {
     "name": "stderr",
     "output_type": "stream",
     "text": [
      "C:\\Users\\winuser\\Anaconda2\\envs\\py37\\lib\\site-packages\\scipy\\stats\\stats.py:1713: FutureWarning:\n",
      "\n",
      "Using a non-tuple sequence for multidimensional indexing is deprecated; use `arr[tuple(seq)]` instead of `arr[seq]`. In the future this will be interpreted as an array index, `arr[np.array(seq)]`, which will result either in an error or a different result.\n",
      "\n"
     ]
    },
    {
     "data": {
      "image/png": "[encoded data removed]",
      "text/plain": [
       "<Figure size 1080x864 with 5 Axes>"
      ]
     },
     "metadata": {
      "needs_background": "light"
     },
     "output_type": "display_data"
    }
   ],
   "source": [
    "plt.figure(figsize=(15, 12))\n",
    "plt.subplot(3,2,1)\n",
    "sns.distplot(df2.Global_Sales, kde=False)\n",
    "plt.yscale('log')\n",
    "\n",
    "plt.subplot(3,2,2)\n",
    "sns.distplot(df2.NA_Sales, kde=False)\n",
    "plt.yscale('log')\n",
    "\n",
    "plt.subplot(3,2,3)\n",
    "sns.distplot(df2.EU_Sales, kde=False)\n",
    "plt.yscale('log')\n",
    "\n",
    "plt.subplot(3,2,4)\n",
    "sns.distplot(df2.JP_Sales, kde=False)\n",
    "plt.yscale('log')\n",
    "\n",
    "plt.subplot(3,2,5)\n",
    "sns.distplot(df2.Other_Sales, kde=False)\n",
    "plt.yscale('log')\n",
    "plt.tight_layout()"
   ]
  },
  {
   "cell_type": "markdown",
   "metadata": {},
   "source": [
    "The sales are quite right skewed for all locations."
   ]
  },
  {
   "cell_type": "markdown",
   "metadata": {},
   "source": [
    "## 13~16. Critic_Score, Critic_Count, User_Score, User_Count\n",
    "- Critic_Score: Aggregate score compiled by Metacritic staff, range from 0 to 100.\n",
    "- Critic_Count: The number of critics used in coming up with the Critic_score\n",
    "- User_Score: Score by Metacritic's subscribers, range from 0 to 10.\n",
    "- User_Count: Number of users who gave the user_score"
   ]
  },
  {
   "cell_type": "code",
   "execution_count": 34,
   "metadata": {},
   "outputs": [
    {
     "name": "stderr",
     "output_type": "stream",
     "text": [
      "C:\\Users\\winuser\\Anaconda2\\envs\\py37\\lib\\site-packages\\scipy\\stats\\stats.py:1713: FutureWarning:\n",
      "\n",
      "Using a non-tuple sequence for multidimensional indexing is deprecated; use `arr[tuple(seq)]` instead of `arr[seq]`. In the future this will be interpreted as an array index, `arr[np.array(seq)]`, which will result either in an error or a different result.\n",
      "\n"
     ]
    },
    {
     "data": {
      "text/plain": [
       "<matplotlib.axes._subplots.AxesSubplot at 0x970a842cc0>"
      ]
     },
     "execution_count": 34,
     "metadata": {},
     "output_type": "execute_result"
    },
    {
     "data": {
      "image/png": "[encoded data removed]",
      "text/plain": [
       "<Figure size 1080x576 with 4 Axes>"
      ]
     },
     "metadata": {
      "needs_background": "light"
     },
     "output_type": "display_data"
    }
   ],
   "source": [
    "plt.figure(figsize=(15, 8))\n",
    "plt.subplot(2,2,1)\n",
    "sns.distplot(df2.Critic_Score)\n",
    "\n",
    "plt.subplot(2,2,2)\n",
    "sns.distplot(df2.User_Score)\n",
    "\n",
    "plt.subplot(2,2,3)\n",
    "sns.distplot(df2.Critic_Count)\n",
    "\n",
    "plt.subplot(2,2,4)\n",
    "sns.distplot(df2.User_Count)"
   ]
  },
  {
   "cell_type": "markdown",
   "metadata": {},
   "source": [
    "All distributions are skewed, with the User_Count being the most extreme. We will analyze them in depth later."
   ]
  },
  {
   "cell_type": "markdown",
   "metadata": {},
   "source": [
    "## 1.3 Related Studies\n",
    "\n",
    "Not many studies have been conducted regarding the gaming industry. Here are some of the interesting findings regarding the top performers in the industry:\n",
    "\n",
    "The systematic interrelations of hardware and software markets, make it interesting to note that the three leading hardware manufacturers (i.e., Microsoft as the producer of the Xbox, Sony and the PlayStation, and Nintendo and the Wii) are also the top three software producers.\n",
    "\n",
    "Several academic studies stress that the game market is two sided, and that indirect network effects connect game platform (hardware) sales to game content (software) sales. In the case of games, hardware producers such as Sony earn money from selling consoles to consumers (market 1) and from selling game licenses to game producers (market 2) ; a game platform with more consumers is more attractive for game producers, and vice versa. Indirect network effects work in the same way; here, an increased variety of one product (software titles in the context of games) increases the value of another product (a console such as PlayStation 3) for customers, which in turn can have an effect on the first product (through an increased attractiveness for game producers. \n",
    "\n",
    "___Citation:___\n",
    "\n",
    "André Marchand, Thorsten Hennig-Thurau, “Value Creation in the Video Game Industry: Industry Economics, Consumer Benefits, and Research Opportunities”, Journal of Interactive Marketing 27 (2013) 141–157\n",
    "\n",
    "\n"
   ]
  },
  {
   "cell_type": "code",
   "execution_count": null,
   "metadata": {},
   "outputs": [],
   "source": []
  }
 ],
 "metadata": {
  "kernelspec": {
   "display_name": "Python 3",
   "language": "python",
   "name": "python3"
  },
  "language_info": {
   "codemirror_mode": {
    "name": "ipython",
    "version": 3
   },
   "file_extension": ".py",
   "mimetype": "text/x-python",
   "name": "python",
   "nbconvert_exporter": "python",
   "pygments_lexer": "ipython3",
   "version": "3.7.0"
  }
 },
 "nbformat": 4,
 "nbformat_minor": 2
}
