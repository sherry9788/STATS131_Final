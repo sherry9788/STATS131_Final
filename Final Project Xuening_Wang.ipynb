{
 "cells": [
  {
   "cell_type": "code",
   "execution_count": 10,
   "metadata": {},
   "outputs": [],
   "source": [
    "import pandas as pd\n",
    "import numpy as np"
   ]
  },
  {
   "cell_type": "code",
   "execution_count": 2,
   "metadata": {},
   "outputs": [
    {
     "data": {
      "text/plain": [
       "(16719, 16)"
      ]
     },
     "execution_count": 2,
     "metadata": {},
     "output_type": "execute_result"
    }
   ],
   "source": [
    "df = pd.read_csv('Video_Games_Sales_as_at_22_Dec_2016.csv')\n",
    "df.shape"
   ]
  },
  {
   "cell_type": "code",
   "execution_count": 57,
   "metadata": {},
   "outputs": [
    {
     "data": {
      "text/html": [
       "<div>\n",
       "<style scoped>\n",
       "    .dataframe tbody tr th:only-of-type {\n",
       "        vertical-align: middle;\n",
       "    }\n",
       "\n",
       "    .dataframe tbody tr th {\n",
       "        vertical-align: top;\n",
       "    }\n",
       "\n",
       "    .dataframe thead th {\n",
       "        text-align: right;\n",
       "    }\n",
       "</style>\n",
       "<table border=\"1\" class=\"dataframe\">\n",
       "  <thead>\n",
       "    <tr style=\"text-align: right;\">\n",
       "      <th></th>\n",
       "      <th>Name</th>\n",
       "      <th>Platform</th>\n",
       "      <th>Year_of_Release</th>\n",
       "      <th>Genre</th>\n",
       "      <th>Publisher</th>\n",
       "      <th>NA_Sales</th>\n",
       "      <th>EU_Sales</th>\n",
       "      <th>JP_Sales</th>\n",
       "      <th>Other_Sales</th>\n",
       "      <th>Global_Sales</th>\n",
       "      <th>Critic_Score</th>\n",
       "      <th>Critic_Count</th>\n",
       "      <th>User_Score</th>\n",
       "      <th>User_Count</th>\n",
       "      <th>Developer</th>\n",
       "      <th>Rating</th>\n",
       "    </tr>\n",
       "  </thead>\n",
       "  <tbody>\n",
       "    <tr>\n",
       "      <th>0</th>\n",
       "      <td>Wii Sports</td>\n",
       "      <td>Wii</td>\n",
       "      <td>2006.0</td>\n",
       "      <td>Sports</td>\n",
       "      <td>Nintendo</td>\n",
       "      <td>41.36</td>\n",
       "      <td>28.96</td>\n",
       "      <td>3.77</td>\n",
       "      <td>8.45</td>\n",
       "      <td>82.53</td>\n",
       "      <td>76.0</td>\n",
       "      <td>51.0</td>\n",
       "      <td>8</td>\n",
       "      <td>322.0</td>\n",
       "      <td>Nintendo</td>\n",
       "      <td>E</td>\n",
       "    </tr>\n",
       "    <tr>\n",
       "      <th>1</th>\n",
       "      <td>Super Mario Bros.</td>\n",
       "      <td>NES</td>\n",
       "      <td>1985.0</td>\n",
       "      <td>Platform</td>\n",
       "      <td>Nintendo</td>\n",
       "      <td>29.08</td>\n",
       "      <td>3.58</td>\n",
       "      <td>6.81</td>\n",
       "      <td>0.77</td>\n",
       "      <td>40.24</td>\n",
       "      <td>NaN</td>\n",
       "      <td>NaN</td>\n",
       "      <td>NaN</td>\n",
       "      <td>NaN</td>\n",
       "      <td>NaN</td>\n",
       "      <td>NaN</td>\n",
       "    </tr>\n",
       "    <tr>\n",
       "      <th>2</th>\n",
       "      <td>Mario Kart Wii</td>\n",
       "      <td>Wii</td>\n",
       "      <td>2008.0</td>\n",
       "      <td>Racing</td>\n",
       "      <td>Nintendo</td>\n",
       "      <td>15.68</td>\n",
       "      <td>12.76</td>\n",
       "      <td>3.79</td>\n",
       "      <td>3.29</td>\n",
       "      <td>35.52</td>\n",
       "      <td>82.0</td>\n",
       "      <td>73.0</td>\n",
       "      <td>8.3</td>\n",
       "      <td>709.0</td>\n",
       "      <td>Nintendo</td>\n",
       "      <td>E</td>\n",
       "    </tr>\n",
       "    <tr>\n",
       "      <th>3</th>\n",
       "      <td>Wii Sports Resort</td>\n",
       "      <td>Wii</td>\n",
       "      <td>2009.0</td>\n",
       "      <td>Sports</td>\n",
       "      <td>Nintendo</td>\n",
       "      <td>15.61</td>\n",
       "      <td>10.93</td>\n",
       "      <td>3.28</td>\n",
       "      <td>2.95</td>\n",
       "      <td>32.77</td>\n",
       "      <td>80.0</td>\n",
       "      <td>73.0</td>\n",
       "      <td>8</td>\n",
       "      <td>192.0</td>\n",
       "      <td>Nintendo</td>\n",
       "      <td>E</td>\n",
       "    </tr>\n",
       "    <tr>\n",
       "      <th>4</th>\n",
       "      <td>Pokemon Red/Pokemon Blue</td>\n",
       "      <td>GB</td>\n",
       "      <td>1996.0</td>\n",
       "      <td>Role-Playing</td>\n",
       "      <td>Nintendo</td>\n",
       "      <td>11.27</td>\n",
       "      <td>8.89</td>\n",
       "      <td>10.22</td>\n",
       "      <td>1.00</td>\n",
       "      <td>31.37</td>\n",
       "      <td>NaN</td>\n",
       "      <td>NaN</td>\n",
       "      <td>NaN</td>\n",
       "      <td>NaN</td>\n",
       "      <td>NaN</td>\n",
       "      <td>NaN</td>\n",
       "    </tr>\n",
       "  </tbody>\n",
       "</table>\n",
       "</div>"
      ],
      "text/plain": [
       "                       Name Platform  Year_of_Release         Genre Publisher  \\\n",
       "0                Wii Sports      Wii           2006.0        Sports  Nintendo   \n",
       "1         Super Mario Bros.      NES           1985.0      Platform  Nintendo   \n",
       "2            Mario Kart Wii      Wii           2008.0        Racing  Nintendo   \n",
       "3         Wii Sports Resort      Wii           2009.0        Sports  Nintendo   \n",
       "4  Pokemon Red/Pokemon Blue       GB           1996.0  Role-Playing  Nintendo   \n",
       "\n",
       "   NA_Sales  EU_Sales  JP_Sales  Other_Sales  Global_Sales  Critic_Score  \\\n",
       "0     41.36     28.96      3.77         8.45         82.53          76.0   \n",
       "1     29.08      3.58      6.81         0.77         40.24           NaN   \n",
       "2     15.68     12.76      3.79         3.29         35.52          82.0   \n",
       "3     15.61     10.93      3.28         2.95         32.77          80.0   \n",
       "4     11.27      8.89     10.22         1.00         31.37           NaN   \n",
       "\n",
       "   Critic_Count User_Score  User_Count Developer Rating  \n",
       "0          51.0          8       322.0  Nintendo      E  \n",
       "1           NaN        NaN         NaN       NaN    NaN  \n",
       "2          73.0        8.3       709.0  Nintendo      E  \n",
       "3          73.0          8       192.0  Nintendo      E  \n",
       "4           NaN        NaN         NaN       NaN    NaN  "
      ]
     },
     "execution_count": 57,
     "metadata": {},
     "output_type": "execute_result"
    }
   ],
   "source": [
    "df.head()"
   ]
  },
  {
   "cell_type": "code",
   "execution_count": 58,
   "metadata": {},
   "outputs": [
    {
     "name": "stdout",
     "output_type": "stream",
     "text": [
      "<class 'pandas.core.frame.DataFrame'>\n",
      "RangeIndex: 16719 entries, 0 to 16718\n",
      "Data columns (total 16 columns):\n",
      "Name               16717 non-null object\n",
      "Platform           16719 non-null object\n",
      "Year_of_Release    16450 non-null float64\n",
      "Genre              16717 non-null object\n",
      "Publisher          16665 non-null object\n",
      "NA_Sales           16719 non-null float64\n",
      "EU_Sales           16719 non-null float64\n",
      "JP_Sales           16719 non-null float64\n",
      "Other_Sales        16719 non-null float64\n",
      "Global_Sales       16719 non-null float64\n",
      "Critic_Score       8137 non-null float64\n",
      "Critic_Count       8137 non-null float64\n",
      "User_Score         10015 non-null object\n",
      "User_Count         7590 non-null float64\n",
      "Developer          10096 non-null object\n",
      "Rating             9950 non-null object\n",
      "dtypes: float64(9), object(7)\n",
      "memory usage: 2.0+ MB\n"
     ]
    }
   ],
   "source": [
    "df.info()"
   ]
  },
  {
   "cell_type": "markdown",
   "metadata": {},
   "source": [
    "## Variables"
   ]
  },
  {
   "cell_type": "code",
   "execution_count": 23,
   "metadata": {},
   "outputs": [
    {
     "data": {
      "text/plain": [
       "Name                  2\n",
       "Platform              0\n",
       "Year_of_Release     269\n",
       "Genre                 2\n",
       "Publisher            54\n",
       "NA_Sales              0\n",
       "EU_Sales              0\n",
       "JP_Sales              0\n",
       "Other_Sales           0\n",
       "Global_Sales          0\n",
       "Critic_Score       8582\n",
       "Critic_Count       8582\n",
       "User_Score         6704\n",
       "User_Count         9129\n",
       "Developer          6623\n",
       "Rating             6769\n",
       "dtype: int64"
      ]
     },
     "execution_count": 23,
     "metadata": {},
     "output_type": "execute_result"
    }
   ],
   "source": [
    "df.isna().sum()"
   ]
  },
  {
   "cell_type": "code",
   "execution_count": 153,
   "metadata": {},
   "outputs": [
    {
     "data": {
      "text/plain": [
       "Index(['Name', 'Platform', 'Year_of_Release', 'Genre', 'Publisher', 'NA_Sales',\n",
       "       'EU_Sales', 'JP_Sales', 'Other_Sales', 'Global_Sales', 'Critic_Score',\n",
       "       'Critic_Count', 'User_Score', 'User_Count', 'Developer', 'Rating'],\n",
       "      dtype='object')"
      ]
     },
     "execution_count": 153,
     "metadata": {},
     "output_type": "execute_result"
    }
   ],
   "source": [
    "df.columns"
   ]
  },
  {
   "cell_type": "code",
   "execution_count": 60,
   "metadata": {},
   "outputs": [
    {
     "name": "stdout",
     "output_type": "stream",
     "text": [
      "<class 'pandas.core.frame.DataFrame'>\n",
      "Int64Index: 6825 entries, 0 to 16706\n",
      "Data columns (total 16 columns):\n",
      "Name               6825 non-null object\n",
      "Platform           6825 non-null object\n",
      "Year_of_Release    6825 non-null float64\n",
      "Genre              6825 non-null object\n",
      "Publisher          6825 non-null object\n",
      "NA_Sales           6825 non-null float64\n",
      "EU_Sales           6825 non-null float64\n",
      "JP_Sales           6825 non-null float64\n",
      "Other_Sales        6825 non-null float64\n",
      "Global_Sales       6825 non-null float64\n",
      "Critic_Score       6825 non-null float64\n",
      "Critic_Count       6825 non-null float64\n",
      "User_Score         6825 non-null object\n",
      "User_Count         6825 non-null float64\n",
      "Developer          6825 non-null object\n",
      "Rating             6825 non-null object\n",
      "dtypes: float64(9), object(7)\n",
      "memory usage: 906.4+ KB\n"
     ]
    }
   ],
   "source": [
    "df2 = df.copy().dropna()\n",
    "df2.shape\n",
    "df2.info()"
   ]
  },
  {
   "cell_type": "code",
   "execution_count": 95,
   "metadata": {},
   "outputs": [
    {
     "data": {
      "text/plain": [
       "array(['Wii', 'NES', 'GB', 'DS', 'X360', 'PS3', 'PS2', 'SNES', 'GBA',\n",
       "       'PS4', '3DS', 'N64', 'PS', 'XB', 'PC', '2600', 'PSP', 'XOne',\n",
       "       'WiiU', 'GC', 'GEN', 'DC', 'PSV', 'SAT', 'SCD', 'WS', 'NG', 'TG16',\n",
       "       '3DO', 'GG', 'PCFX'], dtype=object)"
      ]
     },
     "execution_count": 95,
     "metadata": {},
     "output_type": "execute_result"
    }
   ],
   "source": [
    "df.Platform.unique()"
   ]
  },
  {
   "cell_type": "code",
   "execution_count": 96,
   "metadata": {},
   "outputs": [
    {
     "data": {
      "text/plain": [
       "array(['Sports', 'Platform', 'Racing', 'Role-Playing', 'Puzzle', 'Misc',\n",
       "       'Shooter', 'Simulation', 'Action', 'Fighting', 'Adventure',\n",
       "       'Strategy', nan], dtype=object)"
      ]
     },
     "execution_count": 96,
     "metadata": {},
     "output_type": "execute_result"
    }
   ],
   "source": [
    "df.Genre.unique()"
   ]
  },
  {
   "cell_type": "code",
   "execution_count": 99,
   "metadata": {},
   "outputs": [
    {
     "data": {
      "text/plain": [
       "array(['Nintendo', 'Microsoft Game Studios', 'Take-Two Interactive',\n",
       "       'Sony Computer Entertainment', 'Activision', 'Ubisoft',\n",
       "       'Bethesda Softworks', 'Electronic Arts', 'Sega', 'SquareSoft',\n",
       "       'Atari', '505 Games', 'Capcom', 'GT Interactive',\n",
       "       'Konami Digital Entertainment', 'Square Enix',\n",
       "       'Sony Computer Entertainment Europe', 'Virgin Interactive',\n",
       "       'LucasArts', 'Warner Bros. Interactive Entertainment',\n",
       "       'Universal Interactive', 'Eidos Interactive', 'RedOctane',\n",
       "       'Vivendi Games', 'Enix Corporation', 'Namco Bandai Games',\n",
       "       'Palcom', 'Hasbro Interactive', 'THQ', 'Fox Interactive',\n",
       "       'Acclaim Entertainment', 'MTV Games', 'Disney Interactive Studios',\n",
       "       nan, 'Codemasters', 'Majesco Entertainment', 'Red Orb', 'Level 5',\n",
       "       'Arena Entertainment', 'Midway Games', 'JVC', 'Deep Silver',\n",
       "       'NCSoft', '989 Studios', 'UEP Systems', 'Parker Bros.', 'Maxis',\n",
       "       'Imagic', 'Tecmo Koei', 'ASCII Entertainment', 'Valve Software',\n",
       "       'Mindscape', 'Infogrames', 'Unknown', 'Square', 'Valve',\n",
       "       'Banpresto', 'Hello Games', 'D3Publisher', 'Activision Value',\n",
       "       'Oxygen Interactive', 'Red Storm Entertainment', 'Video System',\n",
       "       'Global Star', 'Gotham Games', 'Westwood Studios', 'GungHo',\n",
       "       'Crave Entertainment', 'Hudson Soft', 'Coleco',\n",
       "       'Rising Star Games', 'TDK Mediactive', 'ASC Games', 'Accolade',\n",
       "       'Zoo Games', 'Sony Online Entertainment', '3DO', 'Natsume', 'RTL',\n",
       "       'Alchemist', 'Black Label Games', 'SouthPeak Games',\n",
       "       'Focus Home Interactive', 'Ocean', 'Zoo Digital Publishing',\n",
       "       'Psygnosis', 'City Interactive', 'Empire Interactive', 'Success',\n",
       "       'Compile', 'Russel', 'Atlus', 'Mastertronic',\n",
       "       'Slightly Mad Studios', 'Taito', 'Agetec', 'Microprose', 'Play It',\n",
       "       'GSP', 'Tomy Corporation', 'Sammy Corporation', 'Koch Media',\n",
       "       'Game Factory', 'Titus', 'Marvelous Entertainment', 'Genki',\n",
       "       'Mojang', 'CTO SpA', 'TalonSoft', 'Crystal Dynamics',\n",
       "       'Square Enix ', 'mixi, Inc', 'Pinnacle', 'SCi', 'Quelle',\n",
       "       'Rage Software', 'Ubisoft Annecy', 'Interplay', 'Scholastic Inc.',\n",
       "       'Mystique', 'ChunSoft', 'Square EA',\n",
       "       '20th Century Fox Video Games', 'Hudson Entertainment',\n",
       "       'Men-A-Vision', 'Nobilis', 'Avanquest Software',\n",
       "       'Big Ben Interactive', 'Nordic Games', 'Touchstone', 'Spike',\n",
       "       'Nippon Ichi Software', 'Sony Computer Entertainment America',\n",
       "       'Jester Interactive', 'LEGO Media', 'Quest', 'Illusion Softworks',\n",
       "       'Tigervision', 'Rocket Company', 'Metro 3D', 'Mattel Interactive',\n",
       "       'IE Institute', 'Funbox Media', 'Rondomedia', 'Universal Gamex',\n",
       "       'Ghostlight', 'Wizard Video Games',\n",
       "       'BMG Interactive Entertainment', 'PQube', 'Trion Worlds',\n",
       "       'Xseed Games', 'Laguna', 'Takara', 'Ignition Entertainment',\n",
       "       'Kadokawa Shoten', 'Enterbrain', 'Imagineer', 'CPG Products',\n",
       "       'System 3 Arcade Software', 'Aruze Corp', 'Destineer',\n",
       "       'Gamebridge', 'Midas Interactive Entertainment', 'Jaleco',\n",
       "       'Answer Software', 'Pack In Soft', 'XS Games', 'Rebellion',\n",
       "       'Ultravision', 'Harmonix Music Systems', 'Activision Blizzard',\n",
       "       'Xplosiv', 'Wanadoo', 'Telltale Games', 'NovaLogic', 'Epoch',\n",
       "       'BAM! Entertainment', 'GameMill Entertainment',\n",
       "       'Knowledge Adventure', 'Tetris Online', 'Mastiff', 'ESP', 'TYO',\n",
       "       'Telegames', 'Mud Duck Productions', 'Screenlife', 'Pioneer LDC',\n",
       "       'Magical Company', 'Kemco', 'Mentor Interactive',\n",
       "       'Human Entertainment', 'Data Age', 'Electronic Arts Victor',\n",
       "       'Jack of All Games', 'Avanquest', 'Black Bean Games', '989 Sports',\n",
       "       'Takara Tomy', 'Media Rings', 'Elf', 'Starfish', 'Zushi Games',\n",
       "       'Jorudan', 'Destination Software, Inc', 'New',\n",
       "       'Brash Entertainment', 'Kalypso Media', 'ITT Family Games',\n",
       "       'Ackkstudios', 'PopCap Games', 'Starpath Corp.', 'BPS',\n",
       "       'Gathering of Developers', 'NewKidCo', 'Marvelous Interactive',\n",
       "       'Storm City Games', 'CokeM Interactive', 'P2 Games',\n",
       "       'CBS Electronics', 'Home Entertainment Suppliers', 'Magix',\n",
       "       'Arc System Works', 'Angel Studios', 'Wargaming.net', 'Playmates',\n",
       "       'SNK Playmore', 'Hamster Corporation', 'From Software',\n",
       "       'Nippon Columbia', 'Nichibutsu', 'Conspiracy Entertainment',\n",
       "       'Hect', 'Mumbo Jumbo', 'DTP Entertainment',\n",
       "       'Pacific Century Cyber Works', 'Indie Games', 'Liquid Games',\n",
       "       'NEC', 'Axela', 'ArtDink', 'Sunsoft', 'Little Orbit', 'FuRyu',\n",
       "       'Gust', 'SNK', 'NEC Interchannel', 'Nihon Falcom Corporation',\n",
       "       'Xing Entertainment', 'ValuSoft', 'Victor Interactive',\n",
       "       'American Softworks', 'Falcom Corporation', 'Detn8 Games', 'Bomb',\n",
       "       'Nordcurrent', 'Milestone S.r.l.', 'AQ Interactive', 'Sears',\n",
       "       'Seta Corporation', 'On Demand', 'CCP', 'NCS',\n",
       "       'Rebellion Developments', 'Agatsuma Entertainment',\n",
       "       'Gremlin Interactive Ltd', 'Aspyr', 'Compile Heart',\n",
       "       'Culture Brain', 'Mad Catz', 'Shogakukan', 'Merscom LLC',\n",
       "       'JoWood Productions', 'Nippon Telenet', 'TDK Core',\n",
       "       'Kadokawa Games', 'SSI', 'Foreign Media Games', 'Core Design Ltd.',\n",
       "       'bitComposer Games', 'Astragon', 'Asylum Entertainment',\n",
       "       'Performance Designed Products', 'UFO Interactive',\n",
       "       'Essential Games', 'Adeline Software', 'Funcom', 'PlayV',\n",
       "       'Panther Software', 'Blast! Entertainment Ltd',\n",
       "       'Playlogic Game Factory', 'DSI Games', 'Avalon Interactive',\n",
       "       'Game Life', 'Popcorn Arcade', 'Aques', 'System 3', 'Syscom',\n",
       "       'Vir2L Studios', 'Vatical Entertainment', 'Neko Entertainment',\n",
       "       'White Park Bay Software', 'Vic Tokai', 'Media Factory',\n",
       "       'Daedalic', 'Game Arts', 'The Adventure Company', 'EA Games',\n",
       "       'Acquire', 'Broccoli', 'General Entertainment',\n",
       "       'Paradox Interactive', 'Yacht Club Games', 'Imadio',\n",
       "       'Swing! Entertainment', 'Sony Music Entertainment', 'Aqua Plus',\n",
       "       'Excalibur Publishing', 'Hip Interactive', 'Tripwire Interactive',\n",
       "       'DreamCatcher Interactive', 'SCS Software', 'Havas Interactive',\n",
       "       'Sting', 'Idea Factory', 'Telstar', 'U.S. Gold', 'Funsta',\n",
       "       'DreamWorks Interactive', 'Slitherine Software', 'MTO', 'Graffiti',\n",
       "       'Tru Blu Entertainment', 'DHM Interactive', 'Crytek', 'FunSoft',\n",
       "       'Data Design Interactive', 'SPS', 'Moss', 'T&E Soft',\n",
       "       'NDA Productions', 'Bigben Interactive', 'Data East',\n",
       "       'Idea Factory International', 'Time Warner Interactive',\n",
       "       'Gainax Network Systems', 'Daito', 'O3 Entertainment', 'O-Games',\n",
       "       'Gameloft', 'Xicat Interactive', 'Simon & Schuster Interactive',\n",
       "       'Valcon Games', 'PopTop Software', 'TOHO', 'PM Studios',\n",
       "       'Bohemia Interactive', 'Reef Entertainment', '5pb',\n",
       "       'HMH Interactive', 'inXile Entertainment', 'Cave', 'Microids',\n",
       "       'Paon', 'CDV Software Entertainment', 'Micro Cabin', 'GameTek',\n",
       "       'Benesse', 'Type-Moon', 'Enjoy Gaming ltd.', 'Asmik Corp',\n",
       "       'Interplay Productions', 'Asmik Ace Entertainment', 'Image Epoch',\n",
       "       'Phantom EFX', 'Evolved Games', 'responDESIGN',\n",
       "       'Griffin International', 'Culture Publishers', 'Hackberry',\n",
       "       'Hearty Robin', 'Nippon Amuse', 'Origin Systems', 'Seventh Chord',\n",
       "       'Abylight', 'Mitsui', 'Insomniac Games', 'Flight-Plan',\n",
       "       'Milestone', 'Glams', 'Aksys Games', 'Locus', 'Warp',\n",
       "       'Irem Software Engineering', 'Myelin Media',\n",
       "       'Global A Entertainment', 'Alternative Software', 'Mercury Games',\n",
       "       'Sunrise Interactive', 'Elite', 'Evolution Games',\n",
       "       'Daedalic Entertainment', 'Edia', 'Athena', 'Aria', 'Tivola',\n",
       "       'Happinet', 'Tommo', 'Altron', 'Revolution Software',\n",
       "       'Media Works', 'Fortyfive', 'Gamecock', 'Imax', '10TACLE Studios',\n",
       "       'Groove Games', 'Pack-In-Video', 'Crimson Cow', 'iWin', 'Asgard',\n",
       "       'Ecole', 'Yumedia', 'Ascaron Entertainment GmbH', 'HAL Laboratory',\n",
       "       'Phenomedia', 'Grand Prix Games', 'DigiCube', 'Creative Core',\n",
       "       'Kaga Create', 'WayForward Technologies', 'LSP Games',\n",
       "       'ASCII Media Works', '1C Company', 'Coconuts Japan', 'Arika',\n",
       "       'Marvel Entertainment', 'Ertain', 'Prototype', 'Phantagram',\n",
       "       'The Learning Company', 'TechnoSoft', 'MLB.com', 'Vap', 'Misawa',\n",
       "       'Yeti', 'Dusenberry Martin Racing', 'Navarre Corp', 'Pow',\n",
       "       'MediaQuest', 'Team17 Software', 'Max Five', 'Tradewest',\n",
       "       'Comfort', 'Milestone S.r.l', 'Pony Canyon', 'Riverhillsoft',\n",
       "       'Summitsoft', 'Playmore', 'Kool Kizz', 'Monte Christo Multimedia',\n",
       "       'TopWare Interactive', 'Legacy Interactive',\n",
       "       'Cloud Imperium Games Corporation', 'Flashpoint Games',\n",
       "       'CyberFront', 'Alawar Entertainment', 'Societa', 'Interchannel',\n",
       "       'Experience Inc.', 'Sonnet', 'Virtual Play Games', 'Zenrin',\n",
       "       'Iceberg Interactive', 'Ivolgamus', 'MC2 Entertainment', '2D Boy',\n",
       "       'Games Workshop', 'Kando Games', 'Office Create',\n",
       "       'Maximum Family Games', 'Fields', 'Gearbox Software',\n",
       "       'Princess Soft', 'Extreme Entertainment Group', 'Big Fish Games',\n",
       "       'Berkeley', 'Mamba Games', 'Fuji', 'FuRyu Corporation',\n",
       "       'Her Interactive', 'imageepoch Inc.', 'Just Flight', 'Kamui',\n",
       "       'ASK', 'Cygames', 'Introversion Software', '49Games', 'KSS',\n",
       "       'dramatic create', 'TGL', 'KID', 'Quinrose', 'Sold Out', 'Encore',\n",
       "       'G.Rev', 'Sunflowers', 'Headup Games', 'Sweets',\n",
       "       'Kokopeli Digital Studios', 'id Software', 'Nexon', 'BushiRoad',\n",
       "       'Devolver Digital', 'Number None', 'Tryfirst', 'GN Software',\n",
       "       \"Yuke's\", 'Strategy First', 'Lexicon Entertainment',\n",
       "       'Paon Corporation', 'Kids Station', 'Licensed 4U', 'GOA',\n",
       "       '7G//AMES', 'King Records', 'Minato Station',\n",
       "       'Graphsim Entertainment', 'Easy Interactive', 'Gaga',\n",
       "       'Yamasa Entertainment', 'Plenty', 'Views', 'Blue Byte', 'fonfun',\n",
       "       'NetRevo', 'Epic Games', 'Quintet', 'Focus Multimedia',\n",
       "       'Phoenix Games', 'Marvelous Games', 'Dorart', 'Codemasters Online',\n",
       "       'Stainless Games', 'Aerosoft', 'Imageworks', 'Karin Entertainment',\n",
       "       'Technos Japan Corporation', 'Masque Publishing', 'Gakken',\n",
       "       'New World Computing', 'Mirai Shounen', 'Datam Polystar', 'HuneX',\n",
       "       'Visco', 'Saurus', 'Revolution (Japan)', 'Giza10', 'Alvion',\n",
       "       'Giga', 'Mycom', 'Warashi', 'System Soft', 'RED Entertainment',\n",
       "       'Lighthouse Interactive', 'Michaelsoft', 'Media Entertainment',\n",
       "       'Genterprise', 'Interworks Unlimited, Inc.', 'Inti Creates',\n",
       "       'Boost On', 'EON Digital Entertainment', 'Nitroplus', 'Naxat Soft',\n",
       "       'Piacci', 'Paradox Development', 'Otomate',\n",
       "       'Ascaron Entertainment', 'Ongakukan', 'Commseed',\n",
       "       'UIG Entertainment', 'Takuyo', 'Interchannel-Holon',\n",
       "       'Red Flagship'], dtype=object)"
      ]
     },
     "execution_count": 99,
     "metadata": {},
     "output_type": "execute_result"
    }
   ],
   "source": [
    "df.Publisher.unique()"
   ]
  },
  {
   "cell_type": "code",
   "execution_count": 137,
   "metadata": {},
   "outputs": [
    {
     "data": {
      "text/plain": [
       "582"
      ]
     },
     "execution_count": 137,
     "metadata": {},
     "output_type": "execute_result"
    }
   ],
   "source": [
    "len(df.Publisher.unique())"
   ]
  },
  {
   "cell_type": "code",
   "execution_count": 101,
   "metadata": {},
   "outputs": [
    {
     "data": {
      "text/plain": [
       "array([1980., 1981., 1982., 1983., 1984., 1985., 1986., 1987., 1988.,\n",
       "       1989., 1990., 1991., 1992., 1993., 1994., 1995., 1996., 1997.,\n",
       "       1998., 1999., 2000., 2001., 2002., 2003., 2004., 2005., 2006.,\n",
       "       2007., 2008., 2009., 2010., 2011., 2012., 2013., 2014., 2015.,\n",
       "       2016., 2017., 2020.,   nan])"
      ]
     },
     "execution_count": 101,
     "metadata": {},
     "output_type": "execute_result"
    }
   ],
   "source": [
    "np.sort(df.Year_of_Release.unique())"
   ]
  },
  {
   "cell_type": "code",
   "execution_count": 103,
   "metadata": {},
   "outputs": [],
   "source": [
    "df2.Year_of_Release = df2.Year_of_Release.astype(int)"
   ]
  },
  {
   "cell_type": "code",
   "execution_count": 105,
   "metadata": {},
   "outputs": [
    {
     "data": {
      "text/plain": [
       "array(['Sports', 'Platform', 'Racing', 'Role-Playing', 'Puzzle', 'Misc',\n",
       "       'Shooter', 'Simulation', 'Action', 'Fighting', 'Adventure',\n",
       "       'Strategy', nan], dtype=object)"
      ]
     },
     "execution_count": 105,
     "metadata": {},
     "output_type": "execute_result"
    }
   ],
   "source": [
    "df.Genre.unique()"
   ]
  },
  {
   "cell_type": "code",
   "execution_count": 112,
   "metadata": {},
   "outputs": [
    {
     "data": {
      "text/plain": [
       "array(['8', nan, '8.3', '8.5', '6.6', '8.4', '8.6', '7.7', '6.3', '7.4',\n",
       "       '8.2', '9', '7.9', '8.1', '8.7', '7.1', '3.4', '5.3', '4.8', '3.2',\n",
       "       '8.9', '6.4', '7.8', '7.5', '2.6', '7.2', '9.2', '7', '7.3', '4.3',\n",
       "       '7.6', '5.7', '5', '9.1', '6.5', 'tbd', '8.8', '6.9', '9.4', '6.8',\n",
       "       '6.1', '6.7', '5.4', '4', '4.9', '4.5', '9.3', '6.2', '4.2', '6',\n",
       "       '3.7', '4.1', '5.8', '5.6', '5.5', '4.4', '4.6', '5.9', '3.9',\n",
       "       '3.1', '2.9', '5.2', '3.3', '4.7', '5.1', '3.5', '2.5', '1.9', '3',\n",
       "       '2.7', '2.2', '2', '9.5', '2.1', '3.6', '2.8', '1.8', '3.8', '0',\n",
       "       '1.6', '9.6', '2.4', '1.7', '1.1', '0.3', '1.5', '0.7', '1.2',\n",
       "       '2.3', '0.5', '1.3', '0.2', '0.6', '1.4', '0.9', '1', '9.7'],\n",
       "      dtype=object)"
      ]
     },
     "execution_count": 112,
     "metadata": {},
     "output_type": "execute_result"
    }
   ],
   "source": [
    "df.User_Score.unique()"
   ]
  },
  {
   "cell_type": "code",
   "execution_count": 84,
   "metadata": {},
   "outputs": [
    {
     "name": "stdout",
     "output_type": "stream",
     "text": [
      "9.6\n",
      "0.5\n"
     ]
    }
   ],
   "source": [
    "df2.User_Score = df2.User_Score.astype(float)\n",
    "print(df2.User_Score.max())\n",
    "print(df2.User_Score.min())"
   ]
  },
  {
   "cell_type": "code",
   "execution_count": 85,
   "metadata": {},
   "outputs": [
    {
     "name": "stdout",
     "output_type": "stream",
     "text": [
      "10665\n",
      "4\n"
     ]
    }
   ],
   "source": [
    "df2.User_Count = df2.User_Count.astype(int)\n",
    "print(df2.User_Count.max())\n",
    "print(df2.User_Count.min())"
   ]
  },
  {
   "cell_type": "code",
   "execution_count": 115,
   "metadata": {},
   "outputs": [
    {
     "data": {
      "text/plain": [
       "array(['Nintendo', nan, 'Good Science Studio', ..., 'Big Red Software',\n",
       "       'Atomic Games', 'Interchannel-Holon'], dtype=object)"
      ]
     },
     "execution_count": 115,
     "metadata": {},
     "output_type": "execute_result"
    }
   ],
   "source": [
    "df.Developer.unique()"
   ]
  },
  {
   "cell_type": "code",
   "execution_count": 136,
   "metadata": {},
   "outputs": [
    {
     "data": {
      "text/plain": [
       "1697"
      ]
     },
     "execution_count": 136,
     "metadata": {},
     "output_type": "execute_result"
    }
   ],
   "source": [
    "len(df.Developer.unique())"
   ]
  },
  {
   "cell_type": "code",
   "execution_count": 139,
   "metadata": {},
   "outputs": [
    {
     "name": "stdout",
     "output_type": "stream",
     "text": [
      "['Polyphony Digital' 'SquareSoft' nan 'Namco' 'Naughty Dog'\n",
      " 'SCE/WWS, Media Molecule' 'Naughty Dog, SCE/WWS' 'SCE Santa Monica'\n",
      " 'Bluepoint Games' 'Insomniac Games']\n"
     ]
    }
   ],
   "source": [
    "sony_studio = df.loc[(df.Publisher.isna()==False) & (df.Publisher.str.contains('Sony')), 'Developer'].unique()\n",
    "print(sony_studio[np.arange(10)])"
   ]
  },
  {
   "cell_type": "code",
   "execution_count": 140,
   "metadata": {},
   "outputs": [
    {
     "data": {
      "text/plain": [
       "133"
      ]
     },
     "execution_count": 140,
     "metadata": {},
     "output_type": "execute_result"
    }
   ],
   "source": [
    "len(sony_studio)"
   ]
  },
  {
   "cell_type": "markdown",
   "metadata": {},
   "source": [
    "    We notice that Developers are usually studios of a Publiser. We consider Developer as a more detailed information about the \"owner\" of the video game. Since Developer has more missing values, we remove this column to see if we can resolve the problem with missing values."
   ]
  },
  {
   "cell_type": "code",
   "execution_count": null,
   "metadata": {},
   "outputs": [],
   "source": []
  },
  {
   "cell_type": "code",
   "execution_count": 142,
   "metadata": {},
   "outputs": [
    {
     "data": {
      "text/plain": [
       "array(['AO', 'E', 'E10+', 'K-A', 'M', 'RP', 'T'], dtype=object)"
      ]
     },
     "execution_count": 142,
     "metadata": {},
     "output_type": "execute_result"
    }
   ],
   "source": [
    "np.sort(df2.Rating.unique())"
   ]
  },
  {
   "cell_type": "code",
   "execution_count": 149,
   "metadata": {},
   "outputs": [
    {
     "data": {
      "text/plain": [
       "(16719, 15)"
      ]
     },
     "execution_count": 149,
     "metadata": {},
     "output_type": "execute_result"
    }
   ],
   "source": [
    "df3 = df.copy().drop('Developer', axis=1)\n",
    "df3.shape"
   ]
  },
  {
   "cell_type": "code",
   "execution_count": 150,
   "metadata": {},
   "outputs": [
    {
     "name": "stdout",
     "output_type": "stream",
     "text": [
      "<class 'pandas.core.frame.DataFrame'>\n",
      "RangeIndex: 16719 entries, 0 to 16718\n",
      "Data columns (total 15 columns):\n",
      "Name               16717 non-null object\n",
      "Platform           16719 non-null object\n",
      "Year_of_Release    16450 non-null float64\n",
      "Genre              16717 non-null object\n",
      "Publisher          16665 non-null object\n",
      "NA_Sales           16719 non-null float64\n",
      "EU_Sales           16719 non-null float64\n",
      "JP_Sales           16719 non-null float64\n",
      "Other_Sales        16719 non-null float64\n",
      "Global_Sales       16719 non-null float64\n",
      "Critic_Score       8137 non-null float64\n",
      "Critic_Count       8137 non-null float64\n",
      "User_Score         10015 non-null object\n",
      "User_Count         7590 non-null float64\n",
      "Rating             9950 non-null object\n",
      "dtypes: float64(9), object(6)\n",
      "memory usage: 1.9+ MB\n"
     ]
    }
   ],
   "source": [
    "df3.info()"
   ]
  },
  {
   "cell_type": "code",
   "execution_count": 151,
   "metadata": {},
   "outputs": [
    {
     "data": {
      "text/plain": [
       "(6825, 15)"
      ]
     },
     "execution_count": 151,
     "metadata": {},
     "output_type": "execute_result"
    }
   ],
   "source": [
    "df3.dropna().shape"
   ]
  },
  {
   "cell_type": "markdown",
   "metadata": {},
   "source": [
    "## Exploratory Analysis of the Data"
   ]
  },
  {
   "cell_type": "code",
   "execution_count": 152,
   "metadata": {},
   "outputs": [
    {
     "ename": "ModuleNotFoundError",
     "evalue": "No module named 'plotly'",
     "output_type": "error",
     "traceback": [
      "\u001b[1;31m---------------------------------------------------------------------------\u001b[0m",
      "\u001b[1;31mModuleNotFoundError\u001b[0m                       Traceback (most recent call last)",
      "\u001b[1;32m<ipython-input-152-b9ae3270e371>\u001b[0m in \u001b[0;36m<module>\u001b[1;34m()\u001b[0m\n\u001b[1;32m----> 1\u001b[1;33m \u001b[1;32mimport\u001b[0m \u001b[0mplotly\u001b[0m\u001b[1;33m.\u001b[0m\u001b[0mplotly\u001b[0m \u001b[1;32mas\u001b[0m \u001b[0mpy\u001b[0m\u001b[1;33m\u001b[0m\u001b[0m\n\u001b[0m\u001b[0;32m      2\u001b[0m \u001b[1;32mimport\u001b[0m \u001b[0mplotly\u001b[0m\u001b[1;33m.\u001b[0m\u001b[0mgraph_objs\u001b[0m \u001b[1;32mas\u001b[0m \u001b[0mgo\u001b[0m\u001b[1;33m\u001b[0m\u001b[0m\n\u001b[0;32m      3\u001b[0m \u001b[1;32mimport\u001b[0m \u001b[0mseaborn\u001b[0m \u001b[1;32mas\u001b[0m \u001b[0msns\u001b[0m\u001b[1;33m\u001b[0m\u001b[0m\n",
      "\u001b[1;31mModuleNotFoundError\u001b[0m: No module named 'plotly'"
     ]
    }
   ],
   "source": [
    "import plotly.plotly as py\n",
    "import plotly.graph_objs as go\n",
    "import seaborn as sns"
   ]
  }
 ],
 "metadata": {
  "kernelspec": {
   "display_name": "Python 3",
   "language": "python",
   "name": "python3"
  },
  "language_info": {
   "codemirror_mode": {
    "name": "ipython",
    "version": 3
   },
   "file_extension": ".py",
   "mimetype": "text/x-python",
   "name": "python",
   "nbconvert_exporter": "python",
   "pygments_lexer": "ipython3",
   "version": "3.6.6"
  }
 },
 "nbformat": 4,
 "nbformat_minor": 2
}
