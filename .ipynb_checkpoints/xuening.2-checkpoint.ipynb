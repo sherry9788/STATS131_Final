{
 "cells": [
  {
   "cell_type": "code",
   "execution_count": 1,
   "metadata": {},
   "outputs": [],
   "source": [
    "import pandas as pd\n",
    "import numpy as np\n",
    "import plotly\n",
    "plotly.tools.set_credentials_file(username='sherry9788', api_key='Cw40WD6lRwalI8wtPd72')\n",
    "import plotly.plotly as py\n",
    "import plotly.graph_objs as go\n",
    "import seaborn as sns\n",
    "import matplotlib.pyplot as plt"
   ]
  },
  {
   "cell_type": "code",
   "execution_count": 2,
   "metadata": {},
   "outputs": [
    {
     "data": {
      "text/plain": [
       "(16719, 16)"
      ]
     },
     "execution_count": 2,
     "metadata": {},
     "output_type": "execute_result"
    }
   ],
   "source": [
    "df = pd.read_csv('Video_Games_Sales_as_at_22_Dec_2016.csv')\n",
    "df.shape"
   ]
  },
  {
   "cell_type": "code",
   "execution_count": 3,
   "metadata": {},
   "outputs": [
    {
     "data": {
      "text/html": [
       "<div>\n",
       "<style scoped>\n",
       "    .dataframe tbody tr th:only-of-type {\n",
       "        vertical-align: middle;\n",
       "    }\n",
       "\n",
       "    .dataframe tbody tr th {\n",
       "        vertical-align: top;\n",
       "    }\n",
       "\n",
       "    .dataframe thead th {\n",
       "        text-align: right;\n",
       "    }\n",
       "</style>\n",
       "<table border=\"1\" class=\"dataframe\">\n",
       "  <thead>\n",
       "    <tr style=\"text-align: right;\">\n",
       "      <th></th>\n",
       "      <th>Name</th>\n",
       "      <th>Platform</th>\n",
       "      <th>Year_of_Release</th>\n",
       "      <th>Genre</th>\n",
       "      <th>Publisher</th>\n",
       "      <th>NA_Sales</th>\n",
       "      <th>EU_Sales</th>\n",
       "      <th>JP_Sales</th>\n",
       "      <th>Other_Sales</th>\n",
       "      <th>Global_Sales</th>\n",
       "      <th>Critic_Score</th>\n",
       "      <th>Critic_Count</th>\n",
       "      <th>User_Score</th>\n",
       "      <th>User_Count</th>\n",
       "      <th>Developer</th>\n",
       "      <th>Rating</th>\n",
       "    </tr>\n",
       "  </thead>\n",
       "  <tbody>\n",
       "    <tr>\n",
       "      <th>0</th>\n",
       "      <td>Wii Sports</td>\n",
       "      <td>Wii</td>\n",
       "      <td>2006.0</td>\n",
       "      <td>Sports</td>\n",
       "      <td>Nintendo</td>\n",
       "      <td>41.36</td>\n",
       "      <td>28.96</td>\n",
       "      <td>3.77</td>\n",
       "      <td>8.45</td>\n",
       "      <td>82.53</td>\n",
       "      <td>76.0</td>\n",
       "      <td>51.0</td>\n",
       "      <td>8</td>\n",
       "      <td>322.0</td>\n",
       "      <td>Nintendo</td>\n",
       "      <td>E</td>\n",
       "    </tr>\n",
       "    <tr>\n",
       "      <th>1</th>\n",
       "      <td>Super Mario Bros.</td>\n",
       "      <td>NES</td>\n",
       "      <td>1985.0</td>\n",
       "      <td>Platform</td>\n",
       "      <td>Nintendo</td>\n",
       "      <td>29.08</td>\n",
       "      <td>3.58</td>\n",
       "      <td>6.81</td>\n",
       "      <td>0.77</td>\n",
       "      <td>40.24</td>\n",
       "      <td>NaN</td>\n",
       "      <td>NaN</td>\n",
       "      <td>NaN</td>\n",
       "      <td>NaN</td>\n",
       "      <td>NaN</td>\n",
       "      <td>NaN</td>\n",
       "    </tr>\n",
       "    <tr>\n",
       "      <th>2</th>\n",
       "      <td>Mario Kart Wii</td>\n",
       "      <td>Wii</td>\n",
       "      <td>2008.0</td>\n",
       "      <td>Racing</td>\n",
       "      <td>Nintendo</td>\n",
       "      <td>15.68</td>\n",
       "      <td>12.76</td>\n",
       "      <td>3.79</td>\n",
       "      <td>3.29</td>\n",
       "      <td>35.52</td>\n",
       "      <td>82.0</td>\n",
       "      <td>73.0</td>\n",
       "      <td>8.3</td>\n",
       "      <td>709.0</td>\n",
       "      <td>Nintendo</td>\n",
       "      <td>E</td>\n",
       "    </tr>\n",
       "    <tr>\n",
       "      <th>3</th>\n",
       "      <td>Wii Sports Resort</td>\n",
       "      <td>Wii</td>\n",
       "      <td>2009.0</td>\n",
       "      <td>Sports</td>\n",
       "      <td>Nintendo</td>\n",
       "      <td>15.61</td>\n",
       "      <td>10.93</td>\n",
       "      <td>3.28</td>\n",
       "      <td>2.95</td>\n",
       "      <td>32.77</td>\n",
       "      <td>80.0</td>\n",
       "      <td>73.0</td>\n",
       "      <td>8</td>\n",
       "      <td>192.0</td>\n",
       "      <td>Nintendo</td>\n",
       "      <td>E</td>\n",
       "    </tr>\n",
       "    <tr>\n",
       "      <th>4</th>\n",
       "      <td>Pokemon Red/Pokemon Blue</td>\n",
       "      <td>GB</td>\n",
       "      <td>1996.0</td>\n",
       "      <td>Role-Playing</td>\n",
       "      <td>Nintendo</td>\n",
       "      <td>11.27</td>\n",
       "      <td>8.89</td>\n",
       "      <td>10.22</td>\n",
       "      <td>1.00</td>\n",
       "      <td>31.37</td>\n",
       "      <td>NaN</td>\n",
       "      <td>NaN</td>\n",
       "      <td>NaN</td>\n",
       "      <td>NaN</td>\n",
       "      <td>NaN</td>\n",
       "      <td>NaN</td>\n",
       "    </tr>\n",
       "  </tbody>\n",
       "</table>\n",
       "</div>"
      ],
      "text/plain": [
       "                       Name Platform  Year_of_Release         Genre Publisher  \\\n",
       "0                Wii Sports      Wii           2006.0        Sports  Nintendo   \n",
       "1         Super Mario Bros.      NES           1985.0      Platform  Nintendo   \n",
       "2            Mario Kart Wii      Wii           2008.0        Racing  Nintendo   \n",
       "3         Wii Sports Resort      Wii           2009.0        Sports  Nintendo   \n",
       "4  Pokemon Red/Pokemon Blue       GB           1996.0  Role-Playing  Nintendo   \n",
       "\n",
       "   NA_Sales  EU_Sales  JP_Sales  Other_Sales  Global_Sales  Critic_Score  \\\n",
       "0     41.36     28.96      3.77         8.45         82.53          76.0   \n",
       "1     29.08      3.58      6.81         0.77         40.24           NaN   \n",
       "2     15.68     12.76      3.79         3.29         35.52          82.0   \n",
       "3     15.61     10.93      3.28         2.95         32.77          80.0   \n",
       "4     11.27      8.89     10.22         1.00         31.37           NaN   \n",
       "\n",
       "   Critic_Count User_Score  User_Count Developer Rating  \n",
       "0          51.0          8       322.0  Nintendo      E  \n",
       "1           NaN        NaN         NaN       NaN    NaN  \n",
       "2          73.0        8.3       709.0  Nintendo      E  \n",
       "3          73.0          8       192.0  Nintendo      E  \n",
       "4           NaN        NaN         NaN       NaN    NaN  "
      ]
     },
     "execution_count": 3,
     "metadata": {},
     "output_type": "execute_result"
    }
   ],
   "source": [
    "df.head()"
   ]
  },
  {
   "cell_type": "code",
   "execution_count": 4,
   "metadata": {},
   "outputs": [
    {
     "name": "stdout",
     "output_type": "stream",
     "text": [
      "<class 'pandas.core.frame.DataFrame'>\n",
      "RangeIndex: 16719 entries, 0 to 16718\n",
      "Data columns (total 16 columns):\n",
      "Name               16717 non-null object\n",
      "Platform           16719 non-null object\n",
      "Year_of_Release    16450 non-null float64\n",
      "Genre              16717 non-null object\n",
      "Publisher          16665 non-null object\n",
      "NA_Sales           16719 non-null float64\n",
      "EU_Sales           16719 non-null float64\n",
      "JP_Sales           16719 non-null float64\n",
      "Other_Sales        16719 non-null float64\n",
      "Global_Sales       16719 non-null float64\n",
      "Critic_Score       8137 non-null float64\n",
      "Critic_Count       8137 non-null float64\n",
      "User_Score         10015 non-null object\n",
      "User_Count         7590 non-null float64\n",
      "Developer          10096 non-null object\n",
      "Rating             9950 non-null object\n",
      "dtypes: float64(9), object(7)\n",
      "memory usage: 2.0+ MB\n"
     ]
    }
   ],
   "source": [
    "df.info()"
   ]
  },
  {
   "cell_type": "markdown",
   "metadata": {},
   "source": [
    "## Variables"
   ]
  },
  {
   "cell_type": "code",
   "execution_count": 5,
   "metadata": {},
   "outputs": [
    {
     "data": {
      "text/plain": [
       "Name                  2\n",
       "Platform              0\n",
       "Year_of_Release     269\n",
       "Genre                 2\n",
       "Publisher            54\n",
       "NA_Sales              0\n",
       "EU_Sales              0\n",
       "JP_Sales              0\n",
       "Other_Sales           0\n",
       "Global_Sales          0\n",
       "Critic_Score       8582\n",
       "Critic_Count       8582\n",
       "User_Score         6704\n",
       "User_Count         9129\n",
       "Developer          6623\n",
       "Rating             6769\n",
       "dtype: int64"
      ]
     },
     "execution_count": 5,
     "metadata": {},
     "output_type": "execute_result"
    }
   ],
   "source": [
    "df.isna().sum()"
   ]
  },
  {
   "cell_type": "code",
   "execution_count": 6,
   "metadata": {},
   "outputs": [
    {
     "data": {
      "text/plain": [
       "Index(['Name', 'Platform', 'Year_of_Release', 'Genre', 'Publisher', 'NA_Sales',\n",
       "       'EU_Sales', 'JP_Sales', 'Other_Sales', 'Global_Sales', 'Critic_Score',\n",
       "       'Critic_Count', 'User_Score', 'User_Count', 'Developer', 'Rating'],\n",
       "      dtype='object')"
      ]
     },
     "execution_count": 6,
     "metadata": {},
     "output_type": "execute_result"
    }
   ],
   "source": [
    "df.columns"
   ]
  },
  {
   "cell_type": "code",
   "execution_count": 7,
   "metadata": {},
   "outputs": [
    {
     "name": "stdout",
     "output_type": "stream",
     "text": [
      "<class 'pandas.core.frame.DataFrame'>\n",
      "Int64Index: 6825 entries, 0 to 16706\n",
      "Data columns (total 16 columns):\n",
      "Name               6825 non-null object\n",
      "Platform           6825 non-null object\n",
      "Year_of_Release    6825 non-null float64\n",
      "Genre              6825 non-null object\n",
      "Publisher          6825 non-null object\n",
      "NA_Sales           6825 non-null float64\n",
      "EU_Sales           6825 non-null float64\n",
      "JP_Sales           6825 non-null float64\n",
      "Other_Sales        6825 non-null float64\n",
      "Global_Sales       6825 non-null float64\n",
      "Critic_Score       6825 non-null float64\n",
      "Critic_Count       6825 non-null float64\n",
      "User_Score         6825 non-null object\n",
      "User_Count         6825 non-null float64\n",
      "Developer          6825 non-null object\n",
      "Rating             6825 non-null object\n",
      "dtypes: float64(9), object(7)\n",
      "memory usage: 906.4+ KB\n"
     ]
    }
   ],
   "source": [
    "df2 = df.copy().dropna()\n",
    "df2.shape\n",
    "df2.info()"
   ]
  },
  {
   "cell_type": "code",
   "execution_count": 8,
   "metadata": {},
   "outputs": [
    {
     "data": {
      "text/html": [
       "<div>\n",
       "<style scoped>\n",
       "    .dataframe tbody tr th:only-of-type {\n",
       "        vertical-align: middle;\n",
       "    }\n",
       "\n",
       "    .dataframe tbody tr th {\n",
       "        vertical-align: top;\n",
       "    }\n",
       "\n",
       "    .dataframe thead th {\n",
       "        text-align: right;\n",
       "    }\n",
       "</style>\n",
       "<table border=\"1\" class=\"dataframe\">\n",
       "  <thead>\n",
       "    <tr style=\"text-align: right;\">\n",
       "      <th></th>\n",
       "      <th>Year_of_Release</th>\n",
       "      <th>NA_Sales</th>\n",
       "      <th>EU_Sales</th>\n",
       "      <th>JP_Sales</th>\n",
       "      <th>Other_Sales</th>\n",
       "      <th>Global_Sales</th>\n",
       "      <th>Critic_Score</th>\n",
       "      <th>Critic_Count</th>\n",
       "      <th>User_Count</th>\n",
       "    </tr>\n",
       "  </thead>\n",
       "  <tbody>\n",
       "    <tr>\n",
       "      <th>count</th>\n",
       "      <td>6825.000000</td>\n",
       "      <td>6825.000000</td>\n",
       "      <td>6825.000000</td>\n",
       "      <td>6825.000000</td>\n",
       "      <td>6825.000000</td>\n",
       "      <td>6825.000000</td>\n",
       "      <td>6825.000000</td>\n",
       "      <td>6825.000000</td>\n",
       "      <td>6825.000000</td>\n",
       "    </tr>\n",
       "    <tr>\n",
       "      <th>mean</th>\n",
       "      <td>2007.436777</td>\n",
       "      <td>0.394484</td>\n",
       "      <td>0.236089</td>\n",
       "      <td>0.064158</td>\n",
       "      <td>0.082677</td>\n",
       "      <td>0.777590</td>\n",
       "      <td>70.272088</td>\n",
       "      <td>28.931136</td>\n",
       "      <td>174.722344</td>\n",
       "    </tr>\n",
       "    <tr>\n",
       "      <th>std</th>\n",
       "      <td>4.211248</td>\n",
       "      <td>0.967385</td>\n",
       "      <td>0.687330</td>\n",
       "      <td>0.287570</td>\n",
       "      <td>0.269871</td>\n",
       "      <td>1.963443</td>\n",
       "      <td>13.868572</td>\n",
       "      <td>19.224165</td>\n",
       "      <td>587.428538</td>\n",
       "    </tr>\n",
       "    <tr>\n",
       "      <th>min</th>\n",
       "      <td>1985.000000</td>\n",
       "      <td>0.000000</td>\n",
       "      <td>0.000000</td>\n",
       "      <td>0.000000</td>\n",
       "      <td>0.000000</td>\n",
       "      <td>0.010000</td>\n",
       "      <td>13.000000</td>\n",
       "      <td>3.000000</td>\n",
       "      <td>4.000000</td>\n",
       "    </tr>\n",
       "    <tr>\n",
       "      <th>25%</th>\n",
       "      <td>2004.000000</td>\n",
       "      <td>0.060000</td>\n",
       "      <td>0.020000</td>\n",
       "      <td>0.000000</td>\n",
       "      <td>0.010000</td>\n",
       "      <td>0.110000</td>\n",
       "      <td>62.000000</td>\n",
       "      <td>14.000000</td>\n",
       "      <td>11.000000</td>\n",
       "    </tr>\n",
       "    <tr>\n",
       "      <th>50%</th>\n",
       "      <td>2007.000000</td>\n",
       "      <td>0.150000</td>\n",
       "      <td>0.060000</td>\n",
       "      <td>0.000000</td>\n",
       "      <td>0.020000</td>\n",
       "      <td>0.290000</td>\n",
       "      <td>72.000000</td>\n",
       "      <td>25.000000</td>\n",
       "      <td>27.000000</td>\n",
       "    </tr>\n",
       "    <tr>\n",
       "      <th>75%</th>\n",
       "      <td>2011.000000</td>\n",
       "      <td>0.390000</td>\n",
       "      <td>0.210000</td>\n",
       "      <td>0.010000</td>\n",
       "      <td>0.070000</td>\n",
       "      <td>0.750000</td>\n",
       "      <td>80.000000</td>\n",
       "      <td>39.000000</td>\n",
       "      <td>89.000000</td>\n",
       "    </tr>\n",
       "    <tr>\n",
       "      <th>max</th>\n",
       "      <td>2016.000000</td>\n",
       "      <td>41.360000</td>\n",
       "      <td>28.960000</td>\n",
       "      <td>6.500000</td>\n",
       "      <td>10.570000</td>\n",
       "      <td>82.530000</td>\n",
       "      <td>98.000000</td>\n",
       "      <td>113.000000</td>\n",
       "      <td>10665.000000</td>\n",
       "    </tr>\n",
       "  </tbody>\n",
       "</table>\n",
       "</div>"
      ],
      "text/plain": [
       "       Year_of_Release     NA_Sales     EU_Sales     JP_Sales  Other_Sales  \\\n",
       "count      6825.000000  6825.000000  6825.000000  6825.000000  6825.000000   \n",
       "mean       2007.436777     0.394484     0.236089     0.064158     0.082677   \n",
       "std           4.211248     0.967385     0.687330     0.287570     0.269871   \n",
       "min        1985.000000     0.000000     0.000000     0.000000     0.000000   \n",
       "25%        2004.000000     0.060000     0.020000     0.000000     0.010000   \n",
       "50%        2007.000000     0.150000     0.060000     0.000000     0.020000   \n",
       "75%        2011.000000     0.390000     0.210000     0.010000     0.070000   \n",
       "max        2016.000000    41.360000    28.960000     6.500000    10.570000   \n",
       "\n",
       "       Global_Sales  Critic_Score  Critic_Count    User_Count  \n",
       "count   6825.000000   6825.000000   6825.000000   6825.000000  \n",
       "mean       0.777590     70.272088     28.931136    174.722344  \n",
       "std        1.963443     13.868572     19.224165    587.428538  \n",
       "min        0.010000     13.000000      3.000000      4.000000  \n",
       "25%        0.110000     62.000000     14.000000     11.000000  \n",
       "50%        0.290000     72.000000     25.000000     27.000000  \n",
       "75%        0.750000     80.000000     39.000000     89.000000  \n",
       "max       82.530000     98.000000    113.000000  10665.000000  "
      ]
     },
     "execution_count": 8,
     "metadata": {},
     "output_type": "execute_result"
    }
   ],
   "source": [
    "df2.describe()"
   ]
  },
  {
   "cell_type": "markdown",
   "metadata": {},
   "source": [
    "## Name"
   ]
  },
  {
   "cell_type": "code",
   "execution_count": 9,
   "metadata": {},
   "outputs": [
    {
     "data": {
      "text/plain": [
       "11562"
      ]
     },
     "execution_count": 9,
     "metadata": {},
     "output_type": "execute_result"
    }
   ],
   "source": [
    "df.Name.nunique()"
   ]
  },
  {
   "cell_type": "markdown",
   "metadata": {},
   "source": [
    "Not every one is unique, check to see what the duplicates look like"
   ]
  },
  {
   "cell_type": "code",
   "execution_count": 10,
   "metadata": {},
   "outputs": [
    {
     "data": {
      "text/html": [
       "<div>\n",
       "<style scoped>\n",
       "    .dataframe tbody tr th:only-of-type {\n",
       "        vertical-align: middle;\n",
       "    }\n",
       "\n",
       "    .dataframe tbody tr th {\n",
       "        vertical-align: top;\n",
       "    }\n",
       "\n",
       "    .dataframe thead th {\n",
       "        text-align: right;\n",
       "    }\n",
       "</style>\n",
       "<table border=\"1\" class=\"dataframe\">\n",
       "  <thead>\n",
       "    <tr style=\"text-align: right;\">\n",
       "      <th></th>\n",
       "      <th>Name</th>\n",
       "      <th>Platform</th>\n",
       "      <th>Year_of_Release</th>\n",
       "      <th>Genre</th>\n",
       "      <th>Publisher</th>\n",
       "      <th>NA_Sales</th>\n",
       "      <th>EU_Sales</th>\n",
       "      <th>JP_Sales</th>\n",
       "      <th>Other_Sales</th>\n",
       "      <th>Global_Sales</th>\n",
       "      <th>Critic_Score</th>\n",
       "      <th>Critic_Count</th>\n",
       "      <th>User_Score</th>\n",
       "      <th>User_Count</th>\n",
       "      <th>Developer</th>\n",
       "      <th>Rating</th>\n",
       "    </tr>\n",
       "  </thead>\n",
       "  <tbody>\n",
       "    <tr>\n",
       "      <th>16</th>\n",
       "      <td>Grand Theft Auto V</td>\n",
       "      <td>PS3</td>\n",
       "      <td>2013.0</td>\n",
       "      <td>Action</td>\n",
       "      <td>Take-Two Interactive</td>\n",
       "      <td>7.02</td>\n",
       "      <td>9.09</td>\n",
       "      <td>0.98</td>\n",
       "      <td>3.96</td>\n",
       "      <td>21.04</td>\n",
       "      <td>97.0</td>\n",
       "      <td>50.0</td>\n",
       "      <td>8.2</td>\n",
       "      <td>3994.0</td>\n",
       "      <td>Rockstar North</td>\n",
       "      <td>M</td>\n",
       "    </tr>\n",
       "    <tr>\n",
       "      <th>23</th>\n",
       "      <td>Grand Theft Auto V</td>\n",
       "      <td>X360</td>\n",
       "      <td>2013.0</td>\n",
       "      <td>Action</td>\n",
       "      <td>Take-Two Interactive</td>\n",
       "      <td>9.66</td>\n",
       "      <td>5.14</td>\n",
       "      <td>0.06</td>\n",
       "      <td>1.41</td>\n",
       "      <td>16.27</td>\n",
       "      <td>97.0</td>\n",
       "      <td>58.0</td>\n",
       "      <td>8.1</td>\n",
       "      <td>3711.0</td>\n",
       "      <td>Rockstar North</td>\n",
       "      <td>M</td>\n",
       "    </tr>\n",
       "    <tr>\n",
       "      <th>42</th>\n",
       "      <td>Grand Theft Auto V</td>\n",
       "      <td>PS4</td>\n",
       "      <td>2014.0</td>\n",
       "      <td>Action</td>\n",
       "      <td>Take-Two Interactive</td>\n",
       "      <td>3.96</td>\n",
       "      <td>6.31</td>\n",
       "      <td>0.38</td>\n",
       "      <td>1.97</td>\n",
       "      <td>12.61</td>\n",
       "      <td>97.0</td>\n",
       "      <td>66.0</td>\n",
       "      <td>8.3</td>\n",
       "      <td>2899.0</td>\n",
       "      <td>Rockstar North</td>\n",
       "      <td>M</td>\n",
       "    </tr>\n",
       "    <tr>\n",
       "      <th>165</th>\n",
       "      <td>Grand Theft Auto V</td>\n",
       "      <td>XOne</td>\n",
       "      <td>2014.0</td>\n",
       "      <td>Action</td>\n",
       "      <td>Take-Two Interactive</td>\n",
       "      <td>2.81</td>\n",
       "      <td>2.19</td>\n",
       "      <td>0.00</td>\n",
       "      <td>0.47</td>\n",
       "      <td>5.48</td>\n",
       "      <td>97.0</td>\n",
       "      <td>14.0</td>\n",
       "      <td>7.9</td>\n",
       "      <td>764.0</td>\n",
       "      <td>Rockstar North</td>\n",
       "      <td>M</td>\n",
       "    </tr>\n",
       "    <tr>\n",
       "      <th>1730</th>\n",
       "      <td>Grand Theft Auto V</td>\n",
       "      <td>PC</td>\n",
       "      <td>2015.0</td>\n",
       "      <td>Action</td>\n",
       "      <td>Take-Two Interactive</td>\n",
       "      <td>0.39</td>\n",
       "      <td>0.69</td>\n",
       "      <td>0.00</td>\n",
       "      <td>0.09</td>\n",
       "      <td>1.17</td>\n",
       "      <td>96.0</td>\n",
       "      <td>57.0</td>\n",
       "      <td>7.9</td>\n",
       "      <td>3756.0</td>\n",
       "      <td>Rockstar North</td>\n",
       "      <td>M</td>\n",
       "    </tr>\n",
       "  </tbody>\n",
       "</table>\n",
       "</div>"
      ],
      "text/plain": [
       "                    Name Platform  Year_of_Release   Genre  \\\n",
       "16    Grand Theft Auto V      PS3           2013.0  Action   \n",
       "23    Grand Theft Auto V     X360           2013.0  Action   \n",
       "42    Grand Theft Auto V      PS4           2014.0  Action   \n",
       "165   Grand Theft Auto V     XOne           2014.0  Action   \n",
       "1730  Grand Theft Auto V       PC           2015.0  Action   \n",
       "\n",
       "                 Publisher  NA_Sales  EU_Sales  JP_Sales  Other_Sales  \\\n",
       "16    Take-Two Interactive      7.02      9.09      0.98         3.96   \n",
       "23    Take-Two Interactive      9.66      5.14      0.06         1.41   \n",
       "42    Take-Two Interactive      3.96      6.31      0.38         1.97   \n",
       "165   Take-Two Interactive      2.81      2.19      0.00         0.47   \n",
       "1730  Take-Two Interactive      0.39      0.69      0.00         0.09   \n",
       "\n",
       "      Global_Sales  Critic_Score  Critic_Count User_Score  User_Count  \\\n",
       "16           21.04          97.0          50.0        8.2      3994.0   \n",
       "23           16.27          97.0          58.0        8.1      3711.0   \n",
       "42           12.61          97.0          66.0        8.3      2899.0   \n",
       "165           5.48          97.0          14.0        7.9       764.0   \n",
       "1730          1.17          96.0          57.0        7.9      3756.0   \n",
       "\n",
       "           Developer Rating  \n",
       "16    Rockstar North      M  \n",
       "23    Rockstar North      M  \n",
       "42    Rockstar North      M  \n",
       "165   Rockstar North      M  \n",
       "1730  Rockstar North      M  "
      ]
     },
     "execution_count": 10,
     "metadata": {},
     "output_type": "execute_result"
    }
   ],
   "source": [
    "df[df.Name==df[df.Name.duplicated()].Name.values[0]]"
   ]
  },
  {
   "cell_type": "code",
   "execution_count": 11,
   "metadata": {},
   "outputs": [
    {
     "data": {
      "text/plain": [
       "array(['Wii', 'DS', 'X360', 'PS3', 'PS2', '3DS', 'PS4', 'PS', 'XB', 'PC',\n",
       "       'PSP', 'WiiU', 'GC', 'GBA', 'XOne', 'PSV', 'DC'], dtype=object)"
      ]
     },
     "execution_count": 11,
     "metadata": {},
     "output_type": "execute_result"
    }
   ],
   "source": [
    "df2.Platform.unique()"
   ]
  },
  {
   "cell_type": "markdown",
   "metadata": {},
   "source": [
    "These are the games that have versions across multiple platforms."
   ]
  },
  {
   "cell_type": "markdown",
   "metadata": {},
   "source": [
    "## Platform"
   ]
  },
  {
   "cell_type": "code",
   "execution_count": 12,
   "metadata": {
    "scrolled": true
   },
   "outputs": [
    {
     "name": "stdout",
     "output_type": "stream",
     "text": [
      "High five! You successfully sent some data to your account on plotly. View your plot in your browser at https://plot.ly/~sherry9788/0 or inside your plot.ly account where it is named 'Platform Frequency'\n"
     ]
    },
    {
     "name": "stderr",
     "output_type": "stream",
     "text": [
      "/Library/Frameworks/Python.framework/Versions/3.7/lib/python3.7/site-packages/IPython/core/display.py:689: UserWarning:\n",
      "\n",
      "Consider using IPython.display.IFrame instead\n",
      "\n"
     ]
    },
    {
     "data": {
      "text/html": [
       "<iframe id=\"igraph\" scrolling=\"no\" style=\"border:none;\" seamless=\"seamless\" src=\"https://plot.ly/~sherry9788/0.embed\" height=\"525px\" width=\"100%\"></iframe>"
      ],
      "text/plain": [
       "<plotly.tools.PlotlyDisplay object>"
      ]
     },
     "execution_count": 12,
     "metadata": {},
     "output_type": "execute_result"
    }
   ],
   "source": [
    "data = [go.Histogram(x=df2.Platform)]\n",
    "py.iplot(data, filename='Platform Frequency')"
   ]
  },
  {
   "cell_type": "code",
   "execution_count": 13,
   "metadata": {},
   "outputs": [
    {
     "name": "stdout",
     "output_type": "stream",
     "text": [
      "PS2     1140\n",
      "X360     858\n",
      "PS3      769\n",
      "PC       651\n",
      "XB       565\n",
      "Wii      479\n",
      "DS       464\n",
      "PSP      390\n",
      "GC       348\n",
      "PS4      239\n",
      "GBA      237\n",
      "XOne     159\n",
      "3DS      155\n",
      "PS       150\n",
      "PSV      118\n",
      "WiiU      89\n",
      "DC        14\n",
      "Name: Platform, dtype: int64\n"
     ]
    }
   ],
   "source": [
    "platform = df2.Platform.value_counts()\n",
    "print(platform)"
   ]
  },
  {
   "cell_type": "code",
   "execution_count": 14,
   "metadata": {},
   "outputs": [
    {
     "data": {
      "image/png": "[encoded data removed]",
      "text/plain": [
       "<Figure size 1080x360 with 1 Axes>"
      ]
     },
     "metadata": {
      "needs_background": "light"
     },
     "output_type": "display_data"
    }
   ],
   "source": [
    "plt.figure(figsize=(15,5))\n",
    "sns.barplot(platform.index, platform.values, alpha=0.8)\n",
    "plt.title('Platform freq')\n",
    "plt.ylabel('Number of Occurrences')\n",
    "plt.xlabel('Platform')\n",
    "plt.show()"
   ]
  },
  {
   "cell_type": "markdown",
   "metadata": {},
   "source": [
    "## Genre"
   ]
  },
  {
   "cell_type": "code",
   "execution_count": 15,
   "metadata": {},
   "outputs": [
    {
     "data": {
      "text/plain": [
       "array(['Sports', 'Racing', 'Platform', 'Misc', 'Action', 'Puzzle',\n",
       "       'Shooter', 'Fighting', 'Simulation', 'Role-Playing', 'Adventure',\n",
       "       'Strategy'], dtype=object)"
      ]
     },
     "execution_count": 15,
     "metadata": {},
     "output_type": "execute_result"
    }
   ],
   "source": [
    "df2.Genre.unique()"
   ]
  },
  {
   "cell_type": "code",
   "execution_count": 16,
   "metadata": {},
   "outputs": [
    {
     "name": "stdout",
     "output_type": "stream",
     "text": [
      "Action          1630\n",
      "Sports           943\n",
      "Shooter          864\n",
      "Role-Playing     712\n",
      "Racing           581\n",
      "Platform         403\n",
      "Misc             384\n",
      "Fighting         378\n",
      "Simulation       297\n",
      "Strategy         267\n",
      "Adventure        248\n",
      "Puzzle           118\n",
      "Name: Genre, dtype: int64\n"
     ]
    }
   ],
   "source": [
    "genre = df2.Genre.value_counts()\n",
    "print(genre)"
   ]
  },
  {
   "cell_type": "code",
   "execution_count": 17,
   "metadata": {
    "scrolled": true
   },
   "outputs": [
    {
     "data": {
      "image/png": "[encoded data removed]",
      "text/plain": [
       "<Figure size 1080x360 with 1 Axes>"
      ]
     },
     "metadata": {
      "needs_background": "light"
     },
     "output_type": "display_data"
    }
   ],
   "source": [
    "plt.figure(figsize=(15,5))\n",
    "sns.barplot(genre.index, genre.values, alpha=0.8)\n",
    "plt.title('Genre freq')\n",
    "plt.ylabel('Number of Occurrences')\n",
    "plt.xlabel('Genre')\n",
    "plt.show()"
   ]
  },
  {
   "cell_type": "markdown",
   "metadata": {},
   "source": [
    "## Publisher"
   ]
  },
  {
   "cell_type": "code",
   "execution_count": 18,
   "metadata": {},
   "outputs": [
    {
     "data": {
      "text/plain": [
       "array(['Nintendo', 'Microsoft Game Studios', 'Take-Two Interactive',\n",
       "       'Sony Computer Entertainment', 'Activision', 'Ubisoft',\n",
       "       'Bethesda Softworks', 'Electronic Arts', 'SquareSoft',\n",
       "       'GT Interactive', 'Konami Digital Entertainment', 'Square Enix',\n",
       "       'Sony Computer Entertainment Europe', 'Virgin Interactive',\n",
       "       'LucasArts', '505 Games', 'Capcom',\n",
       "       'Warner Bros. Interactive Entertainment', 'Universal Interactive',\n",
       "       'RedOctane', 'Atari', 'Eidos Interactive', 'Namco Bandai Games',\n",
       "       'Vivendi Games', 'MTV Games', 'Sega', 'THQ',\n",
       "       'Disney Interactive Studios', 'Acclaim Entertainment',\n",
       "       'Midway Games', 'Deep Silver', 'NCSoft', 'Tecmo Koei',\n",
       "       'Valve Software', 'Infogrames', 'Mindscape', 'Valve',\n",
       "       'Hello Games', 'Global Star', 'Gotham Games',\n",
       "       'Crave Entertainment', 'Hasbro Interactive', 'Codemasters',\n",
       "       'TDK Mediactive', 'Zoo Games', 'Sony Online Entertainment', 'RTL',\n",
       "       'D3Publisher', 'Black Label Games', 'SouthPeak Games',\n",
       "       'Zoo Digital Publishing', 'City Interactive', 'Empire Interactive',\n",
       "       'Russel', 'Atlus', 'Mastertronic', 'Slightly Mad Studios',\n",
       "       'Play It', 'Tomy Corporation', 'Focus Home Interactive', 'Unknown',\n",
       "       'Game Factory', 'Titus', 'Marvelous Entertainment', 'Genki',\n",
       "       'TalonSoft', 'Square Enix ', 'SCi', 'Rage Software',\n",
       "       'Ubisoft Annecy', 'Rising Star Games', 'Enix Corporation',\n",
       "       'Level 5', 'Koch Media', 'Square EA', 'Touchstone', 'Spike',\n",
       "       'Nippon Ichi Software', 'Sony Computer Entertainment America',\n",
       "       'Illusion Softworks', 'Interplay', 'Metro 3D', 'Rondomedia',\n",
       "       'Ghostlight', 'Majesco Entertainment', 'PQube', 'Trion Worlds',\n",
       "       'Xseed Games', 'Ignition Entertainment', 'Kadokawa Shoten',\n",
       "       'Natsume', 'Square', 'Gamebridge',\n",
       "       'Midas Interactive Entertainment', 'ASCII Entertainment',\n",
       "       'Rebellion', 'Harmonix Music Systems', 'Activision Blizzard',\n",
       "       'Xplosiv', 'System 3 Arcade Software', 'Wanadoo', 'NovaLogic',\n",
       "       'BAM! Entertainment', 'Tetris Online', 'Psygnosis', 'Screenlife',\n",
       "       'GungHo', 'Jester Interactive', 'Black Bean Games', '3DO',\n",
       "       'Takara Tomy', 'Sammy Corporation', 'Hudson Soft',\n",
       "       'Marvelous Interactive', 'Kalypso Media',\n",
       "       'Home Entertainment Suppliers', 'Arc System Works', 'Banpresto',\n",
       "       'Wargaming.net', 'Destineer', 'Pacific Century Cyber Works',\n",
       "       'PopCap Games', 'Indie Games', 'FuRyu', 'Nihon Falcom Corporation',\n",
       "       'Gathering of Developers', 'Oxygen Interactive',\n",
       "       'DTP Entertainment', 'Falcom Corporation', 'Kemco',\n",
       "       'Milestone S.r.l.', 'AQ Interactive', 'Agetec', 'XS Games',\n",
       "       'Activision Value', 'Telltale Games', 'Zushi Games', 'CCP',\n",
       "       'Agatsuma Entertainment', 'Compile Heart', 'Mad Catz', 'Gust',\n",
       "       'Media Rings', 'JoWood Productions', 'Brash Entertainment',\n",
       "       'Funcom', 'Jaleco', 'Playlogic Game Factory',\n",
       "       'Human Entertainment', 'Fox Interactive', 'Scholastic Inc.',\n",
       "       'System 3', 'Nordic Games', 'White Park Bay Software', 'EA Games',\n",
       "       'Acquire', 'Paradox Interactive', 'Yacht Club Games',\n",
       "       'Swing! Entertainment', 'Hip Interactive', 'Tripwire Interactive',\n",
       "       'Enterbrain', 'Havas Interactive', 'Sting', 'Idea Factory',\n",
       "       'Funsta', 'Tru Blu Entertainment', 'Moss', 'From Software',\n",
       "       'NDA Productions', 'Bigben Interactive',\n",
       "       'Idea Factory International', 'O-Games', 'Funbox Media',\n",
       "       'Valcon Games', 'PM Studios', 'Bohemia Interactive', 'Aqua Plus',\n",
       "       'Ackkstudios', 'HMH Interactive', 'inXile Entertainment', 'Cave',\n",
       "       'Microids', 'Phantom EFX', 'Evolved Games', 'O3 Entertainment',\n",
       "       'Aspyr', 'Nobilis', 'Sunsoft', 'DSI Games', 'Little Orbit',\n",
       "       'Telegames', 'The Adventure Company', 'Popcorn Arcade',\n",
       "       'Insomniac Games', 'Aksys Games', 'Taito', 'Reef Entertainment',\n",
       "       'Irem Software Engineering', 'Myelin Media', 'Success', 'SNK',\n",
       "       'Avalon Interactive', 'Revolution Software', 'Gamecock',\n",
       "       'Groove Games', 'Hudson Entertainment', 'Mercury Games',\n",
       "       'Ascaron Entertainment GmbH', 'Mastiff',\n",
       "       'Destination Software, Inc', 'Graffiti', '1C Company',\n",
       "       'Phantagram', 'DreamCatcher Interactive',\n",
       "       'Dusenberry Martin Racing', 'Navarre Corp', 'ESP',\n",
       "       'Team17 Software', 'Max Five', 'Conspiracy Entertainment',\n",
       "       'Milestone S.r.l', 'Rebellion Developments', 'Kool Kizz',\n",
       "       'Monte Christo Multimedia', '5pb',\n",
       "       'Cloud Imperium Games Corporation', 'Flashpoint Games',\n",
       "       'Alternative Software', 'DHM Interactive', 'Iceberg Interactive',\n",
       "       'MC2 Entertainment', '2D Boy', 'Gearbox Software',\n",
       "       'Global A Entertainment', 'Just Flight', 'bitComposer Games',\n",
       "       'Introversion Software', 'Sold Out', 'Sunflowers', 'id Software',\n",
       "       'Maxis', 'Pinnacle', 'Xicat Interactive', 'Devolver Digital',\n",
       "       'Number None', 'Strategy First', 'Lexicon Entertainment', 'GOA',\n",
       "       'Avanquest', 'Graphsim Entertainment', 'Codemasters Online',\n",
       "       'Stainless Games', '10TACLE Studios', 'FuRyu Corporation', 'Visco',\n",
       "       'Crimson Cow', 'Lighthouse Interactive',\n",
       "       'CDV Software Entertainment', 'Encore', 'Blue Byte', 'NewKidCo'],\n",
       "      dtype=object)"
      ]
     },
     "execution_count": 18,
     "metadata": {},
     "output_type": "execute_result"
    }
   ],
   "source": [
    "df2.Publisher.unique()"
   ]
  },
  {
   "cell_type": "code",
   "execution_count": 19,
   "metadata": {},
   "outputs": [
    {
     "data": {
      "text/plain": [
       "262"
      ]
     },
     "execution_count": 19,
     "metadata": {},
     "output_type": "execute_result"
    }
   ],
   "source": [
    "len(df2.Publisher.unique())"
   ]
  },
  {
   "cell_type": "code",
   "execution_count": 20,
   "metadata": {},
   "outputs": [
    {
     "data": {
      "text/plain": [
       "Electronic Arts                           944\n",
       "Ubisoft                                   496\n",
       "Activision                                492\n",
       "Sony Computer Entertainment               316\n",
       "THQ                                       307\n",
       "Nintendo                                  291\n",
       "Sega                                      284\n",
       "Take-Two Interactive                      273\n",
       "Konami Digital Entertainment              244\n",
       "Namco Bandai Games                        239\n",
       "Capcom                                    197\n",
       "Atari                                     176\n",
       "Microsoft Game Studios                    141\n",
       "Tecmo Koei                                137\n",
       "Square Enix                               134\n",
       "Warner Bros. Interactive Entertainment    130\n",
       "Eidos Interactive                         123\n",
       "Vivendi Games                             113\n",
       "Codemasters                               111\n",
       "Midway Games                              103\n",
       "505 Games                                  80\n",
       "Deep Silver                                76\n",
       "Disney Interactive Studios                 74\n",
       "LucasArts                                  70\n",
       "Acclaim Entertainment                      66\n",
       "Nippon Ichi Software                       60\n",
       "Rising Star Games                          52\n",
       "Bethesda Softworks                         46\n",
       "D3Publisher                                35\n",
       "Focus Home Interactive                     31\n",
       "Ignition Entertainment                     30\n",
       "Empire Interactive                         27\n",
       "Atlus                                      25\n",
       "Unknown                                    24\n",
       "Zoo Digital Publishing                     24\n",
       "Majesco Entertainment                      23\n",
       "PQube                                      22\n",
       "Kalypso Media                              22\n",
       "SouthPeak Games                            21\n",
       "TDK Mediactive                             21\n",
       "Name: Publisher, dtype: int64"
      ]
     },
     "execution_count": 20,
     "metadata": {},
     "output_type": "execute_result"
    }
   ],
   "source": [
    "df2.Publisher.value_counts().iloc[:40]"
   ]
  },
  {
   "cell_type": "code",
   "execution_count": 21,
   "metadata": {},
   "outputs": [
    {
     "data": {
      "text/plain": [
       "(array([ 0,  1,  2,  3,  4,  5,  6,  7,  8,  9, 10, 11, 12, 13, 14]),\n",
       " <a list of 15 Text xticklabel objects>)"
      ]
     },
     "execution_count": 21,
     "metadata": {},
     "output_type": "execute_result"
    },
    {
     "data": {
      "image/png": "[encoded data removed]",
      "text/plain": [
       "<Figure size 1080x288 with 1 Axes>"
      ]
     },
     "metadata": {
      "needs_background": "light"
     },
     "output_type": "display_data"
    }
   ],
   "source": [
    "plt.figure(figsize=(15, 4))\n",
    "sns.countplot(df2.Publisher, order=df2.Publisher.value_counts().iloc[:15].index)\n",
    "plt.xticks(rotation=20)"
   ]
  },
  {
   "cell_type": "markdown",
   "metadata": {},
   "source": [
    "## Year of Release"
   ]
  },
  {
   "cell_type": "code",
   "execution_count": 22,
   "metadata": {},
   "outputs": [
    {
     "data": {
      "text/plain": [
       "array([1985., 1988., 1992., 1994., 1996., 1997., 1998., 1999., 2000.,\n",
       "       2001., 2002., 2003., 2004., 2005., 2006., 2007., 2008., 2009.,\n",
       "       2010., 2011., 2012., 2013., 2014., 2015., 2016.])"
      ]
     },
     "execution_count": 22,
     "metadata": {},
     "output_type": "execute_result"
    }
   ],
   "source": [
    "np.sort(df2.Year_of_Release.unique())"
   ]
  },
  {
   "cell_type": "code",
   "execution_count": 23,
   "metadata": {},
   "outputs": [],
   "source": [
    "df2.Year_of_Release = df2.Year_of_Release.astype(int)"
   ]
  },
  {
   "cell_type": "code",
   "execution_count": 24,
   "metadata": {},
   "outputs": [
    {
     "data": {
      "text/plain": [
       "<matplotlib.axes._subplots.AxesSubplot at 0x111bc1f98>"
      ]
     },
     "execution_count": 24,
     "metadata": {},
     "output_type": "execute_result"
    },
    {
     "data": {
      "image/png": "[encoded data removed]",
      "text/plain": [
       "<Figure size 1080x432 with 1 Axes>"
      ]
     },
     "metadata": {
      "needs_background": "light"
     },
     "output_type": "display_data"
    }
   ],
   "source": [
    "plt.figure(figsize=(15, 6))\n",
    "sns.distplot(df2.Year_of_Release, kde = False, bins=df2.Year_of_Release.nunique())"
   ]
  },
  {
   "cell_type": "markdown",
   "metadata": {},
   "source": [
    "## Critic_Score, Critic_Count, User_Score, User_Count"
   ]
  },
  {
   "cell_type": "code",
   "execution_count": 25,
   "metadata": {
    "scrolled": true
   },
   "outputs": [
    {
     "data": {
      "text/plain": [
       "array(['8', '8.3', '8.5', '6.6', '8.4', '8.6', '7.7', '6.3', '7.4', '8.2',\n",
       "       '9', '7.9', '8.1', '8.7', '7.1', '3.4', '5.3', '4.8', '3.2', '8.9',\n",
       "       '6.4', '7.8', '7.5', '2.6', '7.2', '9.2', '7', '7.3', '4.3', '7.6',\n",
       "       '5.7', '5', '9.1', '6.5', '8.8', '6.9', '9.4', '6.8', '6.1', '6.7',\n",
       "       '5.4', '4', '9.3', '6.2', '4.2', '6', '4.9', '3.7', '4.1', '5.8',\n",
       "       '5.6', '5.5', '4.4', '4.6', '5.9', '3.9', '3.1', '2.9', '5.2',\n",
       "       '3.3', '4.5', '5.1', '3.5', '2.5', '1.9', '2.2', '2', '9.5', '4.7',\n",
       "       '2.1', '3.6', '1.8', '3.8', '3', '9.6', '2.8', '1.7', '2.7', '2.4',\n",
       "       '1.5', '1.2', '2.3', '0.5', '0.6', '0.9', '1', '1.4', '1.3', '0.7'],\n",
       "      dtype=object)"
      ]
     },
     "execution_count": 25,
     "metadata": {},
     "output_type": "execute_result"
    }
   ],
   "source": [
    "df2.User_Score.unique()"
   ]
  },
  {
   "cell_type": "code",
   "execution_count": 26,
   "metadata": {},
   "outputs": [
    {
     "name": "stdout",
     "output_type": "stream",
     "text": [
      "9.6\n",
      "0.5\n"
     ]
    }
   ],
   "source": [
    "df2.User_Score = df2.User_Score.astype(float)\n",
    "print(df2.User_Score.max())\n",
    "print(df2.User_Score.min())"
   ]
  },
  {
   "cell_type": "code",
   "execution_count": 27,
   "metadata": {},
   "outputs": [
    {
     "name": "stdout",
     "output_type": "stream",
     "text": [
      "10665\n",
      "4\n"
     ]
    }
   ],
   "source": [
    "df2.User_Count = df2.User_Count.astype(int)\n",
    "print(df2.User_Count.max())\n",
    "print(df2.User_Count.min())"
   ]
  },
  {
   "cell_type": "code",
   "execution_count": 28,
   "metadata": {},
   "outputs": [
    {
     "name": "stdout",
     "output_type": "stream",
     "text": [
      "98.0\n",
      "13.0\n"
     ]
    }
   ],
   "source": [
    "df2.Critic_Score = df2.Critic_Score.astype(float)\n",
    "print(df2.Critic_Score.max())\n",
    "print(df2.Critic_Score.min())"
   ]
  },
  {
   "cell_type": "code",
   "execution_count": 29,
   "metadata": {
    "scrolled": false
   },
   "outputs": [
    {
     "name": "stdout",
     "output_type": "stream",
     "text": [
      "113\n",
      "3\n"
     ]
    }
   ],
   "source": [
    "df2.Critic_Count = df2.Critic_Count.astype(int)\n",
    "print(df2.Critic_Count.max())\n",
    "print(df2.Critic_Count.min())"
   ]
  },
  {
   "cell_type": "code",
   "execution_count": 30,
   "metadata": {},
   "outputs": [
    {
     "name": "stderr",
     "output_type": "stream",
     "text": [
      "/Library/Frameworks/Python.framework/Versions/3.7/lib/python3.7/site-packages/scipy/stats/stats.py:1713: FutureWarning:\n",
      "\n",
      "Using a non-tuple sequence for multidimensional indexing is deprecated; use `arr[tuple(seq)]` instead of `arr[seq]`. In the future this will be interpreted as an array index, `arr[np.array(seq)]`, which will result either in an error or a different result.\n",
      "\n"
     ]
    },
    {
     "data": {
      "text/plain": [
       "<matplotlib.axes._subplots.AxesSubplot at 0x110a29dd8>"
      ]
     },
     "execution_count": 30,
     "metadata": {},
     "output_type": "execute_result"
    },
    {
     "data": {
      "image/png": "[encoded data removed]",
      "text/plain": [
       "<Figure size 1080x576 with 4 Axes>"
      ]
     },
     "metadata": {
      "needs_background": "light"
     },
     "output_type": "display_data"
    }
   ],
   "source": [
    "plt.figure(figsize=(15, 8))\n",
    "plt.subplot(2,2,1)\n",
    "sns.distplot(df2.Critic_Score)\n",
    "\n",
    "plt.subplot(2,2,2)\n",
    "sns.distplot(df2.User_Score)\n",
    "\n",
    "plt.subplot(2,2,3)\n",
    "sns.distplot(df2.Critic_Count)\n",
    "\n",
    "plt.subplot(2,2,4)\n",
    "sns.distplot(df2.User_Count)"
   ]
  },
  {
   "cell_type": "markdown",
   "metadata": {},
   "source": [
    "## Developer"
   ]
  },
  {
   "cell_type": "code",
   "execution_count": 31,
   "metadata": {},
   "outputs": [
    {
     "data": {
      "text/plain": [
       "array(['Nintendo', 'Good Science Studio', 'Rockstar North', ...,\n",
       "       'Big Red Software', 'Fluid Studios', 'Atomic Games'], dtype=object)"
      ]
     },
     "execution_count": 31,
     "metadata": {},
     "output_type": "execute_result"
    }
   ],
   "source": [
    "df2.Developer.unique()"
   ]
  },
  {
   "cell_type": "code",
   "execution_count": 32,
   "metadata": {},
   "outputs": [
    {
     "data": {
      "text/plain": [
       "1289"
      ]
     },
     "execution_count": 32,
     "metadata": {},
     "output_type": "execute_result"
    }
   ],
   "source": [
    "len(df2.Developer.unique())"
   ]
  },
  {
   "cell_type": "code",
   "execution_count": 33,
   "metadata": {},
   "outputs": [
    {
     "data": {
      "text/plain": [
       "(array([ 0,  1,  2,  3,  4,  5,  6,  7,  8,  9, 10, 11, 12, 13, 14]),\n",
       " <a list of 15 Text xticklabel objects>)"
      ]
     },
     "execution_count": 33,
     "metadata": {},
     "output_type": "execute_result"
    },
    {
     "data": {
      "image/png": "[encoded data removed]",
      "text/plain": [
       "<Figure size 1080x288 with 1 Axes>"
      ]
     },
     "metadata": {
      "needs_background": "light"
     },
     "output_type": "display_data"
    }
   ],
   "source": [
    "plt.figure(figsize=(15, 4))\n",
    "sns.countplot(df.Developer, order=df.Developer.value_counts().iloc[:15].index)\n",
    "plt.xticks(rotation=15)"
   ]
  },
  {
   "cell_type": "code",
   "execution_count": 34,
   "metadata": {},
   "outputs": [
    {
     "name": "stdout",
     "output_type": "stream",
     "text": [
      "SCEA San Diego Studios    25\n",
      "SCE Japan Studio          17\n",
      "SCEA                      14\n",
      "989 Sports                12\n",
      "Namco                     12\n",
      "SCEE London Studio        12\n",
      "Naughty Dog               10\n",
      "Zipper Interactive         8\n",
      "Clap Hanz                  7\n",
      "Sucker Punch               7\n",
      "Name: Developer, dtype: int64\n"
     ]
    }
   ],
   "source": [
    "sony_studio = df2.loc[(df2.Publisher.isna()==False) & (df2.Publisher.str.contains('Sony')), 'Developer'].value_counts()\n",
    "print(sony_studio[np.arange(10)])"
   ]
  },
  {
   "cell_type": "code",
   "execution_count": 35,
   "metadata": {},
   "outputs": [
    {
     "data": {
      "text/plain": [
       "124"
      ]
     },
     "execution_count": 35,
     "metadata": {},
     "output_type": "execute_result"
    }
   ],
   "source": [
    "len(sony_studio)"
   ]
  },
  {
   "cell_type": "markdown",
   "metadata": {},
   "source": [
    "## Rating"
   ]
  },
  {
   "cell_type": "code",
   "execution_count": 36,
   "metadata": {},
   "outputs": [
    {
     "data": {
      "text/plain": [
       "array(['AO', 'E', 'E10+', 'K-A', 'M', 'RP', 'T'], dtype=object)"
      ]
     },
     "execution_count": 36,
     "metadata": {},
     "output_type": "execute_result"
    }
   ],
   "source": [
    "np.sort(df2.Rating.unique())"
   ]
  },
  {
   "cell_type": "code",
   "execution_count": 37,
   "metadata": {},
   "outputs": [
    {
     "name": "stdout",
     "output_type": "stream",
     "text": [
      "T       2377\n",
      "E       2082\n",
      "M       1433\n",
      "E10+     930\n",
      "AO         1\n",
      "K-A        1\n",
      "RP         1\n",
      "Name: Rating, dtype: int64\n"
     ]
    }
   ],
   "source": [
    "rating = df2.Rating.value_counts()\n",
    "print(rating)"
   ]
  },
  {
   "cell_type": "code",
   "execution_count": 38,
   "metadata": {},
   "outputs": [],
   "source": [
    "df2.loc[df2.Rating=='K-A', 'Rating'] = 'E' "
   ]
  },
  {
   "cell_type": "code",
   "execution_count": 39,
   "metadata": {},
   "outputs": [
    {
     "name": "stdout",
     "output_type": "stream",
     "text": [
      "T       2377\n",
      "E       2083\n",
      "M       1433\n",
      "E10+     930\n",
      "AO         1\n",
      "RP         1\n",
      "Name: Rating, dtype: int64\n"
     ]
    }
   ],
   "source": [
    "rating = df2.Rating.value_counts()\n",
    "print(rating)"
   ]
  },
  {
   "cell_type": "code",
   "execution_count": 40,
   "metadata": {
    "scrolled": true
   },
   "outputs": [
    {
     "data": {
      "image/png": "[encoded data removed]",
      "text/plain": [
       "<Figure size 720x360 with 1 Axes>"
      ]
     },
     "metadata": {
      "needs_background": "light"
     },
     "output_type": "display_data"
    }
   ],
   "source": [
    "plt.figure(figsize=(10,5))\n",
    "sns.barplot(rating.index, rating.values, alpha=0.8)\n",
    "plt.title('Rating freq')\n",
    "plt.ylabel('Number of Occurrences')\n",
    "plt.xlabel('Rating')\n",
    "plt.show()"
   ]
  },
  {
   "cell_type": "markdown",
   "metadata": {},
   "source": [
    "## NA_Sales, EU_Sales, JP_Sales, Other_Sales, Global_Sales\n",
    "\n",
    "Game sales in North America (in millions of units)"
   ]
  },
  {
   "cell_type": "code",
   "execution_count": 41,
   "metadata": {},
   "outputs": [
    {
     "data": {
      "text/plain": [
       "0    True\n",
       "1    True\n",
       "2    True\n",
       "3    True\n",
       "4    True\n",
       "dtype: bool"
      ]
     },
     "execution_count": 41,
     "metadata": {},
     "output_type": "execute_result"
    }
   ],
   "source": [
    "((df.Global_Sales>=df.loc[:,['NA_Sales', 'EU_Sales', 'JP_Sales', 'Other_Sales']].sum(axis=1)*0.99) \n",
    "& (df.Global_Sales<=df.loc[:,['NA_Sales', 'EU_Sales', 'JP_Sales', 'Other_Sales']].sum(axis=1)*1.01)).head()"
   ]
  },
  {
   "cell_type": "code",
   "execution_count": 42,
   "metadata": {},
   "outputs": [
    {
     "data": {
      "text/plain": [
       "<seaborn.axisgrid.PairGrid at 0x1148f2b00>"
      ]
     },
     "execution_count": 42,
     "metadata": {},
     "output_type": "execute_result"
    },
    {
     "data": {
      "image/png": "[encoded data removed]",
      "text/plain": [
       "<Figure size 900x900 with 30 Axes>"
      ]
     },
     "metadata": {
      "needs_background": "light"
     },
     "output_type": "display_data"
    }
   ],
   "source": [
    "sns.pairplot(df.loc[:,['NA_Sales', 'EU_Sales', 'JP_Sales', 'Other_Sales', 'Global_Sales']])"
   ]
  },
  {
   "cell_type": "code",
   "execution_count": null,
   "metadata": {},
   "outputs": [],
   "source": []
  },
  {
   "cell_type": "markdown",
   "metadata": {},
   "source": [
    "## Platform"
   ]
  },
  {
   "cell_type": "markdown",
   "metadata": {},
   "source": [
    "This table counts the number of games released on each platform by year."
   ]
  },
  {
   "cell_type": "code",
   "execution_count": 43,
   "metadata": {
    "scrolled": true
   },
   "outputs": [
    {
     "data": {
      "text/html": [
       "<div>\n",
       "<style scoped>\n",
       "    .dataframe tbody tr th:only-of-type {\n",
       "        vertical-align: middle;\n",
       "    }\n",
       "\n",
       "    .dataframe tbody tr th {\n",
       "        vertical-align: top;\n",
       "    }\n",
       "\n",
       "    .dataframe thead th {\n",
       "        text-align: right;\n",
       "    }\n",
       "</style>\n",
       "<table border=\"1\" class=\"dataframe\">\n",
       "  <thead>\n",
       "    <tr style=\"text-align: right;\">\n",
       "      <th>Platform</th>\n",
       "      <th>3DS</th>\n",
       "      <th>DC</th>\n",
       "      <th>DS</th>\n",
       "      <th>GBA</th>\n",
       "      <th>GC</th>\n",
       "      <th>PC</th>\n",
       "      <th>PS</th>\n",
       "      <th>PS2</th>\n",
       "      <th>PS3</th>\n",
       "      <th>PS4</th>\n",
       "      <th>PSP</th>\n",
       "      <th>PSV</th>\n",
       "      <th>Wii</th>\n",
       "      <th>WiiU</th>\n",
       "      <th>X360</th>\n",
       "      <th>XB</th>\n",
       "      <th>XOne</th>\n",
       "    </tr>\n",
       "    <tr>\n",
       "      <th>Year_of_Release</th>\n",
       "      <th></th>\n",
       "      <th></th>\n",
       "      <th></th>\n",
       "      <th></th>\n",
       "      <th></th>\n",
       "      <th></th>\n",
       "      <th></th>\n",
       "      <th></th>\n",
       "      <th></th>\n",
       "      <th></th>\n",
       "      <th></th>\n",
       "      <th></th>\n",
       "      <th></th>\n",
       "      <th></th>\n",
       "      <th></th>\n",
       "      <th></th>\n",
       "      <th></th>\n",
       "    </tr>\n",
       "  </thead>\n",
       "  <tbody>\n",
       "    <tr>\n",
       "      <th>1985</th>\n",
       "      <td>0</td>\n",
       "      <td>0</td>\n",
       "      <td>0</td>\n",
       "      <td>0</td>\n",
       "      <td>0</td>\n",
       "      <td>1</td>\n",
       "      <td>0</td>\n",
       "      <td>0</td>\n",
       "      <td>0</td>\n",
       "      <td>0</td>\n",
       "      <td>0</td>\n",
       "      <td>0</td>\n",
       "      <td>0</td>\n",
       "      <td>0</td>\n",
       "      <td>0</td>\n",
       "      <td>0</td>\n",
       "      <td>0</td>\n",
       "    </tr>\n",
       "    <tr>\n",
       "      <th>1988</th>\n",
       "      <td>0</td>\n",
       "      <td>0</td>\n",
       "      <td>0</td>\n",
       "      <td>0</td>\n",
       "      <td>0</td>\n",
       "      <td>1</td>\n",
       "      <td>0</td>\n",
       "      <td>0</td>\n",
       "      <td>0</td>\n",
       "      <td>0</td>\n",
       "      <td>0</td>\n",
       "      <td>0</td>\n",
       "      <td>0</td>\n",
       "      <td>0</td>\n",
       "      <td>0</td>\n",
       "      <td>0</td>\n",
       "      <td>0</td>\n",
       "    </tr>\n",
       "    <tr>\n",
       "      <th>1992</th>\n",
       "      <td>0</td>\n",
       "      <td>0</td>\n",
       "      <td>0</td>\n",
       "      <td>0</td>\n",
       "      <td>0</td>\n",
       "      <td>1</td>\n",
       "      <td>0</td>\n",
       "      <td>0</td>\n",
       "      <td>0</td>\n",
       "      <td>0</td>\n",
       "      <td>0</td>\n",
       "      <td>0</td>\n",
       "      <td>0</td>\n",
       "      <td>0</td>\n",
       "      <td>0</td>\n",
       "      <td>0</td>\n",
       "      <td>0</td>\n",
       "    </tr>\n",
       "    <tr>\n",
       "      <th>1994</th>\n",
       "      <td>0</td>\n",
       "      <td>0</td>\n",
       "      <td>0</td>\n",
       "      <td>0</td>\n",
       "      <td>0</td>\n",
       "      <td>0</td>\n",
       "      <td>1</td>\n",
       "      <td>0</td>\n",
       "      <td>0</td>\n",
       "      <td>0</td>\n",
       "      <td>0</td>\n",
       "      <td>0</td>\n",
       "      <td>0</td>\n",
       "      <td>0</td>\n",
       "      <td>0</td>\n",
       "      <td>0</td>\n",
       "      <td>0</td>\n",
       "    </tr>\n",
       "    <tr>\n",
       "      <th>1996</th>\n",
       "      <td>0</td>\n",
       "      <td>0</td>\n",
       "      <td>0</td>\n",
       "      <td>0</td>\n",
       "      <td>0</td>\n",
       "      <td>2</td>\n",
       "      <td>5</td>\n",
       "      <td>0</td>\n",
       "      <td>0</td>\n",
       "      <td>0</td>\n",
       "      <td>0</td>\n",
       "      <td>0</td>\n",
       "      <td>0</td>\n",
       "      <td>0</td>\n",
       "      <td>0</td>\n",
       "      <td>0</td>\n",
       "      <td>0</td>\n",
       "    </tr>\n",
       "    <tr>\n",
       "      <th>1997</th>\n",
       "      <td>0</td>\n",
       "      <td>0</td>\n",
       "      <td>0</td>\n",
       "      <td>0</td>\n",
       "      <td>0</td>\n",
       "      <td>1</td>\n",
       "      <td>12</td>\n",
       "      <td>0</td>\n",
       "      <td>0</td>\n",
       "      <td>0</td>\n",
       "      <td>0</td>\n",
       "      <td>0</td>\n",
       "      <td>0</td>\n",
       "      <td>0</td>\n",
       "      <td>0</td>\n",
       "      <td>0</td>\n",
       "      <td>0</td>\n",
       "    </tr>\n",
       "    <tr>\n",
       "      <th>1998</th>\n",
       "      <td>0</td>\n",
       "      <td>0</td>\n",
       "      <td>0</td>\n",
       "      <td>0</td>\n",
       "      <td>0</td>\n",
       "      <td>3</td>\n",
       "      <td>22</td>\n",
       "      <td>0</td>\n",
       "      <td>0</td>\n",
       "      <td>0</td>\n",
       "      <td>0</td>\n",
       "      <td>0</td>\n",
       "      <td>0</td>\n",
       "      <td>0</td>\n",
       "      <td>0</td>\n",
       "      <td>0</td>\n",
       "      <td>0</td>\n",
       "    </tr>\n",
       "    <tr>\n",
       "      <th>1999</th>\n",
       "      <td>0</td>\n",
       "      <td>3</td>\n",
       "      <td>0</td>\n",
       "      <td>0</td>\n",
       "      <td>0</td>\n",
       "      <td>2</td>\n",
       "      <td>25</td>\n",
       "      <td>0</td>\n",
       "      <td>0</td>\n",
       "      <td>0</td>\n",
       "      <td>0</td>\n",
       "      <td>0</td>\n",
       "      <td>0</td>\n",
       "      <td>0</td>\n",
       "      <td>0</td>\n",
       "      <td>0</td>\n",
       "      <td>0</td>\n",
       "    </tr>\n",
       "    <tr>\n",
       "      <th>2000</th>\n",
       "      <td>0</td>\n",
       "      <td>7</td>\n",
       "      <td>0</td>\n",
       "      <td>0</td>\n",
       "      <td>0</td>\n",
       "      <td>4</td>\n",
       "      <td>50</td>\n",
       "      <td>40</td>\n",
       "      <td>0</td>\n",
       "      <td>0</td>\n",
       "      <td>0</td>\n",
       "      <td>0</td>\n",
       "      <td>0</td>\n",
       "      <td>0</td>\n",
       "      <td>0</td>\n",
       "      <td>1</td>\n",
       "      <td>0</td>\n",
       "    </tr>\n",
       "    <tr>\n",
       "      <th>2001</th>\n",
       "      <td>0</td>\n",
       "      <td>4</td>\n",
       "      <td>0</td>\n",
       "      <td>29</td>\n",
       "      <td>20</td>\n",
       "      <td>11</td>\n",
       "      <td>34</td>\n",
       "      <td>132</td>\n",
       "      <td>0</td>\n",
       "      <td>0</td>\n",
       "      <td>0</td>\n",
       "      <td>0</td>\n",
       "      <td>0</td>\n",
       "      <td>0</td>\n",
       "      <td>0</td>\n",
       "      <td>26</td>\n",
       "      <td>0</td>\n",
       "    </tr>\n",
       "    <tr>\n",
       "      <th>2002</th>\n",
       "      <td>0</td>\n",
       "      <td>0</td>\n",
       "      <td>0</td>\n",
       "      <td>55</td>\n",
       "      <td>97</td>\n",
       "      <td>17</td>\n",
       "      <td>1</td>\n",
       "      <td>181</td>\n",
       "      <td>0</td>\n",
       "      <td>0</td>\n",
       "      <td>0</td>\n",
       "      <td>0</td>\n",
       "      <td>0</td>\n",
       "      <td>0</td>\n",
       "      <td>0</td>\n",
       "      <td>104</td>\n",
       "      <td>0</td>\n",
       "    </tr>\n",
       "    <tr>\n",
       "      <th>2003</th>\n",
       "      <td>0</td>\n",
       "      <td>0</td>\n",
       "      <td>0</td>\n",
       "      <td>65</td>\n",
       "      <td>95</td>\n",
       "      <td>27</td>\n",
       "      <td>0</td>\n",
       "      <td>180</td>\n",
       "      <td>0</td>\n",
       "      <td>0</td>\n",
       "      <td>0</td>\n",
       "      <td>0</td>\n",
       "      <td>0</td>\n",
       "      <td>0</td>\n",
       "      <td>0</td>\n",
       "      <td>131</td>\n",
       "      <td>0</td>\n",
       "    </tr>\n",
       "    <tr>\n",
       "      <th>2004</th>\n",
       "      <td>0</td>\n",
       "      <td>0</td>\n",
       "      <td>11</td>\n",
       "      <td>54</td>\n",
       "      <td>53</td>\n",
       "      <td>23</td>\n",
       "      <td>0</td>\n",
       "      <td>201</td>\n",
       "      <td>0</td>\n",
       "      <td>0</td>\n",
       "      <td>6</td>\n",
       "      <td>0</td>\n",
       "      <td>0</td>\n",
       "      <td>0</td>\n",
       "      <td>0</td>\n",
       "      <td>128</td>\n",
       "      <td>0</td>\n",
       "    </tr>\n",
       "    <tr>\n",
       "      <th>2005</th>\n",
       "      <td>0</td>\n",
       "      <td>0</td>\n",
       "      <td>57</td>\n",
       "      <td>23</td>\n",
       "      <td>57</td>\n",
       "      <td>27</td>\n",
       "      <td>0</td>\n",
       "      <td>181</td>\n",
       "      <td>0</td>\n",
       "      <td>0</td>\n",
       "      <td>68</td>\n",
       "      <td>0</td>\n",
       "      <td>0</td>\n",
       "      <td>0</td>\n",
       "      <td>16</td>\n",
       "      <td>133</td>\n",
       "      <td>0</td>\n",
       "    </tr>\n",
       "    <tr>\n",
       "      <th>2006</th>\n",
       "      <td>0</td>\n",
       "      <td>0</td>\n",
       "      <td>71</td>\n",
       "      <td>11</td>\n",
       "      <td>24</td>\n",
       "      <td>38</td>\n",
       "      <td>0</td>\n",
       "      <td>117</td>\n",
       "      <td>19</td>\n",
       "      <td>0</td>\n",
       "      <td>100</td>\n",
       "      <td>0</td>\n",
       "      <td>33</td>\n",
       "      <td>0</td>\n",
       "      <td>76</td>\n",
       "      <td>39</td>\n",
       "      <td>0</td>\n",
       "    </tr>\n",
       "    <tr>\n",
       "      <th>2007</th>\n",
       "      <td>0</td>\n",
       "      <td>0</td>\n",
       "      <td>104</td>\n",
       "      <td>0</td>\n",
       "      <td>2</td>\n",
       "      <td>51</td>\n",
       "      <td>0</td>\n",
       "      <td>61</td>\n",
       "      <td>76</td>\n",
       "      <td>0</td>\n",
       "      <td>75</td>\n",
       "      <td>0</td>\n",
       "      <td>113</td>\n",
       "      <td>0</td>\n",
       "      <td>105</td>\n",
       "      <td>3</td>\n",
       "      <td>0</td>\n",
       "    </tr>\n",
       "    <tr>\n",
       "      <th>2008</th>\n",
       "      <td>0</td>\n",
       "      <td>0</td>\n",
       "      <td>108</td>\n",
       "      <td>0</td>\n",
       "      <td>0</td>\n",
       "      <td>53</td>\n",
       "      <td>0</td>\n",
       "      <td>34</td>\n",
       "      <td>109</td>\n",
       "      <td>0</td>\n",
       "      <td>42</td>\n",
       "      <td>0</td>\n",
       "      <td>126</td>\n",
       "      <td>0</td>\n",
       "      <td>120</td>\n",
       "      <td>0</td>\n",
       "      <td>0</td>\n",
       "    </tr>\n",
       "    <tr>\n",
       "      <th>2009</th>\n",
       "      <td>0</td>\n",
       "      <td>0</td>\n",
       "      <td>68</td>\n",
       "      <td>0</td>\n",
       "      <td>0</td>\n",
       "      <td>73</td>\n",
       "      <td>0</td>\n",
       "      <td>12</td>\n",
       "      <td>112</td>\n",
       "      <td>0</td>\n",
       "      <td>49</td>\n",
       "      <td>0</td>\n",
       "      <td>110</td>\n",
       "      <td>0</td>\n",
       "      <td>126</td>\n",
       "      <td>0</td>\n",
       "      <td>0</td>\n",
       "    </tr>\n",
       "    <tr>\n",
       "      <th>2010</th>\n",
       "      <td>0</td>\n",
       "      <td>0</td>\n",
       "      <td>35</td>\n",
       "      <td>0</td>\n",
       "      <td>0</td>\n",
       "      <td>59</td>\n",
       "      <td>0</td>\n",
       "      <td>1</td>\n",
       "      <td>115</td>\n",
       "      <td>0</td>\n",
       "      <td>38</td>\n",
       "      <td>0</td>\n",
       "      <td>56</td>\n",
       "      <td>0</td>\n",
       "      <td>125</td>\n",
       "      <td>0</td>\n",
       "      <td>0</td>\n",
       "    </tr>\n",
       "    <tr>\n",
       "      <th>2011</th>\n",
       "      <td>55</td>\n",
       "      <td>0</td>\n",
       "      <td>9</td>\n",
       "      <td>0</td>\n",
       "      <td>0</td>\n",
       "      <td>83</td>\n",
       "      <td>0</td>\n",
       "      <td>0</td>\n",
       "      <td>127</td>\n",
       "      <td>0</td>\n",
       "      <td>11</td>\n",
       "      <td>12</td>\n",
       "      <td>36</td>\n",
       "      <td>0</td>\n",
       "      <td>120</td>\n",
       "      <td>0</td>\n",
       "      <td>0</td>\n",
       "    </tr>\n",
       "    <tr>\n",
       "      <th>2012</th>\n",
       "      <td>33</td>\n",
       "      <td>0</td>\n",
       "      <td>1</td>\n",
       "      <td>0</td>\n",
       "      <td>0</td>\n",
       "      <td>41</td>\n",
       "      <td>0</td>\n",
       "      <td>0</td>\n",
       "      <td>93</td>\n",
       "      <td>0</td>\n",
       "      <td>0</td>\n",
       "      <td>30</td>\n",
       "      <td>5</td>\n",
       "      <td>20</td>\n",
       "      <td>90</td>\n",
       "      <td>0</td>\n",
       "      <td>0</td>\n",
       "    </tr>\n",
       "    <tr>\n",
       "      <th>2013</th>\n",
       "      <td>20</td>\n",
       "      <td>0</td>\n",
       "      <td>0</td>\n",
       "      <td>0</td>\n",
       "      <td>0</td>\n",
       "      <td>30</td>\n",
       "      <td>0</td>\n",
       "      <td>0</td>\n",
       "      <td>82</td>\n",
       "      <td>15</td>\n",
       "      <td>1</td>\n",
       "      <td>23</td>\n",
       "      <td>0</td>\n",
       "      <td>27</td>\n",
       "      <td>54</td>\n",
       "      <td>0</td>\n",
       "      <td>14</td>\n",
       "    </tr>\n",
       "    <tr>\n",
       "      <th>2014</th>\n",
       "      <td>18</td>\n",
       "      <td>0</td>\n",
       "      <td>0</td>\n",
       "      <td>0</td>\n",
       "      <td>0</td>\n",
       "      <td>35</td>\n",
       "      <td>0</td>\n",
       "      <td>0</td>\n",
       "      <td>35</td>\n",
       "      <td>51</td>\n",
       "      <td>0</td>\n",
       "      <td>30</td>\n",
       "      <td>0</td>\n",
       "      <td>15</td>\n",
       "      <td>26</td>\n",
       "      <td>0</td>\n",
       "      <td>43</td>\n",
       "    </tr>\n",
       "    <tr>\n",
       "      <th>2015</th>\n",
       "      <td>19</td>\n",
       "      <td>0</td>\n",
       "      <td>0</td>\n",
       "      <td>0</td>\n",
       "      <td>0</td>\n",
       "      <td>31</td>\n",
       "      <td>0</td>\n",
       "      <td>0</td>\n",
       "      <td>1</td>\n",
       "      <td>81</td>\n",
       "      <td>0</td>\n",
       "      <td>13</td>\n",
       "      <td>0</td>\n",
       "      <td>19</td>\n",
       "      <td>0</td>\n",
       "      <td>0</td>\n",
       "      <td>47</td>\n",
       "    </tr>\n",
       "    <tr>\n",
       "      <th>2016</th>\n",
       "      <td>10</td>\n",
       "      <td>0</td>\n",
       "      <td>0</td>\n",
       "      <td>0</td>\n",
       "      <td>0</td>\n",
       "      <td>37</td>\n",
       "      <td>0</td>\n",
       "      <td>0</td>\n",
       "      <td>0</td>\n",
       "      <td>92</td>\n",
       "      <td>0</td>\n",
       "      <td>10</td>\n",
       "      <td>0</td>\n",
       "      <td>8</td>\n",
       "      <td>0</td>\n",
       "      <td>0</td>\n",
       "      <td>55</td>\n",
       "    </tr>\n",
       "  </tbody>\n",
       "</table>\n",
       "</div>"
      ],
      "text/plain": [
       "Platform         3DS  DC   DS  GBA  GC  PC  PS  PS2  PS3  PS4  PSP  PSV  Wii  \\\n",
       "Year_of_Release                                                                \n",
       "1985               0   0    0    0   0   1   0    0    0    0    0    0    0   \n",
       "1988               0   0    0    0   0   1   0    0    0    0    0    0    0   \n",
       "1992               0   0    0    0   0   1   0    0    0    0    0    0    0   \n",
       "1994               0   0    0    0   0   0   1    0    0    0    0    0    0   \n",
       "1996               0   0    0    0   0   2   5    0    0    0    0    0    0   \n",
       "1997               0   0    0    0   0   1  12    0    0    0    0    0    0   \n",
       "1998               0   0    0    0   0   3  22    0    0    0    0    0    0   \n",
       "1999               0   3    0    0   0   2  25    0    0    0    0    0    0   \n",
       "2000               0   7    0    0   0   4  50   40    0    0    0    0    0   \n",
       "2001               0   4    0   29  20  11  34  132    0    0    0    0    0   \n",
       "2002               0   0    0   55  97  17   1  181    0    0    0    0    0   \n",
       "2003               0   0    0   65  95  27   0  180    0    0    0    0    0   \n",
       "2004               0   0   11   54  53  23   0  201    0    0    6    0    0   \n",
       "2005               0   0   57   23  57  27   0  181    0    0   68    0    0   \n",
       "2006               0   0   71   11  24  38   0  117   19    0  100    0   33   \n",
       "2007               0   0  104    0   2  51   0   61   76    0   75    0  113   \n",
       "2008               0   0  108    0   0  53   0   34  109    0   42    0  126   \n",
       "2009               0   0   68    0   0  73   0   12  112    0   49    0  110   \n",
       "2010               0   0   35    0   0  59   0    1  115    0   38    0   56   \n",
       "2011              55   0    9    0   0  83   0    0  127    0   11   12   36   \n",
       "2012              33   0    1    0   0  41   0    0   93    0    0   30    5   \n",
       "2013              20   0    0    0   0  30   0    0   82   15    1   23    0   \n",
       "2014              18   0    0    0   0  35   0    0   35   51    0   30    0   \n",
       "2015              19   0    0    0   0  31   0    0    1   81    0   13    0   \n",
       "2016              10   0    0    0   0  37   0    0    0   92    0   10    0   \n",
       "\n",
       "Platform         WiiU  X360   XB  XOne  \n",
       "Year_of_Release                         \n",
       "1985                0     0    0     0  \n",
       "1988                0     0    0     0  \n",
       "1992                0     0    0     0  \n",
       "1994                0     0    0     0  \n",
       "1996                0     0    0     0  \n",
       "1997                0     0    0     0  \n",
       "1998                0     0    0     0  \n",
       "1999                0     0    0     0  \n",
       "2000                0     0    1     0  \n",
       "2001                0     0   26     0  \n",
       "2002                0     0  104     0  \n",
       "2003                0     0  131     0  \n",
       "2004                0     0  128     0  \n",
       "2005                0    16  133     0  \n",
       "2006                0    76   39     0  \n",
       "2007                0   105    3     0  \n",
       "2008                0   120    0     0  \n",
       "2009                0   126    0     0  \n",
       "2010                0   125    0     0  \n",
       "2011                0   120    0     0  \n",
       "2012               20    90    0     0  \n",
       "2013               27    54    0    14  \n",
       "2014               15    26    0    43  \n",
       "2015               19     0    0    47  \n",
       "2016                8     0    0    55  "
      ]
     },
     "execution_count": 43,
     "metadata": {},
     "output_type": "execute_result"
    }
   ],
   "source": [
    "plat_freq = pd.crosstab(index=df2.Year_of_Release, columns=df2.Platform)\n",
    "plat_freq"
   ]
  },
  {
   "cell_type": "markdown",
   "metadata": {},
   "source": [
    "Continuous zeros in each column indicate that either the platform was not invented or was already dated. From this table we can see the evolution of platforms.\n",
    "\n",
    "The following plot intuitively visualizes the data in the table. "
   ]
  },
  {
   "cell_type": "code",
   "execution_count": 101,
   "metadata": {
    "scrolled": true
   },
   "outputs": [
    {
     "data": {
      "image/png": "[encoded data removed]",
      "text/plain": [
       "<Figure size 432x288 with 1 Axes>"
      ]
     },
     "metadata": {
      "needs_background": "light"
     },
     "output_type": "display_data"
    }
   ],
   "source": [
    "plat_freq.plot(kind='bar', stacked=True, colormap='rainbow')\n",
    "plt.title('Number of Video Games on Platforms by Year')\n",
    "plt.ylabel('Number of Occurrences')\n",
    "plt.legend(bbox_to_anchor=(1, 1))\n",
    "plt.show()"
   ]
  },
  {
   "cell_type": "markdown",
   "metadata": {},
   "source": [
    "#### Market Share"
   ]
  },
  {
   "cell_type": "markdown",
   "metadata": {},
   "source": [
    "This table aggregates the total global sales for each platform by year. "
   ]
  },
  {
   "cell_type": "code",
   "execution_count": 45,
   "metadata": {
    "scrolled": true
   },
   "outputs": [
    {
     "data": {
      "text/html": [
       "<div>\n",
       "<style scoped>\n",
       "    .dataframe tbody tr th:only-of-type {\n",
       "        vertical-align: middle;\n",
       "    }\n",
       "\n",
       "    .dataframe tbody tr th {\n",
       "        vertical-align: top;\n",
       "    }\n",
       "\n",
       "    .dataframe thead th {\n",
       "        text-align: right;\n",
       "    }\n",
       "</style>\n",
       "<table border=\"1\" class=\"dataframe\">\n",
       "  <thead>\n",
       "    <tr style=\"text-align: right;\">\n",
       "      <th>Platform</th>\n",
       "      <th>3DS</th>\n",
       "      <th>DC</th>\n",
       "      <th>DS</th>\n",
       "      <th>GBA</th>\n",
       "      <th>GC</th>\n",
       "      <th>PC</th>\n",
       "      <th>PS</th>\n",
       "      <th>PS2</th>\n",
       "      <th>PS3</th>\n",
       "      <th>PS4</th>\n",
       "      <th>PSP</th>\n",
       "      <th>PSV</th>\n",
       "      <th>Wii</th>\n",
       "      <th>WiiU</th>\n",
       "      <th>X360</th>\n",
       "      <th>XB</th>\n",
       "      <th>XOne</th>\n",
       "    </tr>\n",
       "    <tr>\n",
       "      <th>Year_of_Release</th>\n",
       "      <th></th>\n",
       "      <th></th>\n",
       "      <th></th>\n",
       "      <th></th>\n",
       "      <th></th>\n",
       "      <th></th>\n",
       "      <th></th>\n",
       "      <th></th>\n",
       "      <th></th>\n",
       "      <th></th>\n",
       "      <th></th>\n",
       "      <th></th>\n",
       "      <th></th>\n",
       "      <th></th>\n",
       "      <th></th>\n",
       "      <th></th>\n",
       "      <th></th>\n",
       "    </tr>\n",
       "  </thead>\n",
       "  <tbody>\n",
       "    <tr>\n",
       "      <th>1985</th>\n",
       "      <td>NaN</td>\n",
       "      <td>NaN</td>\n",
       "      <td>NaN</td>\n",
       "      <td>NaN</td>\n",
       "      <td>NaN</td>\n",
       "      <td>0.03</td>\n",
       "      <td>NaN</td>\n",
       "      <td>NaN</td>\n",
       "      <td>NaN</td>\n",
       "      <td>NaN</td>\n",
       "      <td>NaN</td>\n",
       "      <td>NaN</td>\n",
       "      <td>NaN</td>\n",
       "      <td>NaN</td>\n",
       "      <td>NaN</td>\n",
       "      <td>NaN</td>\n",
       "      <td>NaN</td>\n",
       "    </tr>\n",
       "    <tr>\n",
       "      <th>1988</th>\n",
       "      <td>NaN</td>\n",
       "      <td>NaN</td>\n",
       "      <td>NaN</td>\n",
       "      <td>NaN</td>\n",
       "      <td>NaN</td>\n",
       "      <td>0.03</td>\n",
       "      <td>NaN</td>\n",
       "      <td>NaN</td>\n",
       "      <td>NaN</td>\n",
       "      <td>NaN</td>\n",
       "      <td>NaN</td>\n",
       "      <td>NaN</td>\n",
       "      <td>NaN</td>\n",
       "      <td>NaN</td>\n",
       "      <td>NaN</td>\n",
       "      <td>NaN</td>\n",
       "      <td>NaN</td>\n",
       "    </tr>\n",
       "    <tr>\n",
       "      <th>1992</th>\n",
       "      <td>NaN</td>\n",
       "      <td>NaN</td>\n",
       "      <td>NaN</td>\n",
       "      <td>NaN</td>\n",
       "      <td>NaN</td>\n",
       "      <td>0.03</td>\n",
       "      <td>NaN</td>\n",
       "      <td>NaN</td>\n",
       "      <td>NaN</td>\n",
       "      <td>NaN</td>\n",
       "      <td>NaN</td>\n",
       "      <td>NaN</td>\n",
       "      <td>NaN</td>\n",
       "      <td>NaN</td>\n",
       "      <td>NaN</td>\n",
       "      <td>NaN</td>\n",
       "      <td>NaN</td>\n",
       "    </tr>\n",
       "    <tr>\n",
       "      <th>1994</th>\n",
       "      <td>NaN</td>\n",
       "      <td>NaN</td>\n",
       "      <td>NaN</td>\n",
       "      <td>NaN</td>\n",
       "      <td>NaN</td>\n",
       "      <td>NaN</td>\n",
       "      <td>1.27</td>\n",
       "      <td>NaN</td>\n",
       "      <td>NaN</td>\n",
       "      <td>NaN</td>\n",
       "      <td>NaN</td>\n",
       "      <td>NaN</td>\n",
       "      <td>NaN</td>\n",
       "      <td>NaN</td>\n",
       "      <td>NaN</td>\n",
       "      <td>NaN</td>\n",
       "      <td>NaN</td>\n",
       "    </tr>\n",
       "    <tr>\n",
       "      <th>1996</th>\n",
       "      <td>NaN</td>\n",
       "      <td>NaN</td>\n",
       "      <td>NaN</td>\n",
       "      <td>NaN</td>\n",
       "      <td>NaN</td>\n",
       "      <td>2.62</td>\n",
       "      <td>17.48</td>\n",
       "      <td>NaN</td>\n",
       "      <td>NaN</td>\n",
       "      <td>NaN</td>\n",
       "      <td>NaN</td>\n",
       "      <td>NaN</td>\n",
       "      <td>NaN</td>\n",
       "      <td>NaN</td>\n",
       "      <td>NaN</td>\n",
       "      <td>NaN</td>\n",
       "      <td>NaN</td>\n",
       "    </tr>\n",
       "    <tr>\n",
       "      <th>1997</th>\n",
       "      <td>NaN</td>\n",
       "      <td>NaN</td>\n",
       "      <td>NaN</td>\n",
       "      <td>NaN</td>\n",
       "      <td>NaN</td>\n",
       "      <td>4.12</td>\n",
       "      <td>30.89</td>\n",
       "      <td>NaN</td>\n",
       "      <td>NaN</td>\n",
       "      <td>NaN</td>\n",
       "      <td>NaN</td>\n",
       "      <td>NaN</td>\n",
       "      <td>NaN</td>\n",
       "      <td>NaN</td>\n",
       "      <td>NaN</td>\n",
       "      <td>NaN</td>\n",
       "      <td>NaN</td>\n",
       "    </tr>\n",
       "    <tr>\n",
       "      <th>1998</th>\n",
       "      <td>NaN</td>\n",
       "      <td>NaN</td>\n",
       "      <td>NaN</td>\n",
       "      <td>NaN</td>\n",
       "      <td>NaN</td>\n",
       "      <td>0.10</td>\n",
       "      <td>43.08</td>\n",
       "      <td>NaN</td>\n",
       "      <td>NaN</td>\n",
       "      <td>NaN</td>\n",
       "      <td>NaN</td>\n",
       "      <td>NaN</td>\n",
       "      <td>NaN</td>\n",
       "      <td>NaN</td>\n",
       "      <td>NaN</td>\n",
       "      <td>NaN</td>\n",
       "      <td>NaN</td>\n",
       "    </tr>\n",
       "    <tr>\n",
       "      <th>1999</th>\n",
       "      <td>NaN</td>\n",
       "      <td>2.04</td>\n",
       "      <td>NaN</td>\n",
       "      <td>NaN</td>\n",
       "      <td>NaN</td>\n",
       "      <td>0.11</td>\n",
       "      <td>49.02</td>\n",
       "      <td>NaN</td>\n",
       "      <td>NaN</td>\n",
       "      <td>NaN</td>\n",
       "      <td>NaN</td>\n",
       "      <td>NaN</td>\n",
       "      <td>NaN</td>\n",
       "      <td>NaN</td>\n",
       "      <td>NaN</td>\n",
       "      <td>NaN</td>\n",
       "      <td>NaN</td>\n",
       "    </tr>\n",
       "    <tr>\n",
       "      <th>2000</th>\n",
       "      <td>NaN</td>\n",
       "      <td>1.98</td>\n",
       "      <td>NaN</td>\n",
       "      <td>NaN</td>\n",
       "      <td>NaN</td>\n",
       "      <td>3.18</td>\n",
       "      <td>45.63</td>\n",
       "      <td>29.46</td>\n",
       "      <td>NaN</td>\n",
       "      <td>NaN</td>\n",
       "      <td>NaN</td>\n",
       "      <td>NaN</td>\n",
       "      <td>NaN</td>\n",
       "      <td>NaN</td>\n",
       "      <td>NaN</td>\n",
       "      <td>0.99</td>\n",
       "      <td>NaN</td>\n",
       "    </tr>\n",
       "    <tr>\n",
       "      <th>2001</th>\n",
       "      <td>NaN</td>\n",
       "      <td>0.53</td>\n",
       "      <td>NaN</td>\n",
       "      <td>36.63</td>\n",
       "      <td>25.64</td>\n",
       "      <td>5.39</td>\n",
       "      <td>19.07</td>\n",
       "      <td>145.93</td>\n",
       "      <td>NaN</td>\n",
       "      <td>NaN</td>\n",
       "      <td>NaN</td>\n",
       "      <td>NaN</td>\n",
       "      <td>NaN</td>\n",
       "      <td>NaN</td>\n",
       "      <td>NaN</td>\n",
       "      <td>20.69</td>\n",
       "      <td>NaN</td>\n",
       "    </tr>\n",
       "    <tr>\n",
       "      <th>2002</th>\n",
       "      <td>NaN</td>\n",
       "      <td>NaN</td>\n",
       "      <td>NaN</td>\n",
       "      <td>27.77</td>\n",
       "      <td>42.12</td>\n",
       "      <td>8.56</td>\n",
       "      <td>0.11</td>\n",
       "      <td>170.03</td>\n",
       "      <td>NaN</td>\n",
       "      <td>NaN</td>\n",
       "      <td>NaN</td>\n",
       "      <td>NaN</td>\n",
       "      <td>NaN</td>\n",
       "      <td>NaN</td>\n",
       "      <td>NaN</td>\n",
       "      <td>40.25</td>\n",
       "      <td>NaN</td>\n",
       "    </tr>\n",
       "    <tr>\n",
       "      <th>2003</th>\n",
       "      <td>NaN</td>\n",
       "      <td>NaN</td>\n",
       "      <td>NaN</td>\n",
       "      <td>23.89</td>\n",
       "      <td>38.25</td>\n",
       "      <td>6.46</td>\n",
       "      <td>NaN</td>\n",
       "      <td>144.32</td>\n",
       "      <td>NaN</td>\n",
       "      <td>NaN</td>\n",
       "      <td>NaN</td>\n",
       "      <td>NaN</td>\n",
       "      <td>NaN</td>\n",
       "      <td>NaN</td>\n",
       "      <td>NaN</td>\n",
       "      <td>42.43</td>\n",
       "      <td>NaN</td>\n",
       "    </tr>\n",
       "    <tr>\n",
       "      <th>2004</th>\n",
       "      <td>NaN</td>\n",
       "      <td>NaN</td>\n",
       "      <td>3.36</td>\n",
       "      <td>33.37</td>\n",
       "      <td>23.47</td>\n",
       "      <td>10.26</td>\n",
       "      <td>NaN</td>\n",
       "      <td>188.31</td>\n",
       "      <td>NaN</td>\n",
       "      <td>NaN</td>\n",
       "      <td>4.49</td>\n",
       "      <td>NaN</td>\n",
       "      <td>NaN</td>\n",
       "      <td>NaN</td>\n",
       "      <td>NaN</td>\n",
       "      <td>58.52</td>\n",
       "      <td>NaN</td>\n",
       "    </tr>\n",
       "    <tr>\n",
       "      <th>2005</th>\n",
       "      <td>NaN</td>\n",
       "      <td>NaN</td>\n",
       "      <td>96.04</td>\n",
       "      <td>7.51</td>\n",
       "      <td>20.76</td>\n",
       "      <td>4.00</td>\n",
       "      <td>NaN</td>\n",
       "      <td>117.68</td>\n",
       "      <td>NaN</td>\n",
       "      <td>NaN</td>\n",
       "      <td>39.24</td>\n",
       "      <td>NaN</td>\n",
       "      <td>NaN</td>\n",
       "      <td>NaN</td>\n",
       "      <td>7.66</td>\n",
       "      <td>41.43</td>\n",
       "      <td>NaN</td>\n",
       "    </tr>\n",
       "    <tr>\n",
       "      <th>2006</th>\n",
       "      <td>NaN</td>\n",
       "      <td>NaN</td>\n",
       "      <td>72.58</td>\n",
       "      <td>2.58</td>\n",
       "      <td>8.96</td>\n",
       "      <td>2.60</td>\n",
       "      <td>NaN</td>\n",
       "      <td>75.96</td>\n",
       "      <td>19.61</td>\n",
       "      <td>NaN</td>\n",
       "      <td>43.33</td>\n",
       "      <td>NaN</td>\n",
       "      <td>134.97</td>\n",
       "      <td>NaN</td>\n",
       "      <td>48.92</td>\n",
       "      <td>7.21</td>\n",
       "      <td>NaN</td>\n",
       "    </tr>\n",
       "    <tr>\n",
       "      <th>2007</th>\n",
       "      <td>NaN</td>\n",
       "      <td>NaN</td>\n",
       "      <td>77.55</td>\n",
       "      <td>NaN</td>\n",
       "      <td>0.22</td>\n",
       "      <td>8.95</td>\n",
       "      <td>NaN</td>\n",
       "      <td>48.09</td>\n",
       "      <td>68.49</td>\n",
       "      <td>NaN</td>\n",
       "      <td>35.64</td>\n",
       "      <td>NaN</td>\n",
       "      <td>127.33</td>\n",
       "      <td>NaN</td>\n",
       "      <td>89.41</td>\n",
       "      <td>0.55</td>\n",
       "      <td>NaN</td>\n",
       "    </tr>\n",
       "    <tr>\n",
       "      <th>2008</th>\n",
       "      <td>NaN</td>\n",
       "      <td>NaN</td>\n",
       "      <td>62.79</td>\n",
       "      <td>NaN</td>\n",
       "      <td>NaN</td>\n",
       "      <td>9.48</td>\n",
       "      <td>NaN</td>\n",
       "      <td>21.14</td>\n",
       "      <td>109.80</td>\n",
       "      <td>NaN</td>\n",
       "      <td>25.69</td>\n",
       "      <td>NaN</td>\n",
       "      <td>131.05</td>\n",
       "      <td>NaN</td>\n",
       "      <td>129.17</td>\n",
       "      <td>NaN</td>\n",
       "      <td>NaN</td>\n",
       "    </tr>\n",
       "    <tr>\n",
       "      <th>2009</th>\n",
       "      <td>NaN</td>\n",
       "      <td>NaN</td>\n",
       "      <td>39.36</td>\n",
       "      <td>NaN</td>\n",
       "      <td>NaN</td>\n",
       "      <td>15.36</td>\n",
       "      <td>NaN</td>\n",
       "      <td>4.46</td>\n",
       "      <td>118.48</td>\n",
       "      <td>NaN</td>\n",
       "      <td>20.46</td>\n",
       "      <td>NaN</td>\n",
       "      <td>151.02</td>\n",
       "      <td>NaN</td>\n",
       "      <td>110.71</td>\n",
       "      <td>NaN</td>\n",
       "      <td>NaN</td>\n",
       "    </tr>\n",
       "    <tr>\n",
       "      <th>2010</th>\n",
       "      <td>NaN</td>\n",
       "      <td>NaN</td>\n",
       "      <td>25.27</td>\n",
       "      <td>NaN</td>\n",
       "      <td>NaN</td>\n",
       "      <td>20.82</td>\n",
       "      <td>NaN</td>\n",
       "      <td>0.59</td>\n",
       "      <td>125.41</td>\n",
       "      <td>NaN</td>\n",
       "      <td>15.57</td>\n",
       "      <td>NaN</td>\n",
       "      <td>67.93</td>\n",
       "      <td>NaN</td>\n",
       "      <td>157.37</td>\n",
       "      <td>NaN</td>\n",
       "      <td>NaN</td>\n",
       "    </tr>\n",
       "    <tr>\n",
       "      <th>2011</th>\n",
       "      <td>43.68</td>\n",
       "      <td>NaN</td>\n",
       "      <td>4.36</td>\n",
       "      <td>NaN</td>\n",
       "      <td>NaN</td>\n",
       "      <td>30.61</td>\n",
       "      <td>NaN</td>\n",
       "      <td>NaN</td>\n",
       "      <td>134.84</td>\n",
       "      <td>NaN</td>\n",
       "      <td>3.35</td>\n",
       "      <td>3.84</td>\n",
       "      <td>33.45</td>\n",
       "      <td>NaN</td>\n",
       "      <td>129.56</td>\n",
       "      <td>NaN</td>\n",
       "      <td>NaN</td>\n",
       "    </tr>\n",
       "    <tr>\n",
       "      <th>2012</th>\n",
       "      <td>39.37</td>\n",
       "      <td>NaN</td>\n",
       "      <td>1.02</td>\n",
       "      <td>NaN</td>\n",
       "      <td>NaN</td>\n",
       "      <td>20.48</td>\n",
       "      <td>NaN</td>\n",
       "      <td>NaN</td>\n",
       "      <td>94.24</td>\n",
       "      <td>NaN</td>\n",
       "      <td>NaN</td>\n",
       "      <td>13.15</td>\n",
       "      <td>13.23</td>\n",
       "      <td>14.85</td>\n",
       "      <td>95.59</td>\n",
       "      <td>NaN</td>\n",
       "      <td>NaN</td>\n",
       "    </tr>\n",
       "    <tr>\n",
       "      <th>2013</th>\n",
       "      <td>15.90</td>\n",
       "      <td>NaN</td>\n",
       "      <td>NaN</td>\n",
       "      <td>NaN</td>\n",
       "      <td>NaN</td>\n",
       "      <td>10.86</td>\n",
       "      <td>NaN</td>\n",
       "      <td>NaN</td>\n",
       "      <td>102.15</td>\n",
       "      <td>25.06</td>\n",
       "      <td>0.15</td>\n",
       "      <td>5.92</td>\n",
       "      <td>NaN</td>\n",
       "      <td>17.44</td>\n",
       "      <td>74.79</td>\n",
       "      <td>NaN</td>\n",
       "      <td>14.90</td>\n",
       "    </tr>\n",
       "    <tr>\n",
       "      <th>2014</th>\n",
       "      <td>11.52</td>\n",
       "      <td>NaN</td>\n",
       "      <td>NaN</td>\n",
       "      <td>NaN</td>\n",
       "      <td>NaN</td>\n",
       "      <td>11.22</td>\n",
       "      <td>NaN</td>\n",
       "      <td>NaN</td>\n",
       "      <td>11.26</td>\n",
       "      <td>80.73</td>\n",
       "      <td>NaN</td>\n",
       "      <td>5.30</td>\n",
       "      <td>NaN</td>\n",
       "      <td>15.21</td>\n",
       "      <td>10.12</td>\n",
       "      <td>NaN</td>\n",
       "      <td>47.07</td>\n",
       "    </tr>\n",
       "    <tr>\n",
       "      <th>2015</th>\n",
       "      <td>10.58</td>\n",
       "      <td>NaN</td>\n",
       "      <td>NaN</td>\n",
       "      <td>NaN</td>\n",
       "      <td>NaN</td>\n",
       "      <td>7.16</td>\n",
       "      <td>NaN</td>\n",
       "      <td>NaN</td>\n",
       "      <td>0.02</td>\n",
       "      <td>80.11</td>\n",
       "      <td>NaN</td>\n",
       "      <td>1.72</td>\n",
       "      <td>NaN</td>\n",
       "      <td>15.33</td>\n",
       "      <td>NaN</td>\n",
       "      <td>NaN</td>\n",
       "      <td>44.24</td>\n",
       "    </tr>\n",
       "    <tr>\n",
       "      <th>2016</th>\n",
       "      <td>2.18</td>\n",
       "      <td>NaN</td>\n",
       "      <td>NaN</td>\n",
       "      <td>NaN</td>\n",
       "      <td>NaN</td>\n",
       "      <td>4.69</td>\n",
       "      <td>NaN</td>\n",
       "      <td>NaN</td>\n",
       "      <td>NaN</td>\n",
       "      <td>57.13</td>\n",
       "      <td>NaN</td>\n",
       "      <td>0.95</td>\n",
       "      <td>NaN</td>\n",
       "      <td>3.25</td>\n",
       "      <td>NaN</td>\n",
       "      <td>NaN</td>\n",
       "      <td>23.36</td>\n",
       "    </tr>\n",
       "  </tbody>\n",
       "</table>\n",
       "</div>"
      ],
      "text/plain": [
       "Platform           3DS    DC     DS    GBA     GC     PC     PS     PS2  \\\n",
       "Year_of_Release                                                           \n",
       "1985               NaN   NaN    NaN    NaN    NaN   0.03    NaN     NaN   \n",
       "1988               NaN   NaN    NaN    NaN    NaN   0.03    NaN     NaN   \n",
       "1992               NaN   NaN    NaN    NaN    NaN   0.03    NaN     NaN   \n",
       "1994               NaN   NaN    NaN    NaN    NaN    NaN   1.27     NaN   \n",
       "1996               NaN   NaN    NaN    NaN    NaN   2.62  17.48     NaN   \n",
       "1997               NaN   NaN    NaN    NaN    NaN   4.12  30.89     NaN   \n",
       "1998               NaN   NaN    NaN    NaN    NaN   0.10  43.08     NaN   \n",
       "1999               NaN  2.04    NaN    NaN    NaN   0.11  49.02     NaN   \n",
       "2000               NaN  1.98    NaN    NaN    NaN   3.18  45.63   29.46   \n",
       "2001               NaN  0.53    NaN  36.63  25.64   5.39  19.07  145.93   \n",
       "2002               NaN   NaN    NaN  27.77  42.12   8.56   0.11  170.03   \n",
       "2003               NaN   NaN    NaN  23.89  38.25   6.46    NaN  144.32   \n",
       "2004               NaN   NaN   3.36  33.37  23.47  10.26    NaN  188.31   \n",
       "2005               NaN   NaN  96.04   7.51  20.76   4.00    NaN  117.68   \n",
       "2006               NaN   NaN  72.58   2.58   8.96   2.60    NaN   75.96   \n",
       "2007               NaN   NaN  77.55    NaN   0.22   8.95    NaN   48.09   \n",
       "2008               NaN   NaN  62.79    NaN    NaN   9.48    NaN   21.14   \n",
       "2009               NaN   NaN  39.36    NaN    NaN  15.36    NaN    4.46   \n",
       "2010               NaN   NaN  25.27    NaN    NaN  20.82    NaN    0.59   \n",
       "2011             43.68   NaN   4.36    NaN    NaN  30.61    NaN     NaN   \n",
       "2012             39.37   NaN   1.02    NaN    NaN  20.48    NaN     NaN   \n",
       "2013             15.90   NaN    NaN    NaN    NaN  10.86    NaN     NaN   \n",
       "2014             11.52   NaN    NaN    NaN    NaN  11.22    NaN     NaN   \n",
       "2015             10.58   NaN    NaN    NaN    NaN   7.16    NaN     NaN   \n",
       "2016              2.18   NaN    NaN    NaN    NaN   4.69    NaN     NaN   \n",
       "\n",
       "Platform            PS3    PS4    PSP    PSV     Wii   WiiU    X360     XB  \\\n",
       "Year_of_Release                                                              \n",
       "1985                NaN    NaN    NaN    NaN     NaN    NaN     NaN    NaN   \n",
       "1988                NaN    NaN    NaN    NaN     NaN    NaN     NaN    NaN   \n",
       "1992                NaN    NaN    NaN    NaN     NaN    NaN     NaN    NaN   \n",
       "1994                NaN    NaN    NaN    NaN     NaN    NaN     NaN    NaN   \n",
       "1996                NaN    NaN    NaN    NaN     NaN    NaN     NaN    NaN   \n",
       "1997                NaN    NaN    NaN    NaN     NaN    NaN     NaN    NaN   \n",
       "1998                NaN    NaN    NaN    NaN     NaN    NaN     NaN    NaN   \n",
       "1999                NaN    NaN    NaN    NaN     NaN    NaN     NaN    NaN   \n",
       "2000                NaN    NaN    NaN    NaN     NaN    NaN     NaN   0.99   \n",
       "2001                NaN    NaN    NaN    NaN     NaN    NaN     NaN  20.69   \n",
       "2002                NaN    NaN    NaN    NaN     NaN    NaN     NaN  40.25   \n",
       "2003                NaN    NaN    NaN    NaN     NaN    NaN     NaN  42.43   \n",
       "2004                NaN    NaN   4.49    NaN     NaN    NaN     NaN  58.52   \n",
       "2005                NaN    NaN  39.24    NaN     NaN    NaN    7.66  41.43   \n",
       "2006              19.61    NaN  43.33    NaN  134.97    NaN   48.92   7.21   \n",
       "2007              68.49    NaN  35.64    NaN  127.33    NaN   89.41   0.55   \n",
       "2008             109.80    NaN  25.69    NaN  131.05    NaN  129.17    NaN   \n",
       "2009             118.48    NaN  20.46    NaN  151.02    NaN  110.71    NaN   \n",
       "2010             125.41    NaN  15.57    NaN   67.93    NaN  157.37    NaN   \n",
       "2011             134.84    NaN   3.35   3.84   33.45    NaN  129.56    NaN   \n",
       "2012              94.24    NaN    NaN  13.15   13.23  14.85   95.59    NaN   \n",
       "2013             102.15  25.06   0.15   5.92     NaN  17.44   74.79    NaN   \n",
       "2014              11.26  80.73    NaN   5.30     NaN  15.21   10.12    NaN   \n",
       "2015               0.02  80.11    NaN   1.72     NaN  15.33     NaN    NaN   \n",
       "2016                NaN  57.13    NaN   0.95     NaN   3.25     NaN    NaN   \n",
       "\n",
       "Platform          XOne  \n",
       "Year_of_Release         \n",
       "1985               NaN  \n",
       "1988               NaN  \n",
       "1992               NaN  \n",
       "1994               NaN  \n",
       "1996               NaN  \n",
       "1997               NaN  \n",
       "1998               NaN  \n",
       "1999               NaN  \n",
       "2000               NaN  \n",
       "2001               NaN  \n",
       "2002               NaN  \n",
       "2003               NaN  \n",
       "2004               NaN  \n",
       "2005               NaN  \n",
       "2006               NaN  \n",
       "2007               NaN  \n",
       "2008               NaN  \n",
       "2009               NaN  \n",
       "2010               NaN  \n",
       "2011               NaN  \n",
       "2012               NaN  \n",
       "2013             14.90  \n",
       "2014             47.07  \n",
       "2015             44.24  \n",
       "2016             23.36  "
      ]
     },
     "execution_count": 45,
     "metadata": {},
     "output_type": "execute_result"
    }
   ],
   "source": [
    "plat_pivot = pd.pivot_table(df2, index='Year_of_Release', columns='Platform', values='Global_Sales', aggfunc=np.sum)\n",
    "plat_pivot"
   ]
  },
  {
   "cell_type": "markdown",
   "metadata": {},
   "source": [
    "Continuous NaN's in each column indicate that either the platform was not invented or was already dated. From this table we can see the evolution of market share for platforms.\n",
    "\n",
    "The following plot intuitively visualizes the data in the table. "
   ]
  },
  {
   "cell_type": "code",
   "execution_count": 103,
   "metadata": {},
   "outputs": [
    {
     "data": {
      "text/plain": [
       "<matplotlib.legend.Legend at 0x1188c6390>"
      ]
     },
     "execution_count": 103,
     "metadata": {},
     "output_type": "execute_result"
    },
    {
     "data": {
      "image/png": "[encoded data removed]",
      "text/plain": [
       "<Figure size 1080x432 with 1 Axes>"
      ]
     },
     "metadata": {
      "needs_background": "light"
     },
     "output_type": "display_data"
    }
   ],
   "source": [
    "plat_pivot.plot(kind='area', stacked=True, colormap='rainbow', figsize=(15,6))\n",
    "plt.legend(bbox_to_anchor=(1, 1))"
   ]
  },
  {
   "cell_type": "markdown",
   "metadata": {},
   "source": [
    "This plot shows that the evolution in video game platform market is significant. New generations come out, occupy the market and are eventually replaced by next generations."
   ]
  },
  {
   "cell_type": "markdown",
   "metadata": {},
   "source": [
    "#### Most Selling Platform Each Year"
   ]
  },
  {
   "cell_type": "code",
   "execution_count": 47,
   "metadata": {},
   "outputs": [
    {
     "data": {
      "text/html": [
       "<div>\n",
       "<style scoped>\n",
       "    .dataframe tbody tr th:only-of-type {\n",
       "        vertical-align: middle;\n",
       "    }\n",
       "\n",
       "    .dataframe tbody tr th {\n",
       "        vertical-align: top;\n",
       "    }\n",
       "\n",
       "    .dataframe thead th {\n",
       "        text-align: right;\n",
       "    }\n",
       "</style>\n",
       "<table border=\"1\" class=\"dataframe\">\n",
       "  <thead>\n",
       "    <tr style=\"text-align: right;\">\n",
       "      <th></th>\n",
       "      <th>Platform</th>\n",
       "      <th>Global_Sales</th>\n",
       "    </tr>\n",
       "    <tr>\n",
       "      <th>Year_of_Release</th>\n",
       "      <th></th>\n",
       "      <th></th>\n",
       "    </tr>\n",
       "  </thead>\n",
       "  <tbody>\n",
       "    <tr>\n",
       "      <th>1985</th>\n",
       "      <td>PC</td>\n",
       "      <td>0.03</td>\n",
       "    </tr>\n",
       "    <tr>\n",
       "      <th>1988</th>\n",
       "      <td>PC</td>\n",
       "      <td>0.03</td>\n",
       "    </tr>\n",
       "    <tr>\n",
       "      <th>1992</th>\n",
       "      <td>PC</td>\n",
       "      <td>0.03</td>\n",
       "    </tr>\n",
       "    <tr>\n",
       "      <th>1994</th>\n",
       "      <td>PS</td>\n",
       "      <td>1.27</td>\n",
       "    </tr>\n",
       "    <tr>\n",
       "      <th>1996</th>\n",
       "      <td>PS</td>\n",
       "      <td>17.48</td>\n",
       "    </tr>\n",
       "    <tr>\n",
       "      <th>1997</th>\n",
       "      <td>PS</td>\n",
       "      <td>30.89</td>\n",
       "    </tr>\n",
       "    <tr>\n",
       "      <th>1998</th>\n",
       "      <td>PS</td>\n",
       "      <td>43.08</td>\n",
       "    </tr>\n",
       "    <tr>\n",
       "      <th>1999</th>\n",
       "      <td>PS</td>\n",
       "      <td>49.02</td>\n",
       "    </tr>\n",
       "    <tr>\n",
       "      <th>2000</th>\n",
       "      <td>PS</td>\n",
       "      <td>45.63</td>\n",
       "    </tr>\n",
       "    <tr>\n",
       "      <th>2001</th>\n",
       "      <td>PS2</td>\n",
       "      <td>145.93</td>\n",
       "    </tr>\n",
       "    <tr>\n",
       "      <th>2002</th>\n",
       "      <td>PS2</td>\n",
       "      <td>170.03</td>\n",
       "    </tr>\n",
       "    <tr>\n",
       "      <th>2003</th>\n",
       "      <td>PS2</td>\n",
       "      <td>144.32</td>\n",
       "    </tr>\n",
       "    <tr>\n",
       "      <th>2004</th>\n",
       "      <td>PS2</td>\n",
       "      <td>188.31</td>\n",
       "    </tr>\n",
       "    <tr>\n",
       "      <th>2005</th>\n",
       "      <td>PS2</td>\n",
       "      <td>117.68</td>\n",
       "    </tr>\n",
       "    <tr>\n",
       "      <th>2006</th>\n",
       "      <td>Wii</td>\n",
       "      <td>134.97</td>\n",
       "    </tr>\n",
       "    <tr>\n",
       "      <th>2007</th>\n",
       "      <td>Wii</td>\n",
       "      <td>127.33</td>\n",
       "    </tr>\n",
       "    <tr>\n",
       "      <th>2008</th>\n",
       "      <td>Wii</td>\n",
       "      <td>131.05</td>\n",
       "    </tr>\n",
       "    <tr>\n",
       "      <th>2009</th>\n",
       "      <td>Wii</td>\n",
       "      <td>151.02</td>\n",
       "    </tr>\n",
       "    <tr>\n",
       "      <th>2010</th>\n",
       "      <td>X360</td>\n",
       "      <td>157.37</td>\n",
       "    </tr>\n",
       "    <tr>\n",
       "      <th>2011</th>\n",
       "      <td>PS3</td>\n",
       "      <td>134.84</td>\n",
       "    </tr>\n",
       "    <tr>\n",
       "      <th>2012</th>\n",
       "      <td>X360</td>\n",
       "      <td>95.59</td>\n",
       "    </tr>\n",
       "    <tr>\n",
       "      <th>2013</th>\n",
       "      <td>PS3</td>\n",
       "      <td>102.15</td>\n",
       "    </tr>\n",
       "    <tr>\n",
       "      <th>2014</th>\n",
       "      <td>PS4</td>\n",
       "      <td>80.73</td>\n",
       "    </tr>\n",
       "    <tr>\n",
       "      <th>2015</th>\n",
       "      <td>PS4</td>\n",
       "      <td>80.11</td>\n",
       "    </tr>\n",
       "    <tr>\n",
       "      <th>2016</th>\n",
       "      <td>PS4</td>\n",
       "      <td>57.13</td>\n",
       "    </tr>\n",
       "  </tbody>\n",
       "</table>\n",
       "</div>"
      ],
      "text/plain": [
       "                Platform  Global_Sales\n",
       "Year_of_Release                       \n",
       "1985                  PC          0.03\n",
       "1988                  PC          0.03\n",
       "1992                  PC          0.03\n",
       "1994                  PS          1.27\n",
       "1996                  PS         17.48\n",
       "1997                  PS         30.89\n",
       "1998                  PS         43.08\n",
       "1999                  PS         49.02\n",
       "2000                  PS         45.63\n",
       "2001                 PS2        145.93\n",
       "2002                 PS2        170.03\n",
       "2003                 PS2        144.32\n",
       "2004                 PS2        188.31\n",
       "2005                 PS2        117.68\n",
       "2006                 Wii        134.97\n",
       "2007                 Wii        127.33\n",
       "2008                 Wii        131.05\n",
       "2009                 Wii        151.02\n",
       "2010                X360        157.37\n",
       "2011                 PS3        134.84\n",
       "2012                X360         95.59\n",
       "2013                 PS3        102.15\n",
       "2014                 PS4         80.73\n",
       "2015                 PS4         80.11\n",
       "2016                 PS4         57.13"
      ]
     },
     "execution_count": 47,
     "metadata": {},
     "output_type": "execute_result"
    }
   ],
   "source": [
    "plat_max = pd.DataFrame({'Platform':plat_pivot.idxmax(axis=1), 'Global_Sales':plat_pivot.max(axis=1)})\n",
    "plat_max"
   ]
  },
  {
   "cell_type": "code",
   "execution_count": 99,
   "metadata": {
    "scrolled": true
   },
   "outputs": [
    {
     "data": {
      "image/png": "[encoded data removed]",
      "text/plain": [
       "<Figure size 936x432 with 1 Axes>"
      ]
     },
     "metadata": {
      "needs_background": "light"
     },
     "output_type": "display_data"
    }
   ],
   "source": [
    "plat_max['Year_of_Release'] = plat_max.index\n",
    "plt.figure(figsize=(13, 6))\n",
    "sns.barplot(data=plat_max, x='Year_of_Release', y='Global_Sales', hue='Platform', dodge=False)\n",
    "plt.show()"
   ]
  },
  {
   "cell_type": "markdown",
   "metadata": {},
   "source": [
    "The plot above shows the most selling platforms each year.\n",
    "Before 2000, Sony's PlayStation(PS) led in global sales. From 2001 to 2005, its new generation PS2 occupied the market. Nintendo Wii was leading for the next 4 year. Xbox 360 and PS3 from the 7th generation were the most competitive over 2010 to 2013. From 2014, PS4 from the 8th generation had the most sellings."
   ]
  },
  {
   "cell_type": "markdown",
   "metadata": {},
   "source": [
    "#### User Score Max"
   ]
  },
  {
   "cell_type": "code",
   "execution_count": 49,
   "metadata": {},
   "outputs": [
    {
     "data": {
      "text/html": [
       "<div>\n",
       "<style scoped>\n",
       "    .dataframe tbody tr th:only-of-type {\n",
       "        vertical-align: middle;\n",
       "    }\n",
       "\n",
       "    .dataframe tbody tr th {\n",
       "        vertical-align: top;\n",
       "    }\n",
       "\n",
       "    .dataframe thead th {\n",
       "        text-align: right;\n",
       "    }\n",
       "</style>\n",
       "<table border=\"1\" class=\"dataframe\">\n",
       "  <thead>\n",
       "    <tr style=\"text-align: right;\">\n",
       "      <th></th>\n",
       "      <th>Platform</th>\n",
       "      <th>User_Score</th>\n",
       "    </tr>\n",
       "    <tr>\n",
       "      <th>Year_of_Release</th>\n",
       "      <th></th>\n",
       "      <th></th>\n",
       "    </tr>\n",
       "  </thead>\n",
       "  <tbody>\n",
       "    <tr>\n",
       "      <th>1985</th>\n",
       "      <td>PC</td>\n",
       "      <td>5.800000</td>\n",
       "    </tr>\n",
       "    <tr>\n",
       "      <th>1988</th>\n",
       "      <td>PC</td>\n",
       "      <td>2.200000</td>\n",
       "    </tr>\n",
       "    <tr>\n",
       "      <th>1992</th>\n",
       "      <td>PC</td>\n",
       "      <td>8.200000</td>\n",
       "    </tr>\n",
       "    <tr>\n",
       "      <th>1994</th>\n",
       "      <td>PS</td>\n",
       "      <td>6.300000</td>\n",
       "    </tr>\n",
       "    <tr>\n",
       "      <th>1996</th>\n",
       "      <td>PC</td>\n",
       "      <td>8.600000</td>\n",
       "    </tr>\n",
       "    <tr>\n",
       "      <th>1997</th>\n",
       "      <td>PC</td>\n",
       "      <td>9.100000</td>\n",
       "    </tr>\n",
       "    <tr>\n",
       "      <th>1998</th>\n",
       "      <td>PC</td>\n",
       "      <td>9.100000</td>\n",
       "    </tr>\n",
       "    <tr>\n",
       "      <th>1999</th>\n",
       "      <td>PC</td>\n",
       "      <td>8.950000</td>\n",
       "    </tr>\n",
       "    <tr>\n",
       "      <th>2000</th>\n",
       "      <td>XB</td>\n",
       "      <td>8.500000</td>\n",
       "    </tr>\n",
       "    <tr>\n",
       "      <th>2001</th>\n",
       "      <td>DC</td>\n",
       "      <td>8.750000</td>\n",
       "    </tr>\n",
       "    <tr>\n",
       "      <th>2002</th>\n",
       "      <td>PS</td>\n",
       "      <td>9.000000</td>\n",
       "    </tr>\n",
       "    <tr>\n",
       "      <th>2003</th>\n",
       "      <td>PC</td>\n",
       "      <td>8.366667</td>\n",
       "    </tr>\n",
       "    <tr>\n",
       "      <th>2004</th>\n",
       "      <td>PS2</td>\n",
       "      <td>7.835821</td>\n",
       "    </tr>\n",
       "    <tr>\n",
       "      <th>2005</th>\n",
       "      <td>PC</td>\n",
       "      <td>8.014815</td>\n",
       "    </tr>\n",
       "    <tr>\n",
       "      <th>2006</th>\n",
       "      <td>PC</td>\n",
       "      <td>7.728947</td>\n",
       "    </tr>\n",
       "    <tr>\n",
       "      <th>2007</th>\n",
       "      <td>XB</td>\n",
       "      <td>7.233333</td>\n",
       "    </tr>\n",
       "    <tr>\n",
       "      <th>2008</th>\n",
       "      <td>PSP</td>\n",
       "      <td>7.352381</td>\n",
       "    </tr>\n",
       "    <tr>\n",
       "      <th>2009</th>\n",
       "      <td>PC</td>\n",
       "      <td>7.257534</td>\n",
       "    </tr>\n",
       "    <tr>\n",
       "      <th>2010</th>\n",
       "      <td>PSP</td>\n",
       "      <td>7.310526</td>\n",
       "    </tr>\n",
       "    <tr>\n",
       "      <th>2011</th>\n",
       "      <td>DS</td>\n",
       "      <td>7.655556</td>\n",
       "    </tr>\n",
       "    <tr>\n",
       "      <th>2012</th>\n",
       "      <td>DS</td>\n",
       "      <td>8.200000</td>\n",
       "    </tr>\n",
       "    <tr>\n",
       "      <th>2013</th>\n",
       "      <td>PSP</td>\n",
       "      <td>8.300000</td>\n",
       "    </tr>\n",
       "    <tr>\n",
       "      <th>2014</th>\n",
       "      <td>PSV</td>\n",
       "      <td>7.840000</td>\n",
       "    </tr>\n",
       "    <tr>\n",
       "      <th>2015</th>\n",
       "      <td>PSV</td>\n",
       "      <td>7.915385</td>\n",
       "    </tr>\n",
       "    <tr>\n",
       "      <th>2016</th>\n",
       "      <td>PSV</td>\n",
       "      <td>7.910000</td>\n",
       "    </tr>\n",
       "  </tbody>\n",
       "</table>\n",
       "</div>"
      ],
      "text/plain": [
       "                Platform  User_Score\n",
       "Year_of_Release                     \n",
       "1985                  PC    5.800000\n",
       "1988                  PC    2.200000\n",
       "1992                  PC    8.200000\n",
       "1994                  PS    6.300000\n",
       "1996                  PC    8.600000\n",
       "1997                  PC    9.100000\n",
       "1998                  PC    9.100000\n",
       "1999                  PC    8.950000\n",
       "2000                  XB    8.500000\n",
       "2001                  DC    8.750000\n",
       "2002                  PS    9.000000\n",
       "2003                  PC    8.366667\n",
       "2004                 PS2    7.835821\n",
       "2005                  PC    8.014815\n",
       "2006                  PC    7.728947\n",
       "2007                  XB    7.233333\n",
       "2008                 PSP    7.352381\n",
       "2009                  PC    7.257534\n",
       "2010                 PSP    7.310526\n",
       "2011                  DS    7.655556\n",
       "2012                  DS    8.200000\n",
       "2013                 PSP    8.300000\n",
       "2014                 PSV    7.840000\n",
       "2015                 PSV    7.915385\n",
       "2016                 PSV    7.910000"
      ]
     },
     "execution_count": 49,
     "metadata": {},
     "output_type": "execute_result"
    }
   ],
   "source": [
    "plat_score = pd.pivot_table(df2, index='Year_of_Release', columns='Platform', values='User_Score', aggfunc=np.mean)\n",
    "plat_score_max = pd.DataFrame({'Platform':plat_score.idxmax(axis=1), 'User_Score':plat_score.max(axis=1)})\n",
    "plat_score_max"
   ]
  },
  {
   "cell_type": "code",
   "execution_count": 50,
   "metadata": {
    "scrolled": true
   },
   "outputs": [
    {
     "data": {
      "image/png": "[encoded data removed]",
      "text/plain": [
       "<Figure size 1080x432 with 1 Axes>"
      ]
     },
     "metadata": {
      "needs_background": "light"
     },
     "output_type": "display_data"
    }
   ],
   "source": [
    "plat_score_max['Year_of_Release'] = plat_score_max.index\n",
    "plt.figure(figsize=(15, 6))\n",
    "sns.barplot(data=plat_score_max, x='Year_of_Release', y='User_Score', hue='Platform', dodge=False)\n",
    "plt.show()"
   ]
  },
  {
   "cell_type": "markdown",
   "metadata": {},
   "source": [
    "The plot above shows the platforms with highest average user scores on video games each year. PC used to be users' favorite platform before 2010. Nintendo DS(DS), PlayStation Portable(PSP) and PlayStation Vita(PSV) become popular recently."
   ]
  },
  {
   "cell_type": "markdown",
   "metadata": {},
   "source": [
    "### 8th GENERATION CONSOLE WAR: PS4 vs XBOXONE vs WiiU"
   ]
  },
  {
   "cell_type": "markdown",
   "metadata": {},
   "source": [
    "Sony PS4, Xbox One and Nintendo WiiU are the representatives in the 8th Generation of video game consoles. The section aims to compare their performances. "
   ]
  },
  {
   "cell_type": "code",
   "execution_count": 90,
   "metadata": {},
   "outputs": [
    {
     "data": {
      "text/plain": [
       "(487, 16)"
      ]
     },
     "execution_count": 90,
     "metadata": {},
     "output_type": "execute_result"
    }
   ],
   "source": [
    "gen8 = df2[(df2.Platform == 'PS4') | (df2.Platform == 'XOne') | (df2.Platform == 'WiiU')]\n",
    "gen8.shape"
   ]
  },
  {
   "cell_type": "code",
   "execution_count": 91,
   "metadata": {
    "scrolled": true
   },
   "outputs": [
    {
     "data": {
      "text/html": [
       "<div>\n",
       "<style scoped>\n",
       "    .dataframe tbody tr th:only-of-type {\n",
       "        vertical-align: middle;\n",
       "    }\n",
       "\n",
       "    .dataframe tbody tr th {\n",
       "        vertical-align: top;\n",
       "    }\n",
       "\n",
       "    .dataframe thead th {\n",
       "        text-align: right;\n",
       "    }\n",
       "</style>\n",
       "<table border=\"1\" class=\"dataframe\">\n",
       "  <thead>\n",
       "    <tr style=\"text-align: right;\">\n",
       "      <th>Platform</th>\n",
       "      <th>PS4</th>\n",
       "      <th>WiiU</th>\n",
       "      <th>XOne</th>\n",
       "    </tr>\n",
       "    <tr>\n",
       "      <th>Year_of_Release</th>\n",
       "      <th></th>\n",
       "      <th></th>\n",
       "      <th></th>\n",
       "    </tr>\n",
       "  </thead>\n",
       "  <tbody>\n",
       "    <tr>\n",
       "      <th>2012</th>\n",
       "      <td>0</td>\n",
       "      <td>20</td>\n",
       "      <td>0</td>\n",
       "    </tr>\n",
       "    <tr>\n",
       "      <th>2013</th>\n",
       "      <td>15</td>\n",
       "      <td>27</td>\n",
       "      <td>14</td>\n",
       "    </tr>\n",
       "    <tr>\n",
       "      <th>2014</th>\n",
       "      <td>51</td>\n",
       "      <td>15</td>\n",
       "      <td>43</td>\n",
       "    </tr>\n",
       "    <tr>\n",
       "      <th>2015</th>\n",
       "      <td>81</td>\n",
       "      <td>19</td>\n",
       "      <td>47</td>\n",
       "    </tr>\n",
       "    <tr>\n",
       "      <th>2016</th>\n",
       "      <td>92</td>\n",
       "      <td>8</td>\n",
       "      <td>55</td>\n",
       "    </tr>\n",
       "  </tbody>\n",
       "</table>\n",
       "</div>"
      ],
      "text/plain": [
       "Platform         PS4  WiiU  XOne\n",
       "Year_of_Release                 \n",
       "2012               0    20     0\n",
       "2013              15    27    14\n",
       "2014              51    15    43\n",
       "2015              81    19    47\n",
       "2016              92     8    55"
      ]
     },
     "execution_count": 91,
     "metadata": {},
     "output_type": "execute_result"
    }
   ],
   "source": [
    "gen8_freq = pd.crosstab(index=gen8.Year_of_Release, columns=gen8.Platform)\n",
    "gen8_freq"
   ]
  },
  {
   "cell_type": "markdown",
   "metadata": {},
   "source": [
    "This table counts the number of games released on each platform in the 8th generation by year."
   ]
  },
  {
   "cell_type": "code",
   "execution_count": 95,
   "metadata": {},
   "outputs": [
    {
     "data": {
      "image/png": "[encoded data removed]",
      "text/plain": [
       "<Figure size 432x288 with 1 Axes>"
      ]
     },
     "metadata": {
      "needs_background": "light"
     },
     "output_type": "display_data"
    }
   ],
   "source": [
    "gen8_freq.plot()\n",
    "plt.title('Frequency of Gaming Platforms')\n",
    "plt.xticks(gen8.Year_of_Release)\n",
    "plt.ylabel('Number of Occurrences')\n",
    "plt.show()"
   ]
  },
  {
   "cell_type": "markdown",
   "metadata": {},
   "source": [
    "The number of games increases for both PS4 and Xbox One. Nintendo WiiU was released 1 year early than the other two competitiors, but did not maintain a strong performance. "
   ]
  },
  {
   "cell_type": "code",
   "execution_count": 54,
   "metadata": {},
   "outputs": [
    {
     "data": {
      "text/html": [
       "<div>\n",
       "<style scoped>\n",
       "    .dataframe tbody tr th:only-of-type {\n",
       "        vertical-align: middle;\n",
       "    }\n",
       "\n",
       "    .dataframe tbody tr th {\n",
       "        vertical-align: top;\n",
       "    }\n",
       "\n",
       "    .dataframe thead th {\n",
       "        text-align: right;\n",
       "    }\n",
       "</style>\n",
       "<table border=\"1\" class=\"dataframe\">\n",
       "  <thead>\n",
       "    <tr style=\"text-align: right;\">\n",
       "      <th>Platform</th>\n",
       "      <th>PS4</th>\n",
       "      <th>WiiU</th>\n",
       "      <th>XOne</th>\n",
       "    </tr>\n",
       "    <tr>\n",
       "      <th>Year_of_Release</th>\n",
       "      <th></th>\n",
       "      <th></th>\n",
       "      <th></th>\n",
       "    </tr>\n",
       "  </thead>\n",
       "  <tbody>\n",
       "    <tr>\n",
       "      <th>2012</th>\n",
       "      <td>NaN</td>\n",
       "      <td>14.85</td>\n",
       "      <td>NaN</td>\n",
       "    </tr>\n",
       "    <tr>\n",
       "      <th>2013</th>\n",
       "      <td>25.06</td>\n",
       "      <td>17.44</td>\n",
       "      <td>14.90</td>\n",
       "    </tr>\n",
       "    <tr>\n",
       "      <th>2014</th>\n",
       "      <td>80.73</td>\n",
       "      <td>15.21</td>\n",
       "      <td>47.07</td>\n",
       "    </tr>\n",
       "    <tr>\n",
       "      <th>2015</th>\n",
       "      <td>80.11</td>\n",
       "      <td>15.33</td>\n",
       "      <td>44.24</td>\n",
       "    </tr>\n",
       "    <tr>\n",
       "      <th>2016</th>\n",
       "      <td>57.13</td>\n",
       "      <td>3.25</td>\n",
       "      <td>23.36</td>\n",
       "    </tr>\n",
       "  </tbody>\n",
       "</table>\n",
       "</div>"
      ],
      "text/plain": [
       "Platform           PS4   WiiU   XOne\n",
       "Year_of_Release                     \n",
       "2012               NaN  14.85    NaN\n",
       "2013             25.06  17.44  14.90\n",
       "2014             80.73  15.21  47.07\n",
       "2015             80.11  15.33  44.24\n",
       "2016             57.13   3.25  23.36"
      ]
     },
     "execution_count": 54,
     "metadata": {},
     "output_type": "execute_result"
    }
   ],
   "source": [
    "gen8_pivot = pd.pivot_table(gen8, index='Year_of_Release', columns='Platform', values='Global_Sales', aggfunc=np.sum)\n",
    "gen8_pivot"
   ]
  },
  {
   "cell_type": "code",
   "execution_count": 96,
   "metadata": {
    "scrolled": true
   },
   "outputs": [
    {
     "data": {
      "text/plain": [
       "Text(0, 0.5, 'Global_Sales')"
      ]
     },
     "execution_count": 96,
     "metadata": {},
     "output_type": "execute_result"
    },
    {
     "data": {
      "image/png": "[encoded data removed]",
      "text/plain": [
       "<Figure size 432x288 with 1 Axes>"
      ]
     },
     "metadata": {
      "needs_background": "light"
     },
     "output_type": "display_data"
    }
   ],
   "source": [
    "gen8_pivot.plot()\n",
    "plt.xticks(gen8.Year_of_Release)\n",
    "plt.ylabel('Global_Sales')"
   ]
  },
  {
   "cell_type": "markdown",
   "metadata": {},
   "source": [
    "This plot shows the global sales of the three platforms. Compared with last plot, we notice that although the number of games increases, the total sales decreases in 2016. This is an indication of the end of the 8th generation."
   ]
  },
  {
   "cell_type": "code",
   "execution_count": 56,
   "metadata": {},
   "outputs": [
    {
     "data": {
      "text/html": [
       "<div>\n",
       "<style scoped>\n",
       "    .dataframe tbody tr th:only-of-type {\n",
       "        vertical-align: middle;\n",
       "    }\n",
       "\n",
       "    .dataframe tbody tr th {\n",
       "        vertical-align: top;\n",
       "    }\n",
       "\n",
       "    .dataframe thead th {\n",
       "        text-align: right;\n",
       "    }\n",
       "</style>\n",
       "<table border=\"1\" class=\"dataframe\">\n",
       "  <thead>\n",
       "    <tr style=\"text-align: right;\">\n",
       "      <th>Platform</th>\n",
       "      <th>PS4</th>\n",
       "      <th>WiiU</th>\n",
       "      <th>XOne</th>\n",
       "    </tr>\n",
       "    <tr>\n",
       "      <th>Genre</th>\n",
       "      <th></th>\n",
       "      <th></th>\n",
       "      <th></th>\n",
       "    </tr>\n",
       "  </thead>\n",
       "  <tbody>\n",
       "    <tr>\n",
       "      <th>Action</th>\n",
       "      <td>76.92</td>\n",
       "      <td>13.61</td>\n",
       "      <td>29.07</td>\n",
       "    </tr>\n",
       "    <tr>\n",
       "      <th>Adventure</th>\n",
       "      <td>3.09</td>\n",
       "      <td>0.08</td>\n",
       "      <td>1.57</td>\n",
       "    </tr>\n",
       "    <tr>\n",
       "      <th>Fighting</th>\n",
       "      <td>6.86</td>\n",
       "      <td>1.22</td>\n",
       "      <td>2.25</td>\n",
       "    </tr>\n",
       "    <tr>\n",
       "      <th>Misc</th>\n",
       "      <td>2.70</td>\n",
       "      <td>10.93</td>\n",
       "      <td>4.08</td>\n",
       "    </tr>\n",
       "    <tr>\n",
       "      <th>Platform</th>\n",
       "      <td>6.16</td>\n",
       "      <td>21.33</td>\n",
       "      <td>0.62</td>\n",
       "    </tr>\n",
       "    <tr>\n",
       "      <th>Puzzle</th>\n",
       "      <td>0.03</td>\n",
       "      <td>1.30</td>\n",
       "      <td>NaN</td>\n",
       "    </tr>\n",
       "    <tr>\n",
       "      <th>Racing</th>\n",
       "      <td>9.08</td>\n",
       "      <td>7.09</td>\n",
       "      <td>8.84</td>\n",
       "    </tr>\n",
       "    <tr>\n",
       "      <th>Role-Playing</th>\n",
       "      <td>18.18</td>\n",
       "      <td>1.26</td>\n",
       "      <td>8.21</td>\n",
       "    </tr>\n",
       "    <tr>\n",
       "      <th>Shooter</th>\n",
       "      <td>63.67</td>\n",
       "      <td>5.56</td>\n",
       "      <td>48.12</td>\n",
       "    </tr>\n",
       "    <tr>\n",
       "      <th>Simulation</th>\n",
       "      <td>0.72</td>\n",
       "      <td>0.20</td>\n",
       "      <td>0.01</td>\n",
       "    </tr>\n",
       "    <tr>\n",
       "      <th>Sports</th>\n",
       "      <td>55.16</td>\n",
       "      <td>2.39</td>\n",
       "      <td>26.59</td>\n",
       "    </tr>\n",
       "    <tr>\n",
       "      <th>Strategy</th>\n",
       "      <td>0.46</td>\n",
       "      <td>1.11</td>\n",
       "      <td>0.21</td>\n",
       "    </tr>\n",
       "  </tbody>\n",
       "</table>\n",
       "</div>"
      ],
      "text/plain": [
       "Platform        PS4   WiiU   XOne\n",
       "Genre                            \n",
       "Action        76.92  13.61  29.07\n",
       "Adventure      3.09   0.08   1.57\n",
       "Fighting       6.86   1.22   2.25\n",
       "Misc           2.70  10.93   4.08\n",
       "Platform       6.16  21.33   0.62\n",
       "Puzzle         0.03   1.30    NaN\n",
       "Racing         9.08   7.09   8.84\n",
       "Role-Playing  18.18   1.26   8.21\n",
       "Shooter       63.67   5.56  48.12\n",
       "Simulation     0.72   0.20   0.01\n",
       "Sports        55.16   2.39  26.59\n",
       "Strategy       0.46   1.11   0.21"
      ]
     },
     "execution_count": 56,
     "metadata": {},
     "output_type": "execute_result"
    }
   ],
   "source": [
    "gen8_genre = pd.pivot_table(gen8, index='Genre', columns='Platform', values='Global_Sales', aggfunc=np.sum)\n",
    "gen8_genre"
   ]
  },
  {
   "cell_type": "code",
   "execution_count": 57,
   "metadata": {},
   "outputs": [
    {
     "data": {
      "text/plain": [
       "<Figure size 1080x576 with 0 Axes>"
      ]
     },
     "metadata": {},
     "output_type": "display_data"
    },
    {
     "data": {
      "image/png": "[encoded data removed]",
      "text/plain": [
       "<Figure size 432x288 with 1 Axes>"
      ]
     },
     "metadata": {
      "needs_background": "light"
     },
     "output_type": "display_data"
    }
   ],
   "source": [
    "plt.figure(figsize=(15,8))\n",
    "gen8_genre.plot(kind='bar', stacked=True, colormap='rainbow')\n",
    "plt.title('Platform Sales by Genre')\n",
    "plt.ylabel('Global Sales')\n",
    "plt.show()"
   ]
  },
  {
   "cell_type": "markdown",
   "metadata": {},
   "source": [
    "The sales by genre is not proportional to their total sales. It seems that each platform has its own focuses. \n",
    "\n",
    "To better understand the focuses of each platform, we want to compare the ratio of sales to their total in the genre."
   ]
  },
  {
   "cell_type": "code",
   "execution_count": 58,
   "metadata": {},
   "outputs": [
    {
     "data": {
      "text/html": [
       "<div>\n",
       "<style scoped>\n",
       "    .dataframe tbody tr th:only-of-type {\n",
       "        vertical-align: middle;\n",
       "    }\n",
       "\n",
       "    .dataframe tbody tr th {\n",
       "        vertical-align: top;\n",
       "    }\n",
       "\n",
       "    .dataframe thead th {\n",
       "        text-align: right;\n",
       "    }\n",
       "</style>\n",
       "<table border=\"1\" class=\"dataframe\">\n",
       "  <thead>\n",
       "    <tr style=\"text-align: right;\">\n",
       "      <th>Platform</th>\n",
       "      <th>PS4</th>\n",
       "      <th>WiiU</th>\n",
       "      <th>XOne</th>\n",
       "    </tr>\n",
       "    <tr>\n",
       "      <th>Genre</th>\n",
       "      <th></th>\n",
       "      <th></th>\n",
       "      <th></th>\n",
       "    </tr>\n",
       "  </thead>\n",
       "  <tbody>\n",
       "    <tr>\n",
       "      <th>Action</th>\n",
       "      <td>0.643144</td>\n",
       "      <td>0.113796</td>\n",
       "      <td>0.243060</td>\n",
       "    </tr>\n",
       "    <tr>\n",
       "      <th>Adventure</th>\n",
       "      <td>0.651899</td>\n",
       "      <td>0.016878</td>\n",
       "      <td>0.331224</td>\n",
       "    </tr>\n",
       "    <tr>\n",
       "      <th>Fighting</th>\n",
       "      <td>0.664085</td>\n",
       "      <td>0.118103</td>\n",
       "      <td>0.217812</td>\n",
       "    </tr>\n",
       "    <tr>\n",
       "      <th>Misc</th>\n",
       "      <td>0.152456</td>\n",
       "      <td>0.617165</td>\n",
       "      <td>0.230378</td>\n",
       "    </tr>\n",
       "    <tr>\n",
       "      <th>Platform</th>\n",
       "      <td>0.219139</td>\n",
       "      <td>0.758805</td>\n",
       "      <td>0.022056</td>\n",
       "    </tr>\n",
       "    <tr>\n",
       "      <th>Puzzle</th>\n",
       "      <td>0.022556</td>\n",
       "      <td>0.977444</td>\n",
       "      <td>NaN</td>\n",
       "    </tr>\n",
       "    <tr>\n",
       "      <th>Racing</th>\n",
       "      <td>0.363055</td>\n",
       "      <td>0.283487</td>\n",
       "      <td>0.353459</td>\n",
       "    </tr>\n",
       "    <tr>\n",
       "      <th>Role-Playing</th>\n",
       "      <td>0.657505</td>\n",
       "      <td>0.045570</td>\n",
       "      <td>0.296926</td>\n",
       "    </tr>\n",
       "    <tr>\n",
       "      <th>Shooter</th>\n",
       "      <td>0.542565</td>\n",
       "      <td>0.047380</td>\n",
       "      <td>0.410055</td>\n",
       "    </tr>\n",
       "    <tr>\n",
       "      <th>Simulation</th>\n",
       "      <td>0.774194</td>\n",
       "      <td>0.215054</td>\n",
       "      <td>0.010753</td>\n",
       "    </tr>\n",
       "    <tr>\n",
       "      <th>Sports</th>\n",
       "      <td>0.655574</td>\n",
       "      <td>0.028405</td>\n",
       "      <td>0.316021</td>\n",
       "    </tr>\n",
       "    <tr>\n",
       "      <th>Strategy</th>\n",
       "      <td>0.258427</td>\n",
       "      <td>0.623596</td>\n",
       "      <td>0.117978</td>\n",
       "    </tr>\n",
       "  </tbody>\n",
       "</table>\n",
       "</div>"
      ],
      "text/plain": [
       "Platform           PS4      WiiU      XOne\n",
       "Genre                                     \n",
       "Action        0.643144  0.113796  0.243060\n",
       "Adventure     0.651899  0.016878  0.331224\n",
       "Fighting      0.664085  0.118103  0.217812\n",
       "Misc          0.152456  0.617165  0.230378\n",
       "Platform      0.219139  0.758805  0.022056\n",
       "Puzzle        0.022556  0.977444       NaN\n",
       "Racing        0.363055  0.283487  0.353459\n",
       "Role-Playing  0.657505  0.045570  0.296926\n",
       "Shooter       0.542565  0.047380  0.410055\n",
       "Simulation    0.774194  0.215054  0.010753\n",
       "Sports        0.655574  0.028405  0.316021\n",
       "Strategy      0.258427  0.623596  0.117978"
      ]
     },
     "execution_count": 58,
     "metadata": {},
     "output_type": "execute_result"
    }
   ],
   "source": [
    "gen8_genre_percentage = gen8_genre.T/gen8_genre.sum(axis=1)\n",
    "gen8_genre_percentage.T"
   ]
  },
  {
   "cell_type": "code",
   "execution_count": 104,
   "metadata": {
    "scrolled": false
   },
   "outputs": [
    {
     "data": {
      "text/plain": [
       "<Figure size 1080x576 with 0 Axes>"
      ]
     },
     "metadata": {},
     "output_type": "display_data"
    },
    {
     "data": {
      "image/png": "[encoded data removed]",
      "text/plain": [
       "<Figure size 432x288 with 1 Axes>"
      ]
     },
     "metadata": {
      "needs_background": "light"
     },
     "output_type": "display_data"
    }
   ],
   "source": [
    "plt.figure(figsize=(15,8))\n",
    "gen8_genre_percentage.T.plot(kind='bar', stacked=True, colormap='rainbow')\n",
    "plt.title('Platform Sales by Genre')\n",
    "plt.ylabel('Global Sales')\n",
    "plt.legend(bbox_to_anchor=(1, 1))\n",
    "plt.show()"
   ]
  },
  {
   "cell_type": "markdown",
   "metadata": {},
   "source": [
    "From this plot, we can tell that Nintendo WiiU has top proportions in Misc, Platform, Puzzle and Strategy. Action, Adventure, Fighting, Role-playing, Shooting, Sports game developers usually choose PS4 and Xbox One as their platforms."
   ]
  },
  {
   "cell_type": "code",
   "execution_count": 60,
   "metadata": {},
   "outputs": [
    {
     "data": {
      "text/html": [
       "<div>\n",
       "<style scoped>\n",
       "    .dataframe tbody tr th:only-of-type {\n",
       "        vertical-align: middle;\n",
       "    }\n",
       "\n",
       "    .dataframe tbody tr th {\n",
       "        vertical-align: top;\n",
       "    }\n",
       "\n",
       "    .dataframe thead th {\n",
       "        text-align: right;\n",
       "    }\n",
       "</style>\n",
       "<table border=\"1\" class=\"dataframe\">\n",
       "  <thead>\n",
       "    <tr style=\"text-align: right;\">\n",
       "      <th>Platform</th>\n",
       "      <th>PS4</th>\n",
       "      <th>WiiU</th>\n",
       "      <th>XOne</th>\n",
       "    </tr>\n",
       "    <tr>\n",
       "      <th>Year_of_Release</th>\n",
       "      <th></th>\n",
       "      <th></th>\n",
       "      <th></th>\n",
       "    </tr>\n",
       "  </thead>\n",
       "  <tbody>\n",
       "    <tr>\n",
       "      <th>2012</th>\n",
       "      <td>NaN</td>\n",
       "      <td>3053.0</td>\n",
       "      <td>NaN</td>\n",
       "    </tr>\n",
       "    <tr>\n",
       "      <th>2013</th>\n",
       "      <td>10291.0</td>\n",
       "      <td>6000.0</td>\n",
       "      <td>5849.0</td>\n",
       "    </tr>\n",
       "    <tr>\n",
       "      <th>2014</th>\n",
       "      <td>37715.0</td>\n",
       "      <td>5900.0</td>\n",
       "      <td>17447.0</td>\n",
       "    </tr>\n",
       "    <tr>\n",
       "      <th>2015</th>\n",
       "      <td>49941.0</td>\n",
       "      <td>5537.0</td>\n",
       "      <td>18189.0</td>\n",
       "    </tr>\n",
       "    <tr>\n",
       "      <th>2016</th>\n",
       "      <td>34320.0</td>\n",
       "      <td>1727.0</td>\n",
       "      <td>9123.0</td>\n",
       "    </tr>\n",
       "  </tbody>\n",
       "</table>\n",
       "</div>"
      ],
      "text/plain": [
       "Platform             PS4    WiiU     XOne\n",
       "Year_of_Release                          \n",
       "2012                 NaN  3053.0      NaN\n",
       "2013             10291.0  6000.0   5849.0\n",
       "2014             37715.0  5900.0  17447.0\n",
       "2015             49941.0  5537.0  18189.0\n",
       "2016             34320.0  1727.0   9123.0"
      ]
     },
     "execution_count": 60,
     "metadata": {},
     "output_type": "execute_result"
    }
   ],
   "source": [
    "gen8_user = pd.pivot_table(gen8, index='Year_of_Release', columns='Platform', values='User_Count', aggfunc=np.sum)\n",
    "gen8_user"
   ]
  },
  {
   "cell_type": "code",
   "execution_count": 106,
   "metadata": {
    "scrolled": false
   },
   "outputs": [
    {
     "data": {
      "text/plain": [
       "Text(0, 0.5, 'Global_Sales')"
      ]
     },
     "execution_count": 106,
     "metadata": {},
     "output_type": "execute_result"
    },
    {
     "data": {
      "image/png": "[encoded data removed]",
      "text/plain": [
       "<Figure size 432x288 with 1 Axes>"
      ]
     },
     "metadata": {
      "needs_background": "light"
     },
     "output_type": "display_data"
    }
   ],
   "source": [
    "gen8_user.plot()\n",
    "plt.xticks(gen8.Year_of_Release)\n",
    "plt.ylabel('Global_Sales')"
   ]
  },
  {
   "cell_type": "markdown",
   "metadata": {},
   "source": [
    "This is the global sales plot by year for the three platforms. Most of this plot follows the trend of number of games. One exception is when PS4 games gained more popularity in from 2014 to 2015. Its global sales increased by a large percentage, while the number of games didn't change too much."
   ]
  },
  {
   "cell_type": "code",
   "execution_count": 62,
   "metadata": {
    "scrolled": true
   },
   "outputs": [
    {
     "data": {
      "text/html": [
       "<div>\n",
       "<style scoped>\n",
       "    .dataframe tbody tr th:only-of-type {\n",
       "        vertical-align: middle;\n",
       "    }\n",
       "\n",
       "    .dataframe tbody tr th {\n",
       "        vertical-align: top;\n",
       "    }\n",
       "\n",
       "    .dataframe thead th {\n",
       "        text-align: right;\n",
       "    }\n",
       "</style>\n",
       "<table border=\"1\" class=\"dataframe\">\n",
       "  <thead>\n",
       "    <tr style=\"text-align: right;\">\n",
       "      <th>Platform</th>\n",
       "      <th>PS4</th>\n",
       "      <th>WiiU</th>\n",
       "      <th>XOne</th>\n",
       "    </tr>\n",
       "    <tr>\n",
       "      <th>Rating</th>\n",
       "      <th></th>\n",
       "      <th></th>\n",
       "      <th></th>\n",
       "    </tr>\n",
       "  </thead>\n",
       "  <tbody>\n",
       "    <tr>\n",
       "      <th>E</th>\n",
       "      <td>53.44</td>\n",
       "      <td>34.37</td>\n",
       "      <td>26.94</td>\n",
       "    </tr>\n",
       "    <tr>\n",
       "      <th>E10+</th>\n",
       "      <td>21.94</td>\n",
       "      <td>23.30</td>\n",
       "      <td>12.88</td>\n",
       "    </tr>\n",
       "    <tr>\n",
       "      <th>M</th>\n",
       "      <td>123.97</td>\n",
       "      <td>3.96</td>\n",
       "      <td>73.26</td>\n",
       "    </tr>\n",
       "    <tr>\n",
       "      <th>T</th>\n",
       "      <td>43.68</td>\n",
       "      <td>4.45</td>\n",
       "      <td>16.49</td>\n",
       "    </tr>\n",
       "  </tbody>\n",
       "</table>\n",
       "</div>"
      ],
      "text/plain": [
       "Platform     PS4   WiiU   XOne\n",
       "Rating                        \n",
       "E          53.44  34.37  26.94\n",
       "E10+       21.94  23.30  12.88\n",
       "M         123.97   3.96  73.26\n",
       "T          43.68   4.45  16.49"
      ]
     },
     "execution_count": 62,
     "metadata": {},
     "output_type": "execute_result"
    }
   ],
   "source": [
    "gen8_rating = pd.pivot_table(gen8, index='Rating', columns='Platform', values='Global_Sales', aggfunc=np.sum)\n",
    "gen8_rating"
   ]
  },
  {
   "cell_type": "code",
   "execution_count": 63,
   "metadata": {},
   "outputs": [
    {
     "data": {
      "text/plain": [
       "<Figure size 1080x576 with 0 Axes>"
      ]
     },
     "metadata": {},
     "output_type": "display_data"
    },
    {
     "data": {
      "image/png": "[encoded data removed]",
      "text/plain": [
       "<Figure size 432x288 with 1 Axes>"
      ]
     },
     "metadata": {
      "needs_background": "light"
     },
     "output_type": "display_data"
    }
   ],
   "source": [
    "plt.figure(figsize=(15,8))\n",
    "gen8_rating.plot(kind='bar', stacked=True, colormap='rainbow')\n",
    "plt.title('Platform Sales by Rating')\n",
    "plt.ylabel('Global Sales')\n",
    "plt.show()"
   ]
  },
  {
   "cell_type": "markdown",
   "metadata": {},
   "source": [
    "Each platform has its preference on different age groups. WiiU provides a platform more for everyone, whereas PS4 and XOne prefer the mature group."
   ]
  },
  {
   "cell_type": "code",
   "execution_count": 64,
   "metadata": {},
   "outputs": [
    {
     "data": {
      "text/html": [
       "<div>\n",
       "<style scoped>\n",
       "    .dataframe tbody tr th:only-of-type {\n",
       "        vertical-align: middle;\n",
       "    }\n",
       "\n",
       "    .dataframe tbody tr th {\n",
       "        vertical-align: top;\n",
       "    }\n",
       "\n",
       "    .dataframe thead th {\n",
       "        text-align: right;\n",
       "    }\n",
       "</style>\n",
       "<table border=\"1\" class=\"dataframe\">\n",
       "  <thead>\n",
       "    <tr style=\"text-align: right;\">\n",
       "      <th>Platform</th>\n",
       "      <th>PS4</th>\n",
       "      <th>WiiU</th>\n",
       "      <th>XOne</th>\n",
       "    </tr>\n",
       "    <tr>\n",
       "      <th>Year_of_Release</th>\n",
       "      <th></th>\n",
       "      <th></th>\n",
       "      <th></th>\n",
       "    </tr>\n",
       "  </thead>\n",
       "  <tbody>\n",
       "    <tr>\n",
       "      <th>2012</th>\n",
       "      <td>NaN</td>\n",
       "      <td>6.450000</td>\n",
       "      <td>NaN</td>\n",
       "    </tr>\n",
       "    <tr>\n",
       "      <th>2013</th>\n",
       "      <td>5.460000</td>\n",
       "      <td>7.192593</td>\n",
       "      <td>5.650000</td>\n",
       "    </tr>\n",
       "    <tr>\n",
       "      <th>2014</th>\n",
       "      <td>6.792157</td>\n",
       "      <td>7.260000</td>\n",
       "      <td>6.697674</td>\n",
       "    </tr>\n",
       "    <tr>\n",
       "      <th>2015</th>\n",
       "      <td>6.798765</td>\n",
       "      <td>7.163158</td>\n",
       "      <td>6.421277</td>\n",
       "    </tr>\n",
       "    <tr>\n",
       "      <th>2016</th>\n",
       "      <td>6.866304</td>\n",
       "      <td>7.312500</td>\n",
       "      <td>6.609091</td>\n",
       "    </tr>\n",
       "  </tbody>\n",
       "</table>\n",
       "</div>"
      ],
      "text/plain": [
       "Platform              PS4      WiiU      XOne\n",
       "Year_of_Release                              \n",
       "2012                  NaN  6.450000       NaN\n",
       "2013             5.460000  7.192593  5.650000\n",
       "2014             6.792157  7.260000  6.697674\n",
       "2015             6.798765  7.163158  6.421277\n",
       "2016             6.866304  7.312500  6.609091"
      ]
     },
     "execution_count": 64,
     "metadata": {},
     "output_type": "execute_result"
    }
   ],
   "source": [
    "gen8_user_score = pd.pivot_table(gen8, index='Year_of_Release', columns='Platform', values='User_Score', aggfunc=np.mean)\n",
    "gen8_user_score"
   ]
  },
  {
   "cell_type": "code",
   "execution_count": 110,
   "metadata": {
    "scrolled": true
   },
   "outputs": [
    {
     "data": {
      "text/plain": [
       "<Figure size 432x288 with 0 Axes>"
      ]
     },
     "metadata": {},
     "output_type": "display_data"
    },
    {
     "data": {
      "image/png": "[encoded data removed]",
      "text/plain": [
       "<Figure size 432x288 with 1 Axes>"
      ]
     },
     "metadata": {
      "needs_background": "light"
     },
     "output_type": "display_data"
    }
   ],
   "source": [
    "plt.figure()\n",
    "gen8_user_score.plot()\n",
    "plt.title('Platform User Score by Year')\n",
    "plt.ylabel('User Score')\n",
    "plt.xticks(gen8.Year_of_Release)\n",
    "plt.show()"
   ]
  },
  {
   "cell_type": "markdown",
   "metadata": {},
   "source": [
    "Although the sales of WiiU didn't beat PS4 or XOne, the games on WiiU remained the highest average user score over the entire generation. We also notice that the user score increases rapidly in the first year after release. Probably this increase is credited to the development on bug fixing and user experience in the first year, which heavely relies on users' feedback."
   ]
  },
  {
   "cell_type": "code",
   "execution_count": 66,
   "metadata": {
    "scrolled": true
   },
   "outputs": [
    {
     "data": {
      "text/html": [
       "<div>\n",
       "<style scoped>\n",
       "    .dataframe tbody tr th:only-of-type {\n",
       "        vertical-align: middle;\n",
       "    }\n",
       "\n",
       "    .dataframe tbody tr th {\n",
       "        vertical-align: top;\n",
       "    }\n",
       "\n",
       "    .dataframe thead th {\n",
       "        text-align: right;\n",
       "    }\n",
       "</style>\n",
       "<table border=\"1\" class=\"dataframe\">\n",
       "  <thead>\n",
       "    <tr style=\"text-align: right;\">\n",
       "      <th>Platform</th>\n",
       "      <th>PS4</th>\n",
       "      <th>WiiU</th>\n",
       "      <th>XOne</th>\n",
       "    </tr>\n",
       "    <tr>\n",
       "      <th>Year_of_Release</th>\n",
       "      <th></th>\n",
       "      <th></th>\n",
       "      <th></th>\n",
       "    </tr>\n",
       "  </thead>\n",
       "  <tbody>\n",
       "    <tr>\n",
       "      <th>2012</th>\n",
       "      <td>NaN</td>\n",
       "      <td>67.550000</td>\n",
       "      <td>NaN</td>\n",
       "    </tr>\n",
       "    <tr>\n",
       "      <th>2013</th>\n",
       "      <td>70.933333</td>\n",
       "      <td>72.370370</td>\n",
       "      <td>68.142857</td>\n",
       "    </tr>\n",
       "    <tr>\n",
       "      <th>2014</th>\n",
       "      <td>73.647059</td>\n",
       "      <td>70.733333</td>\n",
       "      <td>74.279070</td>\n",
       "    </tr>\n",
       "    <tr>\n",
       "      <th>2015</th>\n",
       "      <td>72.493827</td>\n",
       "      <td>70.842105</td>\n",
       "      <td>74.617021</td>\n",
       "    </tr>\n",
       "    <tr>\n",
       "      <th>2016</th>\n",
       "      <td>72.565217</td>\n",
       "      <td>72.250000</td>\n",
       "      <td>73.963636</td>\n",
       "    </tr>\n",
       "  </tbody>\n",
       "</table>\n",
       "</div>"
      ],
      "text/plain": [
       "Platform               PS4       WiiU       XOne\n",
       "Year_of_Release                                 \n",
       "2012                   NaN  67.550000        NaN\n",
       "2013             70.933333  72.370370  68.142857\n",
       "2014             73.647059  70.733333  74.279070\n",
       "2015             72.493827  70.842105  74.617021\n",
       "2016             72.565217  72.250000  73.963636"
      ]
     },
     "execution_count": 66,
     "metadata": {},
     "output_type": "execute_result"
    }
   ],
   "source": [
    "gen8_critic_score = pd.pivot_table(gen8, index='Year_of_Release', columns='Platform', values='Critic_Score', aggfunc=np.mean)\n",
    "gen8_critic_score"
   ]
  },
  {
   "cell_type": "code",
   "execution_count": 111,
   "metadata": {
    "scrolled": false
   },
   "outputs": [
    {
     "data": {
      "text/plain": [
       "<Figure size 1080x576 with 0 Axes>"
      ]
     },
     "metadata": {},
     "output_type": "display_data"
    },
    {
     "data": {
      "image/png": "[encoded data removed]",
      "text/plain": [
       "<Figure size 432x288 with 1 Axes>"
      ]
     },
     "metadata": {
      "needs_background": "light"
     },
     "output_type": "display_data"
    }
   ],
   "source": [
    "plt.figure(figsize=(15,8))\n",
    "gen8_critic_score.plot()\n",
    "plt.title('Platform Critic Score by Year')\n",
    "plt.ylabel('Critic Score')\n",
    "plt.xticks(gen8.Year_of_Release)\n",
    "plt.show()"
   ]
  },
  {
   "cell_type": "markdown",
   "metadata": {},
   "source": [
    "Similarly, the rapid increase exists for each platform in their first year. Different from the user score, the critics ranked XOne as the best and WiiU as the worst."
   ]
  },
  {
   "cell_type": "markdown",
   "metadata": {},
   "source": [
    "### Generations of PlayStation: PS2 vs PS3 vs PS4"
   ]
  },
  {
   "cell_type": "markdown",
   "metadata": {},
   "source": [
    "We also want to know how the generations of video game consoles in the same brand compare with each other. We choose PS2 vs PS3 vs PS4 as an example. They are all successors of each other in Sony's PlayStation series, from 6th, 7th and 8th generation in the history of consoles respectively."
   ]
  },
  {
   "cell_type": "code",
   "execution_count": 68,
   "metadata": {},
   "outputs": [
    {
     "data": {
      "text/plain": [
       "(2148, 16)"
      ]
     },
     "execution_count": 68,
     "metadata": {},
     "output_type": "execute_result"
    }
   ],
   "source": [
    "ps = df2[(df2.Platform == 'PS2') | (df2.Platform == 'PS3') | (df2.Platform == 'PS4')]\n",
    "ps.shape"
   ]
  },
  {
   "cell_type": "code",
   "execution_count": 69,
   "metadata": {},
   "outputs": [
    {
     "data": {
      "text/html": [
       "<div>\n",
       "<style scoped>\n",
       "    .dataframe tbody tr th:only-of-type {\n",
       "        vertical-align: middle;\n",
       "    }\n",
       "\n",
       "    .dataframe tbody tr th {\n",
       "        vertical-align: top;\n",
       "    }\n",
       "\n",
       "    .dataframe thead th {\n",
       "        text-align: right;\n",
       "    }\n",
       "</style>\n",
       "<table border=\"1\" class=\"dataframe\">\n",
       "  <thead>\n",
       "    <tr style=\"text-align: right;\">\n",
       "      <th>Platform</th>\n",
       "      <th>PS2</th>\n",
       "      <th>PS3</th>\n",
       "      <th>PS4</th>\n",
       "    </tr>\n",
       "    <tr>\n",
       "      <th>Year_of_Release</th>\n",
       "      <th></th>\n",
       "      <th></th>\n",
       "      <th></th>\n",
       "    </tr>\n",
       "  </thead>\n",
       "  <tbody>\n",
       "    <tr>\n",
       "      <th>2000</th>\n",
       "      <td>40</td>\n",
       "      <td>0</td>\n",
       "      <td>0</td>\n",
       "    </tr>\n",
       "    <tr>\n",
       "      <th>2001</th>\n",
       "      <td>132</td>\n",
       "      <td>0</td>\n",
       "      <td>0</td>\n",
       "    </tr>\n",
       "    <tr>\n",
       "      <th>2002</th>\n",
       "      <td>181</td>\n",
       "      <td>0</td>\n",
       "      <td>0</td>\n",
       "    </tr>\n",
       "    <tr>\n",
       "      <th>2003</th>\n",
       "      <td>180</td>\n",
       "      <td>0</td>\n",
       "      <td>0</td>\n",
       "    </tr>\n",
       "    <tr>\n",
       "      <th>2004</th>\n",
       "      <td>201</td>\n",
       "      <td>0</td>\n",
       "      <td>0</td>\n",
       "    </tr>\n",
       "    <tr>\n",
       "      <th>2005</th>\n",
       "      <td>181</td>\n",
       "      <td>0</td>\n",
       "      <td>0</td>\n",
       "    </tr>\n",
       "    <tr>\n",
       "      <th>2006</th>\n",
       "      <td>117</td>\n",
       "      <td>19</td>\n",
       "      <td>0</td>\n",
       "    </tr>\n",
       "    <tr>\n",
       "      <th>2007</th>\n",
       "      <td>61</td>\n",
       "      <td>76</td>\n",
       "      <td>0</td>\n",
       "    </tr>\n",
       "    <tr>\n",
       "      <th>2008</th>\n",
       "      <td>34</td>\n",
       "      <td>109</td>\n",
       "      <td>0</td>\n",
       "    </tr>\n",
       "    <tr>\n",
       "      <th>2009</th>\n",
       "      <td>12</td>\n",
       "      <td>112</td>\n",
       "      <td>0</td>\n",
       "    </tr>\n",
       "    <tr>\n",
       "      <th>2010</th>\n",
       "      <td>1</td>\n",
       "      <td>115</td>\n",
       "      <td>0</td>\n",
       "    </tr>\n",
       "    <tr>\n",
       "      <th>2011</th>\n",
       "      <td>0</td>\n",
       "      <td>127</td>\n",
       "      <td>0</td>\n",
       "    </tr>\n",
       "    <tr>\n",
       "      <th>2012</th>\n",
       "      <td>0</td>\n",
       "      <td>93</td>\n",
       "      <td>0</td>\n",
       "    </tr>\n",
       "    <tr>\n",
       "      <th>2013</th>\n",
       "      <td>0</td>\n",
       "      <td>82</td>\n",
       "      <td>15</td>\n",
       "    </tr>\n",
       "    <tr>\n",
       "      <th>2014</th>\n",
       "      <td>0</td>\n",
       "      <td>35</td>\n",
       "      <td>51</td>\n",
       "    </tr>\n",
       "    <tr>\n",
       "      <th>2015</th>\n",
       "      <td>0</td>\n",
       "      <td>1</td>\n",
       "      <td>81</td>\n",
       "    </tr>\n",
       "    <tr>\n",
       "      <th>2016</th>\n",
       "      <td>0</td>\n",
       "      <td>0</td>\n",
       "      <td>92</td>\n",
       "    </tr>\n",
       "  </tbody>\n",
       "</table>\n",
       "</div>"
      ],
      "text/plain": [
       "Platform         PS2  PS3  PS4\n",
       "Year_of_Release               \n",
       "2000              40    0    0\n",
       "2001             132    0    0\n",
       "2002             181    0    0\n",
       "2003             180    0    0\n",
       "2004             201    0    0\n",
       "2005             181    0    0\n",
       "2006             117   19    0\n",
       "2007              61   76    0\n",
       "2008              34  109    0\n",
       "2009              12  112    0\n",
       "2010               1  115    0\n",
       "2011               0  127    0\n",
       "2012               0   93    0\n",
       "2013               0   82   15\n",
       "2014               0   35   51\n",
       "2015               0    1   81\n",
       "2016               0    0   92"
      ]
     },
     "execution_count": 69,
     "metadata": {},
     "output_type": "execute_result"
    }
   ],
   "source": [
    "ps_freq = pd.crosstab(index=ps.Year_of_Release, columns=ps.Platform)\n",
    "ps_freq"
   ]
  },
  {
   "cell_type": "code",
   "execution_count": 114,
   "metadata": {
    "scrolled": true
   },
   "outputs": [
    {
     "data": {
      "image/png": "[encoded data removed]",
      "text/plain": [
       "<Figure size 432x288 with 1 Axes>"
      ]
     },
     "metadata": {
      "needs_background": "light"
     },
     "output_type": "display_data"
    }
   ],
   "source": [
    "ps_freq.plot()\n",
    "plt.title('Frequency of Gaming Platforms')\n",
    "plt.ylabel('Number of Occurrences')\n",
    "plt.show()"
   ]
  },
  {
   "cell_type": "markdown",
   "metadata": {},
   "source": [
    "Each platform in the series has its own activate time on stage, which is the generation they belong to.\n",
    "\n",
    "PS2(5th generation): 2000-2007  \n",
    "PS3(6th generation): 2006-2014  \n",
    "PS4(7th generation): 2013-"
   ]
  },
  {
   "cell_type": "code",
   "execution_count": 71,
   "metadata": {
    "scrolled": true
   },
   "outputs": [
    {
     "data": {
      "text/html": [
       "<div>\n",
       "<style scoped>\n",
       "    .dataframe tbody tr th:only-of-type {\n",
       "        vertical-align: middle;\n",
       "    }\n",
       "\n",
       "    .dataframe tbody tr th {\n",
       "        vertical-align: top;\n",
       "    }\n",
       "\n",
       "    .dataframe thead th {\n",
       "        text-align: right;\n",
       "    }\n",
       "</style>\n",
       "<table border=\"1\" class=\"dataframe\">\n",
       "  <thead>\n",
       "    <tr style=\"text-align: right;\">\n",
       "      <th>Platform</th>\n",
       "      <th>PS2</th>\n",
       "      <th>PS3</th>\n",
       "      <th>PS4</th>\n",
       "    </tr>\n",
       "    <tr>\n",
       "      <th>Year_of_Release</th>\n",
       "      <th></th>\n",
       "      <th></th>\n",
       "      <th></th>\n",
       "    </tr>\n",
       "  </thead>\n",
       "  <tbody>\n",
       "    <tr>\n",
       "      <th>2000</th>\n",
       "      <td>29.46</td>\n",
       "      <td>NaN</td>\n",
       "      <td>NaN</td>\n",
       "    </tr>\n",
       "    <tr>\n",
       "      <th>2001</th>\n",
       "      <td>145.93</td>\n",
       "      <td>NaN</td>\n",
       "      <td>NaN</td>\n",
       "    </tr>\n",
       "    <tr>\n",
       "      <th>2002</th>\n",
       "      <td>170.03</td>\n",
       "      <td>NaN</td>\n",
       "      <td>NaN</td>\n",
       "    </tr>\n",
       "    <tr>\n",
       "      <th>2003</th>\n",
       "      <td>144.32</td>\n",
       "      <td>NaN</td>\n",
       "      <td>NaN</td>\n",
       "    </tr>\n",
       "    <tr>\n",
       "      <th>2004</th>\n",
       "      <td>188.31</td>\n",
       "      <td>NaN</td>\n",
       "      <td>NaN</td>\n",
       "    </tr>\n",
       "    <tr>\n",
       "      <th>2005</th>\n",
       "      <td>117.68</td>\n",
       "      <td>NaN</td>\n",
       "      <td>NaN</td>\n",
       "    </tr>\n",
       "    <tr>\n",
       "      <th>2006</th>\n",
       "      <td>75.96</td>\n",
       "      <td>19.61</td>\n",
       "      <td>NaN</td>\n",
       "    </tr>\n",
       "    <tr>\n",
       "      <th>2007</th>\n",
       "      <td>48.09</td>\n",
       "      <td>68.49</td>\n",
       "      <td>NaN</td>\n",
       "    </tr>\n",
       "    <tr>\n",
       "      <th>2008</th>\n",
       "      <td>21.14</td>\n",
       "      <td>109.80</td>\n",
       "      <td>NaN</td>\n",
       "    </tr>\n",
       "    <tr>\n",
       "      <th>2009</th>\n",
       "      <td>4.46</td>\n",
       "      <td>118.48</td>\n",
       "      <td>NaN</td>\n",
       "    </tr>\n",
       "    <tr>\n",
       "      <th>2010</th>\n",
       "      <td>0.59</td>\n",
       "      <td>125.41</td>\n",
       "      <td>NaN</td>\n",
       "    </tr>\n",
       "    <tr>\n",
       "      <th>2011</th>\n",
       "      <td>NaN</td>\n",
       "      <td>134.84</td>\n",
       "      <td>NaN</td>\n",
       "    </tr>\n",
       "    <tr>\n",
       "      <th>2012</th>\n",
       "      <td>NaN</td>\n",
       "      <td>94.24</td>\n",
       "      <td>NaN</td>\n",
       "    </tr>\n",
       "    <tr>\n",
       "      <th>2013</th>\n",
       "      <td>NaN</td>\n",
       "      <td>102.15</td>\n",
       "      <td>25.06</td>\n",
       "    </tr>\n",
       "    <tr>\n",
       "      <th>2014</th>\n",
       "      <td>NaN</td>\n",
       "      <td>11.26</td>\n",
       "      <td>80.73</td>\n",
       "    </tr>\n",
       "    <tr>\n",
       "      <th>2015</th>\n",
       "      <td>NaN</td>\n",
       "      <td>0.02</td>\n",
       "      <td>80.11</td>\n",
       "    </tr>\n",
       "    <tr>\n",
       "      <th>2016</th>\n",
       "      <td>NaN</td>\n",
       "      <td>NaN</td>\n",
       "      <td>57.13</td>\n",
       "    </tr>\n",
       "  </tbody>\n",
       "</table>\n",
       "</div>"
      ],
      "text/plain": [
       "Platform            PS2     PS3    PS4\n",
       "Year_of_Release                       \n",
       "2000              29.46     NaN    NaN\n",
       "2001             145.93     NaN    NaN\n",
       "2002             170.03     NaN    NaN\n",
       "2003             144.32     NaN    NaN\n",
       "2004             188.31     NaN    NaN\n",
       "2005             117.68     NaN    NaN\n",
       "2006              75.96   19.61    NaN\n",
       "2007              48.09   68.49    NaN\n",
       "2008              21.14  109.80    NaN\n",
       "2009               4.46  118.48    NaN\n",
       "2010               0.59  125.41    NaN\n",
       "2011                NaN  134.84    NaN\n",
       "2012                NaN   94.24    NaN\n",
       "2013                NaN  102.15  25.06\n",
       "2014                NaN   11.26  80.73\n",
       "2015                NaN    0.02  80.11\n",
       "2016                NaN     NaN  57.13"
      ]
     },
     "execution_count": 71,
     "metadata": {},
     "output_type": "execute_result"
    }
   ],
   "source": [
    "ps_pivot = pd.pivot_table(ps, index='Year_of_Release', columns='Platform', values='Global_Sales', aggfunc=np.sum)\n",
    "ps_pivot"
   ]
  },
  {
   "cell_type": "code",
   "execution_count": 115,
   "metadata": {
    "scrolled": false
   },
   "outputs": [
    {
     "data": {
      "text/plain": [
       "Text(0, 0.5, 'Global_Sales')"
      ]
     },
     "execution_count": 115,
     "metadata": {},
     "output_type": "execute_result"
    },
    {
     "data": {
      "image/png": "[encoded data removed]",
      "text/plain": [
       "<Figure size 432x288 with 1 Axes>"
      ]
     },
     "metadata": {
      "needs_background": "light"
     },
     "output_type": "display_data"
    }
   ],
   "source": [
    "ps_pivot.plot()\n",
    "plt.ylabel('Global_Sales')"
   ]
  },
  {
   "cell_type": "markdown",
   "metadata": {},
   "source": [
    "The sales graph is similar to the number of games, also showing the generation's range over time."
   ]
  },
  {
   "cell_type": "code",
   "execution_count": 73,
   "metadata": {},
   "outputs": [
    {
     "data": {
      "text/html": [
       "<div>\n",
       "<style scoped>\n",
       "    .dataframe tbody tr th:only-of-type {\n",
       "        vertical-align: middle;\n",
       "    }\n",
       "\n",
       "    .dataframe tbody tr th {\n",
       "        vertical-align: top;\n",
       "    }\n",
       "\n",
       "    .dataframe thead th {\n",
       "        text-align: right;\n",
       "    }\n",
       "</style>\n",
       "<table border=\"1\" class=\"dataframe\">\n",
       "  <thead>\n",
       "    <tr style=\"text-align: right;\">\n",
       "      <th>Genre</th>\n",
       "      <th>Action</th>\n",
       "      <th>Adventure</th>\n",
       "      <th>Fighting</th>\n",
       "      <th>Misc</th>\n",
       "      <th>Platform</th>\n",
       "      <th>Puzzle</th>\n",
       "      <th>Racing</th>\n",
       "      <th>Role-Playing</th>\n",
       "      <th>Shooter</th>\n",
       "      <th>Simulation</th>\n",
       "      <th>Sports</th>\n",
       "      <th>Strategy</th>\n",
       "    </tr>\n",
       "    <tr>\n",
       "      <th>Platform</th>\n",
       "      <th></th>\n",
       "      <th></th>\n",
       "      <th></th>\n",
       "      <th></th>\n",
       "      <th></th>\n",
       "      <th></th>\n",
       "      <th></th>\n",
       "      <th></th>\n",
       "      <th></th>\n",
       "      <th></th>\n",
       "      <th></th>\n",
       "      <th></th>\n",
       "    </tr>\n",
       "  </thead>\n",
       "  <tbody>\n",
       "    <tr>\n",
       "      <th>PS2</th>\n",
       "      <td>238.73</td>\n",
       "      <td>10.74</td>\n",
       "      <td>64.72</td>\n",
       "      <td>38.70</td>\n",
       "      <td>52.34</td>\n",
       "      <td>3.97</td>\n",
       "      <td>127.17</td>\n",
       "      <td>77.30</td>\n",
       "      <td>98.20</td>\n",
       "      <td>34.01</td>\n",
       "      <td>191.88</td>\n",
       "      <td>8.21</td>\n",
       "    </tr>\n",
       "    <tr>\n",
       "      <th>PS3</th>\n",
       "      <td>262.38</td>\n",
       "      <td>16.18</td>\n",
       "      <td>47.83</td>\n",
       "      <td>26.59</td>\n",
       "      <td>20.91</td>\n",
       "      <td>0.40</td>\n",
       "      <td>62.17</td>\n",
       "      <td>64.00</td>\n",
       "      <td>174.54</td>\n",
       "      <td>7.91</td>\n",
       "      <td>98.20</td>\n",
       "      <td>3.19</td>\n",
       "    </tr>\n",
       "    <tr>\n",
       "      <th>PS4</th>\n",
       "      <td>76.92</td>\n",
       "      <td>3.09</td>\n",
       "      <td>6.86</td>\n",
       "      <td>2.70</td>\n",
       "      <td>6.16</td>\n",
       "      <td>0.03</td>\n",
       "      <td>9.08</td>\n",
       "      <td>18.18</td>\n",
       "      <td>63.67</td>\n",
       "      <td>0.72</td>\n",
       "      <td>55.16</td>\n",
       "      <td>0.46</td>\n",
       "    </tr>\n",
       "  </tbody>\n",
       "</table>\n",
       "</div>"
      ],
      "text/plain": [
       "Genre     Action  Adventure  Fighting   Misc  Platform  Puzzle  Racing  \\\n",
       "Platform                                                                 \n",
       "PS2       238.73      10.74     64.72  38.70     52.34    3.97  127.17   \n",
       "PS3       262.38      16.18     47.83  26.59     20.91    0.40   62.17   \n",
       "PS4        76.92       3.09      6.86   2.70      6.16    0.03    9.08   \n",
       "\n",
       "Genre     Role-Playing  Shooter  Simulation  Sports  Strategy  \n",
       "Platform                                                       \n",
       "PS2              77.30    98.20       34.01  191.88      8.21  \n",
       "PS3              64.00   174.54        7.91   98.20      3.19  \n",
       "PS4              18.18    63.67        0.72   55.16      0.46  "
      ]
     },
     "execution_count": 73,
     "metadata": {},
     "output_type": "execute_result"
    }
   ],
   "source": [
    "ps_genre = pd.pivot_table(ps, index='Platform', columns='Genre', values='Global_Sales', aggfunc=np.sum)\n",
    "ps_genre"
   ]
  },
  {
   "cell_type": "code",
   "execution_count": 74,
   "metadata": {
    "scrolled": true
   },
   "outputs": [
    {
     "data": {
      "text/plain": [
       "<Figure size 1080x576 with 0 Axes>"
      ]
     },
     "metadata": {},
     "output_type": "display_data"
    },
    {
     "data": {
      "image/png": "[encoded data removed]",
      "text/plain": [
       "<Figure size 432x288 with 1 Axes>"
      ]
     },
     "metadata": {
      "needs_background": "light"
     },
     "output_type": "display_data"
    }
   ],
   "source": [
    "plt.figure(figsize=(15,8))\n",
    "ps_genre.plot(kind='bar', stacked=True, colormap='rainbow')\n",
    "plt.title('Platform Sales by Genre')\n",
    "plt.legend(bbox_to_anchor=(1, 1))\n",
    "plt.ylabel('Global Sales')\n",
    "plt.show()"
   ]
  },
  {
   "cell_type": "markdown",
   "metadata": {},
   "source": [
    "Each platform has its preference in genres. We will use ratio of each genre's share over the total global sale of the platform to compare their preferences."
   ]
  },
  {
   "cell_type": "code",
   "execution_count": 75,
   "metadata": {},
   "outputs": [
    {
     "data": {
      "text/html": [
       "<div>\n",
       "<style scoped>\n",
       "    .dataframe tbody tr th:only-of-type {\n",
       "        vertical-align: middle;\n",
       "    }\n",
       "\n",
       "    .dataframe tbody tr th {\n",
       "        vertical-align: top;\n",
       "    }\n",
       "\n",
       "    .dataframe thead th {\n",
       "        text-align: right;\n",
       "    }\n",
       "</style>\n",
       "<table border=\"1\" class=\"dataframe\">\n",
       "  <thead>\n",
       "    <tr style=\"text-align: right;\">\n",
       "      <th>Genre</th>\n",
       "      <th>Action</th>\n",
       "      <th>Adventure</th>\n",
       "      <th>Fighting</th>\n",
       "      <th>Misc</th>\n",
       "      <th>Platform</th>\n",
       "      <th>Puzzle</th>\n",
       "      <th>Racing</th>\n",
       "      <th>Role-Playing</th>\n",
       "      <th>Shooter</th>\n",
       "      <th>Simulation</th>\n",
       "      <th>Sports</th>\n",
       "      <th>Strategy</th>\n",
       "    </tr>\n",
       "    <tr>\n",
       "      <th>Platform</th>\n",
       "      <th></th>\n",
       "      <th></th>\n",
       "      <th></th>\n",
       "      <th></th>\n",
       "      <th></th>\n",
       "      <th></th>\n",
       "      <th></th>\n",
       "      <th></th>\n",
       "      <th></th>\n",
       "      <th></th>\n",
       "      <th></th>\n",
       "      <th></th>\n",
       "    </tr>\n",
       "  </thead>\n",
       "  <tbody>\n",
       "    <tr>\n",
       "      <th>PS2</th>\n",
       "      <td>0.252365</td>\n",
       "      <td>0.011353</td>\n",
       "      <td>0.068417</td>\n",
       "      <td>0.040910</td>\n",
       "      <td>0.055329</td>\n",
       "      <td>0.004197</td>\n",
       "      <td>0.134433</td>\n",
       "      <td>0.081715</td>\n",
       "      <td>0.103809</td>\n",
       "      <td>0.035953</td>\n",
       "      <td>0.202839</td>\n",
       "      <td>0.008679</td>\n",
       "    </tr>\n",
       "    <tr>\n",
       "      <th>PS3</th>\n",
       "      <td>0.334540</td>\n",
       "      <td>0.020630</td>\n",
       "      <td>0.060984</td>\n",
       "      <td>0.033903</td>\n",
       "      <td>0.026661</td>\n",
       "      <td>0.000510</td>\n",
       "      <td>0.079268</td>\n",
       "      <td>0.081601</td>\n",
       "      <td>0.222542</td>\n",
       "      <td>0.010085</td>\n",
       "      <td>0.125207</td>\n",
       "      <td>0.004067</td>\n",
       "    </tr>\n",
       "    <tr>\n",
       "      <th>PS4</th>\n",
       "      <td>0.316504</td>\n",
       "      <td>0.012714</td>\n",
       "      <td>0.028227</td>\n",
       "      <td>0.011110</td>\n",
       "      <td>0.025347</td>\n",
       "      <td>0.000123</td>\n",
       "      <td>0.037362</td>\n",
       "      <td>0.074806</td>\n",
       "      <td>0.261984</td>\n",
       "      <td>0.002963</td>\n",
       "      <td>0.226968</td>\n",
       "      <td>0.001893</td>\n",
       "    </tr>\n",
       "  </tbody>\n",
       "</table>\n",
       "</div>"
      ],
      "text/plain": [
       "Genre       Action  Adventure  Fighting      Misc  Platform    Puzzle  \\\n",
       "Platform                                                                \n",
       "PS2       0.252365   0.011353  0.068417  0.040910  0.055329  0.004197   \n",
       "PS3       0.334540   0.020630  0.060984  0.033903  0.026661  0.000510   \n",
       "PS4       0.316504   0.012714  0.028227  0.011110  0.025347  0.000123   \n",
       "\n",
       "Genre       Racing  Role-Playing   Shooter  Simulation    Sports  Strategy  \n",
       "Platform                                                                    \n",
       "PS2       0.134433      0.081715  0.103809    0.035953  0.202839  0.008679  \n",
       "PS3       0.079268      0.081601  0.222542    0.010085  0.125207  0.004067  \n",
       "PS4       0.037362      0.074806  0.261984    0.002963  0.226968  0.001893  "
      ]
     },
     "execution_count": 75,
     "metadata": {},
     "output_type": "execute_result"
    }
   ],
   "source": [
    "ps_genre_percentage = ps_genre.T/ps_genre.sum(axis=1)\n",
    "ps_genre_percentage.T"
   ]
  },
  {
   "cell_type": "code",
   "execution_count": 76,
   "metadata": {
    "scrolled": true
   },
   "outputs": [
    {
     "data": {
      "text/plain": [
       "<Figure size 1080x576 with 0 Axes>"
      ]
     },
     "metadata": {},
     "output_type": "display_data"
    },
    {
     "data": {
      "image/png": "[encoded data removed]",
      "text/plain": [
       "<Figure size 432x288 with 1 Axes>"
      ]
     },
     "metadata": {
      "needs_background": "light"
     },
     "output_type": "display_data"
    }
   ],
   "source": [
    "plt.figure(figsize=(15,8))\n",
    "ps_genre_percentage.T.plot(kind='bar', stacked=True, colormap='rainbow')\n",
    "plt.title('Platform Sales by Genre')\n",
    "plt.legend(bbox_to_anchor=(1, 1))\n",
    "plt.ylabel('Global Sales')\n",
    "plt.show()"
   ]
  },
  {
   "cell_type": "markdown",
   "metadata": {},
   "source": [
    "As generations evolve, Shooter and Action games gradually increase their proportions, whereas Fighting, Puzzle, Racing, Simulation's proportions decrease. This trend reflects the change in players' taste in terms of genre."
   ]
  },
  {
   "cell_type": "code",
   "execution_count": 77,
   "metadata": {},
   "outputs": [
    {
     "data": {
      "text/html": [
       "<div>\n",
       "<style scoped>\n",
       "    .dataframe tbody tr th:only-of-type {\n",
       "        vertical-align: middle;\n",
       "    }\n",
       "\n",
       "    .dataframe tbody tr th {\n",
       "        vertical-align: top;\n",
       "    }\n",
       "\n",
       "    .dataframe thead th {\n",
       "        text-align: right;\n",
       "    }\n",
       "</style>\n",
       "<table border=\"1\" class=\"dataframe\">\n",
       "  <thead>\n",
       "    <tr style=\"text-align: right;\">\n",
       "      <th>Platform</th>\n",
       "      <th>PS2</th>\n",
       "      <th>PS3</th>\n",
       "      <th>PS4</th>\n",
       "    </tr>\n",
       "    <tr>\n",
       "      <th>Year_of_Release</th>\n",
       "      <th></th>\n",
       "      <th></th>\n",
       "      <th></th>\n",
       "    </tr>\n",
       "  </thead>\n",
       "  <tbody>\n",
       "    <tr>\n",
       "      <th>2000</th>\n",
       "      <td>868.0</td>\n",
       "      <td>NaN</td>\n",
       "      <td>NaN</td>\n",
       "    </tr>\n",
       "    <tr>\n",
       "      <th>2001</th>\n",
       "      <td>8089.0</td>\n",
       "      <td>NaN</td>\n",
       "      <td>NaN</td>\n",
       "    </tr>\n",
       "    <tr>\n",
       "      <th>2002</th>\n",
       "      <td>6333.0</td>\n",
       "      <td>NaN</td>\n",
       "      <td>NaN</td>\n",
       "    </tr>\n",
       "    <tr>\n",
       "      <th>2003</th>\n",
       "      <td>7509.0</td>\n",
       "      <td>NaN</td>\n",
       "      <td>NaN</td>\n",
       "    </tr>\n",
       "    <tr>\n",
       "      <th>2004</th>\n",
       "      <td>9287.0</td>\n",
       "      <td>NaN</td>\n",
       "      <td>NaN</td>\n",
       "    </tr>\n",
       "    <tr>\n",
       "      <th>2005</th>\n",
       "      <td>11083.0</td>\n",
       "      <td>NaN</td>\n",
       "      <td>NaN</td>\n",
       "    </tr>\n",
       "    <tr>\n",
       "      <th>2006</th>\n",
       "      <td>5452.0</td>\n",
       "      <td>1601.0</td>\n",
       "      <td>NaN</td>\n",
       "    </tr>\n",
       "    <tr>\n",
       "      <th>2007</th>\n",
       "      <td>2334.0</td>\n",
       "      <td>8259.0</td>\n",
       "      <td>NaN</td>\n",
       "    </tr>\n",
       "    <tr>\n",
       "      <th>2008</th>\n",
       "      <td>1343.0</td>\n",
       "      <td>23846.0</td>\n",
       "      <td>NaN</td>\n",
       "    </tr>\n",
       "    <tr>\n",
       "      <th>2009</th>\n",
       "      <td>120.0</td>\n",
       "      <td>23920.0</td>\n",
       "      <td>NaN</td>\n",
       "    </tr>\n",
       "    <tr>\n",
       "      <th>2010</th>\n",
       "      <td>82.0</td>\n",
       "      <td>20710.0</td>\n",
       "      <td>NaN</td>\n",
       "    </tr>\n",
       "    <tr>\n",
       "      <th>2011</th>\n",
       "      <td>NaN</td>\n",
       "      <td>36814.0</td>\n",
       "      <td>NaN</td>\n",
       "    </tr>\n",
       "    <tr>\n",
       "      <th>2012</th>\n",
       "      <td>NaN</td>\n",
       "      <td>21026.0</td>\n",
       "      <td>NaN</td>\n",
       "    </tr>\n",
       "    <tr>\n",
       "      <th>2013</th>\n",
       "      <td>NaN</td>\n",
       "      <td>34442.0</td>\n",
       "      <td>10291.0</td>\n",
       "    </tr>\n",
       "    <tr>\n",
       "      <th>2014</th>\n",
       "      <td>NaN</td>\n",
       "      <td>4317.0</td>\n",
       "      <td>37715.0</td>\n",
       "    </tr>\n",
       "    <tr>\n",
       "      <th>2015</th>\n",
       "      <td>NaN</td>\n",
       "      <td>5.0</td>\n",
       "      <td>49941.0</td>\n",
       "    </tr>\n",
       "    <tr>\n",
       "      <th>2016</th>\n",
       "      <td>NaN</td>\n",
       "      <td>NaN</td>\n",
       "      <td>34320.0</td>\n",
       "    </tr>\n",
       "  </tbody>\n",
       "</table>\n",
       "</div>"
      ],
      "text/plain": [
       "Platform             PS2      PS3      PS4\n",
       "Year_of_Release                           \n",
       "2000               868.0      NaN      NaN\n",
       "2001              8089.0      NaN      NaN\n",
       "2002              6333.0      NaN      NaN\n",
       "2003              7509.0      NaN      NaN\n",
       "2004              9287.0      NaN      NaN\n",
       "2005             11083.0      NaN      NaN\n",
       "2006              5452.0   1601.0      NaN\n",
       "2007              2334.0   8259.0      NaN\n",
       "2008              1343.0  23846.0      NaN\n",
       "2009               120.0  23920.0      NaN\n",
       "2010                82.0  20710.0      NaN\n",
       "2011                 NaN  36814.0      NaN\n",
       "2012                 NaN  21026.0      NaN\n",
       "2013                 NaN  34442.0  10291.0\n",
       "2014                 NaN   4317.0  37715.0\n",
       "2015                 NaN      5.0  49941.0\n",
       "2016                 NaN      NaN  34320.0"
      ]
     },
     "execution_count": 77,
     "metadata": {},
     "output_type": "execute_result"
    }
   ],
   "source": [
    "ps_user = pd.pivot_table(ps, index='Year_of_Release', columns='Platform', values='User_Count', aggfunc=np.sum)\n",
    "ps_user"
   ]
  },
  {
   "cell_type": "code",
   "execution_count": 116,
   "metadata": {
    "scrolled": false
   },
   "outputs": [
    {
     "data": {
      "text/plain": [
       "Text(0, 0.5, 'Global_Sales')"
      ]
     },
     "execution_count": 116,
     "metadata": {},
     "output_type": "execute_result"
    },
    {
     "data": {
      "image/png": "[encoded data removed]",
      "text/plain": [
       "<Figure size 432x288 with 1 Axes>"
      ]
     },
     "metadata": {
      "needs_background": "light"
     },
     "output_type": "display_data"
    }
   ],
   "source": [
    "ps_user.plot()\n",
    "plt.ylabel('Global_Sales')"
   ]
  },
  {
   "cell_type": "markdown",
   "metadata": {},
   "source": [
    "The user count plot also follows the timeline of generation, platform from each generation peaks at a different time. However, we notice that there are dramatic increases in the user number over generations."
   ]
  },
  {
   "cell_type": "code",
   "execution_count": 79,
   "metadata": {
    "scrolled": true
   },
   "outputs": [
    {
     "data": {
      "text/html": [
       "<div>\n",
       "<style scoped>\n",
       "    .dataframe tbody tr th:only-of-type {\n",
       "        vertical-align: middle;\n",
       "    }\n",
       "\n",
       "    .dataframe tbody tr th {\n",
       "        vertical-align: top;\n",
       "    }\n",
       "\n",
       "    .dataframe thead th {\n",
       "        text-align: right;\n",
       "    }\n",
       "</style>\n",
       "<table border=\"1\" class=\"dataframe\">\n",
       "  <thead>\n",
       "    <tr style=\"text-align: right;\">\n",
       "      <th>Rating</th>\n",
       "      <th>E</th>\n",
       "      <th>E10+</th>\n",
       "      <th>M</th>\n",
       "      <th>T</th>\n",
       "    </tr>\n",
       "    <tr>\n",
       "      <th>Platform</th>\n",
       "      <th></th>\n",
       "      <th></th>\n",
       "      <th></th>\n",
       "      <th></th>\n",
       "    </tr>\n",
       "  </thead>\n",
       "  <tbody>\n",
       "    <tr>\n",
       "      <th>PS2</th>\n",
       "      <td>339.33</td>\n",
       "      <td>43.51</td>\n",
       "      <td>203.89</td>\n",
       "      <td>359.24</td>\n",
       "    </tr>\n",
       "    <tr>\n",
       "      <th>PS3</th>\n",
       "      <td>150.94</td>\n",
       "      <td>61.67</td>\n",
       "      <td>360.15</td>\n",
       "      <td>211.54</td>\n",
       "    </tr>\n",
       "    <tr>\n",
       "      <th>PS4</th>\n",
       "      <td>53.44</td>\n",
       "      <td>21.94</td>\n",
       "      <td>123.97</td>\n",
       "      <td>43.68</td>\n",
       "    </tr>\n",
       "  </tbody>\n",
       "</table>\n",
       "</div>"
      ],
      "text/plain": [
       "Rating         E   E10+       M       T\n",
       "Platform                               \n",
       "PS2       339.33  43.51  203.89  359.24\n",
       "PS3       150.94  61.67  360.15  211.54\n",
       "PS4        53.44  21.94  123.97   43.68"
      ]
     },
     "execution_count": 79,
     "metadata": {},
     "output_type": "execute_result"
    }
   ],
   "source": [
    "ps_rating = pd.pivot_table(ps, index='Platform', columns='Rating', values='Global_Sales', aggfunc=np.sum)\n",
    "ps_rating"
   ]
  },
  {
   "cell_type": "code",
   "execution_count": 80,
   "metadata": {
    "scrolled": true
   },
   "outputs": [
    {
     "data": {
      "text/plain": [
       "<Figure size 1080x576 with 0 Axes>"
      ]
     },
     "metadata": {},
     "output_type": "display_data"
    },
    {
     "data": {
      "image/png": "[encoded data removed]",
      "text/plain": [
       "<Figure size 432x288 with 1 Axes>"
      ]
     },
     "metadata": {
      "needs_background": "light"
     },
     "output_type": "display_data"
    }
   ],
   "source": [
    "plt.figure(figsize=(15,8))\n",
    "ps_rating.plot(kind='bar', stacked=True, colormap='rainbow')\n",
    "plt.title('Platform Sales by Rating')\n",
    "plt.ylabel('Global Sales')\n",
    "plt.show()"
   ]
  },
  {
   "cell_type": "markdown",
   "metadata": {},
   "source": [
    "Each platform has its preference in Rating group. We will use ratio of each genre's share over the total global sale of the platform to compare their preferences."
   ]
  },
  {
   "cell_type": "code",
   "execution_count": 81,
   "metadata": {},
   "outputs": [
    {
     "data": {
      "text/html": [
       "<div>\n",
       "<style scoped>\n",
       "    .dataframe tbody tr th:only-of-type {\n",
       "        vertical-align: middle;\n",
       "    }\n",
       "\n",
       "    .dataframe tbody tr th {\n",
       "        vertical-align: top;\n",
       "    }\n",
       "\n",
       "    .dataframe thead th {\n",
       "        text-align: right;\n",
       "    }\n",
       "</style>\n",
       "<table border=\"1\" class=\"dataframe\">\n",
       "  <thead>\n",
       "    <tr style=\"text-align: right;\">\n",
       "      <th>Rating</th>\n",
       "      <th>E</th>\n",
       "      <th>E10+</th>\n",
       "      <th>M</th>\n",
       "      <th>T</th>\n",
       "    </tr>\n",
       "    <tr>\n",
       "      <th>Platform</th>\n",
       "      <th></th>\n",
       "      <th></th>\n",
       "      <th></th>\n",
       "      <th></th>\n",
       "    </tr>\n",
       "  </thead>\n",
       "  <tbody>\n",
       "    <tr>\n",
       "      <th>PS2</th>\n",
       "      <td>0.358711</td>\n",
       "      <td>0.045995</td>\n",
       "      <td>0.215535</td>\n",
       "      <td>0.379758</td>\n",
       "    </tr>\n",
       "    <tr>\n",
       "      <th>PS3</th>\n",
       "      <td>0.192452</td>\n",
       "      <td>0.078631</td>\n",
       "      <td>0.459199</td>\n",
       "      <td>0.269718</td>\n",
       "    </tr>\n",
       "    <tr>\n",
       "      <th>PS4</th>\n",
       "      <td>0.219891</td>\n",
       "      <td>0.090277</td>\n",
       "      <td>0.510102</td>\n",
       "      <td>0.179731</td>\n",
       "    </tr>\n",
       "  </tbody>\n",
       "</table>\n",
       "</div>"
      ],
      "text/plain": [
       "Rating           E      E10+         M         T\n",
       "Platform                                        \n",
       "PS2       0.358711  0.045995  0.215535  0.379758\n",
       "PS3       0.192452  0.078631  0.459199  0.269718\n",
       "PS4       0.219891  0.090277  0.510102  0.179731"
      ]
     },
     "execution_count": 81,
     "metadata": {},
     "output_type": "execute_result"
    }
   ],
   "source": [
    "ps_rating_percentage = ps_rating.T/ps_rating.sum(axis=1)\n",
    "ps_rating_percentage.T"
   ]
  },
  {
   "cell_type": "code",
   "execution_count": 82,
   "metadata": {},
   "outputs": [
    {
     "data": {
      "text/plain": [
       "<Figure size 1080x576 with 0 Axes>"
      ]
     },
     "metadata": {},
     "output_type": "display_data"
    },
    {
     "data": {
      "image/png": "[encoded data removed]",
      "text/plain": [
       "<Figure size 432x288 with 1 Axes>"
      ]
     },
     "metadata": {
      "needs_background": "light"
     },
     "output_type": "display_data"
    }
   ],
   "source": [
    "plt.figure(figsize=(15,8))\n",
    "ps_rating_percentage.T.plot(kind='bar', stacked=True, colormap='rainbow')\n",
    "plt.title('Platform Sales Rating Percentage')\n",
    "plt.ylabel('Global Sales')\n",
    "plt.legend(bbox_to_anchor=(1, 1))\n",
    "plt.show()"
   ]
  },
  {
   "cell_type": "markdown",
   "metadata": {},
   "source": [
    "It seems that Playstation has been shifting its targeting user group from teenagers to the mature."
   ]
  },
  {
   "cell_type": "code",
   "execution_count": 83,
   "metadata": {},
   "outputs": [
    {
     "data": {
      "text/html": [
       "<div>\n",
       "<style scoped>\n",
       "    .dataframe tbody tr th:only-of-type {\n",
       "        vertical-align: middle;\n",
       "    }\n",
       "\n",
       "    .dataframe tbody tr th {\n",
       "        vertical-align: top;\n",
       "    }\n",
       "\n",
       "    .dataframe thead th {\n",
       "        text-align: right;\n",
       "    }\n",
       "</style>\n",
       "<table border=\"1\" class=\"dataframe\">\n",
       "  <thead>\n",
       "    <tr style=\"text-align: right;\">\n",
       "      <th>Platform</th>\n",
       "      <th>PS2</th>\n",
       "      <th>PS3</th>\n",
       "      <th>PS4</th>\n",
       "    </tr>\n",
       "    <tr>\n",
       "      <th>Year_of_Release</th>\n",
       "      <th></th>\n",
       "      <th></th>\n",
       "      <th></th>\n",
       "    </tr>\n",
       "  </thead>\n",
       "  <tbody>\n",
       "    <tr>\n",
       "      <th>2000</th>\n",
       "      <td>7.562500</td>\n",
       "      <td>NaN</td>\n",
       "      <td>NaN</td>\n",
       "    </tr>\n",
       "    <tr>\n",
       "      <th>2001</th>\n",
       "      <td>7.410606</td>\n",
       "      <td>NaN</td>\n",
       "      <td>NaN</td>\n",
       "    </tr>\n",
       "    <tr>\n",
       "      <th>2002</th>\n",
       "      <td>7.612707</td>\n",
       "      <td>NaN</td>\n",
       "      <td>NaN</td>\n",
       "    </tr>\n",
       "    <tr>\n",
       "      <th>2003</th>\n",
       "      <td>7.961667</td>\n",
       "      <td>NaN</td>\n",
       "      <td>NaN</td>\n",
       "    </tr>\n",
       "    <tr>\n",
       "      <th>2004</th>\n",
       "      <td>7.835821</td>\n",
       "      <td>NaN</td>\n",
       "      <td>NaN</td>\n",
       "    </tr>\n",
       "    <tr>\n",
       "      <th>2005</th>\n",
       "      <td>7.828177</td>\n",
       "      <td>NaN</td>\n",
       "      <td>NaN</td>\n",
       "    </tr>\n",
       "    <tr>\n",
       "      <th>2006</th>\n",
       "      <td>7.639316</td>\n",
       "      <td>6.710526</td>\n",
       "      <td>NaN</td>\n",
       "    </tr>\n",
       "    <tr>\n",
       "      <th>2007</th>\n",
       "      <td>7.175410</td>\n",
       "      <td>6.840789</td>\n",
       "      <td>NaN</td>\n",
       "    </tr>\n",
       "    <tr>\n",
       "      <th>2008</th>\n",
       "      <td>7.223529</td>\n",
       "      <td>6.788073</td>\n",
       "      <td>NaN</td>\n",
       "    </tr>\n",
       "    <tr>\n",
       "      <th>2009</th>\n",
       "      <td>5.825000</td>\n",
       "      <td>7.016071</td>\n",
       "      <td>NaN</td>\n",
       "    </tr>\n",
       "    <tr>\n",
       "      <th>2010</th>\n",
       "      <td>6.800000</td>\n",
       "      <td>6.710435</td>\n",
       "      <td>NaN</td>\n",
       "    </tr>\n",
       "    <tr>\n",
       "      <th>2011</th>\n",
       "      <td>NaN</td>\n",
       "      <td>6.742520</td>\n",
       "      <td>NaN</td>\n",
       "    </tr>\n",
       "    <tr>\n",
       "      <th>2012</th>\n",
       "      <td>NaN</td>\n",
       "      <td>6.831183</td>\n",
       "      <td>NaN</td>\n",
       "    </tr>\n",
       "    <tr>\n",
       "      <th>2013</th>\n",
       "      <td>NaN</td>\n",
       "      <td>6.726829</td>\n",
       "      <td>5.460000</td>\n",
       "    </tr>\n",
       "    <tr>\n",
       "      <th>2014</th>\n",
       "      <td>NaN</td>\n",
       "      <td>6.334286</td>\n",
       "      <td>6.792157</td>\n",
       "    </tr>\n",
       "    <tr>\n",
       "      <th>2015</th>\n",
       "      <td>NaN</td>\n",
       "      <td>6.200000</td>\n",
       "      <td>6.798765</td>\n",
       "    </tr>\n",
       "    <tr>\n",
       "      <th>2016</th>\n",
       "      <td>NaN</td>\n",
       "      <td>NaN</td>\n",
       "      <td>6.866304</td>\n",
       "    </tr>\n",
       "  </tbody>\n",
       "</table>\n",
       "</div>"
      ],
      "text/plain": [
       "Platform              PS2       PS3       PS4\n",
       "Year_of_Release                              \n",
       "2000             7.562500       NaN       NaN\n",
       "2001             7.410606       NaN       NaN\n",
       "2002             7.612707       NaN       NaN\n",
       "2003             7.961667       NaN       NaN\n",
       "2004             7.835821       NaN       NaN\n",
       "2005             7.828177       NaN       NaN\n",
       "2006             7.639316  6.710526       NaN\n",
       "2007             7.175410  6.840789       NaN\n",
       "2008             7.223529  6.788073       NaN\n",
       "2009             5.825000  7.016071       NaN\n",
       "2010             6.800000  6.710435       NaN\n",
       "2011                  NaN  6.742520       NaN\n",
       "2012                  NaN  6.831183       NaN\n",
       "2013                  NaN  6.726829  5.460000\n",
       "2014                  NaN  6.334286  6.792157\n",
       "2015                  NaN  6.200000  6.798765\n",
       "2016                  NaN       NaN  6.866304"
      ]
     },
     "execution_count": 83,
     "metadata": {},
     "output_type": "execute_result"
    }
   ],
   "source": [
    "ps_user_score = pd.pivot_table(ps, index='Year_of_Release', columns='Platform', values='User_Score', aggfunc=np.mean)\n",
    "ps_user_score"
   ]
  },
  {
   "cell_type": "code",
   "execution_count": 117,
   "metadata": {
    "scrolled": true
   },
   "outputs": [
    {
     "data": {
      "text/plain": [
       "<Figure size 432x288 with 0 Axes>"
      ]
     },
     "metadata": {},
     "output_type": "display_data"
    },
    {
     "data": {
      "image/png": "[encoded data removed]",
      "text/plain": [
       "<Figure size 432x288 with 1 Axes>"
      ]
     },
     "metadata": {
      "needs_background": "light"
     },
     "output_type": "display_data"
    }
   ],
   "source": [
    "plt.figure()\n",
    "ps_user_score.plot()\n",
    "plt.title('Platform User Score by Year')\n",
    "plt.ylabel('User Score')\n",
    "plt.show()"
   ]
  },
  {
   "cell_type": "markdown",
   "metadata": {},
   "source": [
    "The average user scores for games has been decreases over years. Users are less satisfied with games on newer generations of platforms."
   ]
  },
  {
   "cell_type": "code",
   "execution_count": 85,
   "metadata": {
    "scrolled": true
   },
   "outputs": [
    {
     "data": {
      "text/html": [
       "<div>\n",
       "<style scoped>\n",
       "    .dataframe tbody tr th:only-of-type {\n",
       "        vertical-align: middle;\n",
       "    }\n",
       "\n",
       "    .dataframe tbody tr th {\n",
       "        vertical-align: top;\n",
       "    }\n",
       "\n",
       "    .dataframe thead th {\n",
       "        text-align: right;\n",
       "    }\n",
       "</style>\n",
       "<table border=\"1\" class=\"dataframe\">\n",
       "  <thead>\n",
       "    <tr style=\"text-align: right;\">\n",
       "      <th>Platform</th>\n",
       "      <th>PS2</th>\n",
       "      <th>PS3</th>\n",
       "      <th>PS4</th>\n",
       "    </tr>\n",
       "    <tr>\n",
       "      <th>Year_of_Release</th>\n",
       "      <th></th>\n",
       "      <th></th>\n",
       "      <th></th>\n",
       "    </tr>\n",
       "  </thead>\n",
       "  <tbody>\n",
       "    <tr>\n",
       "      <th>2000</th>\n",
       "      <td>71.875000</td>\n",
       "      <td>NaN</td>\n",
       "      <td>NaN</td>\n",
       "    </tr>\n",
       "    <tr>\n",
       "      <th>2001</th>\n",
       "      <td>71.083333</td>\n",
       "      <td>NaN</td>\n",
       "      <td>NaN</td>\n",
       "    </tr>\n",
       "    <tr>\n",
       "      <th>2002</th>\n",
       "      <td>70.060773</td>\n",
       "      <td>NaN</td>\n",
       "      <td>NaN</td>\n",
       "    </tr>\n",
       "    <tr>\n",
       "      <th>2003</th>\n",
       "      <td>70.788889</td>\n",
       "      <td>NaN</td>\n",
       "      <td>NaN</td>\n",
       "    </tr>\n",
       "    <tr>\n",
       "      <th>2004</th>\n",
       "      <td>69.194030</td>\n",
       "      <td>NaN</td>\n",
       "      <td>NaN</td>\n",
       "    </tr>\n",
       "    <tr>\n",
       "      <th>2005</th>\n",
       "      <td>69.779006</td>\n",
       "      <td>NaN</td>\n",
       "      <td>NaN</td>\n",
       "    </tr>\n",
       "    <tr>\n",
       "      <th>2006</th>\n",
       "      <td>67.811966</td>\n",
       "      <td>69.789474</td>\n",
       "      <td>NaN</td>\n",
       "    </tr>\n",
       "    <tr>\n",
       "      <th>2007</th>\n",
       "      <td>65.983607</td>\n",
       "      <td>72.736842</td>\n",
       "      <td>NaN</td>\n",
       "    </tr>\n",
       "    <tr>\n",
       "      <th>2008</th>\n",
       "      <td>64.441176</td>\n",
       "      <td>69.155963</td>\n",
       "      <td>NaN</td>\n",
       "    </tr>\n",
       "    <tr>\n",
       "      <th>2009</th>\n",
       "      <td>64.583333</td>\n",
       "      <td>72.241071</td>\n",
       "      <td>NaN</td>\n",
       "    </tr>\n",
       "    <tr>\n",
       "      <th>2010</th>\n",
       "      <td>77.000000</td>\n",
       "      <td>68.686957</td>\n",
       "      <td>NaN</td>\n",
       "    </tr>\n",
       "    <tr>\n",
       "      <th>2011</th>\n",
       "      <td>NaN</td>\n",
       "      <td>71.173228</td>\n",
       "      <td>NaN</td>\n",
       "    </tr>\n",
       "    <tr>\n",
       "      <th>2012</th>\n",
       "      <td>NaN</td>\n",
       "      <td>73.344086</td>\n",
       "      <td>NaN</td>\n",
       "    </tr>\n",
       "    <tr>\n",
       "      <th>2013</th>\n",
       "      <td>NaN</td>\n",
       "      <td>72.256098</td>\n",
       "      <td>70.933333</td>\n",
       "    </tr>\n",
       "    <tr>\n",
       "      <th>2014</th>\n",
       "      <td>NaN</td>\n",
       "      <td>66.657143</td>\n",
       "      <td>73.647059</td>\n",
       "    </tr>\n",
       "    <tr>\n",
       "      <th>2015</th>\n",
       "      <td>NaN</td>\n",
       "      <td>63.000000</td>\n",
       "      <td>72.493827</td>\n",
       "    </tr>\n",
       "    <tr>\n",
       "      <th>2016</th>\n",
       "      <td>NaN</td>\n",
       "      <td>NaN</td>\n",
       "      <td>72.565217</td>\n",
       "    </tr>\n",
       "  </tbody>\n",
       "</table>\n",
       "</div>"
      ],
      "text/plain": [
       "Platform               PS2        PS3        PS4\n",
       "Year_of_Release                                 \n",
       "2000             71.875000        NaN        NaN\n",
       "2001             71.083333        NaN        NaN\n",
       "2002             70.060773        NaN        NaN\n",
       "2003             70.788889        NaN        NaN\n",
       "2004             69.194030        NaN        NaN\n",
       "2005             69.779006        NaN        NaN\n",
       "2006             67.811966  69.789474        NaN\n",
       "2007             65.983607  72.736842        NaN\n",
       "2008             64.441176  69.155963        NaN\n",
       "2009             64.583333  72.241071        NaN\n",
       "2010             77.000000  68.686957        NaN\n",
       "2011                   NaN  71.173228        NaN\n",
       "2012                   NaN  73.344086        NaN\n",
       "2013                   NaN  72.256098  70.933333\n",
       "2014                   NaN  66.657143  73.647059\n",
       "2015                   NaN  63.000000  72.493827\n",
       "2016                   NaN        NaN  72.565217"
      ]
     },
     "execution_count": 85,
     "metadata": {},
     "output_type": "execute_result"
    }
   ],
   "source": [
    "ps_critic_score = pd.pivot_table(ps, index='Year_of_Release', columns='Platform', values='Critic_Score', aggfunc=np.mean)\n",
    "ps_critic_score"
   ]
  },
  {
   "cell_type": "code",
   "execution_count": 118,
   "metadata": {
    "scrolled": true
   },
   "outputs": [
    {
     "data": {
      "text/plain": [
       "<Figure size 432x288 with 0 Axes>"
      ]
     },
     "metadata": {},
     "output_type": "display_data"
    },
    {
     "data": {
      "image/png": "[encoded data removed]",
      "text/plain": [
       "<Figure size 432x288 with 1 Axes>"
      ]
     },
     "metadata": {
      "needs_background": "light"
     },
     "output_type": "display_data"
    }
   ],
   "source": [
    "plt.figure()\n",
    "ps_critic_score.plot()\n",
    "plt.title('Platform Critic Score by Year')\n",
    "plt.ylabel('Critic Score')\n",
    "plt.show()"
   ]
  },
  {
   "cell_type": "markdown",
   "metadata": {},
   "source": [
    "The critics, on the other hand, has become more satisfied with games on newer generations of platforms."
   ]
  }
 ],
 "metadata": {
  "kernelspec": {
   "display_name": "Python 3",
   "language": "python",
   "name": "python3"
  },
  "language_info": {
   "codemirror_mode": {
    "name": "ipython",
    "version": 3
   },
   "file_extension": ".py",
   "mimetype": "text/x-python",
   "name": "python",
   "nbconvert_exporter": "python",
   "pygments_lexer": "ipython3",
   "version": "3.6.6"
  }
 },
 "nbformat": 4,
 "nbformat_minor": 2
}
